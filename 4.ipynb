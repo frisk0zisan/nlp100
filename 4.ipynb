{
  "nbformat": 4,
  "nbformat_minor": 0,
  "metadata": {
    "colab": {
      "name": "4.ipynb",
      "provenance": [],
      "collapsed_sections": [],
      "include_colab_link": true
    },
    "kernelspec": {
      "name": "python3",
      "display_name": "Python 3"
    }
  },
  "cells": [
    {
      "cell_type": "markdown",
      "metadata": {
        "id": "view-in-github",
        "colab_type": "text"
      },
      "source": [
        "<a href=\"https://colab.research.google.com/github/frisk0zisan/nlp100/blob/main/4.ipynb\" target=\"_parent\"><img src=\"https://colab.research.google.com/assets/colab-badge.svg\" alt=\"Open In Colab\"/></a>"
      ]
    },
    {
      "cell_type": "markdown",
      "metadata": {
        "id": "d9okSLEQK2Y-"
      },
      "source": [
        "# 言語処理100本ノック　第4章"
      ]
    },
    {
      "cell_type": "markdown",
      "metadata": {
        "id": "LIa_x_GYK_1p"
      },
      "source": [
        "## 30. 形態素解析結果の読み込み  \r\n",
        "形態素解析結果（neko.txt.mecab）を読み込むプログラムを実装せよ．ただし，各形態素は表層形（surface），基本形（base），品詞（pos），品詞細分類1（pos1）をキーとするマッピング型に格納し，1文を形態素（マッピング型）のリストとして表現せよ．第4章の残りの問題では，ここで作ったプログラムを活用せよ．"
      ]
    },
    {
      "cell_type": "code",
      "metadata": {
        "colab": {
          "base_uri": "https://localhost:8080/"
        },
        "id": "xVB5B4IgK9Aa",
        "outputId": "d9ae1be4-fb5b-4531-e28f-6421c5a444f0"
      },
      "source": [
        "!wget https://nlp100.github.io/data/neko.txt"
      ],
      "execution_count": null,
      "outputs": [
        {
          "output_type": "stream",
          "text": [
            "--2021-01-08 04:41:16--  https://nlp100.github.io/data/neko.txt\n",
            "Resolving nlp100.github.io (nlp100.github.io)... 185.199.108.153, 185.199.109.153, 185.199.110.153, ...\n",
            "Connecting to nlp100.github.io (nlp100.github.io)|185.199.108.153|:443... connected.\n",
            "HTTP request sent, awaiting response... 200 OK\n",
            "Length: 975789 (953K) [text/plain]\n",
            "Saving to: ‘neko.txt.1’\n",
            "\n",
            "\rneko.txt.1            0%[                    ]       0  --.-KB/s               \rneko.txt.1          100%[===================>] 952.92K  --.-KB/s    in 0.07s   \n",
            "\n",
            "2021-01-08 04:41:16 (13.1 MB/s) - ‘neko.txt.1’ saved [975789/975789]\n",
            "\n"
          ],
          "name": "stdout"
        }
      ]
    },
    {
      "cell_type": "code",
      "metadata": {
        "colab": {
          "base_uri": "https://localhost:8080/"
        },
        "id": "doIdO_54K13N",
        "outputId": "268ffdd6-e9db-4625-c09f-906c918e8aa8"
      },
      "source": [
        "# 形態素分析ライブラリーMeCab と 辞書(mecab-ipadic-NEologd)のインストール \r\n",
        "!apt-get -q -y install sudo file mecab libmecab-dev mecab-ipadic-utf8 git curl python-mecab > /dev/null\r\n",
        "!git clone --depth 1 https://github.com/neologd/mecab-ipadic-neologd.git > /dev/null \r\n",
        "!echo yes | mecab-ipadic-neologd/bin/install-mecab-ipadic-neologd -n > /dev/null 2>&1\r\n",
        "!pip install mecab-python3 > /dev/null\r\n",
        "\r\n",
        "# シンボリックリンクによるエラー回避\r\n",
        "!ln -s /etc/mecabrc /usr/local/etc/mecabrc"
      ],
      "execution_count": null,
      "outputs": [
        {
          "output_type": "stream",
          "text": [
            "fatal: destination path 'mecab-ipadic-neologd' already exists and is not an empty directory.\n",
            "ln: failed to create symbolic link '/usr/local/etc/mecabrc': File exists\n"
          ],
          "name": "stdout"
        }
      ]
    },
    {
      "cell_type": "code",
      "metadata": {
        "id": "aJeSr3SSOPdF"
      },
      "source": [
        "!mecab -o ./neko.txt.mecab ./neko.txt"
      ],
      "execution_count": null,
      "outputs": []
    },
    {
      "cell_type": "code",
      "metadata": {
        "colab": {
          "base_uri": "https://localhost:8080/"
        },
        "id": "PLbU1LIDOYov",
        "outputId": "d94f36cb-9024-4937-d231-f2870e894b3d"
      },
      "source": [
        "!head -18 ./neko.txt.mecab"
      ],
      "execution_count": null,
      "outputs": [
        {
          "output_type": "stream",
          "text": [
            "一\t名詞,数,*,*,*,*,一,イチ,イチ\n",
            "\r\t記号,一般,*,*,*,*,*\n",
            "EOS\n",
            "\r\t記号,一般,*,*,*,*,*\n",
            "EOS\n",
            "　\t記号,空白,*,*,*,*,　,　,　\n",
            "吾輩\t名詞,代名詞,一般,*,*,*,吾輩,ワガハイ,ワガハイ\n",
            "は\t助詞,係助詞,*,*,*,*,は,ハ,ワ\n",
            "猫\t名詞,一般,*,*,*,*,猫,ネコ,ネコ\n",
            "で\t助動詞,*,*,*,特殊・ダ,連用形,だ,デ,デ\n",
            "ある\t助動詞,*,*,*,五段・ラ行アル,基本形,ある,アル,アル\n",
            "。\t記号,句点,*,*,*,*,。,。,。\n",
            "\r\t記号,一般,*,*,*,*,*\n",
            "EOS\n",
            "名前\t名詞,一般,*,*,*,*,名前,ナマエ,ナマエ\n",
            "は\t助詞,係助詞,*,*,*,*,は,ハ,ワ\n",
            "まだ\t副詞,助詞類接続,*,*,*,*,まだ,マダ,マダ\n",
            "無い\t形容詞,自立,*,*,形容詞・アウオ段,基本形,無い,ナイ,ナイ\n"
          ],
          "name": "stdout"
        }
      ]
    },
    {
      "cell_type": "code",
      "metadata": {
        "id": "PzR1zgHQPLRz"
      },
      "source": [
        "filename = \"./neko.txt.mecab\"\r\n",
        "sentences = []\r\n",
        "ans = []\r\n",
        "\r\n",
        "with open(filename,\"r\") as f:\r\n",
        "  for line in f:\r\n",
        "    if line != \"EOS\\n\": # 文末以外を追加\r\n",
        "        fields = line.split('\\t')\r\n",
        "        if len(fields) != 2 or fields[0] == '':  # 文頭以外の空白と改行文字はスキップ\r\n",
        "          continue\r\n",
        "        else:\r\n",
        "          word_dic = {\"surface\":fields[0], \"base\":fields[1].split(',')[6], \"pos\":fields[1].split(',')[0], \"pos1\":fields[1].split(',')[1] }\r\n",
        "          ans.append(word_dic)\r\n",
        "    else:\r\n",
        "        sentences.append(ans)\r\n",
        "        ans = []\r\n"
      ],
      "execution_count": null,
      "outputs": []
    },
    {
      "cell_type": "code",
      "metadata": {
        "colab": {
          "base_uri": "https://localhost:8080/"
        },
        "id": "BWpdh4mbZgbx",
        "outputId": "d6eb02b6-b83f-426d-9d5b-a936ca7a6f12"
      },
      "source": [
        "for i in range(5):\r\n",
        "  print(sentences[i])"
      ],
      "execution_count": 189,
      "outputs": [
        {
          "output_type": "stream",
          "text": [
            "[{'surface': '一', 'base': '一', 'pos': '名詞', 'pos1': '数'}]\n",
            "[]\n",
            "[{'surface': '\\u3000', 'base': '\\u3000', 'pos': '記号', 'pos1': '空白'}, {'surface': '吾輩', 'base': '吾輩', 'pos': '名詞', 'pos1': '代名詞'}, {'surface': 'は', 'base': 'は', 'pos': '助詞', 'pos1': '係助詞'}, {'surface': '猫', 'base': '猫', 'pos': '名詞', 'pos1': '一般'}, {'surface': 'で', 'base': 'だ', 'pos': '助動詞', 'pos1': '*'}, {'surface': 'ある', 'base': 'ある', 'pos': '助動詞', 'pos1': '*'}, {'surface': '。', 'base': '。', 'pos': '記号', 'pos1': '句点'}]\n",
            "[{'surface': '名前', 'base': '名前', 'pos': '名詞', 'pos1': '一般'}, {'surface': 'は', 'base': 'は', 'pos': '助詞', 'pos1': '係助詞'}, {'surface': 'まだ', 'base': 'まだ', 'pos': '副詞', 'pos1': '助詞類接続'}, {'surface': '無い', 'base': '無い', 'pos': '形容詞', 'pos1': '自立'}, {'surface': '。', 'base': '。', 'pos': '記号', 'pos1': '句点'}]\n",
            "[]\n"
          ],
          "name": "stdout"
        }
      ]
    },
    {
      "cell_type": "markdown",
      "metadata": {
        "id": "ZYbrpPZ02YDF"
      },
      "source": [
        "## 31. 動詞\r\n",
        "動詞の表層形をすべて抽出せよ．"
      ]
    },
    {
      "cell_type": "code",
      "metadata": {
        "id": "DUCVTm_wbLxm",
        "colab": {
          "base_uri": "https://localhost:8080/"
        },
        "outputId": "a70163f3-cd76-462c-f8b9-d8066d467522"
      },
      "source": [
        "verbs = []\r\n",
        "for sentence in sentences:\r\n",
        "  for word in sentence:\r\n",
        "    if '動詞' == (word['pos']) :\r\n",
        "      verbs.append(word[\"surface\"])\r\n",
        "print(\"重複有りの場合, 動詞の数 = {}\".format(len(verbs)))"
      ],
      "execution_count": null,
      "outputs": [
        {
          "output_type": "stream",
          "text": [
            "重複有りの場合, 動詞の数 = 28905\n"
          ],
          "name": "stdout"
        }
      ]
    },
    {
      "cell_type": "code",
      "metadata": {
        "colab": {
          "base_uri": "https://localhost:8080/"
        },
        "id": "Q66QsKoK1OjC",
        "outputId": "f2e9d097-323c-4b0e-8992-ceb76f34f5af"
      },
      "source": [
        "verbs = list(set(verbs))\r\n",
        "print(\"重複無しの場合, 動詞の数 = {}\\n例を以下に示す\\n\".format(len(verbs)))\r\n",
        "for i in range(10):\r\n",
        "  print(verbs[i])"
      ],
      "execution_count": null,
      "outputs": [
        {
          "output_type": "stream",
          "text": [
            "重複無しの場合, 動詞の数 = 3893\n",
            "例を以下に示す\n",
            "\n",
            "ゆ\n",
            "這入っ\n",
            "減れ\n",
            "せる\n",
            "叱りつけ\n",
            "描き出さ\n",
            "持つ\n",
            "立ち上っ\n",
            "絶え\n",
            "覚ます\n"
          ],
          "name": "stdout"
        }
      ]
    },
    {
      "cell_type": "markdown",
      "metadata": {
        "id": "zb98LWTX2gyQ"
      },
      "source": [
        "## 32. 動詞の基本形\r\n",
        "動詞の基本形をすべて抽出せよ．"
      ]
    },
    {
      "cell_type": "code",
      "metadata": {
        "colab": {
          "base_uri": "https://localhost:8080/"
        },
        "id": "9C8bJ24n2jxA",
        "outputId": "f5b9fedc-a7de-4f8c-f112-0115e0f00aeb"
      },
      "source": [
        "verbs_base = []\r\n",
        "for sentence in sentences:\r\n",
        "  for word in sentence:\r\n",
        "    if '動詞' == (word['pos']) :\r\n",
        "      verbs_base.append(word[\"base\"])\r\n",
        "print(\"重複有りの場合, 動詞(基本形)の数 = {}\".format(len(verbs_base)))"
      ],
      "execution_count": null,
      "outputs": [
        {
          "output_type": "stream",
          "text": [
            "重複有りの場合, 動詞(基本形)の数 = 28905\n"
          ],
          "name": "stdout"
        }
      ]
    },
    {
      "cell_type": "code",
      "metadata": {
        "id": "ciZ2rNd12ts1",
        "colab": {
          "base_uri": "https://localhost:8080/"
        },
        "outputId": "75abd592-2a8e-47a9-f03a-6ae1c1fbd3f1"
      },
      "source": [
        "verbs_base = list(set(verbs_base))\r\n",
        "print(\"重複無しの場合, 動詞(基本形)の数 = {}\\n例を以下に示す\\n\".format(len(verbs_base)))\r\n",
        "for i in range(10):\r\n",
        "  print(verbs_base[i])"
      ],
      "execution_count": null,
      "outputs": [
        {
          "output_type": "stream",
          "text": [
            "重複無しの場合, 動詞(基本形)の数 = 2300\n",
            "例を以下に示す\n",
            "\n",
            "はりつける\n",
            "せる\n",
            "いそぐ\n",
            "持つ\n",
            "塗る\n",
            "覚ます\n",
            "張りつめる\n",
            "つく\n",
            "仕損じる\n",
            "逃げ惑う\n"
          ],
          "name": "stdout"
        }
      ]
    },
    {
      "cell_type": "markdown",
      "metadata": {
        "id": "1K3Ds0igAExe"
      },
      "source": [
        "## 33. 「AのB」\r\n",
        "2つの名詞が「の」で連結されている名詞句を抽出せよ"
      ]
    },
    {
      "cell_type": "code",
      "metadata": {
        "id": "1RqaLHbx2yS0",
        "colab": {
          "base_uri": "https://localhost:8080/"
        },
        "outputId": "4fd9627a-11ca-48ef-c6c0-6e37c36f32f2"
      },
      "source": [
        "nouns = []\r\n",
        "for sentence in sentences:\r\n",
        "  for i in range(len(sentence)):\r\n",
        "    if i+2 >= len(sentence):\r\n",
        "      break\r\n",
        "    if '名詞' == (sentence[i][\"pos\"]) and '助詞' == (sentence[i+1]['pos']) and 'の' == (sentence[i+1]['surface'])  and '名詞' == (sentence[i+2]['pos'])  :\r\n",
        "      nouns.append(sentence[i][\"surface\"] + sentence[i+1][\"surface\"] + sentence[i+2][\"surface\"])\r\n",
        "\r\n",
        "print(\"重複有りの場合, 「の」で連結されている名詞句の数 = {}\".format(len(nouns)))"
      ],
      "execution_count": null,
      "outputs": [
        {
          "output_type": "stream",
          "text": [
            "重複有りの場合, 「の」で連結されている名詞句の数 = 6044\n"
          ],
          "name": "stdout"
        }
      ]
    },
    {
      "cell_type": "code",
      "metadata": {
        "colab": {
          "base_uri": "https://localhost:8080/"
        },
        "id": "5HZXafoWBGtD",
        "outputId": "98a5d251-1549-44b8-d315-042fbf12ecc8"
      },
      "source": [
        "verbs_base = list(set(verbs_base))\r\n",
        "print(\"重複無しの場合,「の」で連結されている名詞句の数 = {}\\n例を以下に示す\\n\".format(len(nouns)))\r\n",
        "for i in range(10):\r\n",
        "  print(nouns[i])"
      ],
      "execution_count": null,
      "outputs": [
        {
          "output_type": "stream",
          "text": [
            "重複無しの場合,「の」で連結されている名詞句の数 = 6044\n",
            "例を以下に示す\n",
            "\n",
            "彼の掌\n",
            "掌の上\n",
            "書生の顔\n",
            "はずの顔\n",
            "顔の真中\n",
            "穴の中\n",
            "書生の掌\n",
            "掌の裏\n",
            "何の事\n",
            "肝心の母親\n"
          ],
          "name": "stdout"
        }
      ]
    },
    {
      "cell_type": "markdown",
      "metadata": {
        "id": "rIMshXTlGEnh"
      },
      "source": [
        "## 34.  名詞の連接\r\n",
        "名詞の連接（連続して出現する名詞）を最長一致で抽出せよ．"
      ]
    },
    {
      "cell_type": "code",
      "metadata": {
        "colab": {
          "base_uri": "https://localhost:8080/"
        },
        "id": "9IBu_p0tFvYp",
        "outputId": "6f99cd5d-cbcc-4d9e-acf1-aa9a39d3b2df"
      },
      "source": [
        "nouns_long = []\r\n",
        "max_noun=\"\"\r\n",
        "max=2\r\n",
        "\r\n",
        "for sentence in sentences:\r\n",
        "  n=0\r\n",
        "  nouns = \"\"\r\n",
        "  for i in range(len(sentence)):\r\n",
        "    if '名詞' == (sentence[i][\"pos\"]): ##名詞のとき\r\n",
        "      nouns = ''.join([nouns,sentence[i][\"surface\"]])\r\n",
        "      n += 1\r\n",
        "    elif n>=2: ##以下,名詞以外のとき\r\n",
        "      nouns_long.append(nouns)\r\n",
        "      if max<n:\r\n",
        "        max = n\r\n",
        "        max_noun=nouns\r\n",
        "      n=0\r\n",
        "      nouns=\"\"\r\n",
        "      \r\n",
        "    else:\r\n",
        "      n=0\r\n",
        "      nouns=\"\"\r\n",
        "  if n>=2:\r\n",
        "    nouns_long.append(nouns)\r\n",
        "\r\n",
        "\r\n",
        "print(\"重複有りの場合, 連接名詞の数 = {}\".format(len(nouns_long)))\r\n",
        "for n in nouns_long[:10]:\r\n",
        "  print(n)"
      ],
      "execution_count": null,
      "outputs": [
        {
          "output_type": "stream",
          "text": [
            "重複有りの場合, 連接名詞の数 = 7338\n",
            "人間中\n",
            "一番獰悪\n",
            "時妙\n",
            "一毛\n",
            "その後猫\n",
            "一度\n",
            "ぷうぷうと煙\n",
            "邸内\n",
            "三毛\n",
            "書生以外\n"
          ],
          "name": "stdout"
        }
      ]
    },
    {
      "cell_type": "code",
      "metadata": {
        "colab": {
          "base_uri": "https://localhost:8080/"
        },
        "id": "nltINYQjKfD7",
        "outputId": "2023bd0e-ae47-42f5-c470-30e6acadd663"
      },
      "source": [
        "nouns_long = list(set(nouns_long))\r\n",
        "print(\"重複無しの場合,連接名詞の数 = {}\\n例を以下に示す\\n\".format(len(nouns_long)))\r\n",
        "for i in range(10):\r\n",
        "  print(nouns_long[i])"
      ],
      "execution_count": null,
      "outputs": [
        {
          "output_type": "stream",
          "text": [
            "重複無しの場合,連接名詞の数 = 4457\n",
            "例を以下に示す\n",
            "\n",
            "一隊\n",
            "九十四歳\n",
            "四寸\n",
            "二十七日\n",
            "偶然童子\n",
            "封建時代\n",
            "丈八\n",
            "一歳何ヵ月\n",
            "みんな鎌倉あたり\n",
            "運動場\n"
          ],
          "name": "stdout"
        }
      ]
    },
    {
      "cell_type": "code",
      "metadata": {
        "id": "n9XO-j9wLQmM"
      },
      "source": [
        "nouns_long = sorted(nouns_long, reverse=True)"
      ],
      "execution_count": null,
      "outputs": []
    },
    {
      "cell_type": "markdown",
      "metadata": {
        "id": "qjOVwp82v3GK"
      },
      "source": [
        "## 35. 単語の出現頻度\r\n",
        "文章中に出現する単語とその出現頻度を求め，出現頻度の高い順に並べよ．"
      ]
    },
    {
      "cell_type": "code",
      "metadata": {
        "colab": {
          "base_uri": "https://localhost:8080/"
        },
        "id": "2mZvK521MSNx",
        "outputId": "0b4ebcd8-4850-43c9-907d-26cece78220a"
      },
      "source": [
        "words_list = []\r\n",
        "for sentence in sentences:\r\n",
        "  for word in sentence:\r\n",
        "      words_list.append(word[\"base\"])\r\n",
        "print(\"重複有りの場合, 単語の数 = {}\".format(len(words_list)))"
      ],
      "execution_count": null,
      "outputs": [
        {
          "output_type": "stream",
          "text": [
            "重複有りの場合, 単語の数 = 206338\n"
          ],
          "name": "stdout"
        }
      ]
    },
    {
      "cell_type": "code",
      "metadata": {
        "id": "f5n90JNexkKS"
      },
      "source": [
        "import collections\r\n",
        "c = collections.Counter(words_list)"
      ],
      "execution_count": null,
      "outputs": []
    },
    {
      "cell_type": "code",
      "metadata": {
        "colab": {
          "base_uri": "https://localhost:8080/"
        },
        "id": "wEHmbsSAzoyG",
        "outputId": "bd771eeb-9f06-48a5-9aa4-91860a0d69bb"
      },
      "source": [
        "type(c)"
      ],
      "execution_count": null,
      "outputs": [
        {
          "output_type": "execute_result",
          "data": {
            "text/plain": [
              "collections.Counter"
            ]
          },
          "metadata": {
            "tags": []
          },
          "execution_count": 128
        }
      ]
    },
    {
      "cell_type": "code",
      "metadata": {
        "id": "vbKlBKimx2Kn"
      },
      "source": [
        "c =  sorted(c.items(), key=lambda x: -x[1])"
      ],
      "execution_count": null,
      "outputs": []
    },
    {
      "cell_type": "markdown",
      "metadata": {
        "id": "ODiV7Mgnz935"
      },
      "source": [
        "## 36. 頻度上位10語\r\n",
        "出現頻度が高い10語とその出現頻度をグラフ（例えば棒グラフなど）で表示せよ．"
      ]
    },
    {
      "cell_type": "code",
      "metadata": {
        "colab": {
          "base_uri": "https://localhost:8080/"
        },
        "id": "k3o-G4R_1rBq",
        "outputId": "2d63b9b4-235c-40af-933a-350996de67f0"
      },
      "source": [
        "pip install japanize-matplotlib"
      ],
      "execution_count": null,
      "outputs": [
        {
          "output_type": "stream",
          "text": [
            "Requirement already satisfied: japanize-matplotlib in /usr/local/lib/python3.6/dist-packages (1.1.3)\n",
            "Requirement already satisfied: matplotlib in /usr/local/lib/python3.6/dist-packages (from japanize-matplotlib) (3.2.2)\n",
            "Requirement already satisfied: numpy>=1.11 in /usr/local/lib/python3.6/dist-packages (from matplotlib->japanize-matplotlib) (1.19.4)\n",
            "Requirement already satisfied: pyparsing!=2.0.4,!=2.1.2,!=2.1.6,>=2.0.1 in /usr/local/lib/python3.6/dist-packages (from matplotlib->japanize-matplotlib) (2.4.7)\n",
            "Requirement already satisfied: cycler>=0.10 in /usr/local/lib/python3.6/dist-packages (from matplotlib->japanize-matplotlib) (0.10.0)\n",
            "Requirement already satisfied: python-dateutil>=2.1 in /usr/local/lib/python3.6/dist-packages (from matplotlib->japanize-matplotlib) (2.8.1)\n",
            "Requirement already satisfied: kiwisolver>=1.0.1 in /usr/local/lib/python3.6/dist-packages (from matplotlib->japanize-matplotlib) (1.3.1)\n",
            "Requirement already satisfied: six in /usr/local/lib/python3.6/dist-packages (from cycler>=0.10->matplotlib->japanize-matplotlib) (1.15.0)\n"
          ],
          "name": "stdout"
        }
      ]
    },
    {
      "cell_type": "code",
      "metadata": {
        "id": "t-_7dwh80qx9"
      },
      "source": [
        "import matplotlib.pyplot as plt\r\n",
        "import japanize_matplotlib"
      ],
      "execution_count": null,
      "outputs": []
    },
    {
      "cell_type": "code",
      "metadata": {
        "colab": {
          "base_uri": "https://localhost:8080/"
        },
        "id": "cRpbh0F2yzaA",
        "outputId": "84a560f1-5a49-4b4f-cf42-35ba199c7153"
      },
      "source": [
        "x =[] \r\n",
        "y = []\r\n",
        "for i in range(10):\r\n",
        "  x.append(c[i][0])\r\n",
        "  y.append(c[i][1])\r\n",
        "  print(c[i])"
      ],
      "execution_count": null,
      "outputs": [
        {
          "output_type": "stream",
          "text": [
            "('の', 9194)\n",
            "('。', 7486)\n",
            "('て', 6848)\n",
            "('、', 6772)\n",
            "('は', 6420)\n",
            "('に', 6243)\n",
            "('を', 6071)\n",
            "('だ', 5972)\n",
            "('と', 5508)\n",
            "('が', 5337)\n"
          ],
          "name": "stdout"
        }
      ]
    },
    {
      "cell_type": "code",
      "metadata": {
        "colab": {
          "base_uri": "https://localhost:8080/",
          "height": 280
        },
        "id": "BdupchOJxtbt",
        "outputId": "f783b244-6a4f-46c5-916c-7b7f1ebc892a"
      },
      "source": [
        "plt.bar(x,y)\r\n",
        "plt.title(\"出現頻度が高い10語\")\r\n",
        "plt.show()"
      ],
      "execution_count": null,
      "outputs": [
        {
          "output_type": "display_data",
          "data": {
            "image/png": "[encoded data removed]",
            "text/plain": [
              "<Figure size 432x288 with 1 Axes>"
            ]
          },
          "metadata": {
            "tags": [],
            "needs_background": "light"
          }
        }
      ]
    },
    {
      "cell_type": "markdown",
      "metadata": {
        "id": "d1Sm7r-Q19nD"
      },
      "source": [
        "## 37. 「猫」と共起頻度の高い上位10語\r\n",
        "「猫」とよく共起する（共起頻度が高い）10語とその出現頻度をグラフ（例えば棒グラフなど）で表示せよ"
      ]
    },
    {
      "cell_type": "code",
      "metadata": {
        "colab": {
          "base_uri": "https://localhost:8080/"
        },
        "id": "INLLDL3Z3ZgU",
        "outputId": "3203d993-0b98-41fd-f251-3e13dc172a10"
      },
      "source": [
        "neko_list = []\r\n",
        "for sentence in sentences:\r\n",
        "  for i in range(len(sentence)):\r\n",
        "     if '猫' == (sentence[i]['surface']):\r\n",
        "      neko_list.append(sentence[i+1][\"base\"])\r\n",
        "\r\n",
        "print(\"重複有りの場合, 「猫」とよく共起する単語の数 = {}\".format(len(neko_list)))"
      ],
      "execution_count": null,
      "outputs": [
        {
          "output_type": "stream",
          "text": [
            "重複有りの場合, 「猫」とよく共起する単語の数 = 248\n"
          ],
          "name": "stdout"
        }
      ]
    },
    {
      "cell_type": "code",
      "metadata": {
        "id": "ZzIdx2b73vNd"
      },
      "source": [
        "neko_cnt = collections.Counter(neko_list)\r\n",
        "neko_cnt =  sorted(neko_cnt.items(), key=lambda x: -x[1])"
      ],
      "execution_count": null,
      "outputs": []
    },
    {
      "cell_type": "code",
      "metadata": {
        "colab": {
          "base_uri": "https://localhost:8080/"
        },
        "id": "VdEzHLFL3tcz",
        "outputId": "e60862de-8de6-4cc1-c207-4ed8d57ea9c5"
      },
      "source": [
        "x =[] \r\n",
        "y = []\r\n",
        "for i in range(10):\r\n",
        "  x.append(neko_cnt[i][0])\r\n",
        "  y.append(neko_cnt[i][1])\r\n",
        "  print(neko_cnt[i])"
      ],
      "execution_count": null,
      "outputs": [
        {
          "output_type": "stream",
          "text": [
            "('の', 46)\n",
            "('だ', 33)\n",
            "('と', 21)\n",
            "('に', 20)\n",
            "('が', 20)\n",
            "('で', 9)\n",
            "('は', 9)\n",
            "('を', 8)\n",
            "('だって', 7)\n",
            "('など', 7)\n"
          ],
          "name": "stdout"
        }
      ]
    },
    {
      "cell_type": "code",
      "metadata": {
        "colab": {
          "base_uri": "https://localhost:8080/",
          "height": 280
        },
        "id": "sHV85i4q5P5e",
        "outputId": "b881e5ea-9521-4d66-8270-b699c1a39197"
      },
      "source": [
        "plt.bar(x,y)\r\n",
        "plt.title(\"猫」と共起頻度の高い上位10語\")\r\n",
        "plt.show()"
      ],
      "execution_count": null,
      "outputs": [
        {
          "output_type": "display_data",
          "data": {
            "image/png": "[encoded data removed]",
            "text/plain": [
              "<Figure size 432x288 with 1 Axes>"
            ]
          },
          "metadata": {
            "tags": [],
            "needs_background": "light"
          }
        }
      ]
    },
    {
      "cell_type": "markdown",
      "metadata": {
        "id": "QDY58pyL6T2d"
      },
      "source": [
        "## 38. ヒストグラム\r\n",
        "単語の出現頻度のヒストグラムを描け．ただし，横軸は出現頻度を表し，1から単語の出現頻度の最大値までの線形目盛とする．縦軸はx軸で示される出現頻度となった単語の異なり数（種類数）である．"
      ]
    },
    {
      "cell_type": "code",
      "metadata": {
        "colab": {
          "base_uri": "https://localhost:8080/"
        },
        "id": "z08cdm-yTgV2",
        "outputId": "270ee9fb-688a-46b8-b33a-648d3952ca42"
      },
      "source": [
        "from collections import defaultdict\r\n",
        "words_dict = defaultdict(int)\r\n",
        "for sentence in sentences:\r\n",
        "  for word in sentence:\r\n",
        "      words_dict[word[\"base\"]] += 1\r\n",
        "print(\"重複有りの場合, 単語の数 = {}\".format(len(words_dict)))"
      ],
      "execution_count": null,
      "outputs": [
        {
          "output_type": "stream",
          "text": [
            "重複有りの場合, 単語の数 = 11251\n"
          ],
          "name": "stdout"
        }
      ]
    },
    {
      "cell_type": "code",
      "metadata": {
        "colab": {
          "base_uri": "https://localhost:8080/",
          "height": 278
        },
        "id": "oUHN_dbT6Voz",
        "outputId": "d6a40975-8c8d-4ec1-8a27-162f4a79cda4"
      },
      "source": [
        "plt.hist(words_dict.values(), bins=50)\r\n",
        "plt.xlabel('単語の出現頻度')\r\n",
        "plt.ylabel('単語の種類数')\r\n",
        "plt.show()"
      ],
      "execution_count": null,
      "outputs": [
        {
          "output_type": "display_data",
          "data": {
            "image/png": "[encoded data removed]",
            "text/plain": [
              "<Figure size 432x288 with 1 Axes>"
            ]
          },
          "metadata": {
            "tags": [],
            "needs_background": "light"
          }
        }
      ]
    },
    {
      "cell_type": "markdown",
      "metadata": {
        "id": "RQK9fn7gVobG"
      },
      "source": [
        "## 39. Zipfの法則\r\n",
        "単語の出現頻度順位を横軸，その出現頻度を縦軸として，両対数グラフをプロットせよ"
      ]
    },
    {
      "cell_type": "code",
      "metadata": {
        "colab": {
          "base_uri": "https://localhost:8080/",
          "height": 283
        },
        "id": "i0Al81wbVtBG",
        "outputId": "a3808dd7-9d47-4bb5-c870-fcc5eef42ab5"
      },
      "source": [
        "words_dict = sorted(words_dict.items(), key=lambda x: x[1], reverse=True)\r\n",
        "y = [i+1 for i in range(len(words_dict))]\r\n",
        "x = [i[1] for i in words_dict]\r\n",
        "plt.plot(x,y)\r\n",
        "ax = plt.gca()\r\n",
        "ax.set_yscale('log') \r\n",
        "ax.set_xscale('log')\r\n",
        "plt.xlabel('単語の出現頻度')\r\n",
        "plt.ylabel('単語の種類数')\r\n",
        "plt.show()"
      ],
      "execution_count": null,
      "outputs": [
        {
          "output_type": "display_data",
          "data": {
            "image/png": "[encoded data removed]",
            "text/plain": [
              "<Figure size 432x288 with 1 Axes>"
            ]
          },
          "metadata": {
            "tags": [],
            "needs_background": "light"
          }
        }
      ]
    }
  ]
}