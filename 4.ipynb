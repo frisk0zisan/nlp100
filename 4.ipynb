{
  "nbformat": 4,
  "nbformat_minor": 0,
  "metadata": {
    "colab": {
      "name": "4.ipynb",
      "provenance": [],
      "include_colab_link": true
    },
    "kernelspec": {
      "name": "python3",
      "display_name": "Python 3"
    }
  },
  "cells": [
    {
      "cell_type": "markdown",
      "metadata": {
        "id": "view-in-github",
        "colab_type": "text"
      },
      "source": [
        "<a href=\"https://colab.research.google.com/github/frisk0zisan/nlp100/blob/main/4.ipynb\" target=\"_parent\"><img src=\"https://colab.research.google.com/assets/colab-badge.svg\" alt=\"Open In Colab\"/></a>"
      ]
    },
    {
      "cell_type": "markdown",
      "metadata": {
        "id": "d9okSLEQK2Y-"
      },
      "source": [
        "# 言語処理100本ノック　第4章"
      ]
    },
    {
      "cell_type": "markdown",
      "metadata": {
        "id": "LIa_x_GYK_1p"
      },
      "source": [
        "## 30. 形態素解析結果の読み込み  \r\n",
        "形態素解析結果（neko.txt.mecab）を読み込むプログラムを実装せよ．ただし，各形態素は表層形（surface），基本形（base），品詞（pos），品詞細分類1（pos1）をキーとするマッピング型に格納し，1文を形態素（マッピング型）のリストとして表現せよ．第4章の残りの問題では，ここで作ったプログラムを活用せよ．"
      ]
    },
    {
      "cell_type": "code",
      "metadata": {
        "colab": {
          "base_uri": "https://localhost:8080/"
        },
        "id": "xVB5B4IgK9Aa",
        "outputId": "bf2bcd30-95dd-4a79-ced7-eb74537a1860"
      },
      "source": [
        "!wget https://nlp100.github.io/data/neko.txt"
      ],
      "execution_count": null,
      "outputs": [
        {
          "output_type": "stream",
          "text": [
            "--2021-01-05 04:23:28--  https://nlp100.github.io/data/neko.txt\n",
            "Resolving nlp100.github.io (nlp100.github.io)... 185.199.108.153, 185.199.109.153, 185.199.110.153, ...\n",
            "Connecting to nlp100.github.io (nlp100.github.io)|185.199.108.153|:443... connected.\n",
            "HTTP request sent, awaiting response... 200 OK\n",
            "Length: 975789 (953K) [text/plain]\n",
            "Saving to: ‘neko.txt’\n",
            "\n",
            "neko.txt            100%[===================>] 952.92K  --.-KB/s    in 0.06s   \n",
            "\n",
            "2021-01-05 04:23:29 (15.7 MB/s) - ‘neko.txt’ saved [975789/975789]\n",
            "\n"
          ],
          "name": "stdout"
        }
      ]
    },
    {
      "cell_type": "code",
      "metadata": {
        "colab": {
          "base_uri": "https://localhost:8080/"
        },
        "id": "doIdO_54K13N",
        "outputId": "47141bd4-a77c-4f87-e527-b247759ce9e5"
      },
      "source": [
        "# 形態素分析ライブラリーMeCab と 辞書(mecab-ipadic-NEologd)のインストール \r\n",
        "!apt-get -q -y install sudo file mecab libmecab-dev mecab-ipadic-utf8 git curl python-mecab > /dev/null\r\n",
        "!git clone --depth 1 https://github.com/neologd/mecab-ipadic-neologd.git > /dev/null \r\n",
        "!echo yes | mecab-ipadic-neologd/bin/install-mecab-ipadic-neologd -n > /dev/null 2>&1\r\n",
        "!pip install mecab-python3 > /dev/null\r\n",
        "\r\n",
        "# シンボリックリンクによるエラー回避\r\n",
        "!ln -s /etc/mecabrc /usr/local/etc/mecabrc"
      ],
      "execution_count": null,
      "outputs": [
        {
          "output_type": "stream",
          "text": [
            "fatal: destination path 'mecab-ipadic-neologd' already exists and is not an empty directory.\n",
            "ln: failed to create symbolic link '/usr/local/etc/mecabrc': File exists\n"
          ],
          "name": "stdout"
        }
      ]
    },
    {
      "cell_type": "code",
      "metadata": {
        "id": "aJeSr3SSOPdF"
      },
      "source": [
        "!mecab -o ./neko.txt.mecab ./neko.txt"
      ],
      "execution_count": null,
      "outputs": []
    },
    {
      "cell_type": "code",
      "metadata": {
        "colab": {
          "base_uri": "https://localhost:8080/"
        },
        "id": "PLbU1LIDOYov",
        "outputId": "2c155078-7ae0-4575-8f64-5e2db371843c"
      },
      "source": [
        "!head -10 ./neko.txt.mecab"
      ],
      "execution_count": 40,
      "outputs": [
        {
          "output_type": "stream",
          "text": [
            "一\t名詞,数,*,*,*,*,一,イチ,イチ\n",
            "\r\t記号,一般,*,*,*,*,*\n",
            "EOS\n",
            "\r\t記号,一般,*,*,*,*,*\n",
            "EOS\n",
            "　\t記号,空白,*,*,*,*,　,　,　\n",
            "吾輩\t名詞,代名詞,一般,*,*,*,吾輩,ワガハイ,ワガハイ\n",
            "は\t助詞,係助詞,*,*,*,*,は,ハ,ワ\n",
            "猫\t名詞,一般,*,*,*,*,猫,ネコ,ネコ\n",
            "で\t助動詞,*,*,*,特殊・ダ,連用形,だ,デ,デ\n"
          ],
          "name": "stdout"
        }
      ]
    },
    {
      "cell_type": "code",
      "metadata": {
        "id": "PzR1zgHQPLRz"
      },
      "source": [
        "filename = \"./neko.txt.mecab\"\r\n",
        "sentences = []\r\n",
        "ans = []\r\n",
        "\r\n",
        "with open(filename,\"r\") as f:\r\n",
        "  for line in f:\r\n",
        "    if line != \"EOS\\n\": # 文末以外を追加\r\n",
        "        fields = line.split('\\t')\r\n",
        "        if len(fields) != 2 or fields[0] == '':  # 文頭以外の空白と改行文字はスキップ\r\n",
        "          continue\r\n",
        "        else:\r\n",
        "          word_dic = {\"surface\":fields[0], \"base\":fields[1].split(',')[6], \"pos\":fields[1].split(',')[0], \"pos1\":fields[1].split(',')[1] }\r\n",
        "          ans.append(word_dic)\r\n",
        "    else:\r\n",
        "        sentences.append(ans)\r\n",
        "        ans = []\r\n"
      ],
      "execution_count": null,
      "outputs": []
    },
    {
      "cell_type": "code",
      "metadata": {
        "colab": {
          "base_uri": "https://localhost:8080/"
        },
        "id": "BWpdh4mbZgbx",
        "outputId": "1c62fc34-ece8-4f66-a7f1-a8b8c82d5b11"
      },
      "source": [
        "for i in range(20):\r\n",
        "  print(sentences[i])"
      ],
      "execution_count": 41,
      "outputs": [
        {
          "output_type": "stream",
          "text": [
            "[{'surface': '一', 'base': '一', 'pos': '名詞', 'pos1': '数'}]\n",
            "[]\n",
            "[{'surface': '\\u3000', 'base': '\\u3000', 'pos': '記号', 'pos1': '空白'}, {'surface': '吾輩', 'base': '吾輩', 'pos': '名詞', 'pos1': '代名詞'}, {'surface': 'は', 'base': 'は', 'pos': '助詞', 'pos1': '係助詞'}, {'surface': '猫', 'base': '猫', 'pos': '名詞', 'pos1': '一般'}, {'surface': 'で', 'base': 'だ', 'pos': '助動詞', 'pos1': '*'}, {'surface': 'ある', 'base': 'ある', 'pos': '助動詞', 'pos1': '*'}, {'surface': '。', 'base': '。', 'pos': '記号', 'pos1': '句点'}]\n",
            "[{'surface': '名前', 'base': '名前', 'pos': '名詞', 'pos1': '一般'}, {'surface': 'は', 'base': 'は', 'pos': '助詞', 'pos1': '係助詞'}, {'surface': 'まだ', 'base': 'まだ', 'pos': '副詞', 'pos1': '助詞類接続'}, {'surface': '無い', 'base': '無い', 'pos': '形容詞', 'pos1': '自立'}, {'surface': '。', 'base': '。', 'pos': '記号', 'pos1': '句点'}]\n",
            "[]\n",
            "[{'surface': '\\u3000', 'base': '\\u3000', 'pos': '記号', 'pos1': '空白'}, {'surface': 'どこ', 'base': 'どこ', 'pos': '名詞', 'pos1': '代名詞'}, {'surface': 'で', 'base': 'で', 'pos': '助詞', 'pos1': '格助詞'}, {'surface': '生れ', 'base': '生れる', 'pos': '動詞', 'pos1': '自立'}, {'surface': 'た', 'base': 'た', 'pos': '助動詞', 'pos1': '*'}, {'surface': 'か', 'base': 'か', 'pos': '助詞', 'pos1': '副助詞／並立助詞／終助詞'}, {'surface': 'とんと', 'base': 'とんと', 'pos': '副詞', 'pos1': '一般'}, {'surface': '見当', 'base': '見当', 'pos': '名詞', 'pos1': 'サ変接続'}, {'surface': 'が', 'base': 'が', 'pos': '助詞', 'pos1': '格助詞'}, {'surface': 'つか', 'base': 'つく', 'pos': '動詞', 'pos1': '自立'}, {'surface': 'ぬ', 'base': 'ぬ', 'pos': '助動詞', 'pos1': '*'}, {'surface': '。', 'base': '。', 'pos': '記号', 'pos1': '句点'}]\n",
            "[{'surface': '何', 'base': '何', 'pos': '名詞', 'pos1': '代名詞'}, {'surface': 'でも', 'base': 'でも', 'pos': '助詞', 'pos1': '副助詞'}, {'surface': '薄暗い', 'base': '薄暗い', 'pos': '形容詞', 'pos1': '自立'}, {'surface': 'じめじめ', 'base': 'じめじめ', 'pos': '副詞', 'pos1': '一般'}, {'surface': 'し', 'base': 'する', 'pos': '動詞', 'pos1': '自立'}, {'surface': 'た', 'base': 'た', 'pos': '助動詞', 'pos1': '*'}, {'surface': '所', 'base': '所', 'pos': '名詞', 'pos1': '非自立'}, {'surface': 'で', 'base': 'で', 'pos': '助詞', 'pos1': '格助詞'}, {'surface': 'ニャーニャー', 'base': '*\\n', 'pos': '名詞', 'pos1': '一般'}, {'surface': '泣い', 'base': '泣く', 'pos': '動詞', 'pos1': '自立'}, {'surface': 'て', 'base': 'て', 'pos': '助詞', 'pos1': '接続助詞'}, {'surface': 'いた事', 'base': 'いた事', 'pos': '名詞', 'pos1': '一般'}, {'surface': 'だけ', 'base': 'だけ', 'pos': '助詞', 'pos1': '副助詞'}, {'surface': 'は', 'base': 'は', 'pos': '助詞', 'pos1': '係助詞'}, {'surface': '記憶', 'base': '記憶', 'pos': '名詞', 'pos1': 'サ変接続'}, {'surface': 'し', 'base': 'する', 'pos': '動詞', 'pos1': '自立'}, {'surface': 'て', 'base': 'て', 'pos': '助詞', 'pos1': '接続助詞'}, {'surface': 'いる', 'base': 'いる', 'pos': '動詞', 'pos1': '非自立'}, {'surface': '。', 'base': '。', 'pos': '記号', 'pos1': '句点'}]\n",
            "[{'surface': '吾輩', 'base': '吾輩', 'pos': '名詞', 'pos1': '代名詞'}, {'surface': 'は', 'base': 'は', 'pos': '助詞', 'pos1': '係助詞'}, {'surface': 'ここ', 'base': 'ここ', 'pos': '名詞', 'pos1': '代名詞'}, {'surface': 'で', 'base': 'で', 'pos': '助詞', 'pos1': '格助詞'}, {'surface': '始め', 'base': '始める', 'pos': '動詞', 'pos1': '自立'}, {'surface': 'て', 'base': 'て', 'pos': '助詞', 'pos1': '接続助詞'}, {'surface': '人間', 'base': '人間', 'pos': '名詞', 'pos1': '一般'}, {'surface': 'という', 'base': 'という', 'pos': '助詞', 'pos1': '格助詞'}, {'surface': 'もの', 'base': 'もの', 'pos': '名詞', 'pos1': '非自立'}, {'surface': 'を', 'base': 'を', 'pos': '助詞', 'pos1': '格助詞'}, {'surface': '見', 'base': '見る', 'pos': '動詞', 'pos1': '自立'}, {'surface': 'た', 'base': 'た', 'pos': '助動詞', 'pos1': '*'}, {'surface': '。', 'base': '。', 'pos': '記号', 'pos1': '句点'}]\n",
            "[{'surface': 'しかも', 'base': 'しかも', 'pos': '接続詞', 'pos1': '*'}, {'surface': 'あと', 'base': 'あと', 'pos': '名詞', 'pos1': '一般'}, {'surface': 'で', 'base': 'で', 'pos': '助詞', 'pos1': '格助詞'}, {'surface': '聞く', 'base': '聞く', 'pos': '動詞', 'pos1': '自立'}, {'surface': 'と', 'base': 'と', 'pos': '助詞', 'pos1': '接続助詞'}, {'surface': 'それ', 'base': 'それ', 'pos': '名詞', 'pos1': '代名詞'}, {'surface': 'は', 'base': 'は', 'pos': '助詞', 'pos1': '係助詞'}, {'surface': '書生', 'base': '書生', 'pos': '名詞', 'pos1': '一般'}, {'surface': 'という', 'base': 'という', 'pos': '助詞', 'pos1': '格助詞'}, {'surface': '人間', 'base': '人間', 'pos': '名詞', 'pos1': '一般'}, {'surface': '中', 'base': '中', 'pos': '名詞', 'pos1': '接尾'}, {'surface': 'で', 'base': 'で', 'pos': '助詞', 'pos1': '格助詞'}, {'surface': '一番', 'base': '一番', 'pos': '名詞', 'pos1': '副詞可能'}, {'surface': '獰悪', 'base': '獰悪', 'pos': '名詞', 'pos1': '形容動詞語幹'}, {'surface': 'な', 'base': 'だ', 'pos': '助動詞', 'pos1': '*'}, {'surface': '種族', 'base': '種族', 'pos': '名詞', 'pos1': '一般'}, {'surface': 'で', 'base': 'だ', 'pos': '助動詞', 'pos1': '*'}, {'surface': 'あっ', 'base': 'ある', 'pos': '助動詞', 'pos1': '*'}, {'surface': 'た', 'base': 'た', 'pos': '助動詞', 'pos1': '*'}, {'surface': 'そう', 'base': 'そう', 'pos': '名詞', 'pos1': '特殊'}, {'surface': 'だ', 'base': 'だ', 'pos': '助動詞', 'pos1': '*'}, {'surface': '。', 'base': '。', 'pos': '記号', 'pos1': '句点'}]\n",
            "[{'surface': 'この', 'base': 'この', 'pos': '連体詞', 'pos1': '*'}, {'surface': '書生', 'base': '書生', 'pos': '名詞', 'pos1': '一般'}, {'surface': 'という', 'base': 'という', 'pos': '助詞', 'pos1': '格助詞'}, {'surface': 'の', 'base': 'の', 'pos': '名詞', 'pos1': '非自立'}, {'surface': 'は', 'base': 'は', 'pos': '助詞', 'pos1': '係助詞'}, {'surface': '時々', 'base': '時々', 'pos': '副詞', 'pos1': '一般'}, {'surface': '我々', 'base': '我々', 'pos': '名詞', 'pos1': '代名詞'}, {'surface': 'を', 'base': 'を', 'pos': '助詞', 'pos1': '格助詞'}, {'surface': '捕え', 'base': '捕える', 'pos': '動詞', 'pos1': '自立'}, {'surface': 'て', 'base': 'て', 'pos': '助詞', 'pos1': '接続助詞'}, {'surface': '煮', 'base': '煮る', 'pos': '動詞', 'pos1': '自立'}, {'surface': 'て', 'base': 'て', 'pos': '助詞', 'pos1': '接続助詞'}, {'surface': '食う', 'base': '食う', 'pos': '動詞', 'pos1': '自立'}, {'surface': 'という', 'base': 'という', 'pos': '助詞', 'pos1': '格助詞'}, {'surface': '話', 'base': '話', 'pos': '名詞', 'pos1': 'サ変接続'}, {'surface': 'で', 'base': 'だ', 'pos': '助動詞', 'pos1': '*'}, {'surface': 'ある', 'base': 'ある', 'pos': '助動詞', 'pos1': '*'}, {'surface': '。', 'base': '。', 'pos': '記号', 'pos1': '句点'}]\n",
            "[{'surface': 'しかし', 'base': 'しかし', 'pos': '接続詞', 'pos1': '*'}, {'surface': 'その', 'base': 'その', 'pos': '連体詞', 'pos1': '*'}, {'surface': '当時', 'base': '当時', 'pos': '名詞', 'pos1': '副詞可能'}, {'surface': 'は', 'base': 'は', 'pos': '助詞', 'pos1': '係助詞'}, {'surface': '何', 'base': '何', 'pos': '名詞', 'pos1': '代名詞'}, {'surface': 'という', 'base': 'という', 'pos': '助詞', 'pos1': '格助詞'}, {'surface': '考', 'base': '考', 'pos': '名詞', 'pos1': '一般'}, {'surface': 'も', 'base': 'も', 'pos': '助詞', 'pos1': '係助詞'}, {'surface': 'なかっ', 'base': 'ない', 'pos': '形容詞', 'pos1': '自立'}, {'surface': 'た', 'base': 'た', 'pos': '助動詞', 'pos1': '*'}, {'surface': 'から', 'base': 'から', 'pos': '助詞', 'pos1': '接続助詞'}, {'surface': '別段', 'base': '別段', 'pos': '副詞', 'pos1': '助詞類接続'}, {'surface': '恐し', 'base': '恐い', 'pos': '形容詞', 'pos1': '自立'}, {'surface': 'いとも', 'base': 'いとも', 'pos': '副詞', 'pos1': '一般'}, {'surface': '思わ', 'base': '思う', 'pos': '動詞', 'pos1': '自立'}, {'surface': 'なかっ', 'base': 'ない', 'pos': '助動詞', 'pos1': '*'}, {'surface': 'た', 'base': 'た', 'pos': '助動詞', 'pos1': '*'}, {'surface': '。', 'base': '。', 'pos': '記号', 'pos1': '句点'}]\n",
            "[{'surface': 'ただ', 'base': 'ただ', 'pos': '接続詞', 'pos1': '*'}, {'surface': '彼', 'base': '彼', 'pos': '名詞', 'pos1': '代名詞'}, {'surface': 'の', 'base': 'の', 'pos': '助詞', 'pos1': '連体化'}, {'surface': '掌', 'base': '掌', 'pos': '名詞', 'pos1': '一般'}, {'surface': 'に', 'base': 'に', 'pos': '助詞', 'pos1': '格助詞'}, {'surface': '載せ', 'base': '載せる', 'pos': '動詞', 'pos1': '自立'}, {'surface': 'られ', 'base': 'られる', 'pos': '動詞', 'pos1': '接尾'}, {'surface': 'て', 'base': 'て', 'pos': '助詞', 'pos1': '接続助詞'}, {'surface': 'スー', 'base': 'スー', 'pos': '名詞', 'pos1': '固有名詞'}, {'surface': 'と', 'base': 'と', 'pos': '助詞', 'pos1': '格助詞'}, {'surface': '持ち上げ', 'base': '持ち上げる', 'pos': '動詞', 'pos1': '自立'}, {'surface': 'られ', 'base': 'られる', 'pos': '動詞', 'pos1': '接尾'}, {'surface': 'た', 'base': 'た', 'pos': '助動詞', 'pos1': '*'}, {'surface': '時', 'base': '時', 'pos': '名詞', 'pos1': '非自立'}, {'surface': '何だか', 'base': '何だか', 'pos': '副詞', 'pos1': '一般'}, {'surface': 'フワフワ', 'base': 'フワフワ', 'pos': '副詞', 'pos1': '助詞類接続'}, {'surface': 'し', 'base': 'する', 'pos': '動詞', 'pos1': '自立'}, {'surface': 'た', 'base': 'た', 'pos': '助動詞', 'pos1': '*'}, {'surface': '感じ', 'base': '感じ', 'pos': '名詞', 'pos1': '一般'}, {'surface': 'が', 'base': 'が', 'pos': '助詞', 'pos1': '格助詞'}, {'surface': 'あっ', 'base': 'ある', 'pos': '動詞', 'pos1': '自立'}, {'surface': 'た', 'base': 'た', 'pos': '助動詞', 'pos1': '*'}, {'surface': 'ばかり', 'base': 'ばかり', 'pos': '助詞', 'pos1': '副助詞'}, {'surface': 'で', 'base': 'だ', 'pos': '助動詞', 'pos1': '*'}, {'surface': 'ある', 'base': 'ある', 'pos': '助動詞', 'pos1': '*'}, {'surface': '。', 'base': '。', 'pos': '記号', 'pos1': '句点'}]\n",
            "[{'surface': '掌', 'base': '掌', 'pos': '名詞', 'pos1': '一般'}, {'surface': 'の', 'base': 'の', 'pos': '助詞', 'pos1': '連体化'}, {'surface': '上', 'base': '上', 'pos': '名詞', 'pos1': '非自立'}, {'surface': 'で', 'base': 'で', 'pos': '助詞', 'pos1': '格助詞'}, {'surface': '少し', 'base': '少し', 'pos': '副詞', 'pos1': '助詞類接続'}, {'surface': '落ちつい', 'base': '落ちつく', 'pos': '動詞', 'pos1': '自立'}, {'surface': 'て', 'base': 'て', 'pos': '助詞', 'pos1': '接続助詞'}, {'surface': '書生', 'base': '書生', 'pos': '名詞', 'pos1': '一般'}, {'surface': 'の', 'base': 'の', 'pos': '助詞', 'pos1': '連体化'}, {'surface': '顔', 'base': '顔', 'pos': '名詞', 'pos1': '一般'}, {'surface': 'を', 'base': 'を', 'pos': '助詞', 'pos1': '格助詞'}, {'surface': '見', 'base': '見る', 'pos': '動詞', 'pos1': '自立'}, {'surface': 'た', 'base': 'た', 'pos': '助動詞', 'pos1': '*'}, {'surface': 'の', 'base': 'の', 'pos': '名詞', 'pos1': '非自立'}, {'surface': 'が', 'base': 'が', 'pos': '助詞', 'pos1': '格助詞'}, {'surface': 'いわゆる', 'base': 'いわゆる', 'pos': '連体詞', 'pos1': '*'}, {'surface': '人間', 'base': '人間', 'pos': '名詞', 'pos1': '一般'}, {'surface': 'という', 'base': 'という', 'pos': '助詞', 'pos1': '格助詞'}, {'surface': 'もの', 'base': 'もの', 'pos': '名詞', 'pos1': '非自立'}, {'surface': 'の', 'base': 'の', 'pos': '助詞', 'pos1': '格助詞'}, {'surface': '見', 'base': '見る', 'pos': '動詞', 'pos1': '自立'}, {'surface': '始', 'base': '始', 'pos': '名詞', 'pos1': '固有名詞'}, {'surface': 'で', 'base': 'だ', 'pos': '助動詞', 'pos1': '*'}, {'surface': 'あろ', 'base': 'ある', 'pos': '助動詞', 'pos1': '*'}, {'surface': 'う', 'base': 'う', 'pos': '助動詞', 'pos1': '*'}, {'surface': '。', 'base': '。', 'pos': '記号', 'pos1': '句点'}]\n",
            "[{'surface': 'この', 'base': 'この', 'pos': '連体詞', 'pos1': '*'}, {'surface': '時', 'base': '時', 'pos': '名詞', 'pos1': '非自立'}, {'surface': '妙', 'base': '妙', 'pos': '名詞', 'pos1': '形容動詞語幹'}, {'surface': 'な', 'base': 'だ', 'pos': '助動詞', 'pos1': '*'}, {'surface': 'もの', 'base': 'もの', 'pos': '名詞', 'pos1': '非自立'}, {'surface': 'だ', 'base': 'だ', 'pos': '助動詞', 'pos1': '*'}, {'surface': 'と', 'base': 'と', 'pos': '助詞', 'pos1': '格助詞'}, {'surface': '思っ', 'base': '思う', 'pos': '動詞', 'pos1': '自立'}, {'surface': 'た', 'base': 'た', 'pos': '助動詞', 'pos1': '*'}, {'surface': '感じ', 'base': '感じ', 'pos': '名詞', 'pos1': '一般'}, {'surface': 'が', 'base': 'が', 'pos': '助詞', 'pos1': '格助詞'}, {'surface': '今', 'base': '今', 'pos': '名詞', 'pos1': '副詞可能'}, {'surface': 'でも', 'base': 'でも', 'pos': '助詞', 'pos1': '副助詞'}, {'surface': '残っ', 'base': '残る', 'pos': '動詞', 'pos1': '自立'}, {'surface': 'て', 'base': 'て', 'pos': '助詞', 'pos1': '接続助詞'}, {'surface': 'いる', 'base': 'いる', 'pos': '動詞', 'pos1': '非自立'}, {'surface': '。', 'base': '。', 'pos': '記号', 'pos1': '句点'}]\n",
            "[{'surface': '第', 'base': '第', 'pos': '接頭詞', 'pos1': '数接続'}, {'surface': '一', 'base': '一', 'pos': '名詞', 'pos1': '数'}, {'surface': '毛', 'base': '毛', 'pos': '名詞', 'pos1': '接尾'}, {'surface': 'をもって', 'base': 'をもって', 'pos': '助詞', 'pos1': '格助詞'}, {'surface': '装飾', 'base': '装飾', 'pos': '名詞', 'pos1': 'サ変接続'}, {'surface': 'さ', 'base': 'する', 'pos': '動詞', 'pos1': '自立'}, {'surface': 'れ', 'base': 'れる', 'pos': '動詞', 'pos1': '接尾'}, {'surface': 'べき', 'base': 'べし', 'pos': '助動詞', 'pos1': '*'}, {'surface': 'はず', 'base': 'はず', 'pos': '名詞', 'pos1': '非自立'}, {'surface': 'の', 'base': 'の', 'pos': '助詞', 'pos1': '連体化'}, {'surface': '顔', 'base': '顔', 'pos': '名詞', 'pos1': '一般'}, {'surface': 'が', 'base': 'が', 'pos': '助詞', 'pos1': '格助詞'}, {'surface': 'つるつる', 'base': 'つるつる', 'pos': '副詞', 'pos1': '一般'}, {'surface': 'し', 'base': 'する', 'pos': '動詞', 'pos1': '自立'}, {'surface': 'て', 'base': 'て', 'pos': '助詞', 'pos1': '接続助詞'}, {'surface': 'まるで', 'base': 'まるで', 'pos': '副詞', 'pos1': '一般'}, {'surface': '薬缶', 'base': '薬缶', 'pos': '名詞', 'pos1': '一般'}, {'surface': 'だ', 'base': 'だ', 'pos': '助動詞', 'pos1': '*'}, {'surface': '。', 'base': '。', 'pos': '記号', 'pos1': '句点'}]\n",
            "[{'surface': 'その後', 'base': 'その後', 'pos': '名詞', 'pos1': '副詞可能'}, {'surface': '猫', 'base': '猫', 'pos': '名詞', 'pos1': '一般'}, {'surface': 'に', 'base': 'に', 'pos': '助詞', 'pos1': '格助詞'}, {'surface': 'も', 'base': 'も', 'pos': '助詞', 'pos1': '係助詞'}, {'surface': 'だいぶ', 'base': 'だいぶ', 'pos': '副詞', 'pos1': '一般'}, {'surface': '逢っ', 'base': '逢う', 'pos': '動詞', 'pos1': '自立'}, {'surface': 'た', 'base': 'た', 'pos': '助動詞', 'pos1': '*'}, {'surface': 'が', 'base': 'が', 'pos': '助詞', 'pos1': '接続助詞'}, {'surface': 'こんな', 'base': 'こんな', 'pos': '連体詞', 'pos1': '*'}, {'surface': '片', 'base': '片', 'pos': '接頭詞', 'pos1': '名詞接続'}, {'surface': '輪', 'base': '輪', 'pos': '名詞', 'pos1': '一般'}, {'surface': 'に', 'base': 'に', 'pos': '助詞', 'pos1': '格助詞'}, {'surface': 'は', 'base': 'は', 'pos': '助詞', 'pos1': '係助詞'}, {'surface': '一', 'base': '一', 'pos': '名詞', 'pos1': '数'}, {'surface': '度', 'base': '度', 'pos': '名詞', 'pos1': '接尾'}, {'surface': 'も', 'base': 'も', 'pos': '助詞', 'pos1': '係助詞'}, {'surface': '出会わ', 'base': '出会う', 'pos': '動詞', 'pos1': '自立'}, {'surface': 'し', 'base': 'する', 'pos': '動詞', 'pos1': '自立'}, {'surface': 'た', 'base': 'た', 'pos': '助動詞', 'pos1': '*'}, {'surface': '事', 'base': '事', 'pos': '名詞', 'pos1': '非自立'}, {'surface': 'が', 'base': 'が', 'pos': '助詞', 'pos1': '格助詞'}, {'surface': 'ない', 'base': 'ない', 'pos': '形容詞', 'pos1': '自立'}, {'surface': '。', 'base': '。', 'pos': '記号', 'pos1': '句点'}]\n",
            "[{'surface': 'のみ', 'base': 'のむ', 'pos': '動詞', 'pos1': '自立'}, {'surface': 'なら', 'base': 'なる', 'pos': '動詞', 'pos1': '非自立'}, {'surface': 'ず', 'base': 'ぬ', 'pos': '助動詞', 'pos1': '*'}, {'surface': '顔', 'base': '顔', 'pos': '名詞', 'pos1': '一般'}, {'surface': 'の', 'base': 'の', 'pos': '助詞', 'pos1': '連体化'}, {'surface': '真中', 'base': '真中', 'pos': '名詞', 'pos1': '一般'}, {'surface': 'が', 'base': 'が', 'pos': '助詞', 'pos1': '格助詞'}, {'surface': 'あまりに', 'base': 'あまりに', 'pos': '副詞', 'pos1': '助詞類接続'}, {'surface': '突起', 'base': '突起', 'pos': '名詞', 'pos1': 'サ変接続'}, {'surface': 'し', 'base': 'する', 'pos': '動詞', 'pos1': '自立'}, {'surface': 'て', 'base': 'て', 'pos': '助詞', 'pos1': '接続助詞'}, {'surface': 'いる', 'base': 'いる', 'pos': '動詞', 'pos1': '非自立'}, {'surface': '。', 'base': '。', 'pos': '記号', 'pos1': '句点'}]\n",
            "[{'surface': 'そうして', 'base': 'そうして', 'pos': '接続詞', 'pos1': '*'}, {'surface': 'その', 'base': 'その', 'pos': '連体詞', 'pos1': '*'}, {'surface': '穴', 'base': '穴', 'pos': '名詞', 'pos1': '一般'}, {'surface': 'の', 'base': 'の', 'pos': '助詞', 'pos1': '連体化'}, {'surface': '中', 'base': '中', 'pos': '名詞', 'pos1': '非自立'}, {'surface': 'から', 'base': 'から', 'pos': '助詞', 'pos1': '格助詞'}, {'surface': '時々', 'base': '時々', 'pos': '副詞', 'pos1': '一般'}, {'surface': 'ぷうぷうと', 'base': '*\\n', 'pos': '名詞', 'pos1': '一般'}, {'surface': '煙', 'base': '煙', 'pos': '名詞', 'pos1': '一般'}, {'surface': 'を', 'base': 'を', 'pos': '助詞', 'pos1': '格助詞'}, {'surface': '吹く', 'base': '吹く', 'pos': '動詞', 'pos1': '自立'}, {'surface': '。', 'base': '。', 'pos': '記号', 'pos1': '句点'}]\n",
            "[{'surface': 'どうも', 'base': 'どうも', 'pos': '副詞', 'pos1': '一般'}, {'surface': '咽', 'base': '咽', 'pos': '名詞', 'pos1': '一般'}, {'surface': 'せ', 'base': 'する', 'pos': '動詞', 'pos1': '自立'}, {'surface': 'ぽく', 'base': 'ぽい', 'pos': '形容詞', 'pos1': '接尾'}, {'surface': 'て', 'base': 'て', 'pos': '助詞', 'pos1': '接続助詞'}, {'surface': '実に', 'base': '実に', 'pos': '副詞', 'pos1': '一般'}, {'surface': '弱っ', 'base': '弱る', 'pos': '動詞', 'pos1': '自立'}, {'surface': 'た', 'base': 'た', 'pos': '助動詞', 'pos1': '*'}, {'surface': '。', 'base': '。', 'pos': '記号', 'pos1': '句点'}]\n",
            "[{'surface': 'これ', 'base': 'これ', 'pos': '名詞', 'pos1': '代名詞'}, {'surface': 'が', 'base': 'が', 'pos': '助詞', 'pos1': '格助詞'}, {'surface': '人間', 'base': '人間', 'pos': '名詞', 'pos1': '一般'}, {'surface': 'の', 'base': 'の', 'pos': '助詞', 'pos1': '格助詞'}, {'surface': '飲む', 'base': '飲む', 'pos': '動詞', 'pos1': '自立'}, {'surface': '煙草', 'base': '煙草', 'pos': '名詞', 'pos1': '一般'}, {'surface': 'という', 'base': 'という', 'pos': '助詞', 'pos1': '格助詞'}, {'surface': 'もの', 'base': 'もの', 'pos': '名詞', 'pos1': '非自立'}, {'surface': 'で', 'base': 'だ', 'pos': '助動詞', 'pos1': '*'}, {'surface': 'ある', 'base': 'ある', 'pos': '助動詞', 'pos1': '*'}, {'surface': '事', 'base': '事', 'pos': '名詞', 'pos1': '非自立'}, {'surface': 'は', 'base': 'は', 'pos': '助詞', 'pos1': '係助詞'}, {'surface': 'ようやく', 'base': 'ようやく', 'pos': '副詞', 'pos1': '一般'}, {'surface': 'この', 'base': 'この', 'pos': '連体詞', 'pos1': '*'}, {'surface': '頃', 'base': '頃', 'pos': '名詞', 'pos1': '非自立'}, {'surface': '知っ', 'base': '知る', 'pos': '動詞', 'pos1': '自立'}, {'surface': 'た', 'base': 'た', 'pos': '助動詞', 'pos1': '*'}, {'surface': '。', 'base': '。', 'pos': '記号', 'pos1': '句点'}]\n"
          ],
          "name": "stdout"
        }
      ]
    },
    {
      "cell_type": "markdown",
      "metadata": {
        "id": "ZYbrpPZ02YDF"
      },
      "source": [
        "## 31. 動詞Permalink\r\n",
        "動詞の表層形をすべて抽出せよ．"
      ]
    },
    {
      "cell_type": "code",
      "metadata": {
        "id": "DUCVTm_wbLxm",
        "colab": {
          "base_uri": "https://localhost:8080/"
        },
        "outputId": "45f5fd06-19a3-4c1b-b04b-9272fc36693f"
      },
      "source": [
        "verbs = []\r\n",
        "for sentence in sentences:\r\n",
        "  for word in sentence:\r\n",
        "    if '動詞' == (word['pos']) :\r\n",
        "      verbs.append(word[\"surface\"])\r\n",
        "print(\"重複有りの場合, 動詞の数 = {}\".format(len(verbs)))"
      ],
      "execution_count": null,
      "outputs": [
        {
          "output_type": "stream",
          "text": [
            "重複有りの場合, 動詞の数 = 28905\n"
          ],
          "name": "stdout"
        }
      ]
    },
    {
      "cell_type": "code",
      "metadata": {
        "colab": {
          "base_uri": "https://localhost:8080/"
        },
        "id": "Q66QsKoK1OjC",
        "outputId": "f0448a9b-e9c6-41a9-b5ee-9eeead95ac6c"
      },
      "source": [
        "verbs = list(set(verbs))\r\n",
        "print(\"重複無しの場合, 動詞の数 = {}\".format(len(verbs)))"
      ],
      "execution_count": null,
      "outputs": [
        {
          "output_type": "stream",
          "text": [
            "重複無しの場合, 動詞の数 = 3893\n"
          ],
          "name": "stdout"
        }
      ]
    },
    {
      "cell_type": "markdown",
      "metadata": {
        "id": "zb98LWTX2gyQ"
      },
      "source": [
        "## 32. 動詞の基本形Permalink\r\n",
        "動詞の基本形をすべて抽出せよ．"
      ]
    },
    {
      "cell_type": "code",
      "metadata": {
        "colab": {
          "base_uri": "https://localhost:8080/"
        },
        "id": "9C8bJ24n2jxA",
        "outputId": "dceba02f-969c-4132-ffb3-7e029eb2fcfe"
      },
      "source": [
        "verbs_base = []\r\n",
        "for sentence in sentences:\r\n",
        "  for word in sentence:\r\n",
        "    if '動詞' == (word['pos']) :\r\n",
        "      verbs_base.append(word[\"base\"])\r\n",
        "print(\"重複有りの場合, 動詞の数 = {}\".format(len(verbs_base)))"
      ],
      "execution_count": null,
      "outputs": [
        {
          "output_type": "stream",
          "text": [
            "重複有りの場合, 動詞の数 = 28905\n"
          ],
          "name": "stdout"
        }
      ]
    },
    {
      "cell_type": "code",
      "metadata": {
        "id": "ciZ2rNd12ts1",
        "colab": {
          "base_uri": "https://localhost:8080/"
        },
        "outputId": "9f2f2529-1966-4148-cf5f-435e372c9aeb"
      },
      "source": [
        "verbs_base = list(set(verbs_base))\r\n",
        "print(\"重複無しの場合, 動詞の数 = {}\".format(len(verbs_base)))"
      ],
      "execution_count": 42,
      "outputs": [
        {
          "output_type": "stream",
          "text": [
            "重複無しの場合, 動詞の数 = 2300\n"
          ],
          "name": "stdout"
        }
      ]
    },
    {
      "cell_type": "code",
      "metadata": {
        "id": "1RqaLHbx2yS0"
      },
      "source": [
        ""
      ],
      "execution_count": null,
      "outputs": []
    }
  ]
}