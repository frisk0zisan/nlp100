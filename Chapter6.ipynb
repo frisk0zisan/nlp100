{
  "nbformat": 4,
  "nbformat_minor": 0,
  "metadata": {
    "colab": {
      "name": "Chapter6",
      "provenance": [],
      "collapsed_sections": [],
      "authorship_tag": "ABX9TyN8/CBJvQKoJl0R7CJQTJfB",
      "include_colab_link": true
    },
    "kernelspec": {
      "name": "python3",
      "display_name": "Python 3"
    }
  },
  "cells": [
    {
      "cell_type": "markdown",
      "metadata": {
        "id": "view-in-github",
        "colab_type": "text"
      },
      "source": [
        "<a href=\"https://colab.research.google.com/github/frisk0zisan/nlp100/blob/main/Chapter6.ipynb\" target=\"_parent\"><img src=\"https://colab.research.google.com/assets/colab-badge.svg\" alt=\"Open In Colab\"/></a>"
      ]
    },
    {
      "cell_type": "markdown",
      "metadata": {
        "id": "L_PkjDeDt2Hs"
      },
      "source": [
        "# 6章 機械学習  \n",
        "本章では，Fabio Gasparetti氏が公開しているNews Aggregator Data Setを用い，ニュース記事の見出しを「ビジネス」「科学技術」「エンターテイメント」「健康」のカテゴリに分類するタスク（カテゴリ分類）に取り組む．"
      ]
    },
    {
      "cell_type": "markdown",
      "metadata": {
        "id": "xV-h7VC0uA2o"
      },
      "source": [
        "## 50. データの入手・整形\n",
        "[News Aggregator Data Set](https://archive.ics.uci.edu/ml/datasets/News+Aggregator)をダウンロードし、以下の要領で学習データ（train.txt），検証データ（valid.txt），評価データ（test.txt）を作成せよ．  \n",
        "\n",
        " 1. ダウンロードしたzipファイルを解凍し，readme.txtの説明を読む．\n",
        " 2. 情報源（publisher）が”Reuters”, “Huffington Post”, “Businessweek”, “Contactmusic.com”, “Daily Mail”の事例（記事）のみを抽出する．\n",
        " 3. 抽出された事例をランダムに並び替える．\n",
        " 4. 抽出された事例の80%を学習データ，残りの10%ずつを検証データと評価データに分割し，それぞれtrain.txt，valid.txt，test.txtというファイル名で保存する．ファイルには，１行に１事例を書き出すこととし，カテゴリ名と記事見出しのタブ区切り形式とせよ（このファイルは後に問題70で再利用する）．  \n",
        "\n",
        "学習データと評価データを作成したら，各カテゴリの事例数を確認せよ．"
      ]
    },
    {
      "cell_type": "markdown",
      "metadata": {
        "id": "UZymF52vuieO"
      },
      "source": [
        "問題50のデータ整形において以下サイトを参考にし、写経した。  \n",
        "[【言語処理100本ノック 2020】第6章: 機械学習](https://qiita.com/yamaru/items/374e6e2c045387f4d3b4)"
      ]
    },
    {
      "cell_type": "code",
      "metadata": {
        "colab": {
          "base_uri": "https://localhost:8080/"
        },
        "id": "3vALAQC_igmg",
        "outputId": "dc306676-59a4-40e0-98ec-d00ed96295b2"
      },
      "source": [
        "!wget https://archive.ics.uci.edu/ml/machine-learning-databases/00359/NewsAggregatorDataset.zip"
      ],
      "execution_count": 1,
      "outputs": [
        {
          "output_type": "stream",
          "text": [
            "--2021-01-29 00:32:48--  https://archive.ics.uci.edu/ml/machine-learning-databases/00359/NewsAggregatorDataset.zip\n",
            "Resolving archive.ics.uci.edu (archive.ics.uci.edu)... 128.195.10.252\n",
            "Connecting to archive.ics.uci.edu (archive.ics.uci.edu)|128.195.10.252|:443... connected.\n",
            "HTTP request sent, awaiting response... 200 OK\n",
            "Length: 29224203 (28M) [application/x-httpd-php]\n",
            "Saving to: ‘NewsAggregatorDataset.zip’\n",
            "\n",
            "NewsAggregatorDatas 100%[===================>]  27.87M  13.2MB/s    in 2.1s    \n",
            "\n",
            "2021-01-29 00:32:50 (13.2 MB/s) - ‘NewsAggregatorDataset.zip’ saved [29224203/29224203]\n",
            "\n"
          ],
          "name": "stdout"
        }
      ]
    },
    {
      "cell_type": "code",
      "metadata": {
        "colab": {
          "base_uri": "https://localhost:8080/"
        },
        "id": "c_MmlAVqsQoB",
        "outputId": "ca3dab44-f8b5-4351-a989-41fe2aa0098a"
      },
      "source": [
        "!unzip \"NewsAggregatorDataset.zip\""
      ],
      "execution_count": 2,
      "outputs": [
        {
          "output_type": "stream",
          "text": [
            "Archive:  NewsAggregatorDataset.zip\n",
            "  inflating: 2pageSessions.csv       \n",
            "   creating: __MACOSX/\n",
            "  inflating: __MACOSX/._2pageSessions.csv  \n",
            "  inflating: newsCorpora.csv         \n",
            "  inflating: __MACOSX/._newsCorpora.csv  \n",
            "  inflating: readme.txt              \n",
            "  inflating: __MACOSX/._readme.txt   \n"
          ],
          "name": "stdout"
        }
      ]
    },
    {
      "cell_type": "code",
      "metadata": {
        "colab": {
          "base_uri": "https://localhost:8080/"
        },
        "id": "5pPPtRJxsIKz",
        "outputId": "829cd98d-d02b-4a48-f45e-d54a8720d5fb"
      },
      "source": [
        "!wc -l ./newsCorpora.csv"
      ],
      "execution_count": 4,
      "outputs": [
        {
          "output_type": "stream",
          "text": [
            "422937 ./newsCorpora.csv\n"
          ],
          "name": "stdout"
        }
      ]
    },
    {
      "cell_type": "code",
      "metadata": {
        "colab": {
          "base_uri": "https://localhost:8080/"
        },
        "id": "X3Kn3unltXh6",
        "outputId": "870a5233-fb33-4d8e-9342-676bdbc16dac"
      },
      "source": [
        "!head -10 ./newsCorpora.csv "
      ],
      "execution_count": 5,
      "outputs": [
        {
          "output_type": "stream",
          "text": [
            "1\tFed official says weak data caused by weather, should not slow taper\thttp://www.latimes.com/business/money/la-fi-mo-federal-reserve-plosser-stimulus-economy-20140310,0,1312750.story\\?track=rss\tLos Angeles Times\tb\tddUyU0VZz0BRneMioxUPQVP6sIxvM\twww.latimes.com\t1394470370698\n",
            "2\tFed's Charles Plosser sees high bar for change in pace of tapering\thttp://www.livemint.com/Politics/H2EvwJSK2VE6OF7iK1g3PP/Feds-Charles-Plosser-sees-high-bar-for-change-in-pace-of-ta.html\tLivemint\tb\tddUyU0VZz0BRneMioxUPQVP6sIxvM\twww.livemint.com\t1394470371207\n",
            "3\tUS open: Stocks fall after Fed official hints at accelerated tapering\thttp://www.ifamagazine.com/news/us-open-stocks-fall-after-fed-official-hints-at-accelerated-tapering-294436\tIFA Magazine\tb\tddUyU0VZz0BRneMioxUPQVP6sIxvM\twww.ifamagazine.com\t1394470371550\n",
            "4\tFed risks falling 'behind the curve', Charles Plosser says\thttp://www.ifamagazine.com/news/fed-risks-falling-behind-the-curve-charles-plosser-says-294430\tIFA Magazine\tb\tddUyU0VZz0BRneMioxUPQVP6sIxvM\twww.ifamagazine.com\t1394470371793\n",
            "5\tFed's Plosser: Nasty Weather Has Curbed Job Growth\thttp://www.moneynews.com/Economy/federal-reserve-charles-plosser-weather-job-growth/2014/03/10/id/557011\tMoneynews\tb\tddUyU0VZz0BRneMioxUPQVP6sIxvM\twww.moneynews.com\t1394470372027\n",
            "6\tPlosser: Fed May Have to Accelerate Tapering Pace\thttp://www.nasdaq.com/article/plosser-fed-may-have-to-accelerate-tapering-pace-20140310-00371\tNASDAQ\tb\tddUyU0VZz0BRneMioxUPQVP6sIxvM\twww.nasdaq.com\t1394470372212\n",
            "7\tFed's Plosser: Taper pace may be too slow\thttp://www.marketwatch.com/story/feds-plosser-taper-pace-may-be-too-slow-2014-03-10\\?reflink=MW_news_stmp\tMarketWatch\tb\tddUyU0VZz0BRneMioxUPQVP6sIxvM\twww.marketwatch.com\t1394470372405\n",
            "8\tFed's Plosser expects US unemployment to fall to 6.2% by the end of 2014\thttp://www.fxstreet.com/news/forex-news/article.aspx\\?storyid=23285020-b1b5-47ed-a8c4-96124bb91a39\tFXstreet.com\tb\tddUyU0VZz0BRneMioxUPQVP6sIxvM\twww.fxstreet.com\t1394470372615\n",
            "9\tUS jobs growth last month hit by weather:Fed President Charles Plosser\thttp://economictimes.indiatimes.com/news/international/business/us-jobs-growth-last-month-hit-by-weatherfed-president-charles-plosser/articleshow/31788000.cms\tEconomic Times\tb\tddUyU0VZz0BRneMioxUPQVP6sIxvM\teconomictimes.indiatimes.com\t1394470372792\n",
            "10\tECB unlikely to end sterilisation of SMP purchases - traders\thttp://www.iii.co.uk/news-opinion/reuters/news/152615\tInteractive Investor\tb\tdPhGU51DcrolUIMxbRm0InaHGA2XM\twww.iii.co.uk\t1394470501265\n"
          ],
          "name": "stdout"
        }
      ]
    },
    {
      "cell_type": "code",
      "metadata": {
        "id": "FM-7iCALtipR"
      },
      "source": [
        "# 読込時のエラー回避のためダブルクォーテーションをシングルクォーテーションに置換\n",
        "!sed -e 's/\"/'\\''/g' ./newsCorpora.csv > ./newsCorpora_re.csv"
      ],
      "execution_count": 6,
      "outputs": []
    },
    {
      "cell_type": "code",
      "metadata": {
        "id": "p1cytCd5tuoJ"
      },
      "source": [
        "import pandas as pd\n",
        "from sklearn.model_selection import train_test_split\n",
        "\n",
        "## データ読み込み\n",
        "df = pd.read_csv('./newsCorpora_re.csv', header=None, sep='\\t', names=['ID', 'TITLE', 'URL', 'PUBLISHER', 'CATEGORY', 'STORY', 'HOSTNAME', 'TIMESTAMP'])\n",
        "\n",
        "## データ抽出\n",
        "df = df.loc[df['PUBLISHER'].isin(['Reuters', 'Huffington Post', 'Businessweek', 'Contactmusic.com', 'Daily Mail']),['TITLE', 'CATEGORY']]\n",
        "\n",
        "## データ分割\n",
        "train, valid_test = train_test_split(df, test_size=0.2, shuffle=True, random_state=123, stratify=df['CATEGORY'])\n",
        "valid, test = train_test_split(valid_test, test_size=0.5, shuffle=True, random_state=123, stratify=valid_test['CATEGORY'])\n",
        "\n",
        "## データ保存\n",
        "train.to_csv('./train.txt', sep='\\t', index=False)\n",
        "valid.to_csv('./valid.txt', sep='\\t', index=False)\n",
        "test.to_csv('./test.txt', sep='\\t', index=False )"
      ],
      "execution_count": 7,
      "outputs": []
    },
    {
      "cell_type": "code",
      "metadata": {
        "colab": {
          "base_uri": "https://localhost:8080/"
        },
        "id": "y-IZWRsAEcv4",
        "outputId": "0cbdeae0-c448-4d76-dab2-7aedb2a05332"
      },
      "source": [
        "## 事例数の確認\r\n",
        "print(\"カテゴリ:(b = business, t = science and technology, e = entertainment, m = health)\")\r\n",
        "print('---学習データ---')\r\n",
        "print(train['CATEGORY'].value_counts())\r\n",
        "print('---検証データ---')\r\n",
        "print(valid['CATEGORY'].value_counts())\r\n",
        "print('---評価データ---')\r\n",
        "print(test['CATEGORY'].value_counts())"
      ],
      "execution_count": 8,
      "outputs": [
        {
          "output_type": "stream",
          "text": [
            "カテゴリ:(b = business, t = science and technology, e = entertainment, m = health)\n",
            "---学習データ---\n",
            "b    4501\n",
            "e    4235\n",
            "t    1220\n",
            "m     728\n",
            "Name: CATEGORY, dtype: int64\n",
            "---検証データ---\n",
            "b    563\n",
            "e    529\n",
            "t    153\n",
            "m     91\n",
            "Name: CATEGORY, dtype: int64\n",
            "---評価データ---\n",
            "b    563\n",
            "e    530\n",
            "t    152\n",
            "m     91\n",
            "Name: CATEGORY, dtype: int64\n"
          ],
          "name": "stdout"
        }
      ]
    },
    {
      "cell_type": "code",
      "metadata": {
        "id": "n-GQSJ-mQqEf"
      },
      "source": [
        "df = pd.concat([train, valid, test], axis=0)\n",
        "df.reset_index(drop=True, inplace=True)"
      ],
      "execution_count": 9,
      "outputs": []
    },
    {
      "cell_type": "code",
      "metadata": {
        "colab": {
          "base_uri": "https://localhost:8080/",
          "height": 419
        },
        "id": "Bqvb57RRRXF4",
        "outputId": "e0911920-1990-4db9-b7cd-ac344b423e5e"
      },
      "source": [
        "df"
      ],
      "execution_count": 10,
      "outputs": [
        {
          "output_type": "execute_result",
          "data": {
            "text/html": [
              "<div>\n",
              "<style scoped>\n",
              "    .dataframe tbody tr th:only-of-type {\n",
              "        vertical-align: middle;\n",
              "    }\n",
              "\n",
              "    .dataframe tbody tr th {\n",
              "        vertical-align: top;\n",
              "    }\n",
              "\n",
              "    .dataframe thead th {\n",
              "        text-align: right;\n",
              "    }\n",
              "</style>\n",
              "<table border=\"1\" class=\"dataframe\">\n",
              "  <thead>\n",
              "    <tr style=\"text-align: right;\">\n",
              "      <th></th>\n",
              "      <th>TITLE</th>\n",
              "      <th>CATEGORY</th>\n",
              "    </tr>\n",
              "  </thead>\n",
              "  <tbody>\n",
              "    <tr>\n",
              "      <th>0</th>\n",
              "      <td>REFILE-UPDATE 1-European car sales up for sixt...</td>\n",
              "      <td>b</td>\n",
              "    </tr>\n",
              "    <tr>\n",
              "      <th>1</th>\n",
              "      <td>Amazon Plans to Fight FTC Over Mobile-App Purc...</td>\n",
              "      <td>t</td>\n",
              "    </tr>\n",
              "    <tr>\n",
              "      <th>2</th>\n",
              "      <td>Kids Still Get Codeine In Emergency Rooms Desp...</td>\n",
              "      <td>m</td>\n",
              "    </tr>\n",
              "    <tr>\n",
              "      <th>3</th>\n",
              "      <td>What On Earth Happened Between Solange And Jay...</td>\n",
              "      <td>e</td>\n",
              "    </tr>\n",
              "    <tr>\n",
              "      <th>4</th>\n",
              "      <td>NATO Missile Defense Is Flight Tested Over Hawaii</td>\n",
              "      <td>b</td>\n",
              "    </tr>\n",
              "    <tr>\n",
              "      <th>...</th>\n",
              "      <td>...</td>\n",
              "      <td>...</td>\n",
              "    </tr>\n",
              "    <tr>\n",
              "      <th>13351</th>\n",
              "      <td>UPDATE 1-Ousted American Apparel CEO Charney r...</td>\n",
              "      <td>b</td>\n",
              "    </tr>\n",
              "    <tr>\n",
              "      <th>13352</th>\n",
              "      <td>Is 'How I Met Your Mother' The Best Ensemble C...</td>\n",
              "      <td>e</td>\n",
              "    </tr>\n",
              "    <tr>\n",
              "      <th>13353</th>\n",
              "      <td>Miley Cyrus Resumes 'Bangerz' Tour At London's...</td>\n",
              "      <td>e</td>\n",
              "    </tr>\n",
              "    <tr>\n",
              "      <th>13354</th>\n",
              "      <td>'Game of Thrones' draws 7.1 mln viewers for bl...</td>\n",
              "      <td>e</td>\n",
              "    </tr>\n",
              "    <tr>\n",
              "      <th>13355</th>\n",
              "      <td>Nasa and Boeing sign $2.8bn deal to build rock...</td>\n",
              "      <td>t</td>\n",
              "    </tr>\n",
              "  </tbody>\n",
              "</table>\n",
              "<p>13356 rows × 2 columns</p>\n",
              "</div>"
            ],
            "text/plain": [
              "                                                   TITLE CATEGORY\n",
              "0      REFILE-UPDATE 1-European car sales up for sixt...        b\n",
              "1      Amazon Plans to Fight FTC Over Mobile-App Purc...        t\n",
              "2      Kids Still Get Codeine In Emergency Rooms Desp...        m\n",
              "3      What On Earth Happened Between Solange And Jay...        e\n",
              "4      NATO Missile Defense Is Flight Tested Over Hawaii        b\n",
              "...                                                  ...      ...\n",
              "13351  UPDATE 1-Ousted American Apparel CEO Charney r...        b\n",
              "13352  Is 'How I Met Your Mother' The Best Ensemble C...        e\n",
              "13353  Miley Cyrus Resumes 'Bangerz' Tour At London's...        e\n",
              "13354  'Game of Thrones' draws 7.1 mln viewers for bl...        e\n",
              "13355  Nasa and Boeing sign $2.8bn deal to build rock...        t\n",
              "\n",
              "[13356 rows x 2 columns]"
            ]
          },
          "metadata": {
            "tags": []
          },
          "execution_count": 10
        }
      ]
    },
    {
      "cell_type": "markdown",
      "metadata": {
        "id": "u8gDrl6YHpZP"
      },
      "source": [
        "## 51. 特徴量抽出\n",
        "\n",
        "学習データ，検証データ，評価データから特徴量を抽出し，それぞれtrain.feature.txt，valid.feature.txt，test.feature.txtというファイル名で保存せよ． なお，カテゴリ分類に有用そうな特徴量は各自で自由に設計せよ．記事の見出しを単語列に変換したものが最低限のベースラインとなるであろう"
      ]
    },
    {
      "cell_type": "markdown",
      "metadata": {
        "id": "KrruHiUvIM3S"
      },
      "source": [
        "記事のタイトルの特徴量を抽出する"
      ]
    },
    {
      "cell_type": "markdown",
      "metadata": {
        "id": "ogpSNJ26BrKg"
      },
      "source": [
        "テキスト前処理をしておく\n",
        "- 記号をスペースに変換\n",
        "- アルファベットを小文字にする\n",
        "- 数字を0に置換\n"
      ]
    },
    {
      "cell_type": "code",
      "metadata": {
        "colab": {
          "base_uri": "https://localhost:8080/"
        },
        "id": "5Qs37SC0E7cS",
        "outputId": "461c1820-13ba-44e2-f408-4f3c11ba8690"
      },
      "source": [
        "import string\n",
        "print(string.punctuation)"
      ],
      "execution_count": 11,
      "outputs": [
        {
          "output_type": "stream",
          "text": [
            "!\"#$%&'()*+,-./:;<=>?@[\\]^_`{|}~\n"
          ],
          "name": "stdout"
        }
      ]
    },
    {
      "cell_type": "code",
      "metadata": {
        "id": "THPGMrCSytmM"
      },
      "source": [
        "import string\n",
        "import re\n",
        "\n",
        "## 事前処理関数\n",
        "def pre(text):\n",
        "  table = str.maketrans(string.punctuation, ' '*len(string.punctuation))\n",
        "  text = text.translate(table)\n",
        "  text = text.lower()\n",
        "  text = re.sub('[0-9]+', '0', text)\n",
        "  return text"
      ],
      "execution_count": 12,
      "outputs": []
    },
    {
      "cell_type": "code",
      "metadata": {
        "id": "bft3iYJqFEeU"
      },
      "source": [
        "## 事前処理\n",
        "df['TITLE'] =df['TITLE'].map(lambda x : pre(x))"
      ],
      "execution_count": 13,
      "outputs": []
    },
    {
      "cell_type": "code",
      "metadata": {
        "colab": {
          "base_uri": "https://localhost:8080/",
          "height": 204
        },
        "id": "EbHPYXLmGHHp",
        "outputId": "6910b64e-c560-4636-d8ad-d082995f7bec"
      },
      "source": [
        "df.head()"
      ],
      "execution_count": 14,
      "outputs": [
        {
          "output_type": "execute_result",
          "data": {
            "text/html": [
              "<div>\n",
              "<style scoped>\n",
              "    .dataframe tbody tr th:only-of-type {\n",
              "        vertical-align: middle;\n",
              "    }\n",
              "\n",
              "    .dataframe tbody tr th {\n",
              "        vertical-align: top;\n",
              "    }\n",
              "\n",
              "    .dataframe thead th {\n",
              "        text-align: right;\n",
              "    }\n",
              "</style>\n",
              "<table border=\"1\" class=\"dataframe\">\n",
              "  <thead>\n",
              "    <tr style=\"text-align: right;\">\n",
              "      <th></th>\n",
              "      <th>TITLE</th>\n",
              "      <th>CATEGORY</th>\n",
              "    </tr>\n",
              "  </thead>\n",
              "  <tbody>\n",
              "    <tr>\n",
              "      <th>0</th>\n",
              "      <td>refile update 0 european car sales up for sixt...</td>\n",
              "      <td>b</td>\n",
              "    </tr>\n",
              "    <tr>\n",
              "      <th>1</th>\n",
              "      <td>amazon plans to fight ftc over mobile app purc...</td>\n",
              "      <td>t</td>\n",
              "    </tr>\n",
              "    <tr>\n",
              "      <th>2</th>\n",
              "      <td>kids still get codeine in emergency rooms desp...</td>\n",
              "      <td>m</td>\n",
              "    </tr>\n",
              "    <tr>\n",
              "      <th>3</th>\n",
              "      <td>what on earth happened between solange and jay...</td>\n",
              "      <td>e</td>\n",
              "    </tr>\n",
              "    <tr>\n",
              "      <th>4</th>\n",
              "      <td>nato missile defense is flight tested over hawaii</td>\n",
              "      <td>b</td>\n",
              "    </tr>\n",
              "  </tbody>\n",
              "</table>\n",
              "</div>"
            ],
            "text/plain": [
              "                                               TITLE CATEGORY\n",
              "0  refile update 0 european car sales up for sixt...        b\n",
              "1  amazon plans to fight ftc over mobile app purc...        t\n",
              "2  kids still get codeine in emergency rooms desp...        m\n",
              "3  what on earth happened between solange and jay...        e\n",
              "4  nato missile defense is flight tested over hawaii        b"
            ]
          },
          "metadata": {
            "tags": []
          },
          "execution_count": 14
        }
      ]
    },
    {
      "cell_type": "code",
      "metadata": {
        "id": "eAM59aPJG79B"
      },
      "source": [
        "from sklearn.feature_extraction.text import TfidfVectorizer\n",
        "\n",
        "## データ分割\n",
        "train_valid = df[:len(train)+len(valid)]\n",
        "test = df[len(train)+len(valid):]\n",
        "\n",
        "## TF-IDF vectorizer\n",
        "vectorizer = TfidfVectorizer(min_df=10) #単語頻度が10以下なら排除\n",
        "\n",
        "## TF-IDF ベクトル化\n",
        "X_train_valid = vectorizer.fit_transform(train_valid['TITLE']) \n",
        "X_test = vectorizer.transform(test['TITLE'])\n",
        "\n",
        "##　ベクトル→ndarray→データフレーム\n",
        "X_train_valid = pd.DataFrame(X_train_valid.toarray(), columns=vectorizer.get_feature_names())\n",
        "X_test = pd.DataFrame(X_test.toarray(), columns=vectorizer.get_feature_names())\n",
        "\n",
        "\n",
        "X_train = X_train_valid[:len(train)]\n",
        "X_valid = X_train_valid[len(train):]\n",
        "\n",
        "## データ保存\n",
        "X_train.to_csv('./X_train.txt', sep='\\t', index=False)\n",
        "X_valid.to_csv('./X_valid.txt', sep='\\t', index=False)\n",
        "X_test.to_csv('./X_test.txt', sep='\\t', index=False)\n"
      ],
      "execution_count": 15,
      "outputs": []
    },
    {
      "cell_type": "code",
      "metadata": {
        "colab": {
          "base_uri": "https://localhost:8080/",
          "height": 253
        },
        "id": "kBYvyKU-b1Ck",
        "outputId": "50772c10-4a36-4d69-feab-4b5efc7c5697"
      },
      "source": [
        "X_train.head()"
      ],
      "execution_count": null,
      "outputs": [
        {
          "output_type": "execute_result",
          "data": {
            "text/html": [
              "<div>\n",
              "<style scoped>\n",
              "    .dataframe tbody tr th:only-of-type {\n",
              "        vertical-align: middle;\n",
              "    }\n",
              "\n",
              "    .dataframe tbody tr th {\n",
              "        vertical-align: top;\n",
              "    }\n",
              "\n",
              "    .dataframe thead th {\n",
              "        text-align: right;\n",
              "    }\n",
              "</style>\n",
              "<table border=\"1\" class=\"dataframe\">\n",
              "  <thead>\n",
              "    <tr style=\"text-align: right;\">\n",
              "      <th></th>\n",
              "      <th>0m</th>\n",
              "      <th>0million</th>\n",
              "      <th>0nd</th>\n",
              "      <th>0s</th>\n",
              "      <th>0st</th>\n",
              "      <th>0th</th>\n",
              "      <th>aa</th>\n",
              "      <th>aaliyah</th>\n",
              "      <th>abbvie</th>\n",
              "      <th>abc</th>\n",
              "      <th>about</th>\n",
              "      <th>above</th>\n",
              "      <th>abramson</th>\n",
              "      <th>abuse</th>\n",
              "      <th>ac</th>\n",
              "      <th>accelerates</th>\n",
              "      <th>access</th>\n",
              "      <th>accident</th>\n",
              "      <th>account</th>\n",
              "      <th>accused</th>\n",
              "      <th>accuses</th>\n",
              "      <th>ackman</th>\n",
              "      <th>acquire</th>\n",
              "      <th>across</th>\n",
              "      <th>act</th>\n",
              "      <th>acting</th>\n",
              "      <th>action</th>\n",
              "      <th>activists</th>\n",
              "      <th>actor</th>\n",
              "      <th>actress</th>\n",
              "      <th>actually</th>\n",
              "      <th>ad</th>\n",
              "      <th>adam</th>\n",
              "      <th>adds</th>\n",
              "      <th>admits</th>\n",
              "      <th>ads</th>\n",
              "      <th>advance</th>\n",
              "      <th>advances</th>\n",
              "      <th>advice</th>\n",
              "      <th>aereo</th>\n",
              "      <th>...</th>\n",
              "      <th>without</th>\n",
              "      <th>woes</th>\n",
              "      <th>woman</th>\n",
              "      <th>women</th>\n",
              "      <th>won</th>\n",
              "      <th>woodley</th>\n",
              "      <th>words</th>\n",
              "      <th>work</th>\n",
              "      <th>worker</th>\n",
              "      <th>workers</th>\n",
              "      <th>working</th>\n",
              "      <th>works</th>\n",
              "      <th>world</th>\n",
              "      <th>worries</th>\n",
              "      <th>worst</th>\n",
              "      <th>worth</th>\n",
              "      <th>would</th>\n",
              "      <th>wrapup</th>\n",
              "      <th>wren</th>\n",
              "      <th>wrong</th>\n",
              "      <th>wsj</th>\n",
              "      <th>wti</th>\n",
              "      <th>xbox</th>\n",
              "      <th>yahoo</th>\n",
              "      <th>year</th>\n",
              "      <th>years</th>\n",
              "      <th>yellen</th>\n",
              "      <th>yen</th>\n",
              "      <th>yet</th>\n",
              "      <th>yield</th>\n",
              "      <th>yields</th>\n",
              "      <th>york</th>\n",
              "      <th>you</th>\n",
              "      <th>young</th>\n",
              "      <th>your</th>\n",
              "      <th>yr</th>\n",
              "      <th>yuan</th>\n",
              "      <th>zac</th>\n",
              "      <th>zendaya</th>\n",
              "      <th>zone</th>\n",
              "    </tr>\n",
              "  </thead>\n",
              "  <tbody>\n",
              "    <tr>\n",
              "      <th>0</th>\n",
              "      <td>0.0</td>\n",
              "      <td>0.0</td>\n",
              "      <td>0.0</td>\n",
              "      <td>0.0</td>\n",
              "      <td>0.0</td>\n",
              "      <td>0.0</td>\n",
              "      <td>0.0</td>\n",
              "      <td>0.0</td>\n",
              "      <td>0.0</td>\n",
              "      <td>0.0</td>\n",
              "      <td>0.0</td>\n",
              "      <td>0.0</td>\n",
              "      <td>0.0</td>\n",
              "      <td>0.0</td>\n",
              "      <td>0.0</td>\n",
              "      <td>0.0</td>\n",
              "      <td>0.0</td>\n",
              "      <td>0.0</td>\n",
              "      <td>0.0</td>\n",
              "      <td>0.0</td>\n",
              "      <td>0.0</td>\n",
              "      <td>0.0</td>\n",
              "      <td>0.0</td>\n",
              "      <td>0.0</td>\n",
              "      <td>0.0</td>\n",
              "      <td>0.0</td>\n",
              "      <td>0.0</td>\n",
              "      <td>0.0</td>\n",
              "      <td>0.0</td>\n",
              "      <td>0.0</td>\n",
              "      <td>0.0</td>\n",
              "      <td>0.0</td>\n",
              "      <td>0.0</td>\n",
              "      <td>0.0</td>\n",
              "      <td>0.0</td>\n",
              "      <td>0.0</td>\n",
              "      <td>0.0</td>\n",
              "      <td>0.0</td>\n",
              "      <td>0.0</td>\n",
              "      <td>0.0</td>\n",
              "      <td>...</td>\n",
              "      <td>0.0</td>\n",
              "      <td>0.0</td>\n",
              "      <td>0.0</td>\n",
              "      <td>0.0</td>\n",
              "      <td>0.0</td>\n",
              "      <td>0.0</td>\n",
              "      <td>0.0</td>\n",
              "      <td>0.0</td>\n",
              "      <td>0.0</td>\n",
              "      <td>0.0</td>\n",
              "      <td>0.0</td>\n",
              "      <td>0.0</td>\n",
              "      <td>0.0</td>\n",
              "      <td>0.0</td>\n",
              "      <td>0.0</td>\n",
              "      <td>0.0</td>\n",
              "      <td>0.0</td>\n",
              "      <td>0.0</td>\n",
              "      <td>0.0</td>\n",
              "      <td>0.0</td>\n",
              "      <td>0.0</td>\n",
              "      <td>0.0</td>\n",
              "      <td>0.0</td>\n",
              "      <td>0.0</td>\n",
              "      <td>0.0</td>\n",
              "      <td>0.0</td>\n",
              "      <td>0.0</td>\n",
              "      <td>0.0</td>\n",
              "      <td>0.0</td>\n",
              "      <td>0.0</td>\n",
              "      <td>0.0</td>\n",
              "      <td>0.0</td>\n",
              "      <td>0.0</td>\n",
              "      <td>0.0</td>\n",
              "      <td>0.0</td>\n",
              "      <td>0.0</td>\n",
              "      <td>0.0</td>\n",
              "      <td>0.0</td>\n",
              "      <td>0.0</td>\n",
              "      <td>0.0</td>\n",
              "    </tr>\n",
              "    <tr>\n",
              "      <th>1</th>\n",
              "      <td>0.0</td>\n",
              "      <td>0.0</td>\n",
              "      <td>0.0</td>\n",
              "      <td>0.0</td>\n",
              "      <td>0.0</td>\n",
              "      <td>0.0</td>\n",
              "      <td>0.0</td>\n",
              "      <td>0.0</td>\n",
              "      <td>0.0</td>\n",
              "      <td>0.0</td>\n",
              "      <td>0.0</td>\n",
              "      <td>0.0</td>\n",
              "      <td>0.0</td>\n",
              "      <td>0.0</td>\n",
              "      <td>0.0</td>\n",
              "      <td>0.0</td>\n",
              "      <td>0.0</td>\n",
              "      <td>0.0</td>\n",
              "      <td>0.0</td>\n",
              "      <td>0.0</td>\n",
              "      <td>0.0</td>\n",
              "      <td>0.0</td>\n",
              "      <td>0.0</td>\n",
              "      <td>0.0</td>\n",
              "      <td>0.0</td>\n",
              "      <td>0.0</td>\n",
              "      <td>0.0</td>\n",
              "      <td>0.0</td>\n",
              "      <td>0.0</td>\n",
              "      <td>0.0</td>\n",
              "      <td>0.0</td>\n",
              "      <td>0.0</td>\n",
              "      <td>0.0</td>\n",
              "      <td>0.0</td>\n",
              "      <td>0.0</td>\n",
              "      <td>0.0</td>\n",
              "      <td>0.0</td>\n",
              "      <td>0.0</td>\n",
              "      <td>0.0</td>\n",
              "      <td>0.0</td>\n",
              "      <td>...</td>\n",
              "      <td>0.0</td>\n",
              "      <td>0.0</td>\n",
              "      <td>0.0</td>\n",
              "      <td>0.0</td>\n",
              "      <td>0.0</td>\n",
              "      <td>0.0</td>\n",
              "      <td>0.0</td>\n",
              "      <td>0.0</td>\n",
              "      <td>0.0</td>\n",
              "      <td>0.0</td>\n",
              "      <td>0.0</td>\n",
              "      <td>0.0</td>\n",
              "      <td>0.0</td>\n",
              "      <td>0.0</td>\n",
              "      <td>0.0</td>\n",
              "      <td>0.0</td>\n",
              "      <td>0.0</td>\n",
              "      <td>0.0</td>\n",
              "      <td>0.0</td>\n",
              "      <td>0.0</td>\n",
              "      <td>0.0</td>\n",
              "      <td>0.0</td>\n",
              "      <td>0.0</td>\n",
              "      <td>0.0</td>\n",
              "      <td>0.0</td>\n",
              "      <td>0.0</td>\n",
              "      <td>0.0</td>\n",
              "      <td>0.0</td>\n",
              "      <td>0.0</td>\n",
              "      <td>0.0</td>\n",
              "      <td>0.0</td>\n",
              "      <td>0.0</td>\n",
              "      <td>0.0</td>\n",
              "      <td>0.0</td>\n",
              "      <td>0.0</td>\n",
              "      <td>0.0</td>\n",
              "      <td>0.0</td>\n",
              "      <td>0.0</td>\n",
              "      <td>0.0</td>\n",
              "      <td>0.0</td>\n",
              "    </tr>\n",
              "    <tr>\n",
              "      <th>2</th>\n",
              "      <td>0.0</td>\n",
              "      <td>0.0</td>\n",
              "      <td>0.0</td>\n",
              "      <td>0.0</td>\n",
              "      <td>0.0</td>\n",
              "      <td>0.0</td>\n",
              "      <td>0.0</td>\n",
              "      <td>0.0</td>\n",
              "      <td>0.0</td>\n",
              "      <td>0.0</td>\n",
              "      <td>0.0</td>\n",
              "      <td>0.0</td>\n",
              "      <td>0.0</td>\n",
              "      <td>0.0</td>\n",
              "      <td>0.0</td>\n",
              "      <td>0.0</td>\n",
              "      <td>0.0</td>\n",
              "      <td>0.0</td>\n",
              "      <td>0.0</td>\n",
              "      <td>0.0</td>\n",
              "      <td>0.0</td>\n",
              "      <td>0.0</td>\n",
              "      <td>0.0</td>\n",
              "      <td>0.0</td>\n",
              "      <td>0.0</td>\n",
              "      <td>0.0</td>\n",
              "      <td>0.0</td>\n",
              "      <td>0.0</td>\n",
              "      <td>0.0</td>\n",
              "      <td>0.0</td>\n",
              "      <td>0.0</td>\n",
              "      <td>0.0</td>\n",
              "      <td>0.0</td>\n",
              "      <td>0.0</td>\n",
              "      <td>0.0</td>\n",
              "      <td>0.0</td>\n",
              "      <td>0.0</td>\n",
              "      <td>0.0</td>\n",
              "      <td>0.0</td>\n",
              "      <td>0.0</td>\n",
              "      <td>...</td>\n",
              "      <td>0.0</td>\n",
              "      <td>0.0</td>\n",
              "      <td>0.0</td>\n",
              "      <td>0.0</td>\n",
              "      <td>0.0</td>\n",
              "      <td>0.0</td>\n",
              "      <td>0.0</td>\n",
              "      <td>0.0</td>\n",
              "      <td>0.0</td>\n",
              "      <td>0.0</td>\n",
              "      <td>0.0</td>\n",
              "      <td>0.0</td>\n",
              "      <td>0.0</td>\n",
              "      <td>0.0</td>\n",
              "      <td>0.0</td>\n",
              "      <td>0.0</td>\n",
              "      <td>0.0</td>\n",
              "      <td>0.0</td>\n",
              "      <td>0.0</td>\n",
              "      <td>0.0</td>\n",
              "      <td>0.0</td>\n",
              "      <td>0.0</td>\n",
              "      <td>0.0</td>\n",
              "      <td>0.0</td>\n",
              "      <td>0.0</td>\n",
              "      <td>0.0</td>\n",
              "      <td>0.0</td>\n",
              "      <td>0.0</td>\n",
              "      <td>0.0</td>\n",
              "      <td>0.0</td>\n",
              "      <td>0.0</td>\n",
              "      <td>0.0</td>\n",
              "      <td>0.0</td>\n",
              "      <td>0.0</td>\n",
              "      <td>0.0</td>\n",
              "      <td>0.0</td>\n",
              "      <td>0.0</td>\n",
              "      <td>0.0</td>\n",
              "      <td>0.0</td>\n",
              "      <td>0.0</td>\n",
              "    </tr>\n",
              "    <tr>\n",
              "      <th>3</th>\n",
              "      <td>0.0</td>\n",
              "      <td>0.0</td>\n",
              "      <td>0.0</td>\n",
              "      <td>0.0</td>\n",
              "      <td>0.0</td>\n",
              "      <td>0.0</td>\n",
              "      <td>0.0</td>\n",
              "      <td>0.0</td>\n",
              "      <td>0.0</td>\n",
              "      <td>0.0</td>\n",
              "      <td>0.0</td>\n",
              "      <td>0.0</td>\n",
              "      <td>0.0</td>\n",
              "      <td>0.0</td>\n",
              "      <td>0.0</td>\n",
              "      <td>0.0</td>\n",
              "      <td>0.0</td>\n",
              "      <td>0.0</td>\n",
              "      <td>0.0</td>\n",
              "      <td>0.0</td>\n",
              "      <td>0.0</td>\n",
              "      <td>0.0</td>\n",
              "      <td>0.0</td>\n",
              "      <td>0.0</td>\n",
              "      <td>0.0</td>\n",
              "      <td>0.0</td>\n",
              "      <td>0.0</td>\n",
              "      <td>0.0</td>\n",
              "      <td>0.0</td>\n",
              "      <td>0.0</td>\n",
              "      <td>0.0</td>\n",
              "      <td>0.0</td>\n",
              "      <td>0.0</td>\n",
              "      <td>0.0</td>\n",
              "      <td>0.0</td>\n",
              "      <td>0.0</td>\n",
              "      <td>0.0</td>\n",
              "      <td>0.0</td>\n",
              "      <td>0.0</td>\n",
              "      <td>0.0</td>\n",
              "      <td>...</td>\n",
              "      <td>0.0</td>\n",
              "      <td>0.0</td>\n",
              "      <td>0.0</td>\n",
              "      <td>0.0</td>\n",
              "      <td>0.0</td>\n",
              "      <td>0.0</td>\n",
              "      <td>0.0</td>\n",
              "      <td>0.0</td>\n",
              "      <td>0.0</td>\n",
              "      <td>0.0</td>\n",
              "      <td>0.0</td>\n",
              "      <td>0.0</td>\n",
              "      <td>0.0</td>\n",
              "      <td>0.0</td>\n",
              "      <td>0.0</td>\n",
              "      <td>0.0</td>\n",
              "      <td>0.0</td>\n",
              "      <td>0.0</td>\n",
              "      <td>0.0</td>\n",
              "      <td>0.0</td>\n",
              "      <td>0.0</td>\n",
              "      <td>0.0</td>\n",
              "      <td>0.0</td>\n",
              "      <td>0.0</td>\n",
              "      <td>0.0</td>\n",
              "      <td>0.0</td>\n",
              "      <td>0.0</td>\n",
              "      <td>0.0</td>\n",
              "      <td>0.0</td>\n",
              "      <td>0.0</td>\n",
              "      <td>0.0</td>\n",
              "      <td>0.0</td>\n",
              "      <td>0.0</td>\n",
              "      <td>0.0</td>\n",
              "      <td>0.0</td>\n",
              "      <td>0.0</td>\n",
              "      <td>0.0</td>\n",
              "      <td>0.0</td>\n",
              "      <td>0.0</td>\n",
              "      <td>0.0</td>\n",
              "    </tr>\n",
              "    <tr>\n",
              "      <th>4</th>\n",
              "      <td>0.0</td>\n",
              "      <td>0.0</td>\n",
              "      <td>0.0</td>\n",
              "      <td>0.0</td>\n",
              "      <td>0.0</td>\n",
              "      <td>0.0</td>\n",
              "      <td>0.0</td>\n",
              "      <td>0.0</td>\n",
              "      <td>0.0</td>\n",
              "      <td>0.0</td>\n",
              "      <td>0.0</td>\n",
              "      <td>0.0</td>\n",
              "      <td>0.0</td>\n",
              "      <td>0.0</td>\n",
              "      <td>0.0</td>\n",
              "      <td>0.0</td>\n",
              "      <td>0.0</td>\n",
              "      <td>0.0</td>\n",
              "      <td>0.0</td>\n",
              "      <td>0.0</td>\n",
              "      <td>0.0</td>\n",
              "      <td>0.0</td>\n",
              "      <td>0.0</td>\n",
              "      <td>0.0</td>\n",
              "      <td>0.0</td>\n",
              "      <td>0.0</td>\n",
              "      <td>0.0</td>\n",
              "      <td>0.0</td>\n",
              "      <td>0.0</td>\n",
              "      <td>0.0</td>\n",
              "      <td>0.0</td>\n",
              "      <td>0.0</td>\n",
              "      <td>0.0</td>\n",
              "      <td>0.0</td>\n",
              "      <td>0.0</td>\n",
              "      <td>0.0</td>\n",
              "      <td>0.0</td>\n",
              "      <td>0.0</td>\n",
              "      <td>0.0</td>\n",
              "      <td>0.0</td>\n",
              "      <td>...</td>\n",
              "      <td>0.0</td>\n",
              "      <td>0.0</td>\n",
              "      <td>0.0</td>\n",
              "      <td>0.0</td>\n",
              "      <td>0.0</td>\n",
              "      <td>0.0</td>\n",
              "      <td>0.0</td>\n",
              "      <td>0.0</td>\n",
              "      <td>0.0</td>\n",
              "      <td>0.0</td>\n",
              "      <td>0.0</td>\n",
              "      <td>0.0</td>\n",
              "      <td>0.0</td>\n",
              "      <td>0.0</td>\n",
              "      <td>0.0</td>\n",
              "      <td>0.0</td>\n",
              "      <td>0.0</td>\n",
              "      <td>0.0</td>\n",
              "      <td>0.0</td>\n",
              "      <td>0.0</td>\n",
              "      <td>0.0</td>\n",
              "      <td>0.0</td>\n",
              "      <td>0.0</td>\n",
              "      <td>0.0</td>\n",
              "      <td>0.0</td>\n",
              "      <td>0.0</td>\n",
              "      <td>0.0</td>\n",
              "      <td>0.0</td>\n",
              "      <td>0.0</td>\n",
              "      <td>0.0</td>\n",
              "      <td>0.0</td>\n",
              "      <td>0.0</td>\n",
              "      <td>0.0</td>\n",
              "      <td>0.0</td>\n",
              "      <td>0.0</td>\n",
              "      <td>0.0</td>\n",
              "      <td>0.0</td>\n",
              "      <td>0.0</td>\n",
              "      <td>0.0</td>\n",
              "      <td>0.0</td>\n",
              "    </tr>\n",
              "  </tbody>\n",
              "</table>\n",
              "<p>5 rows × 2125 columns</p>\n",
              "</div>"
            ],
            "text/plain": [
              "    0m  0million  0nd   0s  0st  0th  ...  your   yr  yuan  zac  zendaya  zone\n",
              "0  0.0       0.0  0.0  0.0  0.0  0.0  ...   0.0  0.0   0.0  0.0      0.0   0.0\n",
              "1  0.0       0.0  0.0  0.0  0.0  0.0  ...   0.0  0.0   0.0  0.0      0.0   0.0\n",
              "2  0.0       0.0  0.0  0.0  0.0  0.0  ...   0.0  0.0   0.0  0.0      0.0   0.0\n",
              "3  0.0       0.0  0.0  0.0  0.0  0.0  ...   0.0  0.0   0.0  0.0      0.0   0.0\n",
              "4  0.0       0.0  0.0  0.0  0.0  0.0  ...   0.0  0.0   0.0  0.0      0.0   0.0\n",
              "\n",
              "[5 rows x 2125 columns]"
            ]
          },
          "metadata": {
            "tags": []
          },
          "execution_count": 15
        }
      ]
    },
    {
      "cell_type": "markdown",
      "metadata": {
        "id": "d87lKthmioJi"
      },
      "source": [
        "## 52. 学習\n",
        "\n",
        "51で構築した学習データを用いて，ロジスティック回帰モデルを学習せよ．"
      ]
    },
    {
      "cell_type": "markdown",
      "metadata": {
        "id": "M_xOnWIRi7LR"
      },
      "source": [
        "### ロジスティク回帰とは\n",
        "ロジスティック回帰とは、説明変数の情報に基づいて  \n",
        "1. データがどのクラスに属するかを予測・分類する（例：ある顧客が商品を買うか買わないかを識別する）\n",
        "2. 注目している出来事が発生する確率を予測する（例：ある顧客が何％の確率で商品を買うか予測する）　　\n",
        "\n",
        "のために利用されるモデル\n",
        "scikit-learnライブラリを用いてロジスティック回帰を行う\n",
        "今回の説明変数は各記事のタイトルで、それに基づいてカテゴリを予測する。\n",
        "\n",
        "### 説明変数とは\n",
        "因果関係における原因のこと\n",
        "$ y=f(x) $ のxの部分\n"
      ]
    },
    {
      "cell_type": "code",
      "metadata": {
        "colab": {
          "base_uri": "https://localhost:8080/",
          "height": 419
        },
        "id": "s8zIiBkCCEZ_",
        "outputId": "2fb5548d-5c41-4765-f90a-f96b7b1e3c11"
      },
      "source": [
        "train"
      ],
      "execution_count": null,
      "outputs": [
        {
          "output_type": "execute_result",
          "data": {
            "text/html": [
              "<div>\n",
              "<style scoped>\n",
              "    .dataframe tbody tr th:only-of-type {\n",
              "        vertical-align: middle;\n",
              "    }\n",
              "\n",
              "    .dataframe tbody tr th {\n",
              "        vertical-align: top;\n",
              "    }\n",
              "\n",
              "    .dataframe thead th {\n",
              "        text-align: right;\n",
              "    }\n",
              "</style>\n",
              "<table border=\"1\" class=\"dataframe\">\n",
              "  <thead>\n",
              "    <tr style=\"text-align: right;\">\n",
              "      <th></th>\n",
              "      <th>TITLE</th>\n",
              "      <th>CATEGORY</th>\n",
              "    </tr>\n",
              "  </thead>\n",
              "  <tbody>\n",
              "    <tr>\n",
              "      <th>16218</th>\n",
              "      <td>REFILE-UPDATE 1-European car sales up for sixt...</td>\n",
              "      <td>b</td>\n",
              "    </tr>\n",
              "    <tr>\n",
              "      <th>350381</th>\n",
              "      <td>Amazon Plans to Fight FTC Over Mobile-App Purc...</td>\n",
              "      <td>t</td>\n",
              "    </tr>\n",
              "    <tr>\n",
              "      <th>148768</th>\n",
              "      <td>Kids Still Get Codeine In Emergency Rooms Desp...</td>\n",
              "      <td>m</td>\n",
              "    </tr>\n",
              "    <tr>\n",
              "      <th>210596</th>\n",
              "      <td>What On Earth Happened Between Solange And Jay...</td>\n",
              "      <td>e</td>\n",
              "    </tr>\n",
              "    <tr>\n",
              "      <th>234365</th>\n",
              "      <td>NATO Missile Defense Is Flight Tested Over Hawaii</td>\n",
              "      <td>b</td>\n",
              "    </tr>\n",
              "    <tr>\n",
              "      <th>...</th>\n",
              "      <td>...</td>\n",
              "      <td>...</td>\n",
              "    </tr>\n",
              "    <tr>\n",
              "      <th>248020</th>\n",
              "      <td>The Pillow Book of Tim Geithner</td>\n",
              "      <td>b</td>\n",
              "    </tr>\n",
              "    <tr>\n",
              "      <th>280908</th>\n",
              "      <td>Robin Thicke spends $20000 on Amethyst stone a...</td>\n",
              "      <td>e</td>\n",
              "    </tr>\n",
              "    <tr>\n",
              "      <th>132357</th>\n",
              "      <td>Japanese Shares Little Changed After Biggest R...</td>\n",
              "      <td>b</td>\n",
              "    </tr>\n",
              "    <tr>\n",
              "      <th>404892</th>\n",
              "      <td>WRAPUP 1-Liberia shuts schools as Ebola spread...</td>\n",
              "      <td>m</td>\n",
              "    </tr>\n",
              "    <tr>\n",
              "      <th>274877</th>\n",
              "      <td>Justin Bieber Caught Using N-Word &amp; Joining KK...</td>\n",
              "      <td>e</td>\n",
              "    </tr>\n",
              "  </tbody>\n",
              "</table>\n",
              "<p>10684 rows × 2 columns</p>\n",
              "</div>"
            ],
            "text/plain": [
              "                                                    TITLE CATEGORY\n",
              "16218   REFILE-UPDATE 1-European car sales up for sixt...        b\n",
              "350381  Amazon Plans to Fight FTC Over Mobile-App Purc...        t\n",
              "148768  Kids Still Get Codeine In Emergency Rooms Desp...        m\n",
              "210596  What On Earth Happened Between Solange And Jay...        e\n",
              "234365  NATO Missile Defense Is Flight Tested Over Hawaii        b\n",
              "...                                                   ...      ...\n",
              "248020                    The Pillow Book of Tim Geithner        b\n",
              "280908  Robin Thicke spends $20000 on Amethyst stone a...        e\n",
              "132357  Japanese Shares Little Changed After Biggest R...        b\n",
              "404892  WRAPUP 1-Liberia shuts schools as Ebola spread...        m\n",
              "274877  Justin Bieber Caught Using N-Word & Joining KK...        e\n",
              "\n",
              "[10684 rows x 2 columns]"
            ]
          },
          "metadata": {
            "tags": []
          },
          "execution_count": 16
        }
      ]
    },
    {
      "cell_type": "code",
      "metadata": {
        "id": "Gj-yP2HICMg5"
      },
      "source": [
        "from sklearn.linear_model import LogisticRegression"
      ],
      "execution_count": 16,
      "outputs": []
    },
    {
      "cell_type": "code",
      "metadata": {
        "colab": {
          "base_uri": "https://localhost:8080/"
        },
        "id": "0fR2n4l1FVg5",
        "outputId": "032846f1-ba89-4759-c36b-1e6445445fab"
      },
      "source": [
        "lr = LogisticRegression(random_state=123 ,max_iter=1000)\n",
        "lr.fit(X_train, train['CATEGORY'])"
      ],
      "execution_count": 17,
      "outputs": [
        {
          "output_type": "execute_result",
          "data": {
            "text/plain": [
              "LogisticRegression(C=1.0, class_weight=None, dual=False, fit_intercept=True,\n",
              "                   intercept_scaling=1, l1_ratio=None, max_iter=1000,\n",
              "                   multi_class='auto', n_jobs=None, penalty='l2',\n",
              "                   random_state=123, solver='lbfgs', tol=0.0001, verbose=0,\n",
              "                   warm_start=False)"
            ]
          },
          "metadata": {
            "tags": []
          },
          "execution_count": 17
        }
      ]
    },
    {
      "cell_type": "code",
      "metadata": {
        "colab": {
          "base_uri": "https://localhost:8080/"
        },
        "id": "UFZx9YUzFlBH",
        "outputId": "a09f1a46-8a4b-4040-ec27-63422e5d4a85"
      },
      "source": [
        "lr.intercept_"
      ],
      "execution_count": null,
      "outputs": [
        {
          "output_type": "execute_result",
          "data": {
            "text/plain": [
              "array([ 0.68462783,  1.04184483, -1.15125185, -0.57522081])"
            ]
          },
          "metadata": {
            "tags": []
          },
          "execution_count": 19
        }
      ]
    },
    {
      "cell_type": "code",
      "metadata": {
        "colab": {
          "base_uri": "https://localhost:8080/"
        },
        "id": "wEPB2ThMFsXu",
        "outputId": "876fabf1-8722-4f57-8e3d-3f1069060f52"
      },
      "source": [
        "lr.coef_"
      ],
      "execution_count": null,
      "outputs": [
        {
          "output_type": "execute_result",
          "data": {
            "text/plain": [
              "array([[-0.11102864, -0.39583586,  0.30675547, ..., -0.60628092,\n",
              "        -0.32440383,  0.47230731],\n",
              "       [ 0.27262936, -0.00646911, -0.25842093, ...,  1.2387062 ,\n",
              "         0.57719566, -0.47556982],\n",
              "       [-0.1406825 ,  0.58304312, -0.0811077 , ..., -0.33314651,\n",
              "        -0.10625097,  0.05484997],\n",
              "       [-0.02091823, -0.18073816,  0.03277315, ..., -0.29927878,\n",
              "        -0.14654086, -0.05158746]])"
            ]
          },
          "metadata": {
            "tags": []
          },
          "execution_count": 20
        }
      ]
    },
    {
      "cell_type": "markdown",
      "metadata": {
        "id": "NxreDPbWGYVh"
      },
      "source": [
        "## 53. 予測\n",
        "\n",
        "52で学習したロジスティック回帰モデルを用い，与えられた記事見出しからカテゴリとその予測確率を計算するプログラムを実装せよ．"
      ]
    },
    {
      "cell_type": "code",
      "metadata": {
        "id": "AjpHEO1NFuKK"
      },
      "source": [
        "train_pred = lr.predict(X_train)\n",
        "valid_pred = lr.predict(X_valid)"
      ],
      "execution_count": 18,
      "outputs": []
    },
    {
      "cell_type": "code",
      "metadata": {
        "colab": {
          "base_uri": "https://localhost:8080/"
        },
        "id": "1w969gBkGRey",
        "outputId": "81cb7a69-f60e-4160-fa27-7ef793a79b0e"
      },
      "source": [
        "valid_pred"
      ],
      "execution_count": null,
      "outputs": [
        {
          "output_type": "execute_result",
          "data": {
            "text/plain": [
              "array(['t', 'e', 'b', ..., 'm', 'b', 'e'], dtype=object)"
            ]
          },
          "metadata": {
            "tags": []
          },
          "execution_count": 22
        }
      ]
    },
    {
      "cell_type": "markdown",
      "metadata": {
        "id": "9H7mj0nVGk9O"
      },
      "source": [
        "## 54. 正解率の計測\n",
        "\n",
        "52で学習したロジスティック回帰モデルの正解率を，学習データおよび評価データ上で計測せよ．"
      ]
    },
    {
      "cell_type": "code",
      "metadata": {
        "colab": {
          "base_uri": "https://localhost:8080/"
        },
        "id": "goGn0bikWRSg",
        "outputId": "e03cb7d5-9f4c-4513-a61c-35db6077a34b"
      },
      "source": [
        "from sklearn.metrics import accuracy_score\n",
        "\n",
        "train_accuracy = accuracy_score(y_true=train['CATEGORY'], y_pred=train_pred)\n",
        "valid_accuracy = accuracy_score(y_true=valid['CATEGORY'], y_pred=valid_pred)\n",
        "\n",
        "print(f'正解率（学習データ）：{train_accuracy:.3f}')\n",
        "print(f'正解率（検証データ）：{valid_accuracy:.3f}')"
      ],
      "execution_count": 19,
      "outputs": [
        {
          "output_type": "stream",
          "text": [
            "正解率（学習データ）：0.924\n",
            "正解率（検証データ）：0.883\n"
          ],
          "name": "stdout"
        }
      ]
    },
    {
      "cell_type": "markdown",
      "metadata": {
        "id": "E7z3MRbDXoyD"
      },
      "source": [
        "## 55. 混同行列の作成\n",
        "\n",
        "52で学習したロジスティック回帰モデルの混同行列（confusion matrix）を，学習データおよび評価データ上で作成せよ．"
      ]
    },
    {
      "cell_type": "code",
      "metadata": {
        "id": "e9Vn4VxaXtdU"
      },
      "source": [
        "from sklearn.metrics import confusion_matrix\n",
        "\n",
        "train_cnf_mtrix = confusion_matrix(y_true=train['CATEGORY'], y_pred=train_pred)\n",
        "valid_cnf_mtrix = confusion_matrix(y_true=valid['CATEGORY'], y_pred=valid_pred)"
      ],
      "execution_count": null,
      "outputs": []
    },
    {
      "cell_type": "code",
      "metadata": {
        "colab": {
          "base_uri": "https://localhost:8080/",
          "height": 265
        },
        "id": "yEDFQUhMYpSJ",
        "outputId": "bdf4db0d-e01f-43f6-d697-db2b97ac9f51"
      },
      "source": [
        "## 可視化 seabornが便利\n",
        "import seaborn as sns\n",
        "import matplotlib.pyplot as plt\n",
        "\n",
        "sns.heatmap(train_cnf_mtrix, annot=True, cmap='Greens')\n",
        "plt.show()\n"
      ],
      "execution_count": null,
      "outputs": [
        {
          "output_type": "display_data",
          "data": {
            "image/png": "[encoded data removed]",
            "text/plain": [
              "<Figure size 432x288 with 2 Axes>"
            ]
          },
          "metadata": {
            "tags": [],
            "needs_background": "light"
          }
        }
      ]
    },
    {
      "cell_type": "markdown",
      "metadata": {
        "id": "7wi8b2onXHtY"
      },
      "source": [
        "## 56. 適合率，再現率，F1スコアの計測\n",
        "\n",
        "52で学習したロジスティック回帰モデルの適合率，再現率，F1スコアを，評価データ上で計測せよ．カテゴリごとに適合率，再現率，F1スコアを求め，カテゴリごとの性能をマイクロ平均（micro-average）とマクロ平均（macro-average）で統合せよ．"
      ]
    },
    {
      "cell_type": "markdown",
      "metadata": {
        "id": "YX-f4arThStO"
      },
      "source": [
        "### マイクロ平均とは\n",
        "**クラスごと**にF1値を計算し、平均したもの\n",
        "正解率の場合：𝑛𝑖回のテストのうち，𝑥𝑖回が正解の場合，マイクロ平均は次式：\n",
        "$\\frac{\\sum_{i=1}^{N} x_i}{\\sum_{i=1}^{N} n_i}$\n",
        "\n",
        "### マクロ平均とは\n",
        "**全クラス**のF1値を計算したもの\n",
        "正解率の場合：𝑛𝑖回のテストのうち，𝑥𝑖回が正解の場合，マクロ平均は次式：\n",
        "$\\frac{1}{N}\\sum_{i=1}^{N}\\frac{x_i}{n_i}$"
      ]
    },
    {
      "cell_type": "code",
      "metadata": {
        "id": "yONcimn4W2U2"
      },
      "source": [
        "from sklearn.metrics import precision_score, recall_score, f1_score\n",
        "import numpy as np\n",
        "\n",
        "## 適合率\n",
        "precision = precision_score(y_true=valid['CATEGORY'], y_pred=valid_pred, average=None, labels=['b', 'e', 't', 'm'])\n",
        "precision = np.append(precision, precision_score(y_true=valid['CATEGORY'], y_pred=valid_pred, average='micro'))\n",
        "precision = np.append(precision, precision_score(y_true=valid['CATEGORY'], y_pred=valid_pred, average='macro'))\n",
        "\n",
        "## 再現率\n",
        "recall = recall_score(y_true=valid['CATEGORY'], y_pred=valid_pred, average=None, labels=['b', 'e', 't', 'm'])\n",
        "recall = np.append(recall, recall_score(y_true=valid['CATEGORY'], y_pred=valid_pred, average='micro'))\n",
        "recall = np.append(recall, recall_score(y_true=valid['CATEGORY'], y_pred=valid_pred, average='macro'))\n",
        "\n",
        "## F1スコア\n",
        "f1 = f1_score(y_true=valid['CATEGORY'], y_pred=valid_pred, average=None, labels=['b', 'e', 't', 'm'])\n",
        "f1 = np.append(f1, f1_score(y_true=valid['CATEGORY'], y_pred=valid_pred, average='micro'))\n",
        "f1 = np.append(f1, f1_score(y_true=valid['CATEGORY'], y_pred=valid_pred, average='macro'))\n",
        "\n",
        "scores = pd.DataFrame({'precision': precision, 'recall': recall, 'F1':f1}, index=['b', 'e', 't', 'm','micro ave', 'macro ave'])"
      ],
      "execution_count": null,
      "outputs": []
    },
    {
      "cell_type": "code",
      "metadata": {
        "colab": {
          "base_uri": "https://localhost:8080/",
          "height": 235
        },
        "id": "AOJvhc_YhABn",
        "outputId": "990ca211-872d-44b8-93c5-3e3596b9aa23"
      },
      "source": [
        "scores"
      ],
      "execution_count": null,
      "outputs": [
        {
          "output_type": "execute_result",
          "data": {
            "text/html": [
              "<div>\n",
              "<style scoped>\n",
              "    .dataframe tbody tr th:only-of-type {\n",
              "        vertical-align: middle;\n",
              "    }\n",
              "\n",
              "    .dataframe tbody tr th {\n",
              "        vertical-align: top;\n",
              "    }\n",
              "\n",
              "    .dataframe thead th {\n",
              "        text-align: right;\n",
              "    }\n",
              "</style>\n",
              "<table border=\"1\" class=\"dataframe\">\n",
              "  <thead>\n",
              "    <tr style=\"text-align: right;\">\n",
              "      <th></th>\n",
              "      <th>precision</th>\n",
              "      <th>recall</th>\n",
              "      <th>F1</th>\n",
              "    </tr>\n",
              "  </thead>\n",
              "  <tbody>\n",
              "    <tr>\n",
              "      <th>b</th>\n",
              "      <td>0.908146</td>\n",
              "      <td>0.930728</td>\n",
              "      <td>0.919298</td>\n",
              "    </tr>\n",
              "    <tr>\n",
              "      <th>e</th>\n",
              "      <td>0.868243</td>\n",
              "      <td>0.971645</td>\n",
              "      <td>0.917038</td>\n",
              "    </tr>\n",
              "    <tr>\n",
              "      <th>t</th>\n",
              "      <td>0.838983</td>\n",
              "      <td>0.647059</td>\n",
              "      <td>0.730627</td>\n",
              "    </tr>\n",
              "    <tr>\n",
              "      <th>m</th>\n",
              "      <td>0.877551</td>\n",
              "      <td>0.472527</td>\n",
              "      <td>0.614286</td>\n",
              "    </tr>\n",
              "    <tr>\n",
              "      <th>micro ave</th>\n",
              "      <td>0.883234</td>\n",
              "      <td>0.883234</td>\n",
              "      <td>0.883234</td>\n",
              "    </tr>\n",
              "    <tr>\n",
              "      <th>macro ave</th>\n",
              "      <td>0.873231</td>\n",
              "      <td>0.755490</td>\n",
              "      <td>0.795312</td>\n",
              "    </tr>\n",
              "  </tbody>\n",
              "</table>\n",
              "</div>"
            ],
            "text/plain": [
              "           precision    recall        F1\n",
              "b           0.908146  0.930728  0.919298\n",
              "e           0.868243  0.971645  0.917038\n",
              "t           0.838983  0.647059  0.730627\n",
              "m           0.877551  0.472527  0.614286\n",
              "micro ave   0.883234  0.883234  0.883234\n",
              "macro ave   0.873231  0.755490  0.795312"
            ]
          },
          "metadata": {
            "tags": []
          },
          "execution_count": 27
        }
      ]
    },
    {
      "cell_type": "markdown",
      "metadata": {
        "id": "oiU08ynGs27m"
      },
      "source": [
        "## 57. 特徴量の重みの確認\n",
        "\n",
        "52で学習したロジスティック回帰モデルの中で，重みの高い特徴量トップ10と，重みの低い特徴量トップ10を確認せよ．"
      ]
    },
    {
      "cell_type": "markdown",
      "metadata": {
        "id": "cPElv7ZXmLTi"
      },
      "source": [
        "特徴量の重みは .coef_ にて確認できる"
      ]
    },
    {
      "cell_type": "code",
      "metadata": {
        "colab": {
          "base_uri": "https://localhost:8080/"
        },
        "id": "_f0fQKNXkV2U",
        "outputId": "c56b6902-4e1a-4e2d-83f3-83d06253f396"
      },
      "source": [
        "lr.coef_ ##[クラス数][単語数]のそれぞれの重み"
      ],
      "execution_count": null,
      "outputs": [
        {
          "output_type": "execute_result",
          "data": {
            "text/plain": [
              "array([[-0.11102864, -0.39583586,  0.30675547, ..., -0.60628092,\n",
              "        -0.32440383,  0.47230731],\n",
              "       [ 0.27262936, -0.00646911, -0.25842093, ...,  1.2387062 ,\n",
              "         0.57719566, -0.47556982],\n",
              "       [-0.1406825 ,  0.58304312, -0.0811077 , ..., -0.33314651,\n",
              "        -0.10625097,  0.05484997],\n",
              "       [-0.02091823, -0.18073816,  0.03277315, ..., -0.29927878,\n",
              "        -0.14654086, -0.05158746]])"
            ]
          },
          "metadata": {
            "tags": []
          },
          "execution_count": 28
        }
      ]
    },
    {
      "cell_type": "code",
      "metadata": {
        "colab": {
          "base_uri": "https://localhost:8080/"
        },
        "id": "oePMQpzkq5rW",
        "outputId": "0f20dcb0-6b7c-492c-859a-83f45c515f54"
      },
      "source": [
        "lr.classes_"
      ],
      "execution_count": null,
      "outputs": [
        {
          "output_type": "execute_result",
          "data": {
            "text/plain": [
              "array(['b', 'e', 'm', 't'], dtype=object)"
            ]
          },
          "metadata": {
            "tags": []
          },
          "execution_count": 29
        }
      ]
    },
    {
      "cell_type": "code",
      "metadata": {
        "id": "FTA32IzlllSM"
      },
      "source": [
        "vocabularys = X_train.columns"
      ],
      "execution_count": null,
      "outputs": []
    },
    {
      "cell_type": "code",
      "metadata": {
        "colab": {
          "base_uri": "https://localhost:8080/"
        },
        "id": "OAg_z25plrtT",
        "outputId": "c9c912de-e80f-4c5f-e5c4-1ffae5e79cb2"
      },
      "source": [
        "print(\"カテゴリ:(b = business, e = entertainment, m = health, t = science and technology)\\n\")\n",
        "for coef, class_name in zip(lr.coef_, lr.classes_):\n",
        "  feature_v = dict(zip(vocabularys, coef))\n",
        "  feature_v = sorted(feature_v.items(), key=lambda x:x[1], reverse=True)\n",
        "  feature_v_top = feature_v[:10]\n",
        "  feature_v_bottom = feature_v[10:]\n",
        "  print(\"class : {} \\n top : {}\\n bottom : {}\\n\".format(class_name, feature_v_top, feature_v_bottom)) "
      ],
      "execution_count": null,
      "outputs": [
        {
          "output_type": "stream",
          "text": [
            "カテゴリ:(b = business, e = entertainment, m = health, t = science and technology)\n",
            "\n",
            "class : b \n",
            " top : [('bank', 3.483174271387379), ('stocks', 3.2204488451513424), ('fed', 3.2064766154292115), ('ecb', 3.077046828214073), ('china', 3.0179953520311638), ('euro', 2.7041970714581094), ('obamacare', 2.6505252808129183), ('oil', 2.5702870218349827), ('yellen', 2.558384275927404), ('dollar', 2.5348907709758732)]\n",
            " bottom : [('ukraine', 2.4851635819145756), ('profit', 2.2458288824796213), ('ceo', 2.19721853622813), ('billion', 2.052847403627596), ('banks', 2.0420173528787697), ('inflation', 2.0322695069381873), ('argentina', 2.017448016962132), ('buy', 2.0166059859255694), ('ipo', 2.006027287845002), ('pfizer', 1.9850956533622985), ('business', 1.9840624722987736), ('fitch', 1.9160463993415866), ('shares', 1.9150362936339165), ('update', 1.8782268130755622), ('mcdonald', 1.8634534854119296), ('percent', 1.8358167475187124), ('debt', 1.7867783280659382), ('merger', 1.7855603434172023), ('jpmorgan', 1.775234220514808), ('economy', 1.7739914069268226), ('bnp', 1.770829288780472), ('apparel', 1.7469240967063309), ('bid', 1.7335601226325839), ('pct', 1.727681320066221), ('bln', 1.7245451880510867), ('low', 1.7227287615041378), ('draghi', 1.7094452038034615), ('uber', 1.6800363628212456), ('quarter', 1.6696665312562715), ('target', 1.6674731843477237), ('fracking', 1.659616906221774), ('wrapup', 1.6509976928872756), ('sales', 1.6498421521661426), ('money', 1.6374998485684267), ('bond', 1.6362004391834384), ('falls', 1.627209778329797), ('barclays', 1.612912984478695), ('alstom', 1.5839207546385097), ('gains', 1.577279303405852), ('forex', 1.577221818024248), ('deal', 1.572661985808562), ('jobs', 1.5638561843058394), ('india', 1.5576768613587781), ('detroit', 1.5455731460263102), ('mergers', 1.5444547499219297), ('trading', 1.5410819731228314), ('buffett', 1.5364182684459642), ('directv', 1.5247973911519974), ('murdoch', 1.4903898335851764), ('estimates', 1.4885054552932593), ('asia', 1.487791185218471), ('piketty', 1.4702923850033), ('growth', 1.470128564946928), ('boj', 1.4567623984878826), ('unit', 1.456480071955398), ('housing', 1.4503609542654878), ('rate', 1.4468740025304174), ('outlook', 1.4409810654865134), ('wall', 1.440184785029174), ('earnings', 1.4356567610449147), ('credit', 1.432544929214829), ('gold', 1.4323384600331182), ('jet', 1.4045794876417), ('pay', 1.4025990286325367), ('market', 1.3894422006525076), ('bonds', 1.3688591454239882), ('boeing', 1.3659278453290127), ('allergan', 1.3624554744527881), ('herbalife', 1.361239171766869), ('economic', 1.3582830880904038), ('crude', 1.3411272156539376), ('mortgage', 1.3404341814149603), ('fund', 1.324661124421506), ('russia', 1.321139014802234), ('rise', 1.3137884328145695), ('boe', 1.3100718765305674), ('south', 1.306339037027885), ('drop', 1.3036706328740892), ('markets', 1.297875565211387), ('push', 1.2961676756675637), ('airline', 1.291566600196412), ('forecast', 1.286163774068421), ('sale', 1.2733719473531442), ('high', 1.2725545558081401), ('imf', 1.2594381013685476), ('king', 1.251939730363627), ('manufacturing', 1.249359836268389), ('month', 1.2427115242874458), ('ackman', 1.2295778577460996), ('forecasts', 1.2271652774281634), ('us', 1.222332587650191), ('workers', 1.2187170196825816), ('argentine', 1.2180134237131879), ('wage', 1.2135817534060058), ('american', 1.2122484045958326), ('march', 1.2096179147387618), ('bitcoin', 1.2094340909587906), ('governor', 1.205702573817283), ('epa', 1.204532206186403), ('tax', 1.202432001075782), ('capital', 1.1954935501966986), ('hong', 1.1949838963672996), ('kong', 1.1949838963672996), ('near', 1.1943334851882117), ('maker', 1.1886532347676206), ('stanley', 1.1881775730079291), ('fall', 1.1867595856761626), ('above', 1.1857841521540857), ('stable', 1.184012954930136), ('investors', 1.183818440097317), ('alibaba', 1.1834549668589154), ('sanctions', 1.182041994551348), ('grows', 1.1792464587462488), ('airlines', 1.1779395331698388), ('gain', 1.1712719546780277), ('says', 1.1636830996579566), ('astrazeneca', 1.1607550514218896), ('stock', 1.1567121403678844), ('seen', 1.152181419188172), ('bofa', 1.1500785186530602), ('talks', 1.1460013279589243), ('as', 1.1426219287732167), ('rises', 1.1323956963675341), ('bankruptcy', 1.1193896251990845), ('nasdaq', 1.1177610153995416), ('takeover', 1.11650793640815), ('seeks', 1.0938608038536068), ('malaysian', 1.0928751960683571), ('grains', 1.0915433443651537), ('chart', 1.0908941074397946), ('board', 1.090378177642145), ('bp', 1.0877147534655005), ('funding', 1.0875182492622695), ('investment', 1.0862017031694993), ('strike', 1.0799733843696857), ('trapped', 1.0788688886953062), ('raise', 1.0746913781151592), ('uk', 1.0720952511053918), ('citigroup', 1.0585083090429168), ('buying', 1.0575490566850265), ('plane', 1.0573223514861982), ('sees', 1.0497592558627866), ('turkey', 1.048157478134705), ('nuclear', 1.0471797841933788), ('brent', 1.0468799020327333), ('supply', 1.0418446395435883), ('grow', 1.0413390620997895), ('rpt', 1.0400601267867464), ('carney', 1.0387498698899422), ('affirms', 1.0353665253322317), ('loan', 1.0349811743502542), ('financial', 1.0348568765137178), ('valeant', 1.0256730118354662), ('taxes', 1.0214308085663388), ('wants', 1.0184440501288232), ('higher', 1.01333707628114), ('precious', 1.010470911826785), ('index', 1.005265906097276), ('vietnam', 1.0051187350256754), ('pot', 1.0005769024245865), ('mart', 0.9993143291019434), ('wal', 0.9993143291019434), ('still', 0.9968228322317829), ('insider', 0.9950626664632427), ('lowest', 0.9943517407687064), ('fx', 0.9911009611197197), ('prices', 0.9905978210151664), ('interest', 0.9861949398453069), ('fiat', 0.9777003260700746), ('rally', 0.9756525933033915), ('corn', 0.9730954259937699), ('policy', 0.9675846514435964), ('siemens', 0.965038236939821), ('retail', 0.9635142352803928), ('funds', 0.9534298737538321), ('ge', 0.9531109410137567), ('assets', 0.95165716481575), ('global', 0.9494239654235042), ('wheat', 0.9476229619209237), ('equal', 0.939178341306565), ('deals', 0.9356723983713475), ('banking', 0.9316539246300778), ('apps', 0.931397081874567), ('libya', 0.9312517231633279), ('energy', 0.9309158675127139), ('months', 0.9307225231573266), ('sell', 0.9306340063038948), ('quarterly', 0.9285657928932103), ('flight', 0.9274962721516116), ('european', 0.9270100201243437), ('options', 0.92691794998608), ('taco', 0.9240477030012831), ('loans', 0.9237797814046682), ('icahn', 0.9220980429167351), ('revenue', 0.920027930915109), ('demand', 0.9187559204285993), ('exports', 0.9172586762291853), ('abbvie', 0.9143197717098219), ('dow', 0.909169685050425), ('water', 0.9042931200844504), ('ahead', 0.9005211452587804), ('bulgaria', 0.8920566262127133), ('stake', 0.8905122270633395), ('home', 0.887723480418686), ('paribas', 0.8829701306283995), ('shire', 0.8786212285503897), ('meeting', 0.878329620006727), ('candy', 0.8782042260450159), ('suisse', 0.8742442983394514), ('lewis', 0.8726398704944908), ('teva', 0.8686186802389563), ('chief', 0.8634880141109467), ('rates', 0.8602154966784727), ('yen', 0.8597371296521116), ('french', 0.8587401195578585), ('data', 0.8587040020885315), ('futures', 0.8549048451137955), ('increase', 0.8468558300953608), ('lower', 0.8448367207925369), ('expected', 0.8436615156949154), ('sec', 0.8434658762434459), ('nikkei', 0.8402702643116539), ('puerto', 0.8375031040097569), ('rico', 0.8375031040097569), ('cash', 0.8371828436473105), ('solar', 0.8357900036019449), ('companies', 0.8355463931471747), ('yields', 0.8353868282539505), ('german', 0.8348764261986796), ('turnaround', 0.829283740201674), ('putin', 0.8277567548331511), ('gdp', 0.8226063315705122), ('fraud', 0.8211720855865521), ('plant', 0.819836147545267), ('bell', 0.8181992837374914), ('yuan', 0.8058004599509142), ('export', 0.8032860976841384), ('chain', 0.802851831019907), ('want', 0.80281553719731), ('company', 0.802733195381265), ('currency', 0.7986514731933604), ('cut', 0.7980591998356638), ('decline', 0.7979969616317613), ('end', 0.7946426494929266), ('acquire', 0.7930406348131217), ('crisis', 0.7906404523702582), ('canadian', 0.7883519699588535), ('miners', 0.7858360282688414), ('day', 0.7848870331882358), ('com', 0.7787461957655522), ('fannie', 0.7759793337619325), ('snapshot', 0.7752018194833175), ('hillshire', 0.7742965327374288), ('media', 0.7737618522081797), ('deadline', 0.7733657934502105), ('spending', 0.7730902405315568), ('move', 0.7689892935074834), ('pound', 0.7669041195960831), ('costs', 0.7667817421226346), ('wells', 0.7659868127258515), ('controversial', 0.7658090895408292), ('crush', 0.7637515852655188), ('amazon', 0.7636118548933037), ('optimism', 0.7617048123059991), ('warner', 0.7608811943997271), ('england', 0.7594630940025211), ('spin', 0.7570381857512363), ('plans', 0.7567237574760906), ('minister', 0.7558545518000125), ('pmi', 0.7555705852853126), ('climbs', 0.7542584021717389), ('gas', 0.7489306765303896), ('targets', 0.748034575476734), ('amid', 0.7467823627510368), ('biggest', 0.745469697447714), ('trade', 0.745199904534656), ('twitter', 0.7450357462298749), ('gopro', 0.7446466949920802), ('cuts', 0.7432076624271362), ('settle', 0.7385383390488419), ('sac', 0.7351443491058629), ('down', 0.7334808102166706), ('advance', 0.732278017225289), ('street', 0.731020340315584), ('card', 0.728919598526587), ('chairman', 0.7265811455396173), ('pipeline', 0.7254221186763232), ('soybeans', 0.7252653137606617), ('mln', 0.7243859775350505), ('top', 0.7243478476502889), ('collapse', 0.724309310056948), ('slips', 0.723537841389786), ('charney', 0.7195159245519341), ('treasuries', 0.7163369898275095), ('hedge', 0.7144214212340382), ('corporate', 0.7126969586741078), ('canada', 0.7122990566753205), ('output', 0.7101710939274986), ('ftse', 0.7084765458446727), ('recovery', 0.7073088149431613), ('france', 0.7051114495903765), ('yield', 0.7010841567526411), ('australia', 0.7006621518834996), ('tracking', 0.7000192767536721), ('germany', 0.6997306874002112), ('flash', 0.6995167635436628), ('flat', 0.6934644671841911), ('hp', 0.6932281623018858), ('unemployment', 0.6930596335238104), ('firm', 0.6912308311433719), ('sources', 0.6897005701944692), ('value', 0.6886300338418949), ('stimulus', 0.6826004923287756), ('treasury', 0.6822517650509179), ('pool', 0.6819209540657845), ('fell', 0.6817707124290708), ('steady', 0.6812898482892669), ('missing', 0.6779189926930387), ('eu', 0.6742601903159943), ('slump', 0.6705818597695142), ('deflation', 0.6689040831472932), ('thomas', 0.6654756821338728), ('before', 0.6647782643156855), ('hike', 0.6641842744269992), ('since', 0.6641200100333041), ('said', 0.663719947376405), ('stores', 0.6574291010333264), ('surges', 0.6549011175614537), ('gap', 0.6540825894946486), ('eases', 0.6537088270075844), ('york', 0.6528622290913185), ('retailer', 0.6505990621312944), ('weak', 0.649154159540962), ('lunch', 0.6486866348703056), ('sector', 0.6475804354559657), ('nears', 0.6454817896488313), ('traders', 0.6449440301104871), ('spanish', 0.6425684478489384), ('default', 0.6425593084132657), ('dip', 0.6392596172438765), ('february', 0.6307028073178677), ('expectations', 0.6294419119753762), ('easing', 0.6258902175898773), ('korean', 0.624572266566725), ('hold', 0.6222917791353312), ('july', 0.6214127085622886), ('rebounds', 0.617518956994813), ('bets', 0.6146931365972269), ('qe', 0.6135302458904555), ('session', 0.6106554268883934), ('chinese', 0.6098537295596517), ('week', 0.606447695932199), ('lifts', 0.605368206096448), ('close', 0.6041881990343403), ('pushes', 0.6038090637612035), ('slide', 0.6013011895108435), ('holcim', 0.6010171994092517), ('lafarge', 0.6010171994092517), ('fees', 0.5976207982222826), ('payment', 0.5970282672887685), ('posts', 0.5936839270428177), ('gazprom', 0.5931367777604377), ('boss', 0.5920715132951413), ('comments', 0.5906894065737248), ('increases', 0.5906784641634857), ('proposes', 0.5851885712299281), ('probe', 0.5849253907987897), ('concerns', 0.5846170517983581), ('factory', 0.5837462494856426), ('mh0', 0.583551644314872), ('digest', 0.5802569869781947), ('executive', 0.5798433228002441), ('largest', 0.5784529492123277), ('time', 0.5781955124015837), ('expansion', 0.5767749376871878), ('surge', 0.5766973697054857), ('pays', 0.571545729805627), ('retreat', 0.5705590707588092), ('exit', 0.5698338101910395), ('libyan', 0.5690960235857805), ('washington', 0.5689160226428305), ('factors', 0.5688918452797658), ('stress', 0.5681643833674516), ('highlights', 0.5674406444471702), ('june', 0.5671489391548025), ('port', 0.565058807627259), ('worth', 0.5649819950048931), ('cbo', 0.5643490947037539), ('changed', 0.5622819693827394), ('despite', 0.5617007411057373), ('protest', 0.5599626916388748), ('caps', 0.5593501326727183), ('weaker', 0.5593095808540345), ('below', 0.5579424125517609), ('would', 0.5575690911548238), ('decision', 0.5573323535943008), ('tanker', 0.5565368581891333), ('eyes', 0.5523625655735679), ('agrees', 0.5482956831797522), ('million', 0.5417551611152033), ('customers', 0.5399982836296909), ('losses', 0.538196506374495), ('navy', 0.5379634940033785), ('results', 0.5378549871511907), ('rebound', 0.5375755831731411), ('studios', 0.5374793147092938), ('japan', 0.5360066150976873), ('malaysia', 0.5343394467757087), ('lows', 0.5342616468841723), ('weather', 0.5285674991656694), ('faces', 0.5284186599290561), ('power', 0.5273611353007706), ('pharma', 0.5259477217371007), ('equities', 0.5246524214983466), ('tumble', 0.5245103416559365), ('gm', 0.5244875491873989), ('reach', 0.5233181563481001), ('sentiment', 0.5223681662834948), ('central', 0.5198145435496047), ('citi', 0.5182849726836797), ('st', 0.5159748191814836), ('most', 0.5143107506669623), ('court', 0.5135345264779544), ('soars', 0.5118943560878931), ('focus', 0.5105528516912572), ('press', 0.5058696493081691), ('goldman', 0.5056283514322936), ('against', 0.5032333505593598), ('breach', 0.49929929712101656), ('chrysler', 0.49911867830671813), ('satellite', 0.4977221884391181), ('europe', 0.49711624772478963), ('storage', 0.49515196321608745), ('swiss', 0.4943686438208948), ('testimony', 0.49355866327272346), ('tied', 0.49337418378051956), ('its', 0.4927622540400437), ('deutsche', 0.48770301940361876), ('profits', 0.48711971772272467), ('bbb', 0.48689028473524154), ('general', 0.48467534936953477), ('jobless', 0.4835303563306918), ('term', 0.4834835465542037), ('remain', 0.48324418186517154), ('sign', 0.48312287895065426), ('building', 0.4814015018944038), ('tumbles', 0.4812701852853759), ('dips', 0.48096379647527127), ('nymex', 0.4796147244441764), ('passengers', 0.4795989722421733), ('drops', 0.4765065284158433), ('slightly', 0.47533090368396924), ('go', 0.47320956065455133), ('zone', 0.4723073114832984), ('cost', 0.47186537693677466), ('sterling', 0.47148470793523467), ('best', 0.47122275994234747), ('level', 0.4679519305788974), ('industry', 0.4678017078779794), ('leave', 0.4677486747998451), ('debut', 0.4675303514732233), ('yr', 0.46681198059358414), ('weakens', 0.4666722951058057), ('members', 0.46512539091257127), ('support', 0.46414429905637006), ('currencies', 0.46330997209764857), ('valuation', 0.46131875021033847), ('ignition', 0.4592386829521752), ('makers', 0.4575274649751108), ('far', 0.45540807072107453), ('per', 0.45509540864438164), ('improved', 0.4548696801011554), ('search', 0.45385772709701433), ('total', 0.4537847828405523), ('same', 0.45325221057081044), ('control', 0.45302382442498623), ('biotech', 0.4516995577802695), ('wti', 0.45137110254825424), ('slows', 0.45067889984138243), ('climb', 0.45060849710516543), ('gox', 0.448949623255828), ('mt', 0.448949623255828), ('iraq', 0.4473211143457494), ('offers', 0.4458171252480201), ('strategy', 0.44440562145490187), ('spain', 0.44425694489084183), ('hearing', 0.44253336392101217), ('indian', 0.44245726608522856), ('student', 0.4398806060816197), ('confidence', 0.43857563060926674), ('recall', 0.43765450601154526), ('italy', 0.4349328751751846), ('whole', 0.4327924823571152), ('slumps', 0.43195657224085887), ('russian', 0.4317639595577863), ('attorney', 0.4315662587651567), ('warns', 0.4304963012890719), ('looms', 0.42933462717026344), ('travel', 0.42889066679586335), ('expands', 0.42886107470950396), ('usda', 0.42882236299832066), ('contract', 0.4280924667213314), ('abramson', 0.42645382584592195), ('declines', 0.42591573642608277), ('open', 0.4241770549261437), ('raising', 0.4227721431870431), ('holds', 0.41928224623964017), ('london', 0.41798641916245777), ('asset', 0.417634774198427), ('signals', 0.4171454671857516), ('snapchat', 0.4169800635349922), ('heard', 0.4163562411739735), ('q0', 0.4157980391544064), ('east', 0.414284017513434), ('orange', 0.41185788136587526), ('year', 0.4092565862693788), ('subdued', 0.4081693160963689), ('union', 0.4064590194811759), ('access', 0.4040900643843165), ('by', 0.40237244495812075), ('rating', 0.4018960648546801), ('fisher', 0.4014101934487379), ('record', 0.39996690663077633), ('shareholders', 0.3996444221961512), ('auto', 0.39860217087944055), ('boys', 0.39791724773022613), ('rejects', 0.39342165700580656), ('co', 0.3933675552655272), ('jumps', 0.3917572229382001), ('files', 0.3904137460301144), ('kiwi', 0.3897799747094997), ('president', 0.38897265218403804), ('books', 0.3879213985553962), ('asks', 0.38772504069766345), ('corrected', 0.3866559031107009), ('consumer', 0.3866283205563268), ('battle', 0.3860274599176698), ('pulls', 0.38495852146199294), ('bill', 0.3846807821094788), ('trigger', 0.3844622843337678), ('supplies', 0.38252615441784), ('settlement', 0.37997861079331097), ('slides', 0.3799393329863338), ('less', 0.3799180257227345), ('closes', 0.37935276694458236), ('sells', 0.37819731570735576), ('parts', 0.3780155709604889), ('needed', 0.3775729678410397), ('law', 0.37636856878266856), ('book', 0.37494772325488684), ('fine', 0.3744218935300189), ('edges', 0.37349874922261717), ('ny', 0.37093026819229846), ('weekly', 0.36695224751399863), ('measures', 0.36627713432820164), ('continue', 0.36596270211869847), ('speech', 0.3649732812242973), ('plan', 0.3649519608974347), ('legal', 0.36475060785910435), ('estimate', 0.3644942527667877), ('highest', 0.3644324389069225), ('slip', 0.3635229930615059), ('hopes', 0.36330691397993725), ('selloff', 0.3617068403232348), ('income', 0.3580589561259159), ('win', 0.35767386986284266), ('pill', 0.3573295313836667), ('homeless', 0.3570395022689558), ('kerry', 0.35666950786554596), ('producer', 0.35581870181087205), ('guilty', 0.3527783527846083), ('call', 0.3526352659053298), ('without', 0.3511298620765394), ('little', 0.35027313865701265), ('all', 0.35019431134809015), ('texas', 0.3501703057119276), ('backs', 0.34802094326749), ('cent', 0.3472336588709358), ('violence', 0.3460797011028209), ('retirement', 0.34441092591242306), ('strengthens', 0.3440098196925484), ('starts', 0.34351578462274546), ('resolve', 0.3394391450189883), ('firms', 0.3378969122580156), ('away', 0.33767617123653887), ('investigating', 0.33743951918584764), ('0st', 0.3370675826303763), ('rolls', 0.3366836131808925), ('brings', 0.33626533569904293), ('ends', 0.3356931750215731), ('comes', 0.335230369288451), ('second', 0.3350622641089921), ('eight', 0.3329779681043211), ('revises', 0.3322506485911126), ('faster', 0.3319335704026043), ('heading', 0.33071818190545554), ('aussie', 0.33022326516977746), ('asian', 0.32939921494995356), ('price', 0.32934458209415135), ('highs', 0.329224006084184), ('aims', 0.32859597945042623), ('services', 0.3276963250760619), ('rallies', 0.32751581564455295), ('aa', 0.3267245680472672), ('nine', 0.32573585417437373), ('soy', 0.32380226553489505), ('real', 0.3234262524936963), ('british', 0.32107864783396967), ('sinks', 0.3208411394147304), ('ifo', 0.32047953882375124), ('site', 0.3198538331350386), ('accuses', 0.3195163359153176), ('upbeat', 0.31820668770513827), ('pace', 0.3181395686046296), ('tries', 0.3177912513247), ('order', 0.31543700451361617), ('products', 0.3148186968974152), ('versus', 0.31422994201967913), ('brands', 0.3122350778756414), ('lift', 0.3119875484151681), ('miami', 0.3114590050866972), ('around', 0.311274531284643), ('technology', 0.31001672431838084), ('0nd', 0.3067554734835756), ('fresh', 0.30622156257116523), ('japanese', 0.3059848858258751), ('blow', 0.30513543253596864), ('negative', 0.30399569699417517), ('hurt', 0.30242001464301366), ('private', 0.30131993551724445), ('post', 0.2998701951754768), ('extends', 0.2988949758462688), ('response', 0.2983104853779403), ('cools', 0.2973979360219358), ('dovish', 0.29712049359341247), ('dangerous', 0.2969465070948461), ('lets', 0.2968507637548091), ('enough', 0.2961193238507553), ('consumers', 0.29563407178616347), ('dispute', 0.2953759495933796), ('defense', 0.2940445130762916), ('back', 0.2920576193557236), ('right', 0.2911943563709831), ('sons', 0.2909696171138249), ('foods', 0.28988185285070694), ('recovers', 0.28966969041909324), ('camera', 0.2888737798414954), ('complete', 0.28842430090280347), ('ap', 0.2867367076234857), ('cancels', 0.28426128781996074), ('straight', 0.2832046757341714), ('begin', 0.28169605956316757), ('weighs', 0.2801659050065435), ('change', 0.2796669801548487), ('bullard', 0.2778182238085785), ('ousted', 0.27754840516791857), ('coal', 0.27706249395472204), ('doubles', 0.2740880721555854), ('risks', 0.2731646565902446), ('offer', 0.27295269275659345), ('april', 0.2729390691307981), ('urges', 0.27194610998759705), ('train', 0.2696308480603288), ('issue', 0.26862281604193067), ('entire', 0.26690086857749595), ('public', 0.2660741837515535), ('notes', 0.2651694844738376), ('era', 0.2644178612242239), ('future', 0.2634402676362144), ('cites', 0.25796979788898683), ('founder', 0.2572076363799602), ('woes', 0.25714052983184854), ('service', 0.2559347457127294), ('aren', 0.2547516065793022), ('four', 0.25374597092045154), ('claims', 0.25234691580906393), ('loss', 0.25207137128589124), ('winter', 0.2513602081384185), ('means', 0.2507784410328715), ('property', 0.2501244601016091), ('policies', 0.2497918513671037), ('la', 0.24922317244316494), ('five', 0.24882936855225998), ('manager', 0.24860716447323666), ('cbs', 0.24740615788021633), ('criminal', 0.24700890868809736), ('plus', 0.24689191971545582), ('picks', 0.24657503784196003), ('ohio', 0.24566514716165502), ('re', 0.24537287948566375), ('morgan', 0.24511210237817302), ('tensions', 0.24477066091135655), ('safe', 0.2418339144697254), ('beats', 0.24004943905326723), ('going', 0.23930311997120884), ('hits', 0.2342513417011994), ('coach', 0.23384025028254712), ('australian', 0.23265909194787485), ('stronger', 0.23148114187904995), ('misses', 0.22932070852326245), ('struggle', 0.22850524639121872), ('ad', 0.2281651498573719), ('worst', 0.2280894797267481), ('system', 0.2280040888764805), ('italian', 0.22756468333409324), ('miss', 0.22575069590861718), ('will', 0.2246149545398519), ('invest', 0.22449788904648318), ('plunge', 0.22361347327747974), ('text', 0.2234450374539193), ('sun', 0.2214680133386515), ('remains', 0.22129592619285055), ('fired', 0.22020316962654146), ('where', 0.2196332930630283), ('drive', 0.21780960418145642), ('fire', 0.21690343299658896), ('weigh', 0.21515622786849128), ('class', 0.2141322693479386), ('role', 0.2138414806752734), ('questions', 0.21273890917950566), ('freddie', 0.212668859593574), ('rights', 0.2121419771974413), ('medicare', 0.21206268314088653), ('letter', 0.21180937922291665), ('stays', 0.2090746536770468), ('cfo', 0.20900898630448464), ('left', 0.20844389900465787), ('online', 0.20837009802592146), ('helped', 0.20668877685332954), ('wild', 0.20657727104476833), ('area', 0.20556875180251255), ('americans', 0.20507510672361037), ('should', 0.20445991179090453), ('scrutiny', 0.20404240541426727), ('crash', 0.20329394190207514), ('fail', 0.2014565324544663), ('partners', 0.20099932534734558), ('orders', 0.20093517642203282), ('streak', 0.198571562273651), ('changes', 0.1978862202269777), ('dark', 0.19560409958349495), ('greek', 0.1943917638137228), ('car', 0.1933781150115231), ('nearly', 0.1923778486229153), ('keeps', 0.1922275568374587), ('stay', 0.19159528657901403), ('ease', 0.18955969109522458), ('steps', 0.18743055251219579), ('concern', 0.1866694393008227), ('plea', 0.184848833884041), ('action', 0.18480431404253136), ('digital', 0.1823041278223891), ('avoid', 0.18181334957120845), ('crop', 0.1815563186616258), ('mystery', 0.18076359268986794), ('jessica', 0.18049868627071172), ('stance', 0.1788890654095343), ('african', 0.17699002289940602), ('bloomberg', 0.17498308346883507), ('losing', 0.174704644690678), ('shines', 0.17361202982694077), ('states', 0.1731830994836127), ('check', 0.17165794768557688), ('disney', 0.1712100879226121), ('than', 0.16976263133116365), ('way', 0.16733991284833924), ('hit', 0.16647216722412103), ('die', 0.16634840807420634), ('on', 0.1658839315867579), ('deaths', 0.1631467530895872), ('africa', 0.16301466245745752), ('three', 0.16232345287563205), ('draper', 0.1620950031888967), ('must', 0.1620038935950759), ('economist', 0.16052414534212325), ('adds', 0.15954886236780916), ('play', 0.15935667388496108), ('threatens', 0.15927132454881593), ('aid', 0.1583244132596316), ('raises', 0.15769100634977895), ('jail', 0.15723602845512633), ('drone', 0.1570575517409008), ('fights', 0.15589412973641648), ('toyota', 0.15547914958600015), ('agree', 0.15498253622994876), ('needs', 0.15325402935633622), ('buys', 0.15101128545643863), ('worries', 0.14985912005847632), ('tsx', 0.14945387924124567), ('gun', 0.14838210710683553), ('green', 0.14816201650994867), ('least', 0.14712568554451677), ('mostly', 0.14696547193073944), ('chicago', 0.14694791112131664), ('problem', 0.14689756415621016), ('point', 0.14627006723164132), ('challenges', 0.1451287393592767), ('guidance', 0.14416808032335832), ('prepares', 0.14072159441089338), ('edge', 0.14062117985316896), ('report', 0.14016364188874916), ('scandal', 0.13974840575461495), ('lawmakers', 0.13793672210666044), ('drag', 0.13654002297937412), ('history', 0.1346461806362811), ('signs', 0.1323441041164704), ('allow', 0.13067814221821583), ('meet', 0.13041120277029664), ('competition', 0.12934580135035587), ('mixed', 0.1279295755706889), ('latest', 0.1272012743025115), ('moment', 0.1269087525325023), ('website', 0.12669886663527177), ('job', 0.12530632266050307), ('north', 0.12467302045286982), ('including', 0.12065796068175717), ('jd', 0.12000554167737187), ('speed', 0.11850651746690616), ('further', 0.11768623567617582), ('given', 0.1169288546394393), ('drugs', 0.11690234071459116), ('finally', 0.11662505104145252), ('line', 0.11603685467354115), ('congress', 0.11554225465264185), ('impact', 0.11353191055430242), ('pink', 0.11319856234512604), ('patent', 0.11238660986337175), ('cloud', 0.10950140822585745), ('calls', 0.10922598459889818), ('social', 0.10659517124063538), ('sea', 0.10648681163576315), ('tony', 0.10617977198415378), ('group', 0.10607180099237488), ('hard', 0.10027489543118769), ('intel', 0.09455543482395475), ('not', 0.09346295927815683), ('being', 0.09054636410514966), ('run', 0.09053165679538666), ('jury', 0.08746760913763277), ('effects', 0.0863505571421993), ('doing', 0.08619926402252064), ('they', 0.08371976117095647), ('challenge', 0.08298902121863765), ('wake', 0.07986470962874019), ('tech', 0.07962945421286478), ('monday', 0.07936883769870766), ('house', 0.07845373408577001), ('fourth', 0.0772235660889923), ('fargo', 0.07663643708023024), ('senate', 0.07589651256813), ('beef', 0.0740835992307425), ('bad', 0.07267556062975282), ('bet', 0.07164294684773376), ('ireland', 0.0713937299088947), ('california', 0.07124346916729206), ('vs', 0.0708033865942577), ('to', 0.06831531994341385), ('multi', 0.06749254367229496), ('account', 0.06575729238185672), ('seven', 0.06529975580357865), ('denies', 0.06511810302773381), ('medtronic', 0.06500372535067193), ('eyed', 0.06406644518740445), ('mail', 0.061881879605769595), ('an', 0.06181788019729908), ('road', 0.061367389329953496), ('novartis', 0.06071463889611864), ('shot', 0.06023161619022648), ('slams', 0.05867312288321042), ('haven', 0.05817453645507134), ('national', 0.05645007802945726), ('between', 0.05622660663750528), ('speculation', 0.05439790125419236), ('threat', 0.054215321373457775), ('design', 0.05365179654711934), ('officials', 0.053338970686881364), ('step', 0.05264108045684198), ('opening', 0.052045907595734194), ('inside', 0.05168179886065151), ('sends', 0.051409397133273214), ('billionaire', 0.04974417560434791), ('activists', 0.04968603078390468), ('refile', 0.049062311507863346), ('towards', 0.048176519160595004), ('growing', 0.04741268299433845), ('too', 0.04729623252760266), ('heads', 0.045599763267380404), ('tell', 0.044976615760715176), ('share', 0.043457885171383624), ('link', 0.04291186722599936), ('ratings', 0.04115969747286055), ('store', 0.04104590808193978), ('until', 0.04086953440970525), ('comeback', 0.04006724421034969), ('regulator', 0.03943585979476783), ('club', 0.03803458043067407), ('after', 0.03802651323809607), ('thinks', 0.03799641656370374), ('magazine', 0.0357412392004778), ('fires', 0.03448906084162592), ('korea', 0.03411255114081329), ('debate', 0.03396883734814534), ('colin', 0.03309434783964884), ('loses', 0.030338924328068357), ('short', 0.028891435502651153), ('third', 0.028721664450789372), ('prime', 0.027128050439126486), ('isn', 0.02593524607176825), ('begins', 0.025751705775415492), ('no', 0.023614134106047138), ('turn', 0.0227916352265679), ('fears', 0.022743006006225343), ('positive', 0.022643006810482556), ('warn', 0.022306794541524625), ('track', 0.021149778326883077), ('war', 0.019894186300820817), ('announce', 0.01818634914869162), ('bids', 0.018118633532845166), ('rising', 0.01752361591947365), ('part', 0.017218567115205165), ('but', 0.016183803044449697), ('set', 0.015282354080242951), ('behind', 0.012908267705697717), ('suggests', 0.01261061637560569), ('how', 0.012608688389212185), ('when', 0.012547229120834986), ('driver', 0.01022791991815995), ('pretty', 0.008748041446379641), ('charge', 0.00814305783845869), ('reaches', 0.00805818576761093), ('allegedly', 0.0072795993734955265), ('test', 0.005515262210627294), ('pleads', 0.005161718972999735), ('supreme', 0.005109802373956949), ('room', 0.004946177495357441), ('some', -0.00041116642418715835), ('wrong', -0.0025764173512092354), ('friday', -0.0032485917789358983), ('gilead', -0.003531100301930742), ('talk', -0.0047299469122790965), ('yet', -0.005676130717118884), ('accelerates', -0.006809500512388913), ('mission', -0.007545323671204216), ('others', -0.008319877162968467), ('struggles', -0.008422741458767499), ('leaving', -0.009158481339204197), ('evans', -0.00930473874049056), ('super', -0.009705986431939588), ('russell', -0.010671314151793404), ('story', -0.011062292781858519), ('platinum', -0.012238063931028931), ('join', -0.012271243284686604), ('pulled', -0.012274916244839574), ('possible', -0.012372987359110679), ('expand', -0.013522947505468275), ('minutes', -0.016140702307886046), ('tight', -0.016356934912408784), ('small', -0.01722989797124076), ('light', -0.017435830506681765), ('restaurant', -0.017569007117960236), ('might', -0.017772174423254933), ('carey', -0.01818108746194736), ('beautiful', -0.020994860152739353), ('opens', -0.02275744414700931), ('know', -0.024598299194443896), ('up', -0.024641174996119102), ('trip', -0.02580274038961059), ('0th', -0.026002651609430855), ('giving', -0.026635329063200038), ('team', -0.027505627590849388), ('strong', -0.028015386688243663), ('worker', -0.030945598308757767), ('issues', -0.03111173650571565), ('assault', -0.03131980107529872), ('mom', -0.03424624810455792), ('used', -0.03477791349261272), ('another', -0.03499478502185573), ('head', -0.03608028221660867), ('urban', -0.03672836490735898), ('ads', -0.03704749175988095), ('ashton', -0.03756804812976166), ('snaps', -0.0386383398657365), ('sorry', -0.03898790198713593), ('ruling', -0.039657181258240234), ('authorities', -0.04136357970158971), ('better', -0.043343724008534736), ('labor', -0.043490790149299643), ('just', -0.04392667193206213), ('celebrity', -0.04507749968705311), ('white', -0.04584056587356179), ('weeks', -0.04588017622041162), ('approves', -0.04621273352872227), ('fast', -0.0473530782563741), ('official', -0.047434561890354096), ('bizarre', -0.04831726249509851), ('judge', -0.0485859148788004), ('really', -0.04963229412809124), ('duke', -0.05070909964533182), ('lee', -0.050938051321628944), ('surprise', -0.051192446966457805), ('joke', -0.05275721183775453), ('musk', -0.053660309550711244), ('help', -0.053729079405717334), ('leads', -0.053845881626285), ('iconic', -0.054012898319226066), ('which', -0.055504104788325494), ('our', -0.05776934463197986), ('face', -0.057945841439484766), ('final', -0.058803301238422354), ('vows', -0.058983499865360355), ('visits', -0.05961533487108902), ('records', -0.05971087398692299), ('thanks', -0.06110803199472335), ('pope', -0.06155335009890606), ('hints', -0.06278004699279084), ('awaited', -0.06303440755590846), ('abuse', -0.0640615961392077), ('taking', -0.06478712723003284), ('ask', -0.06482849242262463), ('lose', -0.06562941642311097), ('didn', -0.06572886751259094), ('fails', -0.06613905715736972), ('meets', -0.06641147883652247), ('jack', -0.06757994641426308), ('broken', -0.07196281276461428), ('roberts', -0.07214733739862914), ('next', -0.07396619161140801), ('ipad', -0.07435838692304508), ('two', -0.07510866901410873), ('reduce', -0.07644233316538111), ('now', -0.07676691991439341), ('casts', -0.07788263936586923), ('alleged', -0.07808568936363448), ('suit', -0.07871592438034188), ('walks', -0.07964895917227752), ('thing', -0.08120745792429951), ('late', -0.08136631572538175), ('big', -0.08436481073409698), ('curb', -0.08491182424648074), ('dean', -0.08494684754556331), ('romance', -0.08842739507747463), ('protect', -0.08850393505393242), ('naked', -0.08943001063998972), ('model', -0.08958206880149786), ('government', -0.09081178204651312), ('fix', -0.09116025588398947), ('take', -0.09133947412164066), ('ready', -0.09137346469522901), ('production', -0.09166901488667308), ('joint', -0.09177269001362336), ('island', -0.09212123841093876), ('major', -0.0931670958560499), ('conference', -0.09408857419650624), ('everyone', -0.09426496734732621), ('advances', -0.09484764074486156), ('charges', -0.0959550198894175), ('prevent', -0.09620600196219471), ('cigarette', -0.09669936088218715), ('only', -0.09701011544507544), ('round', -0.09789893419661023), ('martin', -0.10189642351029649), ('boosts', -0.10249622042341652), ('carbon', -0.10336009339196651), ('well', -0.10413355226301248), ('stewart', -0.1042256002452977), ('app', -0.10564427407815313), ('working', -0.10750612882270008), ('becomes', -0.10833637391645852), ('project', -0.10853753215173348), ('illinois', -0.10854344006860515), ('sparks', -0.10990331984131745), ('reports', -0.11000907677678283), ('here', -0.11019288504263047), ('0m', -0.11102863700892135), ('other', -0.11123891749601914), ('battery', -0.11135205511399195), ('news', -0.11441521928825134), ('hepatitis', -0.11460410729473362), ('bangerz', -0.11475305278787042), ('ibm', -0.11682740576069674), ('boost', -0.11729282045905227), ('food', -0.11799703410936369), ('hunting', -0.11908400287867307), ('inspired', -0.11935396988950527), ('number', -0.11958980333364616), ('vehicles', -0.11971551318078641), ('expecting', -0.12000853818171604), ('daily', -0.12112220082379432), ('pressure', -0.1212245816952375), ('hamptons', -0.12125843818098918), ('come', -0.1227094785613293), ('breast', -0.12346657483230743), ('mark', -0.12388819021016326), ('seek', -0.12403455352037365), ('ex', -0.12414506270778095), ('bear', -0.1257417786440722), ('budget', -0.1260280451626454), ('case', -0.12689144854440496), ('almost', -0.1270910247904361), ('research', -0.1281644864059082), ('problems', -0.13128471971724096), ('seat', -0.13151198582440324), ('perform', -0.1344611924336657), ('forgotten', -0.13679039429757503), ('fox', -0.13794111101636458), ('name', -0.13950322906384963), ('loves', -0.13995260513580562), ('refuses', -0.14011675632753362), ('slow', -0.1405755825353543), ('switch', -0.1415554567506915), ('alamuddin', -0.142603046828841), ('amal', -0.142603046828841), ('great', -0.14272186273895218), ('nyc', -0.1427785685401039), ('foreign', -0.1434436908152515), ('caught', -0.14385548394646203), ('puts', -0.14761575200703184), ('block', -0.14780478269107528), ('admits', -0.14930884160701022), ('split', -0.1502538013848728), ('fake', -0.1522061305123632), ('driving', -0.1527183109282362), ('cancel', -0.1532680025648274), ('among', -0.1550710680154193), ('plunging', -0.1556334792802431), ('row', -0.15685444579706737), ('fallon', -0.1572192430499293), ('beat', -0.15802610824836322), ('actually', -0.15808165848235187), ('so', -0.1602663723805043), ('ceremony', -0.1612868947411031), ('act', -0.16172074240512807), ('dressed', -0.16333582035447308), ('six', -0.16381111331734752), ('morning', -0.16540212033250057), ('arrives', -0.16706022907929208), ('elizabeth', -0.16860870855842583), ('full', -0.17002126928019784), ('into', -0.17062677400788998), ('knowles', -0.17086463531033413), ('at', -0.1727260754648382), ('teams', -0.1743939545480004), ('herself', -0.174705953860077), ('long', -0.1757024338249834), ('emerging', -0.1760436441037274), ('tests', -0.1767696386048448), ('attacks', -0.17738708915193088), ('blames', -0.17766178341751673), ('shepherd', -0.17822121172385), ('sherri', -0.17822121172385), ('soft', -0.17957339863771404), ('nissan', -0.17976704464240334), ('many', -0.18137328368096184), ('rivals', -0.18293483816131065), ('kourtney', -0.1832567836871692), ('monteith', -0.1845298783596921), ('reasons', -0.185644076550324), ('pop', -0.18672079052818832), ('replace', -0.18771448209393715), ('paula', -0.18779942322902263), ('kimye', -0.19025930361379992), ('via', -0.19089520196479695), ('style', -0.19147562245833094), ('friend', -0.19187547542812894), ('sexual', -0.1921045953247239), ('does', -0.1926418800260561), ('won', -0.19287891427886872), ('view', -0.1932622505740578), ('kris', -0.19516818251980744), ('self', -0.19525158512964866), ('controversy', -0.1953646079829229), ('tattoo', -0.19560157318748717), ('proposed', -0.19605290583405466), ('gets', -0.19674665718729256), ('auction', -0.1982750530276442), ('pictures', -0.1984891469990238), ('message', -0.1985463304918639), ('vogue', -0.1987205870661139), ('likely', -0.20220263260466317), ('bikini', -0.2026832089467925), ('disease', -0.20380620616777823), ('warning', -0.20385584425943903), ('accused', -0.20531951246799182), ('cause', -0.20546653343783342), ('very', -0.20592122390627304), ('wears', -0.20762788737568458), ('tweets', -0.20776704554725145), ('forced', -0.2078920686733929), ('police', -0.2087401968943338), ('nothing', -0.21046865498693415), ('women', -0.21100195167530525), ('names', -0.21195667396281884), ('hint', -0.21379226288037445), ('rose', -0.21379377928252774), ('critics', -0.21398137159707878), ('stunning', -0.21436486717016026), ('millions', -0.21546174657701805), ('last', -0.21551049445742598), ('church', -0.2162236189243008), ('put', -0.21623798128756028), ('one', -0.2165836059440449), ('even', -0.21830860860096726), ('awesome', -0.2196109576941366), ('picture', -0.22021419709461312), ('extend', -0.2207463211802544), ('tops', -0.2207529192524744), ('trying', -0.2209192798004258), ('beyond', -0.22174776213540165), ('much', -0.2218451340761172), ('expects', -0.22276544679482785), ('key', -0.2237404514553604), ('cory', -0.224038414129763), ('making', -0.22520153387124692), ('america', -0.2254328821218868), ('confirmed', -0.22616629297771407), ('performance', -0.22661617045828517), ('break', -0.22686655460788374), ('cube', -0.22700833221969918), ('size', -0.22705253305984238), ('contestant', -0.22815067006645828), ('build', -0.22866454952544468), ('investigation', -0.22875276602875413), ('letterman', -0.23011229364272084), ('get', -0.23036531357331444), ('ultra', -0.23084101644214447), ('lands', -0.23191134485899936), ('deadly', -0.23221490150231017), ('kutcher', -0.23260010832062383), ('place', -0.23288041786830058), ('azalea', -0.23307728813409856), ('wasn', -0.23383316487365435), ('nfl', -0.23598773541064155), ('hands', -0.2366728315466948), ('has', -0.2372117874781904), ('accident', -0.23774638604901366), ('marry', -0.23918986237477805), ('him', -0.23945695423255492), ('scenes', -0.23959358202758516), ('through', -0.23985338490340818), ('hemsworth', -0.24026051151814828), ('probably', -0.2414602939863481), ('interview', -0.2415022938123244), ('sunday', -0.2415089865962794), ('topless', -0.24298730010754374), ('experiment', -0.24340663643058355), ('anna', -0.24346270723988636), ('iggy', -0.2447320635692439), ('living', -0.24532635793694638), ('niro', -0.2457378181746066), ('matthew', -0.24792242935377223), ('facing', -0.24832553781187117), ('andi', -0.24866733768948604), ('doesn', -0.24906034786898945), ('scene', -0.24990362281765574), ('cars', -0.2501996364680939), ('spends', -0.2509448708204271), ('elle', -0.251856455206565), ('guardians', -0.2522627719454861), ('hotel', -0.252457955876847), ('ve', -0.2526489541813163), ('shoot', -0.25428275308939147), ('dawn', -0.254310310550425), ('jump', -0.254894257343872), ('return', -0.25509722567826093), ('yahoo', -0.25546919392404077), ('james', -0.2556225212840892), ('mice', -0.25617770661229017), ('unveils', -0.2577315383665484), ('risk', -0.25843447704302913), ('coldplay', -0.2590966192595941), ('air', -0.2598531760045482), ('longer', -0.2607341915664995), ('cannon', -0.2608289799868118), ('award', -0.26121923869011104), ('dance', -0.2613451407323882), ('female', -0.26147897624580024), ('khloé', -0.2615180327195482), ('any', -0.2615599104014674), ('career', -0.26207974981388), ('winslet', -0.26236800798540316), ('brothers', -0.2628010549400087), ('ban', -0.26330965475133106), ('health', -0.2661056967864609), ('source', -0.26639546686085425), ('racist', -0.2672753505515882), ('confirms', -0.2682799241675276), ('bmw', -0.26845103931531783), ('paris', -0.2687360986327118), ('hamm', -0.2694750303602769), ('raised', -0.26986181872701887), ('officially', -0.27013164563069264), ('healthy', -0.2706948087673354), ('today', -0.2715344825242677), ('theft', -0.27182698099528246), ('need', -0.27184561159208304), ('kylie', -0.27323753833014286), ('kendall', -0.2735554035700935), ('lawrence', -0.2744362987682961), ('fame', -0.2749230706804625), ('wsj', -0.2750491907627783), ('had', -0.2764989559547913), ('reaction', -0.2779124578992265), ('lead', -0.2781706398759977), ('rachel', -0.2794212910379978), ('what', -0.27955123234506274), ('tells', -0.2800156998660442), ('become', -0.28048402166578057), ('saturday', -0.2808083876006575), ('louis', -0.2809551080546933), ('false', -0.2821542028843931), ('spot', -0.28230507165192675), ('city', -0.2823182833697638), ('save', -0.2824977717371557), ('vii', -0.2826331287420217), ('sir', -0.28305603416600883), ('downey', -0.283084969234243), ('levine', -0.28368338455881004), ('engagement', -0.28439587733554567), ('maleficent', -0.28628377603144545), ('stefani', -0.2866575546958709), ('in', -0.287381618909001), ('snl', -0.28740493133633066), ('fanning', -0.28768192777928236), ('peter', -0.2888413175267474), ('aguilera', -0.2897936022757692), ('rehab', -0.2900689443404156), ('bigger', -0.2913279604952489), ('explains', -0.2913932524638278), ('breaks', -0.29223951606358123), ('relationship', -0.2925969128891141), ('oscars', -0.2927098599837406), ('years', -0.2933560775401012), ('fuel', -0.2935845009694168), ('family', -0.29465566207787774), ('ebay', -0.29470319269157164), ('healthcare', -0.2949636633579153), ('aaliyah', -0.2950229831117289), ('band', -0.29582240587734376), ('johnson', -0.2964969570265339), ('flies', -0.2965990044785959), ('ariana', -0.2974048943078612), ('grande', -0.2974048943078612), ('follow', -0.2978955395309866), ('donnell', -0.2980516014039087), ('rosie', -0.2980516014039087), ('lopez', -0.29825649446019087), ('international', -0.29825816230130187), ('winner', -0.2995242554629992), ('neighbors', -0.2995360895517088), ('anniversary', -0.29958590187204764), ('middle', -0.29973221162180663), ('out', -0.3000207014696073), ('obama', -0.30037116931228713), ('selling', -0.3007230404112861), ('huge', -0.3012130369557175), ('crashes', -0.30220903572251545), ('gwen', -0.30240737738394224), ('direction', -0.3024342111422795), ('katy', -0.3028849030936058), ('reason', -0.3043550281886716), ('speaks', -0.3044737793719101), ('patrick', -0.3048179186130983), ('welcome', -0.30559762850530214), ('rowling', -0.30586152105844405), ('blasts', -0.3060062003905687), ('drama', -0.30604454895275707), ('divorce', -0.3062697880069433), ('girls', -0.30681615415805985), ('ruby', -0.30917051998124273), ('good', -0.309291347135526), ('hosts', -0.3096918569190142), ('gala', -0.31063597421471), ('kerr', -0.3108955298930068), ('eric', -0.3112139875678205), ('pippa', -0.3114228868610956), ('lost', -0.3115523663557383), ('why', -0.3119096358994869), ('charity', -0.3121949246081698), ('extinction', -0.31232317551171107), ('angeles', -0.31346143366759455), ('los', -0.31346143366759455), ('oldman', -0.31383106153076035), ('celebrates', -0.3143874037067558), ('billboard', -0.3144781947275865), ('thursday', -0.3147461536632023), ('different', -0.31478354836752687), ('beyoncé', -0.31507402496793363), ('rumours', -0.3162112955001586), ('levels', -0.31660240598995565), ('allen', -0.316855225711901), ('mickey', -0.31740771889502906), ('florida', -0.31823538402414425), ('diaz', -0.319181632347141), ('dee', -0.31987753589206314), ('together', -0.320121055234073), ('britain', -0.3225428583732485), ('minaj', -0.3232347594518337), ('nicki', -0.3232347594518337), ('floyd', -0.32351897795636947), ('mccartney', -0.3241140205029955), ('zendaya', -0.3244038349794463), ('0s', -0.32449202684028533), ('under', -0.32460508411918126), ('let', -0.3249044095077217), ('cheating', -0.3252917960330947), ('it', -0.32531336092988145), ('pattinson', -0.3259410469551311), ('lot', -0.3262351948769311), ('looks', -0.3270290513598567), ('cancelled', -0.3280965688865091), ('radcliffe', -0.3280992363436387), ('blogs', -0.3297471983748787), ('barrymore', -0.329931939929806), ('claim', -0.3299860224528631), ('appear', -0.33110747312847405), ('web', -0.3317587971792534), ('defends', -0.3320645475443671), ('black', -0.3322100353709817), ('non', -0.33225806652866813), ('mariah', -0.3323469899876806), ('affleck', -0.33307786671142514), ('lily', -0.33334842042634794), ('barra', -0.33453072512491094), ('comic', -0.33469117682215443), ('juan', -0.33539942430764813), ('superman', -0.33562595351892055), ('gq', -0.3359052923583951), ('state', -0.33591590788797854), ('keep', -0.33642200663481237), ('funeral', -0.3365312000177641), ('choice', -0.33691391512453467), ('engaged', -0.3374833319843729), ('teenage', -0.3378140622062904), ('wanted', -0.3380735029695895), ('direct', -0.33825691089689236), ('single', -0.33845211590868096), ('wish', -0.33872696789791457), ('hours', -0.3398061470631379), ('brother', -0.34026120842452046), ('security', -0.34125982989278847), ('kiss', -0.34251392770990563), ('gosling', -0.342834579686964), ('exclusive', -0.3433404464584698), ('drew', -0.34486299891354444), ('jr', -0.34500787730759214), ('concert', -0.34547829225821985), ('jupiter', -0.3461570748704246), ('survey', -0.34684218056805527), ('announces', -0.34734371865476954), ('apology', -0.3485022225641713), ('if', -0.3499968702669626), ('cold', -0.35049263934867825), ('rape', -0.3523984072992374), ('days', -0.353106292084244), ('named', -0.35362542796787305), ('giant', -0.3541079466430584), ('fashion', -0.35496457748163873), ('figure', -0.35507173194302966), ('potter', -0.3572988030232914), ('tyson', -0.3575944104935152), ('do', -0.3578192870807936), ('privacy', -0.3589226433038504), ('pitt', -0.35898985538906664), ('hall', -0.3590015238890673), ('advice', -0.35925918891558156), ('sxsw', -0.3593883164668824), ('shailene', -0.3597959906781303), ('woodley', -0.3597959906781303), ('due', -0.3600857972074308), ('guide', -0.3618893914124726), ('hosting', -0.3624547051108808), ('rogen', -0.36261840336612894), ('rules', -0.36369439000101533), ('told', -0.36406892665047785), ('hollywood', -0.3643062327370239), ('proves', -0.36477238938132106), ('sued', -0.3666889569580954), ('nbc', -0.36756271809788743), ('julia', -0.3685750635314126), ('make', -0.3686880491806753), ('sawyer', -0.36928428432362814), ('sister', -0.36991025678050415), ('prompt', -0.37026450898769886), ('joining', -0.3702658578622997), ('porn', -0.3719378831223395), ('cable', -0.37297479687427554), ('these', -0.37298683765903745), ('rob', -0.373583827137022), ('sofia', -0.37417810550442093), ('ll', -0.3759597878902258), ('date', -0.3766404994740374), ('pablo', -0.37685024914627896), ('every', -0.37694591473530775), ('soldier', -0.37705435779759866), ('condition', -0.3774906460910796), ('dancing', -0.37766491670992236), ('agency', -0.37795799832804056), ('married', -0.3785672072934268), ('takes', -0.37967340424937873), ('jason', -0.3810094337724199), ('returns', -0.3810832328325836), ('middleton', -0.3821710720109187), ('me', -0.38227217835425), ('turns', -0.3823567111980314), ('michael', -0.38262971174286614), ('quit', -0.38303481354049135), ('rock', -0.38346234904013193), ('ever', -0.38352402102032024), ('orlando', -0.38355762457428716), ('mrs', -0.38510767722199324), ('leaves', -0.3861417545562986), ('batman', -0.3868725255213341), ('led', -0.3909969144740975), ('hair', -0.3910725322610098), ('veronica', -0.3914133063779061), ('recap', -0.3921490735483964), ('is', -0.3926789378513252), ('girlfriend', -0.39268619911635916), ('charged', -0.3946413054955763), ('josh', -0.394869755352927), ('true', -0.3954296868249817), ('got', -0.39546061173093094), ('carpet', -0.39562980175554824), ('0million', -0.395835856959796), ('aronofsky', -0.3968476257333935), ('celebrate', -0.3990054338122496), ('pre', -0.40188918995086514), ('getting', -0.40226850600366176), ('words', -0.40301567506959135), ('lambert', -0.40309495435402143), ('find', -0.40424516191884147), ('care', -0.4047241973769693), ('outside', -0.40528812772685535), ('hugh', -0.4055185500247409), ('sexy', -0.40577181143475394), ('leonardo', -0.40603163481632515), ('brooks', -0.4075155767988105), ('reunion', -0.4082752745641703), ('gown', -0.4084437321788233), ('sarah', -0.41013629166148763), ('filming', -0.410150308755353), ('vmas', -0.41068922594634844), ('ftc', -0.41103904142321873), ('double', -0.4112730912273858), ('kiefer', -0.41138683466670434), ('boyfriend', -0.41328065738578024), ('stop', -0.41408474863578065), ('leaked', -0.4145204556619357), ('liam', -0.4148443566343007), ('spelling', -0.41523771473847954), ('lifetime', -0.4156950487920495), ('stones', -0.4161660307395852), ('animal', -0.41617605524058515), ('helps', -0.41766142141113943), ('reunite', -0.4176647792582937), ('garfield', -0.41868100005511144), ('frozen', -0.41877542929552836), ('dog', -0.41883182400412927), ('song', -0.41899060718980496), ('johansson', -0.4196204635454238), ('daniel', -0.41986550574849213), ('gig', -0.42041302914593753), ('queen', -0.42255295484779537), ('nude', -0.42454176814283023), ('work', -0.4247005010487946), ('jones', -0.42561244973243884), ('eye', -0.4262685267010759), ('sutherland', -0.42633581286288624), ('sets', -0.42640431656737077), ('elsa', -0.42735997327461855), ('gary', -0.42745420919967997), ('original', -0.4275548959995141), ('special', -0.4281686508887757), ('rick', -0.42823346628823517), ('saudi', -0.42930430239617046), ('demands', -0.43014638194441296), ('bring', -0.4305191122559374), ('look', -0.43074519386305443), ('weds', -0.43211026343734804), ('bang', -0.4328393416046958), ('alert', -0.43291489092343893), ('mtv', -0.4330038872483848), ('smith', -0.43356819249911754), ('found', -0.433661521010005), ('dream', -0.43399904862280286), ('terry', -0.43444765185710305), ('watson', -0.43574718774511), ('matt', -0.43594765319382767), ('dc', -0.4360449977838736), ('magic', -0.43646144774955004), ('gaga', -0.4372245720824409), ('alien', -0.43796110631333063), ('massive', -0.43813964049302606), ('ann', -0.43832476555608146), ('off', -0.43893312045545624), ('give', -0.43919839525988846), ('scarlett', -0.43956905001119184), ('tobacco', -0.4401575871875735), ('handler', -0.440433022858005), ('diane', -0.4407696188696097), ('force', -0.44119901925472405), ('father', -0.44124870834567653), ('lana', -0.4414912884301123), ('geldof', -0.4414920389172095), ('coming', -0.44195341567192903), ('andrew', -0.44290481280073524), ('glee', -0.4429776341655292), ('episode', -0.4433945848678981), ('del', -0.44383852424428927), ('rey', -0.44383852424428927), ('killer', -0.4448148776397596), ('was', -0.44556816506811303), ('friends', -0.4460115136160302), ('spreads', -0.44632239607505425), ('solange', -0.4482493060247183), ('cobain', -0.4484191701124409), ('actress', -0.4489424189502545), ('delayed', -0.44967742399378896), ('hacked', -0.4500139311919457), ('brad', -0.45207726595642805), ('crowe', -0.4542270802757067), ('bucket', -0.45491209604750443), ('everything', -0.45564648688234255), ('christina', -0.45604724634277527), ('watch', -0.4565931688629185), ('warrant', -0.4566845176975654), ('perry', -0.45834692728027204), ('sues', -0.4588189578211317), ('dunham', -0.45932652980846495), ('lena', -0.45932652980846495), ('britney', -0.45965060938345514), ('peaches', -0.46125100781582795), ('treatment', -0.4617849261514355), ('dicaprio', -0.4619385304327789), ('olivia', -0.4623437769675935), ('finale', -0.4625390269077965), ('aged', -0.46262154519727183), ('jagger', -0.4626933135724326), ('bachelorette', -0.4628070948120788), ('musical', -0.4633249423433764), ('launch', -0.463791016575213), ('marvel', -0.46398242011805035), ('poses', -0.46404459033941925), ('joe', -0.4644711190934865), ('tori', -0.46578337794909447), ('their', -0.466690915107431), ('fair', -0.46689070968051555), ('adam', -0.46697438850741124), ('jackman', -0.46737898900302427), ('ben', -0.4677533236526644), ('parents', -0.46803076882909594), ('moves', -0.46866900482617163), ('spears', -0.46876369933950385), ('cruise', -0.46914529439092023), ('bob', -0.4697169671194718), ('streaming', -0.4697871468135085), ('device', -0.47023056509847755), ('garth', -0.4707642296244109), ('spacex', -0.47122133478059947), ('infection', -0.47237439088375915), ('blue', -0.4733244085764138), ('kunis', -0.47371547826720484), ('mila', -0.47371547826720484), ('demi', -0.47513587946188085), ('lovato', -0.47513587946188085), ('jon', -0.4757233036048739), ('divergent', -0.4760824225187355), ('films', -0.47689173356367476), ('ac', -0.4770153873805082), ('start', -0.4772280820111179), ('like', -0.47762500342469166), ('son', -0.47874293898631787), ('uncoupling', -0.47917408837657055), ('nyong', -0.48053493726206087), ('megan', -0.48088832603876025), ('drink', -0.48191658212250393), ('cameron', -0.4838515199071841), ('lupita', -0.4843877992663483), ('linked', -0.48483251549593237), ('williams', -0.48598185075460903), ('see', -0.48634653432551767), ('mick', -0.48643037987965293), ('works', -0.4867465853611717), ('free', -0.4873390070987305), ('revealed', -0.48750066671315434), ('rooney', -0.4898164898396119), ('stone', -0.49044928581821184), ('pharrell', -0.4909326894019603), ('husband', -0.4912712018462507), ('franco', -0.49215938383241997), ('guinea', -0.49226945693691376), ('keith', -0.4947526789707991), ('reportedly', -0.49479125268983504), ('rihanna', -0.49504378260122706), ('acting', -0.4956249363773643), ('grey', -0.4967321979195455), ('khloe', -0.4983631149973728), ('madonna', -0.4984441278311), ('arrest', -0.49850429200031915), ('tatum', -0.499155270654891), ('oprah', -0.4991760511845307), ('times', -0.49932092920493887), ('secret', -0.5009110912275826), ('fan', -0.5016815769503413), ('frankie', -0.502221299919887), ('ice', -0.5023640454992363), ('lawsuit', -0.5024495176552607), ('monster', -0.5024960144413861), ('subscribers', -0.5098558175536487), ('eva', -0.510158905383182), ('allergic', -0.5103726943672139), ('melissa', -0.51045482848606), ('amy', -0.5117846454105573), ('spider', -0.5120151368883005), ('there', -0.5123475314377107), ('may', -0.5127578547477181), ('hill', -0.5127704943586958), ('bryan', -0.5135902815311988), ('fat', -0.5136447327208395), ('own', -0.5139708142849204), ('old', -0.5140060469472951), ('happy', -0.5155714437028589), ('usa', -0.5157903343317498), ('movies', -0.5164907574463978), ('perfect', -0.5185345549491758), ('montana', -0.5189259593780613), ('richard', -0.5219294212767243), ('land', -0.5241258113540412), ('abc', -0.5249789282487501), ('dress', -0.5268661731510467), ('katherine', -0.5268756664887866), ('rolf', -0.5269781239243683), ('finds', -0.5281817761981), ('katie', -0.5285067778985444), ('network', -0.529755703822054), ('from', -0.5299198173725493), ('daddy', -0.5318580751967437), ('releases', -0.5320631930991238), ('lady', -0.5331784380076258), ('winning', -0.5343745255070681), ('android', -0.5347857714502117), ('federal', -0.5348058621784401), ('campaign', -0.5361114328626648), ('incident', -0.5366712869841286), ('reviews', -0.5376873142594333), ('depp', -0.5377837346406301), ('selfie', -0.5379846637574862), ('were', -0.5380193000677502), ('amazing', -0.5400914194744092), ('makes', -0.5431428533797092), ('hospital', -0.5436547086551042), ('marriage', -0.5444585119054712), ('steve', -0.544586422953544), ('first', -0.5456652507507176), ('cover', -0.5471932226929933), ('voice', -0.5477420044395398), ('say', -0.5485281998209509), ('nick', -0.5489766637457935), ('rapper', -0.5500795495754984), ('past', -0.5503462869078986), ('unveil', -0.5503892939823762), ('electric', -0.5510268048746286), ('roll', -0.551991839803803), ('harrison', -0.5524043487665702), ('jenner', -0.5528719172523482), ('wins', -0.5544408518911936), ('body', -0.5585063673612457), ('joins', -0.5592672906320757), ('former', -0.5600816662275716), ('called', -0.560812518250777), ('michele', -0.561064396803147), ('tribeca', -0.5632433769085385), ('columbus', -0.5635505924151094), ('across', -0.5640146671419618), ('sick', -0.5641988612490371), ('spring', -0.5649480513554455), ('murder', -0.565693032671172), ('tammy', -0.5665420976047258), ('again', -0.5665650345778181), ('joan', -0.5671924078230764), ('gwyneth', -0.5677087852676224), ('games', -0.5681506470584905), ('pictured', -0.5682003107135221), ('morrissey', -0.5699451845399185), ('blackberry', -0.5700481315973406), ('creator', -0.5707790299245353), ('transcendence', -0.5715167924870352), ('chelsea', -0.571671105408614), ('stephen', -0.5717991422432877), ('hot', -0.5761086502327839), ('bachelor', -0.5771203077506727), ('fight', -0.5772378941732456), ('marc', -0.5778911151514395), ('shooting', -0.5790697559009439), ('walk', -0.5816581351136303), ('paltrow', -0.583080626950197), ('robert', -0.5844192198427647), ('shower', -0.5847839943081665), ('held', -0.5853591286532498), ('lea', -0.5859180186414092), ('shows', -0.5859262653285712), ('half', -0.5866875964959166), ('following', -0.5882214174664819), ('box', -0.588752148852018), ('release', -0.588821618695664), ('rolling', -0.5897489204911285), ('himself', -0.5908453054586976), ('tonight', -0.5912880389141688), ('kill', -0.5941661323906444), ('soon', -0.5945448193090616), ('jimmy', -0.5946920652371975), ('thicke', -0.5952908709350138), ('men', -0.5957344153178789), ('use', -0.5958183604314082), ('ring', -0.5958355645924672), ('shia', -0.5999379909586375), ('efron', -0.6005787512947993), ('mexico', -0.6010871289132059), ('gives', -0.6015844545308284), ('stage', -0.6016179930737428), ('smart', -0.6017354463261005), ('ways', -0.6034293225863238), ('develop', -0.6056195321520276), ('zac', -0.6062809160715725), ('wars', -0.6065128181904731), ('sprint', -0.6076661118835218), ('about', -0.6079938793816293), ('mccarthy', -0.6083546957609838), ('school', -0.6087992771735412), ('toll', -0.6095242317991598), ('tom', -0.6102172954500645), ('john', -0.6115485481681645), ('made', -0.611561304807613), ('lives', -0.611614485729043), ('west', -0.6125662324633526), ('colbert', -0.6176479317147627), ('walker', -0.6182281705368283), ('birthday', -0.6186877615644676), ('brown', -0.6189778160904866), ('space', -0.6231329123796394), ('coachella', -0.6231662061098617), ('godzilla', -0.6237764185832317), ('labeouf', -0.6250075001685635), ('defect', -0.6253862872246171), ('dating', -0.6257838930455971), ('harry', -0.6260582959067966), ('pregnancy', -0.6265383028665426), ('series', -0.6270122287884936), ('doctor', -0.6275172922954363), ('director', -0.6282111651307941), ('simpson', -0.6285321716773253), ('daughter', -0.6305096427206817), ('life', -0.6306659907027139), ('sequel', -0.6315832940834074), ('music', -0.6329797466358325), ('new', -0.6365755236332885), ('jenny', -0.6376411323296909), ('more', -0.6414471352377465), ('premiere', -0.6436527518035757), ('mad', -0.6437103580331575), ('clooney', -0.6438719103464384), ('or', -0.6444880624212842), ('weekend', -0.6452099179500944), ('net', -0.6471595477498541), ('prince', -0.6516820331779541), ('cast', -0.6534431906955758), ('safety', -0.6539623150742414), ('never', -0.6541289549676822), ('arrested', -0.6542633442287822), ('during', -0.6548011070262169), ('brain', -0.6555879923087924), ('tracy', -0.6572818976550441), ('galaxy', -0.6574222578972974), ('love', -0.6577124754317512), ('stem', -0.6590779265952482), ('idol', -0.6597017322841586), ('johnny', -0.6614298700705957), ('xbox', -0.6633961942935659), ('gomez', -0.6650808647290392), ('we', -0.6652414555732671), ('singer', -0.6656402858779963), ('killed', -0.6662908162832085), ('wireless', -0.666734483348391), ('starbucks', -0.668110766098892), ('taylor', -0.6691586292155245), ('comedy', -0.6699891272748217), ('obesity', -0.6730676597246058), ('ford', -0.6733164985832591), ('office', -0.6734628026959656), ('david', -0.6734880925623326), ('swift', -0.6738404567181728), ('alcohol', -0.6743280017409812), ('biopic', -0.6747738445332976), ('selena', -0.675006628575617), ('spread', -0.6751441818131848), ('for', -0.6777300261306282), ('alzheimer', -0.6805702109472522), ('released', -0.6806194003623598), ('wren', -0.6822217719301557), ('charlie', -0.6823145006233328), ('attack', -0.6836669314629062), ('don', -0.6839467552864235), ('author', -0.6845887032493392), ('party', -0.6851320696366167), ('summer', -0.6852143196297985), ('medical', -0.6862367626781525), ('because', -0.6880282494665726), ('miranda', -0.6883527152333555), ('people', -0.6901864437192792), ('captain', -0.6910716633205987), ('iphone', -0.6922556014134353), ('kristen', -0.6935875651607231), ('ellen', -0.6935974454249627), ('kate', -0.6951697384468916), ('rare', -0.6954786576238288), ('de', -0.6966072124866741), ('easter', -0.6976323993338372), ('night', -0.6978952330096385), ('side', -0.6982873844319161), ('emma', -0.6990140186386659), ('list', -0.69918388478429), ('broadway', -0.7053395488224534), ('skin', -0.7086121968810634), ('michelle', -0.7091310257406973), ('diabetes', -0.71186724053502), ('world', -0.7138540824776431), ('age', -0.7138857130674061), ('marries', -0.7155921042329451), ('things', -0.7158016889592245), ('actor', -0.7159572937517915), ('instagram', -0.7176312213707897), ('birth', -0.7213563368108419), ('kanye', -0.7223975348797446), ('gibson', -0.723002822960186), ('glass', -0.7267250959233847), ('models', -0.7287906156878386), ('boy', -0.731143532211233), ('television', -0.7322487861663788), ('approval', -0.7325302398299816), ('wife', -0.7326511938977952), ('blood', -0.7353573114425729), ('copyright', -0.735647045755729), ('bug', -0.7358848792772461), ('patients', -0.7384311691662138), ('trailer', -0.738725646551873), ('noah', -0.7390619825496353), ('suicide', -0.7391249805005738), ('season', -0.7399756297430876), ('album', -0.7414514679911638), ('celebrities', -0.7417912476249391), ('been', -0.7435584796220231), ('film', -0.744916749016854), ('software', -0.7459029511857013), ('host', -0.7474241838149045), ('phone', -0.7563163303305914), ('mobile', -0.7600015499523309), ('thousands', -0.7606358902264776), ('console', -0.761887013018101), ('them', -0.7646933511804367), ('tour', -0.7651864368104722), ('panel', -0.765294363861232), ('moon', -0.7663924669148134), ('neil', -0.7671066490774217), ('seth', -0.7678853621341265), ('surgery', -0.770868665761764), ('oscar', -0.7748046179509519), ('thrones', -0.7752625189476223), ('death', -0.78392457938761), ('breaking', -0.7840237750650971), ('continues', -0.7851120034152187), ('angelina', -0.7876091622695913), ('scott', -0.788439359013702), ('jolie', -0.7900032271756916), ('red', -0.7909183081436711), ('doctors', -0.7914560156605752), ('tesla', -0.7968783833432768), ('playstation', -0.7977477037948139), ('museum', -0.7989500350795378), ('he', -0.8001028031913076), ('critical', -0.8054447358838738), ('weight', -0.8126686412348889), ('woman', -0.8170044448629479), ('smartphone', -0.8174556209406937), ('your', -0.821777067653896), ('harris', -0.825399648957089), ('young', -0.8280742391570485), ('lindsay', -0.8306858839986452), ('ryan', -0.8324589867568671), ('reveal', -0.8332674879922265), ('his', -0.8337156017929698), ('station', -0.8401076468768205), ('lohan', -0.8408831962389514), ('marijuana', -0.8432897995077617), ('over', -0.8432959283843474), ('pregnant', -0.8435177315157976), ('festival', -0.8441814344558881), ('earth', -0.8521148386715232), ('with', -0.8542944301816335), ('did', -0.8543524593734191), ('jackson', -0.8577557481875548), ('planet', -0.8577957005700592), ('be', -0.8607342872481907), ('older', -0.8679362465399164), ('rocket', -0.869467485759586), ('show', -0.870460009398637), ('kids', -0.8728472179774907), ('users', -0.874734708395163), ('justin', -0.8760296067024753), ('bieber', -0.8761868832899665), ('cancer', -0.8774504781653218), ('photos', -0.8792858761283848), ('warming', -0.8794811712243155), ('hbo', -0.8828439462363468), ('tweet', -0.8845092510052327), ('photo', -0.8847659382282289), ('netflix', -0.8864680398902939), ('of', -0.8870332711271343), ('recalls', -0.8873887306607708), ('girl', -0.8920473475725827), ('stars', -0.8920934720589592), ('tribute', -0.8965041878599546), ('victims', -0.898942947710576), ('comcast', -0.9004456744999735), ('game', -0.9006030339982927), ('beyonce', -0.9016902531615612), ('you', -0.9088895824347911), ('jennifer', -0.9125505089799083), ('discovered', -0.9126862827258237), ('jay', -0.9162188767272665), ('robin', -0.9198705722760536), ('hackers', -0.929476812289991), ('wedding', -0.9295799004835631), ('sex', -0.932270667580399), ('cell', -0.9327288894446645), ('think', -0.934691708413554), ('teen', -0.9355940326287191), ('goes', -0.9358168938987144), ('early', -0.9362318707266747), ('who', -0.9369328798865388), ('while', -0.9427150367484243), ('movie', -0.9509107997369128), ('mars', -0.9539741440524298), ('cyrus', -0.9543671597581107), ('softbank', -0.9575872644141864), ('transformers', -0.9615639316494317), ('once', -0.9675361383652313), ('anti', -0.9786614186204683), ('george', -0.9853599983085556), ('met', -0.9904257922843767), ('miley', -0.9917333337235681), ('that', -0.9931416430245684), ('cannes', -0.9950702192364291), ('child', -1.001412932894607), ('launches', -1.0089146096883708), ('climate', -1.0151986896047762), ('reveals', -1.0180217693831413), ('are', -1.0257129621012362), ('outbreak', -1.027716532860869), ('dead', -1.0328634290663916), ('neutrality', -1.0350779953499454), ('dr', -1.0367119569162968), ('awards', -1.0379786399754551), ('fans', -1.0383323317651347), ('kim', -1.041202217666355), ('this', -1.0479846397965713), ('scientists', -1.0525088273514196), ('researchers', -1.0530256435904923), ('un', -1.0576155749510812), ('review', -1.0762617505337184), ('cigarettes', -1.0844842740044351), ('trial', -1.0872418538642787), ('cases', -1.0892355353589482), ('cdc', -1.1078555866793036), ('fcc', -1.1138386936082714), ('nasa', -1.124975673447801), ('reality', -1.1251798023549384), ('heartbleed', -1.1257721301178054), ('children', -1.1382956332968284), ('mother', -1.1438115360890015), ('using', -1.1445378128753807), ('sony', -1.1519162144657957), ('man', -1.1541127468997612), ('paul', -1.179717830643493), ('recalled', -1.1860634383982915), ('tv', -1.1929161762167573), ('samsung', -1.1991452447980504), ('internet', -1.2110703195868455), ('live', -1.2165523884301155), ('heart', -1.220062054305358), ('study', -1.228955946497244), ('gay', -1.2334017555312287), ('baby', -1.290645260966526), ('can', -1.3078342970012575), ('chris', -1.3224737268378641), ('my', -1.3276711082078567), ('mers', -1.349612479036465), ('drug', -1.3530325530641318), ('could', -1.3539379398510447), ('fda', -1.3932488222543744), ('have', -1.3957863842149865), ('kardashian', -1.4195492305985873), ('facebook', -1.4312238008434588), ('dies', -1.4495532529949087), ('aereo', -1.4528258825119802), ('google', -1.473865005577313), ('apple', -1.5059212901120462), ('virus', -1.5487021975254818), ('microsoft', -1.553041802417614), ('and', -1.5945791918256065), ('star', -1.6104665881078477), ('her', -1.7290144259806626), ('the', -1.7512878313821616), ('she', -1.8145416262318736), ('video', -1.839452379484605), ('ebola', -1.8455806398073802)]\n",
            "\n",
            "class : e \n",
            " top : [('kardashian', 2.8901392907656267), ('chris', 2.7114274624469314), ('her', 2.4485919277240673), ('paul', 2.356687976147208), ('movie', 2.344570487688444), ('she', 2.3072720445829886), ('star', 2.291686943991448), ('he', 2.2792702511943), ('miley', 2.2697873771088064), ('thrones', 2.246766234145117)]\n",
            " bottom : [('kim', 2.214327522449537), ('film', 2.1880042033402836), ('cyrus', 2.1779827577880257), ('george', 2.116844899470826), ('wedding', 2.0311498587357466), ('jay', 1.983992168566416), ('fans', 1.9569171479185188), ('jennifer', 1.9180710290351761), ('beyonce', 1.898953132056858), ('trailer', 1.8850142922529298), ('stars', 1.8551478268014783), ('transformers', 1.8427078250524758), ('harris', 1.8090057695061366), ('bieber', 1.7654424787962493), ('justin', 1.7632990904635948), ('cannes', 1.747684923611169), ('met', 1.73780339445137), ('hbo', 1.7175342736535288), ('awards', 1.709482835993882), ('dies', 1.673423519351169), ('season', 1.666700888933181), ('lindsay', 1.6585532275761234), ('lohan', 1.6524064746814253), ('tour', 1.6480180797859436), ('kanye', 1.5860819159591057), ('love', 1.5773035571515284), ('festival', 1.571142807252089), ('director', 1.5701277542090484), ('tv', 1.5641668579771288), ('david', 1.541528555469018), ('jackson', 1.538538471492454), ('album', 1.5118239519287324), ('james', 1.484465813423687), ('kate', 1.4752227035175196), ('show', 1.4723975639665698), ('sex', 1.4479747978988033), ('actor', 1.4389300287097992), ('seth', 1.4325504623318521), ('harrison', 1.4186338606626872), ('selena', 1.4148371839924692), ('emma', 1.3967588818827477), ('gomez', 1.3959268336241584), ('noah', 1.395164563509198), ('music', 1.394436401281732), ('de', 1.3882677805242956), ('singer', 1.3860333516859478), ('scott', 1.3808949902967986), ('jolie', 1.3789484795039417), ('broadway', 1.3747263250155672), ('angelina', 1.3726998455074189), ('office', 1.3544804306047553), ('mad', 1.3499554060546006), ('fox', 1.3469437012679462), ('premiere', 1.343296490235595), ('television', 1.3407885574145115), ('cast', 1.321109264218831), ('author', 1.3157398492010977), ('kristen', 1.3156597606824323), ('host', 1.3133710294625218), ('john', 1.2874226183761452), ('sequel', 1.2762321883720034), ('johnny', 1.2760312121421862), ('arrested', 1.2702582240699087), ('thicke', 1.2688431567927425), ('clooney', 1.2670864046237806), ('series', 1.2662491638163846), ('marries', 1.2647986207932111), ('captain', 1.2647231645484942), ('prince', 1.2578415526454478), ('dress', 1.252645942901577), ('daughter', 1.2475164882857086), ('pregnant', 1.2470210696881072), ('zac', 1.2387062023718933), ('ellen', 1.2379512687943655), ('taylor', 1.2345448443835871), ('robert', 1.2334145978956066), ('efron', 1.2301141582603823), ('williams', 1.2280731810748393), ('biopic', 1.2258161177010904), ('robin', 1.224844333512788), ('swift', 1.2164161520835794), ('his', 1.2105913689969432), ('voice', 1.1982816733453066), ('michael', 1.1968482324377037), ('coachella', 1.1953220706589327), ('stage', 1.1908106855448775), ('wren', 1.190049803973597), ('rapper', 1.1893014336991834), ('weekend', 1.186675627482485), ('spider', 1.181976230165611), ('labeouf', 1.1801793490666321), ('man', 1.1784919841072108), ('tweet', 1.1783139547750692), ('tom', 1.1771262997439715), ('rolf', 1.170139098589715), ('katherine', 1.1668848060279797), ('live', 1.165444391014937), ('miranda', 1.1623605536406538), ('birthday', 1.1613049256072328), ('lea', 1.1598998586353257), ('rolling', 1.1533573879106689), ('box', 1.1493770976437712), ('mother', 1.1401052165291738), ('walker', 1.1326640023847534), ('shia', 1.131718582752671), ('godzilla', 1.1303392462717465), ('jenner', 1.128758105348524), ('colbert', 1.1270629439485154), ('transcendence', 1.1263119726217299), ('charlie', 1.1239349137038175), ('wars', 1.1166607378162028), ('rihanna', 1.116233650350001), ('bachelor', 1.1093116740750966), ('michele', 1.1077838942385538), ('abc', 1.1044044242527142), ('dawn', 1.1042503145460183), ('joan', 1.0986709293532841), ('smith', 1.0918264121469592), ('comedy', 1.091617350044907), ('gwyneth', 1.0914713617208531), ('nick', 1.0902674979263502), ('tribute', 1.09018350287432), ('paltrow', 1.0873087297732618), ('chelsea', 1.0759565509453854), ('lady', 1.0721894068749858), ('richard', 1.0668083025381336), ('morrissey', 1.0636038455056143), ('marvel', 1.063396841422995), ('brad', 1.0594104632860686), ('depp', 1.055583573319617), ('museum', 1.0532266121524676), ('wife', 1.046621019298707), ('west', 1.0364084143349688), ('hotel', 1.0330837888263185), ('katie', 1.029481162323306), ('simpson', 1.0260034878964208), ('oprah', 1.024219312001716), ('melissa', 1.0239639364691566), ('carpet', 1.023052502750201), ('olivia', 1.0202162964691035), ('critics', 1.0187232833862931), ('divorce', 1.016166509763052), ('tracy', 1.0143591983703681), ('mccarthy', 1.0132835920482688), ('mick', 1.0125125563498798), ('grey', 1.0085069416451684), ('idol', 1.0076771045893347), ('movies', 1.0065439908897869), ('was', 1.0064203744074742), ('pharrell', 1.0043208190973951), ('veronica', 1.003509150454995), ('brown', 1.0018477100557255), ('men', 1.0002684766793162), ('game', 0.997159413066727), ('keith', 0.9919811477552551), ('amazing', 0.9871931563524937), ('divergent', 0.9829783827654636), ('and', 0.9828238695982843), ('marriage', 0.9805274209591848), ('adam', 0.9797551156692934), ('bachelorette', 0.9796689911029027), ('franco', 0.9744184829592373), ('did', 0.9739478995631946), ('christina', 0.9701139683183584), ('bucket', 0.9697049788848224), ('bryan', 0.9544965109497283), ('solange', 0.9501114363604097), ('perry', 0.9481941604767364), ('jackman', 0.9460115799886644), ('marc', 0.9458737292441954), ('kunis', 0.9413085781768102), ('mila', 0.9413085781768102), ('dancing', 0.9369440233746132), ('jon', 0.9365013541009346), ('true', 0.9357663767653682), ('khloe', 0.9348137702748351), ('arrest', 0.9307427474245369), ('family', 0.9296793817598272), ('bob', 0.9288058994259057), ('andrew', 0.9261040749406654), ('demi', 0.9238445712856395), ('lovato', 0.9238445712856395), ('britney', 0.9233821513336655), ('dunham', 0.9222083272906036), ('lena', 0.9222083272906036), ('tammy', 0.9192146224349756), ('ben', 0.919126136073043), ('jones', 0.9176204190255938), ('hill', 0.9150575320224164), ('dicaprio', 0.9147931605479644), ('award', 0.9139773459484491), ('jagger', 0.9138464675409496), ('cover', 0.9136236949877906), ('columbus', 0.910281168172533), ('night', 0.9091613621037273), ('finale', 0.9033357607536827), ('jenny', 0.9028063651271704), ('spears', 0.9023635626666718), ('frankie', 0.8970001207274151), ('lupita', 0.8960990225705907), ('megan', 0.8952504218068067), ('recap', 0.8948116216171488), ('reunion', 0.8921059958537398), ('pitt', 0.8903077773220692), ('terry', 0.8897423286197058), ('actress', 0.889164651063567), ('nyong', 0.8889713742661339), ('jr', 0.8849986444169516), ('garfield', 0.8825237654260604), ('louis', 0.8742246357183561), ('final', 0.8741199892492488), ('musical', 0.8739937959548636), ('elsa', 0.8727012053062284), ('peaches', 0.8684933078876383), ('aereo', 0.8674698795994032), ('del', 0.8672763764371259), ('rey', 0.8672763764371259), ('hugh', 0.8668544813026687), ('celebrate', 0.8656648431556883), ('uncoupling', 0.8650484311810902), ('tori', 0.8644438301269376), ('nude', 0.8627360277964512), ('lana', 0.862689793568887), ('amy', 0.8619153912401759), ('ac', 0.8599524541047951), ('look', 0.8539992469073728), ('sawyer', 0.847867614548536), ('reportedly', 0.8469491166195595), ('garth', 0.8462457549318041), ('tatum', 0.8459280078641329), ('martin', 0.8442674918384214), ('mtv', 0.8436159720696331), ('happy', 0.8425416614035859), ('glee', 0.8417789368069798), ('married', 0.8416322850650577), ('rooney', 0.8404448907763902), ('aronofsky', 0.8377312530560848), ('murder', 0.8310402545908382), ('geldof', 0.8288990929575788), ('cobain', 0.828277023114772), ('join', 0.8264173983445108), ('dating', 0.8256875859678667), ('band', 0.8235704087339869), ('the', 0.8235333346021083), ('filming', 0.8218673968429793), ('gaga', 0.8176427241539718), ('list', 0.8171037995642153), ('tribeca', 0.8156335757881196), ('madonna', 0.8121487007298236), ('released', 0.8117039994351684), ('sofia', 0.8089550214513306), ('dc', 0.8049737327089337), ('vmas', 0.8042564341080989), ('nbc', 0.803503302199689), ('role', 0.8014792807954941), ('dead', 0.8013039025323123), ('gary', 0.8012022563337248), ('mccartney', 0.8003142545745878), ('reunite', 0.7983027557007857), ('stephen', 0.79763564167698), ('crowe', 0.7974668013076739), ('leonardo', 0.7946072686255562), ('frozen', 0.7931949888570278), ('disney', 0.792087558573817), ('sister', 0.7904683258466882), ('johnson', 0.7901104067402306), ('josh', 0.7858047632381024), ('hollywood', 0.7853764698232367), ('ryan', 0.7850221885244041), ('easter', 0.7836271600419346), ('morgan', 0.7822375631431656), ('handler', 0.7820288236044362), ('gosling', 0.7793622962821307), ('gown', 0.7790786876200372), ('neighbors', 0.7782790428198404), ('song', 0.7766093116730846), ('himself', 0.7753483974323673), ('queen', 0.7753092508818274), ('warrant', 0.775021753712961), ('spelling', 0.7737896708302805), ('sexual', 0.7694296870947592), ('comic', 0.7686441020731687), ('summer', 0.7647512383006474), ('engagement', 0.7588716746372193), ('guardians', 0.7587868137592829), ('angeles', 0.7581022798236505), ('los', 0.7581022798236505), ('weds', 0.7556730847814619), ('kiss', 0.755035882841338), ('led', 0.7544881364789315), ('scarlett', 0.7519354644071435), ('gets', 0.7513754487991587), ('julia', 0.7498970204540689), ('suicide', 0.7488605709667914), ('following', 0.7462336703931304), ('date', 0.7418326661020241), ('drew', 0.7416905396718271), ('police', 0.7386514967805424), ('barrymore', 0.738572302016745), ('batman', 0.7373040680628705), ('continues', 0.7372419143772185), ('husband', 0.7369964792940342), ('hot', 0.7362719649714977), ('gala', 0.7350787683139154), ('andi', 0.7341891841107371), ('mrs', 0.733750241284052), ('rob', 0.7321332519527696), ('lambert', 0.7320984627130053), ('episode', 0.731330603428626), ('story', 0.7303238839185434), ('gig', 0.7296760308702248), ('young', 0.7274622126966085), ('shailene', 0.7264902818240089), ('woodley', 0.7264902818240089), ('daniel', 0.72638807607646), ('steve', 0.726383299968437), ('photo', 0.723997662609797), ('fashion', 0.722873648554651), ('pablo', 0.7227934976806859), ('matt', 0.7203266068352816), ('paris', 0.7201816670502713), ('break', 0.7184242882135577), ('sxsw', 0.7177474311908506), ('johansson', 0.7175921297962272), ('boyfriend', 0.7163410945633572), ('breaking', 0.7154422078994231), ('beyoncé', 0.7140240246649135), ('potter', 0.7098647690802544), ('middleton', 0.7089530699114099), ('films', 0.7083874250546207), ('rogen', 0.7047083844409663), ('fan', 0.7037606849530663), ('superman', 0.7024365405808456), ('lily', 0.701396535049785), ('my', 0.6985898863990102), ('ariana', 0.6964141487592356), ('grande', 0.6964141487592356), ('floyd', 0.6956648701111068), ('allen', 0.6920393126917902), ('sutherland', 0.689933515912231), ('monster', 0.689560869469317), ('kiefer', 0.6890224899258984), ('stone', 0.6881676932174177), ('other', 0.6852016640014906), ('condition', 0.684327805322702), ('oldman', 0.6823803618921267), ('gives', 0.6817847200362125), ('reveals', 0.6816401773720925), ('figure', 0.6812288983051974), ('ratings', 0.6796459765569023), ('concert', 0.6794048260533303), ('rock', 0.6784387652242787), ('place', 0.6784078655018118), ('what', 0.6766032240361458), ('things', 0.6755199873358975), ('brooks', 0.6746844445759281), ('soldier', 0.6735573018414039), ('bang', 0.6729365512588054), ('vii', 0.6709283028580624), ('out', 0.6690266999988207), ('baby', 0.6689323599514633), ('late', 0.6669469394884087), ('russell', 0.6636930286284521), ('ann', 0.6583661692112929), ('orlando', 0.6566645212840422), ('original', 0.6503861298808788), ('jack', 0.6498920817357872), ('officially', 0.6498887885220608), ('jessica', 0.649302941284151), ('funeral', 0.646689997348206), ('advice', 0.6420526505993356), ('michelle', 0.6416539929086386), ('announces', 0.6415679023662889), ('him', 0.6385154034574437), ('liam', 0.6362217667109172), ('minaj', 0.6350539219779223), ('nicki', 0.6350539219779223), ('expecting', 0.6334051358330395), ('cancelled', 0.6309178596496412), ('juan', 0.6307122659819222), ('direction', 0.6291351397170639), ('named', 0.6289557949639961), ('gwen', 0.6277452322780348), ('release', 0.627490368130433), ('engaged', 0.6259856523697787), ('girls', 0.6242229347164083), ('dee', 0.6240478113461996), ('blogs', 0.6216442486905343), ('diaz', 0.6213279138300474), ('ice', 0.6212535726957239), ('parents', 0.6171204742670404), ('review', 0.615847152305659), ('rowling', 0.6156201237414402), ('wanted', 0.6146187970458631), ('maleficent', 0.6137005392130858), ('going', 0.613228809789035), ('career', 0.6125317166429346), ('mariah', 0.6118675057272936), ('oscars', 0.6111412038464215), ('naked', 0.6087430544912182), ('aguilera', 0.6077762447961885), ('lawrence', 0.6073546677363121), ('does', 0.6060988902576312), ('rumours', 0.6057515665950169), ('scene', 0.6046958713306766), ('rick', 0.6034607850611561), ('radcliffe', 0.6030455998786796), ('reasons', 0.5981875698176283), ('appear', 0.5974363078988312), ('dean', 0.5970196255440872), ('ruby', 0.5970051258673943), ('drama', 0.5968468291894169), ('tony', 0.5952581488878138), ('winslet', 0.594523352804383), ('magazine', 0.5941304456018371), ('stefani', 0.593724032960098), ('celebrates', 0.5930911858692327), ('play', 0.5911394189650435), ('kendall', 0.5907179061977051), ('gq', 0.5899981836262881), ('surprise', 0.5895938706806476), ('interview', 0.5883529792905334), ('seat', 0.585100811400616), ('black', 0.5846387479137812), ('hosting', 0.5839043029579936), ('once', 0.5837129807923607), ('katy', 0.5824753850652831), ('rehab', 0.5821759113529624), ('single', 0.5819436447125286), ('scenes', 0.5807906988749901), ('montana', 0.5791831777786418), ('eric', 0.5786812055146581), ('reviews', 0.5777344352964832), ('zendaya', 0.5771956618129864), ('mickey', 0.5763149728757945), ('donnell', 0.5753749115053014), ('rosie', 0.5753749115053014), ('jason', 0.5734006345197744), ('sir', 0.5731836548877874), ('affleck', 0.5718054117941493), ('brothers', 0.571552371812281), ('pippa', 0.5711637989456011), ('son', 0.5703290748895783), ('pattinson', 0.5665480669481981), ('like', 0.5664198497346972), ('body', 0.5658412437683381), ('joining', 0.5650160421493373), ('apology', 0.5648305590102134), ('way', 0.5633006154231974), ('picture', 0.5627530074666701), ('cancels', 0.5626265212185589), ('split', 0.5604991726235473), ('levine', 0.5584597563612897), ('fanning', 0.5581065035169142), ('creator', 0.5548462379245077), ('elizabeth', 0.5536692707198639), ('fair', 0.5530884138463924), ('kylie', 0.5530058671503989), ('copyright', 0.5529672605692302), ('dance', 0.5526448111566222), ('daddy', 0.5517569520494121), ('peter', 0.5508966159554926), ('matthew', 0.5497784178030936), ('hall', 0.5480455975084263), ('hours', 0.5476808731734849), ('stewart', 0.5468471424415953), ('best', 0.5455665405201293), ('anna', 0.5433222997198522), ('racist', 0.540083933328928), ('dream', 0.5389427747174291), ('jimmy', 0.5379157302792709), ('downey', 0.5338715021987294), ('due', 0.5336055183470488), ('lopez', 0.5331625869956218), ('view', 0.5331269116571603), ('diane', 0.5328683819845668), ('billboard', 0.5320926482225723), ('past', 0.5307607594233026), ('stones', 0.5296916139988276), ('joke', 0.5295398899431867), ('hamm', 0.5277277577007466), ('niro', 0.5257259405693269), ('harry', 0.525196145594696), ('acting', 0.5244631440102016), ('rachel', 0.5223939134661265), ('video', 0.5220294370595442), ('shoot', 0.5218410945638563), ('return', 0.5210673065806855), ('didn', 0.5205999702120965), ('times', 0.5198925343123005), ('leads', 0.5187274292869692), ('starbucks', 0.5174386110054128), ('pictures', 0.5173888314185353), ('duke', 0.5171709471571276), ('kerr', 0.5160471458468596), ('aaliyah', 0.5157265331494698), ('today', 0.5155857673367973), ('father', 0.5145721858737227), ('releases', 0.5141119231083645), ('fargo', 0.5128253023911448), ('party', 0.5112763758907567), ('instagram', 0.5099403876696902), ('hemsworth', 0.508514215003733), ('porn', 0.5061353154306466), ('elle', 0.5022230430578751), ('iconic', 0.5012571630294804), ('church', 0.5003285738519748), ('ceremony', 0.4989321138088763), ('lawsuit', 0.49705564793651585), ('goes', 0.4969688343876356), ('joe', 0.4968264310022976), ('animal', 0.49611811652800647), ('letterman', 0.49339126598490995), ('choice', 0.4927642375946121), ('extinction', 0.4924024489197047), ('america', 0.49153316997806046), ('death', 0.4880275419625497), ('scandal', 0.48572294551689377), ('claim', 0.4850175430212904), ('galaxy', 0.4842416996877356), ('snl', 0.48343293442455193), ('jail', 0.4826372978706886), ('mark', 0.4812112420236843), ('pope', 0.48058030466019763), ('train', 0.4797062630224209), ('vogue', 0.4792142783342179), ('iggy', 0.47751161680480986), ('killer', 0.4721619631016493), ('cannon', 0.4686068682346446), ('kimye', 0.4683645615626281), ('at', 0.46778028115273185), ('contestant', 0.4669041915991368), ('second', 0.4668516433667133), ('marry', 0.4662668101030634), ('joins', 0.45896483037464103), ('ny', 0.4588246273216705), ('coldplay', 0.4562457033295793), ('azalea', 0.4555258438761515), ('bikini', 0.45541085383173247), ('pretty', 0.45502242503438567), ('watson', 0.45451056413445834), ('lifetime', 0.4499050031416333), ('store', 0.44833291407085685), ('0s', 0.4466972585000376), ('pop', 0.4464648489463407), ('paula', 0.443927337632522), ('cheating', 0.4432469719353121), ('herself', 0.44301879814658646), ('neil', 0.44121656868473347), ('ultra', 0.43846059817944155), ('during', 0.43831850133518263), ('winner', 0.4352957774850587), ('kutcher', 0.43158526278141635), ('khloé', 0.43127547801650606), ('wears', 0.43123039063189), ('tonight', 0.43097659753908935), ('roberts', 0.43095329763284124), ('days', 0.42915684301064366), ('incident', 0.42798582823416365), ('club', 0.4275604017526343), ('side', 0.42751726766479264), ('come', 0.4267693584344403), ('assault', 0.42376745890642803), ('me', 0.4222648565239628), ('guilty', 0.4201149431288881), ('girlfriend', 0.42001595444242534), ('lives', 0.41987211272459074), ('alcohol', 0.41860367496687473), ('cory', 0.41811590764819195), ('mom', 0.4177340918476594), ('kris', 0.41472669662760164), ('tweets', 0.4144001602060696), ('very', 0.41247222789864757), ('words', 0.41159602482440294), ('rape', 0.4091307778079539), ('shepherd', 0.4070923839319506), ('sherri', 0.4070923839319506), ('round', 0.40573194941663193), ('opens', 0.40551802100798096), ('crashes', 0.4050337235155546), ('bizarre', 0.3999816399128265), ('got', 0.3988860047204777), ('charity', 0.39637304622874703), ('fallon', 0.3963665536256604), ('direct', 0.39507832536120285), ('just', 0.39328565339470617), ('production', 0.39274202586560425), ('inspired', 0.3918473488811058), ('kourtney', 0.39113338955668203), ('shows', 0.3895749037945515), ('about', 0.3886671507473882), ('good', 0.3877822291838249), ('shot', 0.38463225162465114), ('tattoo', 0.3837332171856741), ('explains', 0.38295774301165153), ('wasn', 0.38268204156043045), ('helped', 0.3825008069771221), ('brother', 0.38234666433277537), ('eight', 0.38203377263458477), ('performance', 0.37923713483775356), ('any', 0.37886566663234805), ('alleged', 0.37841925627484224), ('dressed', 0.3782988960735838), ('message', 0.3777089579100688), ('jump', 0.37720230631220303), ('welcome', 0.3758709912009912), ('short', 0.37526308296216987), ('kids', 0.37362667624576507), ('special', 0.3712695943142477), ('knowles', 0.37090107489285395), ('revealed', 0.37085355590178615), ('fame', 0.36952661809102966), ('jupiter', 0.36845073522289395), ('name', 0.36761566478116114), ('outside', 0.36582814475958675), ('activists', 0.3653200017041712), ('gibson', 0.3626648466485175), ('war', 0.3614785600079975), ('getting', 0.36077407360335667), ('carey', 0.3594301944386097), ('perform', 0.35916940345287146), ('rights', 0.3588420613314399), ('day', 0.3585055526829543), ('big', 0.3577564324429799), ('accident', 0.3575996777459494), ('delayed', 0.35734208051955624), ('abuse', 0.35732094700156947), ('signs', 0.3569068363078104), ('announce', 0.35631232376370503), ('monteith', 0.3546981046691296), ('shooting', 0.3546282268331542), ('celebrity', 0.35441012017852797), ('netflix', 0.3538621513401598), ('comeback', 0.352833589952734), ('set', 0.3476291666918906), ('north', 0.3470919478648008), ('dispute', 0.34671876092540305), ('wish', 0.34584513031472497), ('prime', 0.34554633240784743), ('anti', 0.34449353626275536), ('six', 0.3443453087453005), ('bet', 0.3415850477914776), ('row', 0.3409558553007872), ('sparks', 0.3350151776402011), ('steps', 0.33444194081962997), ('lost', 0.3325058565046194), ('walks', 0.33218833304473017), ('school', 0.3291124612787875), ('nfl', 0.3290012084425814), ('leaves', 0.32841500981641053), ('female', 0.3283106618314336), ('pulled', 0.32631612499481505), ('yahoo', 0.3235600173268135), ('american', 0.3217909994197251), ('casts', 0.31660979170260256), ('account', 0.31513508790411315), ('only', 0.31386409917232116), ('alamuddin', 0.3130605220198164), ('amal', 0.3130605220198164), ('actually', 0.3129649704933802), ('0th', 0.3125435806886731), ('kill', 0.31205914611908875), ('with', 0.3112261154758729), ('room', 0.3102779398779397), ('plunging', 0.3089223752259236), ('abramson', 0.3076913548590356), ('celebrities', 0.30656954611335857), ('friday', 0.30449815557216237), ('wrong', 0.3029829555311192), ('before', 0.30267452865023226), ('eva', 0.3016687125555649), ('ve', 0.30006711889013377), ('ashton', 0.2993792279057275), ('loses', 0.2973641506420753), ('cancel', 0.29735355106096617), ('usa', 0.29302008912337046), ('anniversary', 0.291522978241655), ('fake', 0.29003099292384754), ('up', 0.2896480615602757), ('roll', 0.2879092119278613), ('work', 0.2875465304834479), ('korea', 0.2870963006389866), ('proves', 0.28396955952583397), ('hosts', 0.28382194008831163), ('opening', 0.2828702894328365), ('advances', 0.28280345653879335), ('wins', 0.2803612689332085), ('while', 0.28008122987013995), ('thursday', 0.27976824079955537), ('freddie', 0.2784497956649016), ('street', 0.2775060700304023), ('tells', 0.2750226403607987), ('tops', 0.27336720507062273), ('0m', 0.27262936143226274), ('boy', 0.269961654891435), ('trip', 0.26948885741128026), ('age', 0.26728112475746735), ('one', 0.26645790352812543), ('platinum', 0.2658693524496525), ('york', 0.2644515305208616), ('hair', 0.26370810996299404), ('debut', 0.26187034144745397), ('lose', 0.2616603297045875), ('denies', 0.259851697721004), ('wants', 0.2593537669939081), ('tight', 0.25808716607489357), ('older', 0.25671248056875257), ('hints', 0.2542280663225529), ('hamptons', 0.25370113735236294), ('is', 0.252366884184878), ('cbs', 0.25135474758204407), ('team', 0.25090135725333096), ('breaks', 0.25088147182507264), ('loves', 0.24989735793071569), ('questions', 0.24533682214336072), ('record', 0.24514846292233095), ('killed', 0.244917376854969), ('vs', 0.2447729631811045), ('sends', 0.24432182372680916), ('old', 0.24156605734772182), ('white', 0.24043548019491934), ('check', 0.23888342682581631), ('off', 0.23866079754153396), ('challenge', 0.23791115039919247), ('talk', 0.23686415987579323), ('girl', 0.2364863770421673), ('blames', 0.233149307170531), ('our', 0.2328045807011647), ('put', 0.2307159698778911), ('wake', 0.22916489695670214), ('quit', 0.229119305259711), ('daily', 0.22890459405107735), ('sexy', 0.22812179396541601), ('orange', 0.22522968231729582), ('two', 0.22505536638167353), ('evans', 0.22352594848117444), ('beautiful', 0.22307869558343305), ('far', 0.22300758968205292), ('action', 0.2214552173503582), ('double', 0.22095983545788755), ('visits', 0.2176012045165263), ('issues', 0.21746230329807226), ('brings', 0.2173234639357779), ('we', 0.21730918521273507), ('aged', 0.21690430257203147), ('eye', 0.21605667060926892), ('pleads', 0.2153931148125477), ('forced', 0.2131555143720321), ('lee', 0.21203929132431543), ('meets', 0.21177491803824583), ('green', 0.20985257762044962), ('leaving', 0.2097036968190692), ('bring', 0.20766256080499765), ('trying', 0.207458008497084), ('become', 0.20695574609682615), ('massive', 0.20659032130787966), ('cameron', 0.20581409190350136), ('pre', 0.2044977793952517), ('draper', 0.2040449304521916), ('rose', 0.20092041494640053), ('sues', 0.20082823650944304), ('hint', 0.2008136685186994), ('house', 0.20056103367289696), ('bangerz', 0.1995768810346452), ('asian', 0.1979437586507088), ('chicago', 0.19772303776039665), ('run', 0.19586044574388745), ('together', 0.1922960218681239), ('poses', 0.19160891059193025), ('parts', 0.18971754286786777), ('dark', 0.1887664991632343), ('finally', 0.18668264624896566), ('plea', 0.185390350209259), ('exclusive', 0.1845491436424288), ('founder', 0.18452381167539833), ('pink', 0.18234364632223138), ('japanese', 0.17991329834690944), ('including', 0.17990386560031685), ('ring', 0.17854272117489078), ('controversy', 0.1777224231928881), ('sarah', 0.17721855356081584), ('wild', 0.17692821090128835), ('begin', 0.1765456378818029), ('thousands', 0.17588590084755637), ('romance', 0.17328155233643752), ('sons', 0.17081410683260392), ('fired', 0.16788230171689295), ('eyed', 0.16494096233162645), ('thanks', 0.1639647197767248), ('co', 0.16385853563291344), ('makes', 0.1638347770830701), ('reaches', 0.1636207282162769), ('back', 0.16215586597133125), ('members', 0.15960095863507343), ('files', 0.15934878194434277), ('miss', 0.15781717484580307), ('heads', 0.1568879177627535), ('broken', 0.15529825017830123), ('remains', 0.15403063757171948), ('ways', 0.153569327374653), ('every', 0.15314702559418447), ('retirement', 0.15121017653112512), ('iraq', 0.1509077398214571), ('ex', 0.15067037822549084), ('different', 0.14940188403423624), ('ask', 0.14939881034713842), ('bids', 0.14839839370147126), ('relationship', 0.14764345655273672), ('longer', 0.1470288896035924), ('given', 0.14474611206347904), ('much', 0.14463351510843186), ('blasts', 0.14363128819553975), ('st', 0.14239178911725026), ('speaks', 0.1415353073360304), ('complete', 0.13979775387612414), ('keep', 0.13952693696775867), ('number', 0.13796304994270048), ('la', 0.1375742097172301), ('drag', 0.13607083909975906), ('last', 0.13578557478957007), ('edge', 0.13344411804448564), ('looks', 0.132472262783842), ('charge', 0.13179003742531117), ('own', 0.12689919311208225), ('thinks', 0.12598147663321974), ('struggles', 0.12460696252174458), ('how', 0.12402496164950906), ('follow', 0.12315849724426893), ('boys', 0.11890396019718667), ('city', 0.11873648146990075), ('winning', 0.11835929438591748), ('selfie', 0.11823164916706655), ('why', 0.11821990799772386), ('official', 0.11783157711262432), ('around', 0.11710281590022824), ('raised', 0.11431752397166164), ('magic', 0.11312166096902797), ('gay', 0.11170134301831659), ('urban', 0.11169719416687585), ('friends', 0.11157164482407769), ('being', 0.11108060384323992), ('here', 0.11043086582987459), ('mixed', 0.11025905871154001), ('comments', 0.10874642131894596), ('crash', 0.1086616152212094), ('re', 0.10863135546972709), ('vows', 0.10823512130976996), ('unveil', 0.10795148432892504), ('teenage', 0.10716634261809695), ('straight', 0.10581503545238821), ('streak', 0.10505843252519272), ('battle', 0.10450872468848976), ('defends', 0.10431034982506028), ('after', 0.10338513067880768), ('child', 0.10200690059689578), ('lot', 0.10139973226411171), ('project', 0.09822898464890853), ('victims', 0.09158936738950879), ('won', 0.09039506621072266), ('guide', 0.09012642671141827), ('everyone', 0.08964010349090816), ('stay', 0.08850713280271398), ('beyond', 0.08796469103810925), ('fourth', 0.08482691896279046), ('news', 0.08465588663583047), ('investigating', 0.0823604261751974), ('home', 0.08120493393322191), ('so', 0.07994561859214894), ('might', 0.07983174015259645), ('cruise', 0.0786692153187032), ('face', 0.07640545555240812), ('latest', 0.0762041522624676), ('ousted', 0.07524081251511458), ('everything', 0.07373797005493858), ('blow', 0.07316213587476925), ('sorry', 0.06820903067532602), ('teams', 0.06791123555113314), ('demands', 0.06693518775412935), ('worries', 0.06543774591027827), ('kerry', 0.0646382550266887), ('flies', 0.06448459909648985), ('allegedly', 0.0616189380543703), ('soft', 0.06153496013136025), ('attacks', 0.06134181586608087), ('records', 0.061127449019619216), ('slams', 0.059167552240601724), ('ireland', 0.056248483838274875), ('pictured', 0.055666875262922716), ('defense', 0.054222567654914886), ('model', 0.05063813649421503), ('shines', 0.050487367605537556), ('private', 0.04929924284431942), ('friend', 0.04883345694549868), ('topless', 0.04648922826381777), ('blue', 0.045718763422683356), ('cable', 0.045308130647087254), ('contract', 0.04487267220528074), ('making', 0.04194922703834187), ('refuses', 0.041450866405982334), ('had', 0.039743120567737975), ('raising', 0.038197767598642914), ('another', 0.03642504786873647), ('away', 0.03621428456975068), ('five', 0.0353693005091546), ('crop', 0.03243251392301688), ('lands', 0.030525328151034307), ('book', 0.030255933782202222), ('coach', 0.030012557221287334), ('soon', 0.027063779666771117), ('win', 0.02706194636413717), ('cent', 0.026928885910460356), ('pays', 0.02613606313442673), ('proposes', 0.023165731827117383), ('marijuana', 0.022526065871585458), ('leave', 0.022124070297608777), ('ever', 0.020980108626175387), ('posts', 0.020916503536768147), ('german', 0.02059552461250849), ('nothing', 0.020459625549702327), ('law', 0.019751276232581192), ('travel', 0.017768807276676235), ('joint', 0.013165085062259512), ('awaited', 0.012867684406615298), ('talks', 0.012598528489852717), ('women', 0.012357078271513184), ('former', 0.008630978126251975), ('cube', 0.007159407551742634), ('but', 0.007108116121274064), ('monday', 0.0067843167456923415), ('giving', 0.005259468323207383), ('reaction', 0.003624643574113553), ('launch', 0.003439670261129642), ('homeless', 0.00337803148755428), ('manager', 0.0004356611728476181), ('tensions', -0.00047768407978863797), ('know', -0.0013536909648587646), ('mexico', -0.002003938851772373), ('bell', -0.003892124468143286), ('without', -0.0047120901965178805), ('weigh', -0.005780737532445576), ('0million', -0.006469106547224084), ('returns', -0.009597961841159307), ('greek', -0.010295903135457678), ('auction', -0.010734708123523166), ('isn', -0.011411142636161168), ('now', -0.011782152513626848), ('ford', -0.012898279531662527), ('reason', -0.01458976334842302), ('miami', -0.016684759387389045), ('becomes', -0.01747280581416714), ('moves', -0.020232672091964318), ('media', -0.020611420983363497), ('an', -0.021122478001575525), ('mail', -0.023381876531896665), ('games', -0.023729701589827547), ('inside', -0.024320635417685366), ('gun', -0.02507089286486926), ('doesn', -0.025602510769669126), ('takes', -0.026088036735044465), ('most', -0.02814112031036484), ('weather', -0.028308657271895278), ('should', -0.029871843808769102), ('winter', -0.030704369167052617), ('sunday', -0.03073073782430837), ('saturday', -0.030764771829185297), ('missing', -0.03140786475010782), ('patrick', -0.031737563640262915), ('pregnancy', -0.03315014480594329), ('almost', -0.033364534184836606), ('move', -0.03348502502410498), ('give', -0.03414915998731268), ('makers', -0.03476985736689122), ('minutes', -0.035857457290678504), ('critical', -0.0377740903600484), ('letter', -0.037964905487693205), ('agree', -0.03799513438484667), ('social', -0.03907167527752235), ('woes', -0.03923661776223511), ('die', -0.040218796242040306), ('highest', -0.041579088280249255), ('fast', -0.04271333218018076), ('plunge', -0.04403273404039812), ('least', -0.04451431028142855), ('extends', -0.04507735848282814), ('prepares', -0.047222855855314674), ('accused', -0.048515578638033734), ('weak', -0.050316020490314625), ('begins', -0.05066894800389074), ('sick', -0.051589454452132755), ('tries', -0.052675704853977094), ('full', -0.05269253250935378), ('self', -0.05351569436617546), ('leaked', -0.05354271370064423), ('confirms', -0.054501355645078124), ('labor', -0.05492477140095605), ('ll', -0.0549876649958948), ('little', -0.05565428052191235), ('april', -0.05735404744615226), ('snaps', -0.057547266110911606), ('hacked', -0.057939856635183654), ('stays', -0.06040413068732171), ('future', -0.06045916300698364), ('highs', -0.060599573329627524), ('top', -0.061211640786210574), ('lead', -0.06267592513399808), ('make', -0.06354318253725132), ('week', -0.0662486875416605), ('because', -0.06794428530576777), ('false', -0.06954146822632983), ('charges', -0.0697768617297395), ('budget', -0.06983611587244898), ('jury', -0.07046815815037084), ('facing', -0.07073750708159027), ('take', -0.07097952632160807), ('mice', -0.07118670773444973), ('yr', -0.07157025090737547), ('cites', -0.07215715326555167), ('made', -0.07564343247185533), ('first', -0.07580808137033082), ('surgery', -0.07701638088095546), ('sets', -0.07764387330007451), ('doing', -0.07865020989763463), ('towards', -0.0800491588399057), ('stance', -0.08166530067123448), ('secret', -0.08604510368642855), ('tsx', -0.08636151289087507), ('expectations', -0.08657684492920052), ('fire', -0.08663500648809198), ('brands', -0.08934965159865088), ('hit', -0.08965413087488099), ('holds', -0.0899604480179919), ('legal', -0.09037498274568564), ('part', -0.0949904193441844), ('multi', -0.09625513802476121), ('judge', -0.09685668836361185), ('post', -0.09693218767459771), ('turn', -0.09871662395318014), ('bullard', -0.09938380993828702), ('entire', -0.10016777870610816), ('criminal', -0.10094848367457489), ('again', -0.10136993310786027), ('improved', -0.10199023221981088), ('misses', -0.10254076340040777), ('do', -0.10519177422419716), ('government', -0.10552206347479189), ('drops', -0.10691334852820931), ('airlines', -0.10995096478112393), ('via', -0.11002661920153514), ('needs', -0.1102981575840717), ('treatment', -0.11051437206105655), ('turns', -0.11163381651309422), ('speed', -0.1118416916945872), ('weeks', -0.11187127526893141), ('services', -0.11191116897155556), ('impact', -0.11210072704792906), ('boss', -0.11260800772363855), ('works', -0.1128465498007039), ('really', -0.11297287811741291), ('alert', -0.11413150518499096), ('has', -0.11552924711711085), ('close', -0.11561473871352998), ('sinks', -0.1160614692049758), ('order', -0.11782143396320814), ('spends', -0.11817168880335403), ('for', -0.11824483012600343), ('picks', -0.11960369592785473), ('hands', -0.12192197940510488), ('block', -0.12238613601692426), ('pulls', -0.12239125200651581), ('attorney', -0.1228850542616161), ('must', -0.12396252222059223), ('slip', -0.12411314322834109), ('well', -0.1257146640178657), ('streaming', -0.12617849720321256), ('spain', -0.12688470719315642), ('speech', -0.12782491919011835), ('calls', -0.1289864033490808), ('morning', -0.1303144062723357), ('huge', -0.13215292882972704), ('hunting', -0.13216688168220095), ('prompt', -0.13324789942578047), ('versus', -0.1340197232387191), ('plus', -0.13449404949638796), ('rolls', -0.13494093922685413), ('charged', -0.13494836842838603), ('middle', -0.13538852700184711), ('nine', -0.13562643003291225), ('spot', -0.1367160664255556), ('stunning', -0.1375611336259604), ('who', -0.13777732388543404), ('bear', -0.13818746985218425), ('act', -0.13846533424117521), ('land', -0.13884995545477216), ('four', -0.1392017113579712), ('violence', -0.1397492899500919), ('thing', -0.14007267677143134), ('revises', -0.14237312069503755), ('road', -0.1425261204783393), ('line', -0.14254817868125946), ('lows', -0.14257383654930986), ('changes', -0.14258137993472847), ('producer', -0.1430219439055894), ('recovers', -0.14318981745280684), ('attack', -0.14352319394515373), ('cools', -0.14364702412301908), ('resolve', -0.14432085113076448), ('until', -0.14467914151106073), ('studios', -0.1454336289232207), ('alien', -0.1457134771143014), ('class', -0.14608053858620992), ('signals', -0.14626099268356046), ('digest', -0.14667237254501708), ('confirmed', -0.14669490629794504), ('controversial', -0.14691959611187363), ('held', -0.1470645030140883), ('fisher', -0.14716079363819068), ('threatens', -0.14741401136208795), ('spin', -0.14765617686040194), ('asks', -0.1489156242234715), ('still', -0.1492920188699505), ('walk', -0.15090509204041905), ('all', -0.15253377905846335), ('aa', -0.15284873043029432), ('scrutiny', -0.1528602268993157), ('upbeat', -0.15294029691711575), ('finds', -0.15294096158551104), ('accuses', -0.15297070569625662), ('behind', -0.15311739616847092), ('card', -0.1532946004650405), ('haven', -0.15379131238479593), ('their', -0.15382449010618815), ('early', -0.16031272414272155), ('continue', -0.16036753777739549), ('strong', -0.16104814912733867), ('million', -0.16196110424992718), ('blood', -0.1620028375614482), ('losing', -0.16250940238592396), ('aussie', -0.16284049136574216), ('cell', -0.16326071803174022), ('fresh', -0.16457144865314322), ('ends', -0.16548723734377357), ('press', -0.16813057513201568), ('french', -0.16895391181735703), ('ban', -0.16934848122868684), ('soy', -0.16984688026902095), ('called', -0.17026774232547223), ('dovish', -0.17043542284442914), ('children', -0.17195679688219076), ('union', -0.17391806519039815), ('london', -0.17592656476795224), ('bill', -0.17607759183747768), ('nymex', -0.17612382288253373), ('strengthens', -0.17764171208098234), ('nyc', -0.1791278411606567), ('valuation', -0.1792171613489353), ('forgotten', -0.17942387023470366), ('digital', -0.18256757230512283), ('speculation', -0.18397281893393475), ('reach', -0.18412261115111828), ('supreme', -0.1846540369080278), ('italian', -0.18499795719304413), ('not', -0.18646638572246374), ('ifo', -0.1866498895756696), ('selling', -0.18667505000906726), ('slides', -0.1867074638571009), ('rivals', -0.18676877087381238), ('hard', -0.18691815935263303), ('slows', -0.1874573554435509), ('island', -0.18796385878627217), ('remain', -0.18939293241280158), ('website', -0.1894863118008521), ('beat', -0.19003774715597932), ('needed', -0.19041305655401203), ('income', -0.1913585778956179), ('drive', -0.19191355337833704), ('selloff', -0.19209846491030783), ('climb', -0.19228171337884853), ('ease', -0.19230179861606406), ('seven', -0.19239490928087702), ('meet', -0.19249377698582498), ('through', -0.1928382836956585), ('sued', -0.1935830035428881), ('central', -0.1941090450247451), ('lift', -0.1954774993503092), ('orders', -0.1954985148407148), ('even', -0.19647095462424105), ('fears', -0.19759256048786267), ('they', -0.19834146165174998), ('these', -0.19927281797737711), ('rebound', -0.19928984940439046), ('deals', -0.2013394305569897), ('per', -0.20135310935725673), ('july', -0.2020036734872024), ('slumps', -0.20250289315561235), ('drink', -0.20276932201058018), ('super', -0.2038904476357592), ('measures', -0.20521631951235728), ('oscar', -0.20652497889387555), ('looms', -0.20693231536486156), ('term', -0.20969712686113193), ('of', -0.2103558078277136), ('would', -0.21226080012726295), ('bad', -0.212545311832877), ('stake', -0.21348354946196824), ('real', -0.21366329539872078), ('sign', -0.21540306135410833), ('negative', -0.21665843569181692), ('arrives', -0.2170994655173079), ('washington', -0.21873849433654932), ('heard', -0.2193643442154596), ('kiwi', -0.21968010578207312), ('traders', -0.22085139959736041), ('struggle', -0.2213335655294971), ('fail', -0.22157816857410087), ('growing', -0.2221951542399774), ('backs', -0.22233895418028313), ('protest', -0.22454712548138495), ('usda', -0.2263679584131785), ('sentiment', -0.22684014528852312), ('track', -0.22728091556105035), ('open', -0.2278708577158627), ('support', -0.22908423529754596), ('stronger', -0.23042821336533717), ('better', -0.23196727498675035), ('malaysia', -0.2320363131495146), ('books', -0.23309550717492408), ('ap', -0.23379516853195575), ('it', -0.23455927233909257), ('jobless', -0.2345678789464738), ('cut', -0.23616874393224438), ('highlights', -0.2364828603474157), ('find', -0.23673140273002813), ('claims', -0.23727546802273547), ('style', -0.238824791878437), ('sells', -0.23917541037468545), ('guidance', -0.23941026736480028), ('never', -0.24024463037479385), ('job', -0.24104279294501424), ('subdued', -0.2411020930171291), ('or', -0.24110902695810288), ('spring', -0.2411640393201651), ('competition', -0.24142710551054647), ('puts', -0.24241490485206463), ('urges', -0.2437383017902953), ('expects', -0.24422931320332808), ('hospital', -0.24462533399961284), ('trigger', -0.24475198247039873), ('biotech', -0.24501324478367167), ('major', -0.24507055659085264), ('will', -0.24512640214945264), ('australia', -0.24574028012195687), ('reality', -0.2459459096314397), ('rejects', -0.24673868023387452), ('be', -0.24754734954922306), ('investigation', -0.2476170686192722), ('weaker', -0.24894936017935182), ('sterling', -0.24918878598298866), ('navy', -0.24939964517606492), ('three', -0.25030849682765544), ('deflation', -0.2510422301735167), ('extend', -0.2511934570057091), ('fight', -0.253192252642405), ('export', -0.2532478599513182), ('heart', -0.25370258040339205), ('payment', -0.25401815069534983), ('mostly', -0.25456295350835045), ('helps', -0.25479935707645807), ('bbb', -0.25532711142412146), ('international', -0.25536951976286265), ('see', -0.25581949242082463), ('in', -0.25679252383990747), ('models', -0.25743956841494076), ('tanker', -0.2579884950019552), ('0nd', -0.2584209270716429), ('working', -0.25905609144152525), ('been', -0.2595163710260404), ('mystery', -0.25982501205095176), ('across', -0.26082557622747304), ('futures', -0.2613297222583717), ('foreign', -0.26295249491036915), ('debate', -0.2631217152059309), ('weakens', -0.26342489227059385), ('partners', -0.2635184825393657), ('theft', -0.26512685362916016), ('session', -0.26576270400381513), ('hold', -0.26641367674358973), ('england', -0.26673374426631646), ('doctor', -0.2667771011288632), ('results', -0.2678164146982589), ('accelerates', -0.2687044669024725), ('bigger', -0.2695036754638908), ('worker', -0.26951987131070904), ('tumbles', -0.2697485548943036), ('probably', -0.2700054776094531), ('gazprom', -0.27065335176587985), ('flash', -0.2724185008694255), ('pace', -0.2724879702338734), ('fat', -0.27348795709435275), ('increases', -0.27462212625089366), ('under', -0.27525359151649725), ('whole', -0.27529765861362815), ('wti', -0.2756277969663318), ('months', -0.2760162297263584), ('call', -0.27610959993950784), ('cbo', -0.27614032366955604), ('others', -0.2768961804144805), ('grows', -0.27703014249818375), ('dips', -0.27775520414551275), ('wells', -0.2788398185168502), ('citi', -0.27886176497650883), ('supplies', -0.27928002061625246), ('equities', -0.2825301001532598), ('infection', -0.2831626997821268), ('there', -0.2834826157886567), ('challenges', -0.28418854303719254), ('currencies', -0.2872710834058706), ('grow', -0.2876635461188445), ('authorities', -0.28791163919070156), ('caps', -0.28804696342915204), ('strategy', -0.2885454974376569), ('left', -0.2890803479987374), ('tumble', -0.2917618397088896), ('history', -0.2921607676459414), ('rallies', -0.29289107951149224), ('fell', -0.2940625384046998), ('port', -0.2945875601459948), ('step', -0.29499503390686893), ('warming', -0.29553092137261067), ('expand', -0.2966261524031099), ('holcim', -0.2971729900480298), ('lafarge', -0.2971729900480298), ('declines', -0.2979030602070695), ('replace', -0.2980933555936594), ('taking', -0.29838297215642384), ('moment', -0.29939326248484666), ('further', -0.3004385380273754), ('hike', -0.3010685142806265), ('you', -0.30196270496360467), ('dangerous', -0.30288891052325595), ('think', -0.30302487927940214), ('aims', -0.3041555995038898), ('flight', -0.30717767767163046), ('using', -0.30733760801807164), ('fails', -0.30810731176110356), ('spreads', -0.3088296998651176), ('less', -0.30982944685139274), ('retailer', -0.30986831014174027), ('photos', -0.3101303052439912), ('qe', -0.310396615172278), ('told', -0.3113149756604439), ('president', -0.3141559008769092), ('rare', -0.3142274072575582), ('stimulus', -0.31458470935372285), ('libyan', -0.31472670498943656), ('national', -0.3154468480497371), ('novartis', -0.31552985131387556), ('soars', -0.3156487444328357), ('february', -0.31614875730581765), ('exports', -0.3162888676844279), ('yield', -0.31652198807748566), ('heading', -0.31663772499149717), ('planet', -0.317696995235205), ('next', -0.31901614577708787), ('launches', -0.32047890739713086), ('nikkei', -0.3216283329541509), ('care', -0.32173187924582763), ('retreat', -0.32205253183833127), ('gox', -0.32337817253243434), ('mt', -0.32337817253243434), ('korean', -0.32378546907534583), ('skin', -0.3239676281891424), ('slips', -0.3241990990970306), ('want', -0.3251671129246036), ('public', -0.3252139961782479), ('spread', -0.325677221391127), ('sec', -0.326652051999383), ('rating', -0.3279988623316402), ('swiss', -0.32809210430694), ('slightly', -0.3282648490148103), ('testimony', -0.3291423570345468), ('birth', -0.32926460327010476), ('tech', -0.3298005128321536), ('cause', -0.33052864961175576), ('case', -0.33071012579275466), ('giant', -0.3307820702234867), ('watch', -0.33143798689430337), ('targets', -0.33156684429306393), ('allergic', -0.33182226013895677), ('dip', -0.33280272510612013), ('treasuries', -0.3330927492441923), ('gold', -0.33353663660378524), ('gain', -0.3336893780496879), ('since', -0.333862050775461), ('gdp', -0.3343283028945989), ('federal', -0.33569841985926413), ('hopes', -0.33623210805455267), ('pharma', -0.33684181788472894), ('console', -0.33703984796662795), ('suit', -0.33727996567949026), ('passengers', -0.33860343996776104), ('taco', -0.3398193836508943), ('easing', -0.34019856075594745), ('key', -0.34051711934684764), ('value', -0.3420096182574805), ('era', -0.34385377821395074), ('camera', -0.3439364061660363), ('reveal', -0.34746806729847063), ('climbs', -0.3477499051488026), ('auto', -0.3480429948889042), ('campaign', -0.34837498319715227), ('problems', -0.3487110440903733), ('concerns', -0.34970254892002145), ('collapse', -0.3498123297260481), ('optimism', -0.35154425296333663), ('saudi', -0.35262325251838733), ('guinea', -0.3526712875436375), ('curb', -0.35271686895462), ('concern', -0.35321378431486616), ('output', -0.35361146548201206), ('point', -0.353842369965821), ('life', -0.35455120116363575), ('options', -0.3545954995457483), ('aid', -0.35500295891239303), ('drone', -0.35652924086890775), ('yet', -0.35716512127999395), ('pmi', -0.3573617714505055), ('rebounds', -0.3580192249759213), ('total', -0.35834534908116544), ('paribas', -0.3589486942772177), ('closes', -0.3597078271425226), ('small', -0.35995059755079145), ('which', -0.36125827081218825), ('jd', -0.3625385155574306), ('privacy', -0.3644683599950569), ('fights', -0.3654831586021672), ('policies', -0.365671794655024), ('pill', -0.36630595713340447), ('storage', -0.3683407672150378), ('comes', -0.36839474781466686), ('deaths', -0.3703793089303561), ('threat', -0.3721593867109787), ('lunch', -0.37216273333632216), ('com', -0.37365336318990094), ('half', -0.3748648847785023), ('sac', -0.3753490860868835), ('unemployment', -0.37585606845647507), ('crush', -0.3759941308932295), ('bets', -0.37716513968607435), ('profits', -0.37731145273497074), ('below', -0.3778960556815269), ('illinois', -0.37820446053770856), ('effects', -0.37830016379803), ('amid', -0.37836338508459166), ('eases', -0.37854230116365983), ('settle', -0.3791409602337775), ('tied', -0.3792869620960862), ('doubles', -0.3805791024462048), ('phone', -0.38344510748000615), ('corporate', -0.3838448457056379), ('confidence', -0.38603937923358556), ('siemens', -0.3870242410147017), ('slide', -0.38741272061045556), ('against', -0.38847302412560675), ('proposed', -0.3885852201852979), ('pool', -0.38925673257880267), ('new', -0.3893385573601563), ('experiment', -0.3916496659691277), ('currency', -0.39178862488580996), ('weekly', -0.39318051798565556), ('fires', -0.39331864932352106), ('too', -0.3934675019649814), ('teen', -0.39377381165906356), ('asset', -0.39410600415552416), ('edges', -0.3943925475346036), ('control', -0.3952334784265735), ('awesome', -0.39526226825614075), ('invest', -0.39559502430027005), ('treasury', -0.3957490395501384), ('xbox', -0.39631324738190216), ('executive', -0.39687335698593984), ('internet', -0.3969062919356791), ('losses', -0.3982194524898498), ('smart', -0.39854759458452077), ('suisse', -0.3987400567285226), ('restaurant', -0.3987535196186689), ('icahn', -0.39899120231615726), ('loans', -0.39906007040512503), ('expands', -0.3991158739011317), ('snapshot', -0.40010666903292735), ('hedge', -0.4001193165580278), ('lowest', -0.40083492007787863), ('response', -0.4009284119666823), ('admits', -0.4014917375548271), ('yuan', -0.4017098675841896), ('build', -0.402241379252346), ('gilead', -0.40274750983578417), ('ftse', -0.40295599978152447), ('britain', -0.40583026068930345), ('libya', -0.4058311702201078), ('toll', -0.4062320973185608), ('sony', -0.407361646004489), ('tests', -0.409114396685706), ('sector', -0.41080444922580844), ('focus', -0.41121217819876105), ('worth', -0.41290555032813614), ('go', -0.4145410888626203), ('emerging', -0.41536930790639803), ('turnaround', -0.4163157768080092), ('funding', -0.4168931287498456), ('candy', -0.417844801430207), ('exit', -0.4178942928536124), ('means', -0.4181392561682623), ('shareholders', -0.41847799016397563), ('adds', -0.4196144354592345), ('abbvie', -0.4205215050037883), ('dog', -0.4210242579847953), ('slow', -0.42107705101972553), ('default', -0.4223186064396131), ('soybeans', -0.42366341392351925), ('warn', -0.42404055106352123), ('property', -0.42430975141884253), ('long', -0.42541031427283243), ('rocket', -0.4259772060681591), ('conference', -0.4264848120106149), ('jumps', -0.42664072166854383), ('technology', -0.4276630207800294), ('red', -0.4276826931190185), ('hearing', -0.42819136155727555), ('hp', -0.42821390595249753), ('meeting', -0.4291196568327096), ('defect', -0.4294276592006953), ('barra', -0.4299326604006869), ('fraud', -0.43078820283765973), ('allow', -0.4308558889801699), ('interest', -0.43427745026727355), ('0st', -0.43439437476880255), ('positive', -0.4350031958244022), ('start', -0.43700741808801985), ('same', -0.43853751553116654), ('service', -0.4391123506226826), ('financial', -0.43943561258425423), ('starts', -0.44042142097378684), ('battery', -0.4404847673712943), ('vietnam', -0.4412151852995562), ('warner', -0.4412337502568859), ('bmw', -0.4412837491511907), ('hillshire', -0.4415921709515797), ('banking', -0.4422935530873332), ('ready', -0.4425498600817418), ('text', -0.44322328540336825), ('turkey', -0.44336716370528423), ('bulgaria', -0.4456306670050844), ('keeps', -0.4467593307314195), ('valeant', -0.44843512356446485), ('head', -0.44894430149124637), ('online', -0.4495767235027295), ('suggests', -0.4511591629223584), ('survey', -0.45125594477666736), ('flat', -0.4514021400571932), ('pressure', -0.4514079827513903), ('firms', -0.4534136123093702), ('into', -0.4539703983023209), ('minister', -0.455245323091024), ('ads', -0.45562797715032055), ('third', -0.4560724692088689), ('this', -0.456881752948252), ('thomas', -0.45691605688099707), ('south', -0.45692518815562566), ('playstation', -0.4572643762532698), ('are', -0.45748536082772034), ('despite', -0.45751847200039325), ('east', -0.45757567960577666), ('deutsche', -0.4577179644304978), ('pipeline', -0.4586962573593089), ('where', -0.45959796209314874), ('need', -0.4597606636396274), ('softbank', -0.46111819805491694), ('teva', -0.46123925783456227), ('advance', -0.46210059792447095), ('surge', -0.46237291953738346), ('regulator', -0.4629420651125137), ('faces', -0.46329208350383266), ('driving', -0.4633808981273963), ('african', -0.4635149850674663), ('steady', -0.46363203282200516), ('sell', -0.4638468829667762), ('hurt', -0.4639106750110424), ('assets', -0.4640790326888658), ('bug', -0.46468965923251776), ('italy', -0.46746245261152125), ('deadline', -0.467991172257795), ('driver', -0.46808531391620395), ('cloud', -0.473622563700606), ('index', -0.47403117553586355), ('offers', -0.47548443669336526), ('zone', -0.47556982262152925), ('by', -0.4756091216375897), ('nissan', -0.4761362945395767), ('device', -0.47817455094515454), ('vehicles', -0.4784042894719529), ('consumers', -0.4786998452882339), ('billionaire', -0.47907607500191707), ('yields', -0.479477115335322), ('coming', -0.4797653970861283), ('charney', -0.4808240488622996), ('have', -0.4833994727900847), ('expansion', -0.4839333824298028), ('recovery', -0.4847530939852002), ('miners', -0.4848515884375949), ('slump', -0.48667819515512656), ('citigroup', -0.4892562836564532), ('factory', -0.49091725234783773), ('mars', -0.49093082327760684), ('estimate', -0.49297145343872073), ('snapchat', -0.4940631445763022), ('retail', -0.49407829637984635), ('fx', -0.49461770250522347), ('buys', -0.4946635710195846), ('air', -0.49466997015899655), ('let', -0.49504646292679744), ('fannie', -0.4971330458931449), ('tell', -0.49776489475610547), ('force', -0.4979017959373486), ('sanctions', -0.49868321419357836), ('puerto', -0.4994335288170965), ('rico', -0.4994335288170965), ('deadly', -0.49947271414041394), ('size', -0.5003522873104106), ('corn', -0.5018123824658536), ('bp', -0.5027033641371483), ('q0', -0.5031492615068722), ('investment', -0.5036117030856271), ('taxes', -0.5040658704594089), ('brent', -0.5041177629164507), ('officials', -0.5043822093283887), ('access', -0.5047942894497377), ('approval', -0.5050116293647958), ('lower', -0.5050184470617429), ('agrees', -0.5062241158122787), ('safe', -0.5075255262154423), ('sees', -0.5094858661203427), ('plane', -0.5109184351888706), ('obesity', -0.5110099193763734), ('wireless', -0.5116977841075059), ('electric', -0.5127220185762384), ('consumer', -0.5127820207795712), ('share', -0.5132736225280115), ('among', -0.5140742084091333), ('colin', -0.5147396334771325), ('gap', -0.5151453530129847), ('no', -0.5153482513209809), ('wage', -0.5172188908755586), ('biggest', -0.5174503596450322), ('mart', -0.5180013207456681), ('wal', -0.5180013207456681), ('many', -0.5190801945258104), ('carney', -0.519252332881593), ('stable', -0.5194900121313046), ('millions', -0.5196100571083779), ('push', -0.5202459166668381), ('nears', -0.521105148504486), ('hong', -0.5214419455864859), ('kong', -0.5214419455864859), ('avoid', -0.5214868308742137), ('reduce', -0.5222215752835024), ('ftc', -0.5231471488673314), ('when', -0.523213246639656), ('month', -0.5236346999972474), ('quarterly', -0.5246941948774336), ('enough', -0.524935223494585), ('australian', -0.5254627546312812), ('fix', -0.527894439498892), ('android', -0.5285788067705238), ('research', -0.5288652666385636), ('faster', -0.5291161552189527), ('approves', -0.5291379778610438), ('gopro', -0.5296983167515058), ('ge', -0.5300781234692735), ('bofa', -0.5314650566209148), ('canadian', -0.5318647211854973), ('british', -0.5321763446541097), ('refile', -0.5331626508276401), ('ahead', -0.5339045285024557), ('worst', -0.5376781757069876), ('nuclear', -0.5385817912682359), ('issue', -0.5401179135543555), ('from', -0.5402128273612059), ('indian', -0.5405279857366464), ('develop', -0.5412033688076562), ('supply', -0.5419944341472356), ('manufacturing', -0.5450049694728766), ('cold', -0.5456994834910863), ('economist', -0.5457885928865346), ('tracking', -0.5459072775912528), ('search', -0.5477406022314979), ('lifts', -0.5479775685571846), ('perfect', -0.5510221034772099), ('intel', -0.5534017215881037), ('coal', -0.5538053393265482), ('spending', -0.5545614813905649), ('your', -0.5560157840904848), ('loan', -0.556030862874945), ('mortgage', -0.5563494133190852), ('trapped', -0.5593038004856142), ('raise', -0.5597556086281804), ('forecasts', -0.5599921581348974), ('wheat', -0.5601908809357866), ('switch', -0.560598039440878), ('rising', -0.5612567713367485), ('great', -0.5616949607543261), ('eyes', -0.5631091551310065), ('were', -0.5635618646467313), ('congress', -0.5638959257215732), ('over', -0.5643303362028096), ('surges', -0.5653381840743449), ('on', -0.5657030806603486), ('living', -0.5661639245463823), ('get', -0.5663891767005367), ('acquire', -0.5686436667056731), ('canada', -0.5689300385919929), ('germany', -0.569697799082889), ('stanley', -0.5720078640028178), ('mission', -0.5743201853710053), ('caught', -0.5754886230912084), ('names', -0.5760242730022451), ('rally', -0.5772818184999858), ('fiat', -0.5808623808054193), ('seek', -0.5816862072615141), ('student', -0.583190098761167), ('expected', -0.5837404953291151), ('decline', -0.5840935187196263), ('putin', -0.5842376337547611), ('nasdaq', -0.5870089709057149), ('save', -0.5888318122665137), ('ipad', -0.5889392282470368), ('web', -0.5892843304643425), ('foods', -0.5893228961229242), ('water', -0.5894621744966438), ('say', -0.5896142844896491), ('grains', -0.5896801688591891), ('software', -0.5913728583642264), ('possible', -0.5916621218130166), ('obama', -0.5925380634092077), ('trading', -0.5929372370056825), ('stores', -0.5932856750986149), ('medtronic', -0.5942546098221205), ('satellite', -0.5944808766848632), ('diabetes', -0.5959790734207207), ('tyson', -0.5973656975814587), ('uk', -0.5978643838064573), ('twitter', -0.5998691406351795), ('funds', -0.6001084737392618), ('cfo', -0.6005841848469263), ('network', -0.6022658534140543), ('sprint', -0.6048241905394535), ('breach', -0.6050740777146827), ('france', -0.6070116328604698), ('dow', -0.6071165396040419), ('reports', -0.6072478543110466), ('weight', -0.6073452379661615), ('factors', -0.6079626078915072), ('aren', -0.6104857610474331), ('herbalife', -0.6113284331332389), ('agency', -0.6116050078658825), ('bloomberg', -0.611839976930296), ('spanish', -0.6143232335692635), ('smartphone', -0.6143258768553962), ('warning', -0.6146187264749349), ('ibm', -0.6149896842129876), ('decision', -0.6151975491858336), ('jpmorgan', -0.6165228459285305), ('percent', -0.6176272089266437), ('used', -0.6184287405930463), ('subscribers', -0.6188937859114555), ('ackman', -0.6191384150104203), ('wsj', -0.6210169837460845), ('non', -0.621934331527869), ('imf', -0.6224385694053508), ('woman', -0.6230683974250117), ('equal', -0.6242622919230209), ('medicare', -0.6247661034799027), ('yen', -0.6252132272067155), ('beef', -0.6264602745836887), ('corrected', -0.627908504909406), ('linked', -0.6284644839460141), ('argentine', -0.6294914801795144), ('texas', -0.6315661864240092), ('unit', -0.6329332915341068), ('levels', -0.6333933611905805), ('crude', -0.633568128402634), ('insider', -0.6337818485637995), ('plans', -0.6345497447959484), ('glass', -0.6345749774259266), ('alzheimer', -0.6350533848226656), ('notes', -0.6411942841432916), ('spacex', -0.6412226025184942), ('florida', -0.641691917588451), ('level', -0.6428519198814002), ('sources', -0.6467021579963338), ('settlement', -0.6469535824880693), ('board', -0.6470189921890256), ('protect', -0.6470653791329455), ('bankruptcy', -0.6471418662102909), ('increase', -0.6486005333730657), ('king', -0.6487600830720369), ('risks', -0.6534070084279595), ('healthcare', -0.6536263714935264), ('discovered', -0.65462297886514), ('wall', -0.6551934350492108), ('rises', -0.6556698025909595), ('africa', -0.6577801399870308), ('lets', -0.6581414526107808), ('site', -0.6588562261360197), ('takeover', -0.6606053840551684), ('change', -0.6644646766140696), ('precious', -0.664605611003035), ('end', -0.6646706297870814), ('hackers', -0.6648282128279548), ('capital', -0.6662235213463966), ('weighs', -0.6676182894838019), ('nearly', -0.6712400969598756), ('chain', -0.6721710922503658), ('sun', -0.6727173891399549), ('allergan', -0.6729179510954005), ('power', -0.6738159953032489), ('cash', -0.6755192327539615), ('debt', -0.6760677687220875), ('june', -0.6795841329365415), ('boosts', -0.6804215693713876), ('system', -0.681396308940663), ('court', -0.6821133437271), ('firm', -0.6825268309994341), ('bnp', -0.6836108335806185), ('don', -0.6847006946806203), ('boe', -0.6849547826753872), ('tobacco', -0.6852618214303063), ('ad', -0.6888119421607583), ('time', -0.6910540142133763), ('alstom', -0.6926363178406488), ('changed', -0.6929088451146024), ('stress', -0.6940249739593446), ('boeing', -0.6955865526686755), ('design', -0.6956066014285778), ('space', -0.6957777907472216), ('fuel', -0.7011659650494765), ('cost', -0.7023709696511762), ('them', -0.703074141916218), ('unveils', -0.7031376000366604), ('plant', -0.7034745501000139), ('users', -0.7044046803528918), ('epa', -0.7050950310245085), ('pot', -0.7053332130241224), ('link', -0.7055112018032683), ('stop', -0.7071034138272521), ('shire', -0.7084346846803916), ('shares', -0.7097166781370605), ('chief', -0.7106978722864392), ('recalled', -0.7115086623559186), ('airline', -0.7126198681000241), ('drop', -0.7157495608898656), ('panel', -0.7164831101517416), ('apps', -0.7176944451857917), ('un', -0.7177296772230761), ('asia', -0.7191345785713891), ('governor', -0.7196900622520093), ('blackberry', -0.7203848530627731), ('bonds', -0.7222831327904968), ('market', -0.7252827703921143), ('hits', -0.7266080199973514), ('maker', -0.7294307572923721), ('rules', -0.7303309908034362), ('world', -0.7313210858067586), ('seeks', -0.7329255846961492), ('russia', -0.73292998979068), ('boost', -0.7329322892965688), ('price', -0.7361643642815338), ('pound', -0.7369531604712717), ('money', -0.738011711612694), ('building', -0.7415211820113087), ('pushes', -0.7424344092267836), ('crisis', -0.7442138157636431), ('boj', -0.7477362936467824), ('light', -0.7492822492057961), ('toyota', -0.7496725185946878), ('lawmakers', -0.7497275693629974), ('group', -0.7515276365312133), ('customers', -0.7539861024849377), ('economic', -0.7563474240320122), ('affirms', -0.7582807476178325), ('near', -0.7598152898363654), ('chart', -0.760702037541426), ('astrazeneca', -0.7611389756454267), ('to', -0.7624860902506178), ('housing', -0.7633041151242673), ('solar', -0.7634931857021781), ('chrysler', -0.7641909212169343), ('india', -0.765668355157781), ('ebay', -0.7672514358863307), ('down', -0.7679041418053694), ('companies', -0.7739949914525335), ('people', -0.7757114749285822), ('european', -0.7757733838550352), ('fees', -0.776645007028135), ('buffett', -0.777750215296012), ('problem', -0.7779946898800694), ('above', -0.7781302045235466), ('products', -0.7814435692361729), ('tax', -0.7814449178240224), ('energy', -0.7817071370750668), ('stock', -0.7820161590187507), ('higher', -0.7843074477119178), ('fracking', -0.7847676229344075), ('pay', -0.7853537608010658), ('ignition', -0.7853757781015782), ('bitcoin', -0.7886182398323087), ('credit', -0.7899465859501802), ('buying', -0.7900501401047924), ('cdc', -0.7966431960344064), ('raises', -0.7974404958277053), ('trade', -0.7988354397471504), ('company', -0.8028131397280697), ('forex', -0.8067986223988035), ('bond', -0.807497425756011), ('as', -0.80844105417877), ('growth', -0.811006757720541), ('dr', -0.8110682082979683), ('breast', -0.8110718339645558), ('malaysian', -0.8135719858298065), ('trial', -0.8137904334734184), ('warns', -0.813796481524154), ('mh0', -0.8142509993215268), ('iphone', -0.814340672855379), ('help', -0.8167489310648172), ('fine', -0.819068998031916), ('that', -0.8226740760958199), ('largest', -0.823389682032152), ('costs', -0.8257456888921912), ('investors', -0.8262457801620641), ('chairman', -0.828965500764767), ('cars', -0.8312639873635369), ('states', -0.8366283177744661), ('cigarettes', -0.8412423778509963), ('strike', -0.8439950096788524), ('healthy', -0.8462948337594095), ('outbreak', -0.8477152346294221), ('piketty', -0.8487228996776549), ('high', -0.8510345900395359), ('forecast', -0.8515752687539895), ('stem', -0.85622759463686), ('mln', -0.8567066665126084), ('jobs', -0.8571365653818398), ('revenue', -0.8576591492024009), ('general', -0.8584141210644904), ('senate', -0.8597763741682313), ('rates', -0.8649224457412454), ('eu', -0.8653457102014935), ('outlook', -0.8663913379971494), ('hepatitis', -0.8680914057201354), ('researchers', -0.8718453639629495), ('draghi', -0.8718694787639811), ('ohio', -0.8729742992374765), ('lewis', -0.8754950109303563), ('fall', -0.8788246057221979), ('sale', -0.8831406540913276), ('app', -0.8831904884530887), ('safety', -0.8837059280445956), ('europe', -0.8848340634789934), ('ukraine', -0.885784282193299), ('carbon', -0.8864362941821904), ('station', -0.8867383414635676), ('area', -0.8887307684079678), ('markets', -0.8900827449043269), ('seen', -0.891565167854707), ('patients', -0.892431312486032), ('if', -0.8934074113523571), ('rpt', -0.89521423002238), ('earnings', -0.8962429721236365), ('neutrality', -0.8967724938733167), ('shower', -0.9003271335951488), ('fund', -0.9008368365987447), ('security', -0.9053184563836262), ('free', -0.9053930049712356), ('drugs', -0.9062237102040134), ('gains', -0.9141699588351259), ('workers', -0.9169142448907416), ('policy', -0.9195332108119376), ('net', -0.921728946330306), ('loss', -0.9221652772261917), ('cuts', -0.92651363254469), ('plan', -0.9288166184845424), ('found', -0.9300474985821304), ('heartbleed', -0.9304340121307564), ('russian', -0.931803302740032), ('march', -0.9343449119183964), ('detroit', -0.9352264827876537), ('car', -0.9368217312834081), ('said', -0.9406423862415133), ('recalls', -0.9430443842402593), ('industry', -0.9455332317788414), ('likely', -0.9484604269127784), ('low', -0.9499891075256129), ('patent', -0.9557683636607315), ('some', -0.9579897906057366), ('cases', -0.9721831818860683), ('drug', -0.9729898930778145), ('barclays', -0.9734656018442703), ('beats', -0.9735972296214909), ('sea', -0.9739304309646803), ('estimates', -0.9767948919033234), ('demand', -0.9792092999503799), ('prevent', -0.9838779596928989), ('state', -0.9862295735829347), ('pct', -0.9902005532301434), ('chinese', -0.9902201922360975), ('right', -0.9916406102633859), ('goldman', -0.9927487967499798), ('directv', -0.993908520998304), ('year', -1.0105657674357649), ('moon', -1.0110250097325229), ('source', -1.0169698049483151), ('fcc', -1.017247121771976), ('argentina', -1.023637559841215), ('use', -1.0260719153039002), ('business', -1.0287953206413072), ('gas', -1.0297547982916089), ('falls', -1.044931257873359), ('murdoch', -1.0468111321554572), ('pfizer', -1.0482438706992827), ('japan', -1.0493930118576391), ('disease', -1.0628057307649676), ('earth', -1.067187213523691), ('fda', -1.068485907039707), ('quarter', -1.069174940049084), ('apparel', -1.0727167625070881), ('report', -1.0729871796167958), ('banks', -1.0834513831185903), ('cigarette', -1.0871998813911805), ('food', -1.087319764670588), ('doctors', -1.0918948077759132), ('uber', -1.099832045889116), ('stocks', -1.1058626256544974), ('probe', -1.1082186287571172), ('ruling', -1.1181392547442823), ('wrapup', -1.1187808379741662), ('years', -1.1206116534780397), ('test', -1.127167404524379), ('mcdonald', -1.1273702269880574), ('target', -1.1295587811047676), ('offer', -1.1337415001022775), ('mergers', -1.135702954812169), ('amazon', -1.135878887687844), ('california', -1.1505125983970053), ('bid', -1.1550882265152105), ('musk', -1.164256554797634), ('mobile', -1.1685840169061132), ('brain', -1.1806098818694604), ('more', -1.1825703651904893), ('economy', -1.191822383240253), ('virus', -1.2002055216765561), ('jet', -1.201864771632445), ('dollar', -1.2124319921523459), ('medical', -1.2179975215554797), ('americans', -1.2243055589533662), ('fitch', -1.2271952375408877), ('between', -1.2311135874999486), ('mers', -1.2312359551486682), ('recall', -1.2319798005892506), ('health', -1.2612459897053194), ('can', -1.2730969943140487), ('yellen', -1.2797436515793892), ('euro', -1.2833622046888813), ('comcast', -1.2868151542131157), ('deal', -1.3350619630271374), ('fed', -1.3438537884082233), ('profit', -1.3571731725269494), ('inflation', -1.3588305317679277), ('than', -1.3669187232921083), ('prices', -1.3707730496943322), ('merger', -1.3716029168212969), ('nasa', -1.3739857778364069), ('ipo', -1.3752014376289436), ('samsung', -1.3843263377673802), ('rate', -1.3896824045676812), ('rise', -1.3987069516484931), ('tesla', -1.4375573525245802), ('bln', -1.4549967952831988), ('scientists', -1.498756445009236), ('ecb', -1.5054061111488275), ('global', -1.548357517989437), ('alibaba', -1.5627702285693728), ('buy', -1.582142728924155), ('could', -1.591822752820076), ('may', -1.5988939101484878), ('microsoft', -1.6014503444605164), ('obamacare', -1.6239074428735936), ('oil', -1.6659874939149), ('sales', -1.6720873707274297), ('climate', -1.7208310629214278), ('risk', -1.759631164600689), ('ebola', -1.7657945754457092), ('cancer', -1.7726869380019974), ('data', -1.7914919851304718), ('bank', -1.8099012530546505), ('billion', -1.8895492658178958), ('its', -1.8916302752531997), ('says', -1.9222235728972565), ('apple', -1.9663732959493856), ('facebook', -2.0215956453198487), ('ceo', -2.205898599714607), ('gm', -2.206582255209619), ('china', -2.2198130564485923), ('study', -2.230460799722653), ('update', -2.745257164333973), ('google', -2.767716230958836), ('us', -2.9131036224083444)]\n",
            "\n",
            "class : m \n",
            " top : [('ebola', 4.446917579041525), ('study', 3.7433218767900707), ('cancer', 3.6586576156001738), ('drug', 3.435808067762622), ('fda', 3.2588941130544766), ('mers', 3.2486680449288547), ('cases', 2.582520947319315), ('cdc', 2.4935108038717138), ('could', 2.4290006131464628), ('cigarettes', 2.4170322034659932)]\n",
            " bottom : [('medical', 2.4054225175051203), ('outbreak', 2.384096676499824), ('doctors', 2.354034001369984), ('risk', 2.3169058969342062), ('virus', 2.2660655761843422), ('health', 2.256861145993003), ('heart', 2.1110045910813215), ('people', 1.9941012714824262), ('stem', 1.9863332459350234), ('brain', 1.9756624528189712), ('patients', 1.9672281375580025), ('state', 1.9312405804890687), ('cigarette', 1.8993619567565636), ('children', 1.874077912126094), ('trial', 1.8428370155504679), ('diabetes', 1.7887373504118282), ('food', 1.786791336775929), ('are', 1.7790755404814191), ('alzheimer', 1.7537878804639178), ('woman', 1.7340169753381178), ('disease', 1.703944800145536), ('can', 1.6859785314938813), ('healthy', 1.6670294080751002), ('approval', 1.6641397730782386), ('prevent', 1.575362596576836), ('use', 1.5624696724845366), ('oscar', 1.5084078687161915), ('hepatitis', 1.5068124655754969), ('weight', 1.4823523972336135), ('obesity', 1.4802423140018803), ('tobacco', 1.4692957877384936), ('hospital', 1.4166866026951845), ('drugs', 1.4088381340778557), ('california', 1.3905872024992352), ('marijuana', 1.3884288590550515), ('spread', 1.3345751343025878), ('fight', 1.3067419705883196), ('help', 1.2982954156955484), ('healthcare', 1.2971465915218696), ('kids', 1.2768301140638447), ('campaign', 1.269621262603432), ('recalled', 1.2525841561774123), ('breast', 1.2499699167928022), ('allergic', 1.2468705903353927), ('cell', 1.2415412881151136), ('that', 1.2341729941211113), ('for', 1.2289431408808693), ('guinea', 1.2261011902681132), ('if', 1.2229328419616494), ('may', 1.2135015431947789), ('toll', 1.2067349172134587), ('more', 1.2049165411678546), ('think', 1.2041692270869293), ('doctor', 1.2027933080567155), ('treatment', 1.1970191725195256), ('fat', 1.195178993515238), ('surgery', 1.1949104700297128), ('linked', 1.1905275947189267), ('likely', 1.1893808091526485), ('skin', 1.1856856549211638), ('who', 1.1806550700006442), ('researchers', 1.1672894530061506), ('link', 1.1399349296539445), ('rising', 1.1069904928847734), ('beef', 1.103687921749969), ('deadly', 1.080376312143736), ('pregnancy', 1.0785321570834028), ('florida', 1.0760976816984595), ('do', 1.0653572824951276), ('of', 1.0533422867670277), ('say', 1.0423794275201212), ('walk', 1.0268594834844615), ('child', 1.0260361857228342), ('spring', 1.0249767038338875), ('medtronic', 1.022321808879186), ('women', 1.0096322713874941), ('saudi', 1.008218143043133), ('lawmakers', 0.9944581297195738), ('safety', 0.9882539770866355), ('rules', 0.9850827785502616), ('infection', 0.9629299485920452), ('medicare', 0.946731574116745), ('reality', 0.9327201136430733), ('many', 0.9237461283675817), ('scientists', 0.9130170882253262), ('americans', 0.9121612193130542), ('spreads', 0.9115480754600247), ('case', 0.9081270714944066), ('products', 0.9079597976405415), ('helps', 0.899929817711812), ('dog', 0.8919760588729202), ('baby', 0.8868735291638067), ('us', 0.8861094767947295), ('boosts', 0.8778456316591818), ('ohio', 0.876945618071147), ('blood', 0.8534731461744532), ('better', 0.8532667558105328), ('approves', 0.8519771721206407), ('from', 0.8507795415306375), ('warn', 0.8500984595410255), ('pictured', 0.8497525978191229), ('restaurant', 0.8441444589302463), ('young', 0.8430799725628548), ('problems', 0.8361814443013578), ('test', 0.8312268618365374), ('cause', 0.8245530762932047), ('illinois', 0.8199894997531694), ('birth', 0.8174365456727608), ('sick', 0.8126505276114728), ('let', 0.8028865142047501), ('age', 0.7882694065602728), ('africa', 0.7847941151176278), ('develop', 0.7819619928965285), ('some', 0.7794699879315804), ('foods', 0.7779296699722275), ('death', 0.7773347761155261), ('pressure', 0.7702113016862453), ('teen', 0.766268442521276), ('alcohol', 0.7661126048703497), ('area', 0.7576893606384779), ('gay', 0.7534783922726936), ('gibson', 0.7451721402270197), ('panel', 0.7446130907983214), ('driving', 0.7430624202046046), ('gilead', 0.7383984794496582), ('mh0', 0.7358940433992793), ('have', 0.725525154270161), ('drink', 0.7244891154286981), ('school', 0.7204743436256107), ('caught', 0.7186362079720561), ('been', 0.7171072386370971), ('girl', 0.7169354467558144), ('than', 0.7142245679011074), ('conference', 0.7087393056750875), ('lives', 0.7065083712686441), ('selfie', 0.6899008534624118), ('your', 0.6885646298031849), ('third', 0.6840525674192677), ('awesome', 0.6732771181260375), ('rare', 0.6714392024973792), ('worker', 0.6698465322315578), ('rates', 0.6646697534992885), ('reports', 0.6637613207616435), ('jumps', 0.6556896825834199), ('research', 0.6548231598775394), ('taking', 0.6535536704497192), ('were', 0.6473065889116432), ('rate', 0.6472611577307849), ('cruise', 0.6462140321843065), ('african', 0.6408020850957553), ('dr', 0.6398058338156928), ('cameron', 0.6376880816231841), ('in', 0.6372510362391592), ('agency', 0.6363423595456218), ('be', 0.6355377641491464), ('coal', 0.6335465309541397), ('care', 0.625074834087588), ('this', 0.6240155101851677), ('life', 0.6232768143450812), ('device', 0.6229039938391978), ('is', 0.619022693041006), ('patrick', 0.6167319986918961), ('find', 0.6124227241335596), ('facing', 0.6105065542489271), ('economist', 0.6068273939381812), ('ads', 0.5979559820812114), ('mice', 0.5950183251272739), ('last', 0.5937477121066329), ('over', 0.5904812433410024), ('becomes', 0.5895431476227243), ('federal', 0.5874219502511172), ('between', 0.5870803736987457), ('0million', 0.5830431185843433), ('notes', 0.5824123172314909), ('seek', 0.5792769002569319), ('warning', 0.5789277728438009), ('comes', 0.5762437358038772), ('into', 0.5755413157838399), ('it', 0.5754353000130966), ('block', 0.5746713735037471), ('body', 0.5717747897673526), ('don', 0.5695500204212911), ('you', 0.5656948471706542), ('found', 0.5633493376510119), ('should', 0.5631185477584401), ('selling', 0.5624911941179809), ('offer', 0.5607648239662986), ('men', 0.5586782244036381), ('positive', 0.5586601135400244), ('reason', 0.558659478946738), ('fears', 0.5559054192178826), ('face', 0.5479052069929822), ('his', 0.5477143481482448), ('lead', 0.5434519758952668), ('reveals', 0.5432388605443799), ('or', 0.5431969677105256), ('red', 0.5374448951800395), ('free', 0.537187769210201), ('reaction', 0.5343505600975238), ('states', 0.5312314641640868), ('longer', 0.5285371922598198), ('size', 0.526343299202934), ('puts', 0.5248406968959807), ('get', 0.5243780945757183), ('slow', 0.5220989317163878), ('national', 0.5213889300791084), ('0s', 0.5206984492740199), ('loss', 0.5187219057348804), ('tops', 0.5181773668466105), ('michelle', 0.516019671641888), ('officials', 0.49959580889962535), ('dies', 0.49640343755830507), ('but', 0.4918332589705811), ('her', 0.48933960195806653), ('on', 0.4879438088319149), ('nyc', 0.483194131857372), ('raises', 0.48232449003310235), ('group', 0.4816297315775018), ('when', 0.4793731227176191), ('deaths', 0.47710383330622014), ('factors', 0.47643897561593895), ('labor', 0.4764193945683739), ('company', 0.4754280988131655), ('reduce', 0.4707925163847353), ('curb', 0.464822273702484), ('wins', 0.4633062243776699), ('tests', 0.46046472601513216), ('quit', 0.46017032364872107), ('my', 0.45958796246344596), ('coming', 0.45817314292868133), ('proposed', 0.45752470898396197), ('dangerous', 0.45534532261882976), ('eva', 0.45450998400055337), ('older', 0.45186889588570617), ('years', 0.45055653966327663), ('being', 0.44988629146265746), ('two', 0.44719302973601494), ('long', 0.44604119762089617), ('charged', 0.4427437191565876), ('suit', 0.4423601423646878), ('accused', 0.43617175693902277), ('secret', 0.43545267320743564), ('senate', 0.43465816753962366), ('theft', 0.4322131948293732), ('style', 0.42694881761507336), ('among', 0.42605531894753423), ('them', 0.4211929799559602), ('ruling', 0.4206745523856197), ('lewis', 0.42043057747122636), ('public', 0.42023104013410967), ('sun', 0.4197608618458818), ('levels', 0.4167374204679531), ('breaking', 0.41395399896236984), ('works', 0.4139264846844954), ('records', 0.4133390026570198), ('through', 0.41114263851078386), ('sarah', 0.4074422326732375), ('side', 0.40564670985131995), ('not', 0.40513913043726524), ('obama', 0.4041817871577263), ('critical', 0.39797358279641537), ('boy', 0.3974417390482524), ('during', 0.39524612589650987), ('world', 0.3947468426629381), ('boost', 0.3940262467217981), ('aid', 0.39033340633494246), ('give', 0.3876415280574889), ('ban', 0.38503517562602585), ('discovered', 0.3837216093456227), ('and', 0.37646269006998867), ('weighs', 0.3681819551587556), ('effects', 0.3640138496037977), ('urges', 0.36179503676137853), ('higher', 0.3613705527588468), ('jump', 0.3610626047890089), ('authorities', 0.35934770343585476), ('concern', 0.3547353681075501), ('suicide', 0.3526673225836109), ('goldman', 0.3511373002772371), ('surges', 0.35092431260936974), ('former', 0.35032923592488574), ('non', 0.3495490659782232), ('hurt', 0.34907561859602665), ('pound', 0.3484500428979929), ('stress', 0.3449790236703967), ('chairman', 0.3441186657758609), ('spanish', 0.3437373126544771), ('guide', 0.3435291719618766), ('beat', 0.3434574906905263), ('fails', 0.3432553552951746), ('track', 0.34061762765961096), ('much', 0.3402364338823288), ('middle', 0.33850785269270445), ('giving', 0.3374091790863204), ('topless', 0.3368250609291213), ('early', 0.3364685403138596), ('joe', 0.3363146162383685), ('under', 0.33446147528647874), ('america', 0.33337618863300833), ('un', 0.33293409283791925), ('speculation', 0.33170031323385785), ('speaks', 0.33166317818924174), ('once', 0.3306829449683807), ('changed', 0.3292966334743077), ('shareholders', 0.3280009859295739), ('every', 0.32701872940058135), ('official', 0.325934257494872), ('stores', 0.3238797862468976), ('mostly', 0.32355508145436457), ('dead', 0.32170406176711597), ('moment', 0.3187034976026044), ('driver', 0.3179612619657926), ('industry', 0.3172039399234881), ('incident', 0.31662779661087925), ('target', 0.3165411073504189), ('recalls', 0.31647267296894), ('cut', 0.3098101277314087), ('worst', 0.30972861628834325), ('called', 0.30911181800617993), ('increase', 0.3028256937136492), ('concerns', 0.30203663949802895), ('half', 0.3017307650194942), ('lot', 0.30086352246019143), ('prompt', 0.29931050127187425), ('britain', 0.2990877500985159), ('thousands', 0.2986471940636487), ('tell', 0.29858260713503443), ('winning', 0.29534879425862043), ('finds', 0.2947221111043856), ('allow', 0.2937422179779759), ('fights', 0.28995153696388093), ('their', 0.2899276739461564), ('really', 0.2874767070199431), ('problem', 0.287044185154643), ('cost', 0.28515908734117446), ('passengers', 0.28065820656809437), ('turns', 0.2794100843312175), ('aged', 0.2794053228948586), ('great', 0.27789808020278867), ('robin', 0.27646227980133303), ('city', 0.27579543407564533), ('where', 0.27525907542726646), ('man', 0.2751624293550015), ('good', 0.2744527101439795), ('means', 0.270188091969447), ('ready', 0.26979271929184745), ('workers', 0.2680506777570073), ('ryan', 0.26751070539291727), ('lower', 0.2649657360414402), ('right', 0.26460651214176417), ('scrutiny', 0.2638414665153898), ('surge', 0.2582525696689098), ('to', 0.25773115803400537), ('roll', 0.257526725339302), ('defends', 0.2572043725019417), ('friend', 0.25653524569862063), ('makes', 0.25573748005333136), ('west', 0.25398776486729463), ('while', 0.25371838741529196), ('mln', 0.25305621135690826), ('major', 0.2525721093934039), ('father', 0.25086757608672317), ('least', 0.2500170221748899), ('using', 0.2494461874246585), ('student', 0.2476094858690247), ('growing', 0.24689325949215774), ('attack', 0.24665531717686076), ('relationship', 0.2456117783115494), ('make', 0.24409542273303872), ('year', 0.24340840604610064), ('live', 0.24287964605842444), ('keeps', 0.24274313230655023), ('samsung', 0.24076132801375208), ('almost', 0.23941161890812257), ('its', 0.23696394779428762), ('mother', 0.23561212643234333), ('storage', 0.23423956222245496), ('save', 0.23349838155180183), ('as', 0.23212107544981306), ('app', 0.23179420555640343), ('extend', 0.2296622973427353), ('seven', 0.22935407085829712), ('continues', 0.22883215324324155), ('work', 0.2286441683484715), ('dark', 0.22837789533696415), ('three', 0.22330778443753538), ('cuts', 0.2230283933345671), ('well', 0.22298498867036845), ('refile', 0.21831803193534072), ('novartis', 0.21543645100452613), ('needs', 0.21515914089261157), ('weekly', 0.2144946876794561), ('rise', 0.2113871276728882), ('data', 0.20912927033591625), ('struggle', 0.20883113703419343), ('ease', 0.20863629455181124), ('starts', 0.20758720941230577), ('history', 0.20564260434053283), ('soon', 0.205194441244703), ('me', 0.20427617148784247), ('names', 0.20405870384869146), ('urban', 0.20380648643282673), ('won', 0.20303685560805082), ('pill', 0.20126734622915698), ('parents', 0.1982952786323918), ('amid', 0.19430758790286393), ('raised', 0.19307264957950632), ('forgotten', 0.19303197013551432), ('refuses', 0.1925131433338704), ('number', 0.1917887202904922), ('declines', 0.19077648046263726), ('after', 0.18925160468392954), ('acting', 0.1889189040933281), ('girlfriend', 0.18879656750150822), ('suggests', 0.18846118017098215), ('own', 0.18790263037451327), ('judge', 0.1854231810099817), ('changes', 0.18243715698337254), ('closes', 0.18234257427654876), ('heading', 0.17668543677980253), ('will', 0.17611466620630256), ('gun', 0.17600881214416167), ('joins', 0.1750705441906752), ('killer', 0.17396452951485042), ('response', 0.1735459602571548), ('crash', 0.17312172044837326), ('ipad', 0.17263874288045838), ('lifetime', 0.172438865274095), ('minutes', 0.16993209105195153), ('anti', 0.16975006362607062), ('victims', 0.16970855550553707), ('new', 0.16969881137114795), ('government', 0.16948663779678766), ('leaving', 0.16943374251807242), ('these', 0.16929263422697963), ('others', 0.16642374133638413), ('head', 0.16354409955629762), ('again', 0.16213540043346505), ('stay', 0.1616320972695365), ('become', 0.16086620070395447), ('report', 0.15968357526289484), ('entire', 0.1584604848732023), ('with', 0.15827515648254578), ('start', 0.15745665915650425), ('turn', 0.15653727890531835), ('moves', 0.15650008246964306), ('daily', 0.15471646671433126), ('total', 0.1541577461037686), ('ann', 0.15256931145876326), ('fan', 0.15139615016050023), ('admits', 0.1504005533176579), ('british', 0.15024055837927336), ('winter', 0.15010586011147223), ('negative', 0.14994584182803603), ('ve', 0.14973268759199612), ('released', 0.1454629758621762), ('decision', 0.14511527693319748), ('leaves', 0.1442996862427271), ('past', 0.14363984149586595), ('charity', 0.1433995095144922), ('girls', 0.14327742009296196), ('multi', 0.14209345854335767), ('part', 0.1388438832751319), ('lands', 0.13661674507708377), ('thomas', 0.13658593034571145), ('lee', 0.13570300725791445), ('claims', 0.135590610403022), ('era', 0.13446237598932914), ('plane', 0.1325331934989775), ('pregnant', 0.1314899578762272), ('letter', 0.13091654110534257), ('eu', 0.13083396535173347), ('him', 0.1302599346092525), ('magic', 0.12793622643438662), ('teenage', 0.12684283108935498), ('offers', 0.1263851776631978), ('living', 0.12358090446379766), ('steady', 0.12358009105539355), ('ways', 0.12290175318285677), ('review', 0.12213348927474145), ('video', 0.12168027800135785), ('design', 0.12150213989099536), ('manager', 0.11932103550261355), ('old', 0.11880570356862187), ('fresh', 0.11851722279160468), ('inside', 0.11824258137903328), ('legal', 0.11785495929695737), ('chart', 0.11629605471505312), ('outside', 0.11261020258585352), ('given', 0.11151446456119996), ('so', 0.11072267246196617), ('swiss', 0.10884229714600648), ('stone', 0.10813660364423554), ('malaysia', 0.1074195838009371), ('astrazeneca', 0.10741288317381814), ('still', 0.10740725199031216), ('beyond', 0.10491117557390964), ('different', 0.10337535704877833), ('weather', 0.1032530049367967), ('she', 0.10136659710263743), ('tribute', 0.09930720330180012), ('double', 0.09918582492774121), ('safe', 0.09909020379446393), ('thanks', 0.098869783175768), ('without', 0.09836054159252497), ('another', 0.097382228346755), ('warns', 0.09712599057092755), ('protect', 0.09669890280136795), ('detroit', 0.09517372191631168), ('lunch', 0.09449432948593714), ('because', 0.0914538508628288), ('there', 0.09080844808210874), ('fame', 0.0899799427740204), ('killed', 0.08978244265691236), ('chain', 0.08917891350344608), ('how', 0.08843971458038756), ('pace', 0.0870018260106128), ('land', 0.0859821962122531), ('got', 0.0853362801369461), ('slightly', 0.08430648607118744), ('self', 0.08240643911109156), ('doubles', 0.07937865638716053), ('eye', 0.0776953654323121), ('technology', 0.07724569934178493), ('see', 0.0754787843556612), ('jenny', 0.07509869779261391), ('told', 0.07475473018041072), ('power', 0.07265211096035143), ('east', 0.07062707596765715), ('fine', 0.06626721068945715), ('pulls', 0.06625414037662017), ('demands', 0.06578424060707508), ('energy', 0.06552892995113863), ('hold', 0.06550975927835377), ('per', 0.06476476589372634), ('cheating', 0.06266607494762473), ('minister', 0.062239425564863934), ('estimate', 0.061453853289506824), ('other', 0.06116538170783977), ('cent', 0.060239486367942456), ('india', 0.06020248367213552), ('murder', 0.060053414623384226), ('fail', 0.059308325660531167), ('hall', 0.05860201364125729), ('abuse', 0.05804900638216462), ('jet', 0.05752929133999048), ('brands', 0.05665264996419575), ('zone', 0.05484996682749518), ('buying', 0.05357094067840159), ('which', 0.052668914151366), ('australian', 0.052654488165440695), ('partners', 0.05190085719992978), ('an', 0.05035362569984846), ('any', 0.05000203479068221), ('small', 0.048647221063119535), ('hours', 0.0483652678922564), ('lose', 0.048360036593387445), ('vows', 0.04829466884354902), ('they', 0.04821598884475129), ('ex', 0.04820004610387669), ('malaysian', 0.04588495076040582), ('time', 0.04506639820323037), ('ad', 0.04409419698427335), ('same', 0.04198554748789026), ('celebrities', 0.04163758416609546), ('grows', 0.04154793828655704), ('focus', 0.041517587716417954), ('attacks', 0.04048399586441123), ('mom', 0.039774838075687574), ('agree', 0.038404878540699676), ('around', 0.037814265212245846), ('board', 0.03611258060623506), ('faces', 0.035999613829651014), ('would', 0.034798279563583126), ('picture', 0.03457916966046026), ('sex', 0.033445513194524566), ('flat', 0.032302452256569844), ('hands', 0.03198250136387085), ('smart', 0.03193766225709007), ('fuel', 0.031826314609952826), ('avoid', 0.030770481509897134), ('pharma', 0.026436439131308442), ('might', 0.025454458403030525), ('control', 0.024323369810158358), ('highest', 0.024075790951134865), ('no', 0.021558775405583652), ('law', 0.02047340026160394), ('highlights', 0.020162314533722397), ('doing', 0.019388716278388174), ('friends', 0.018927665307791747), ('away', 0.01710224815095128), ('rally', 0.01366815558398614), ('hair', 0.013246426364318963), ('replace', 0.0123241850050257), ('stop', 0.01228270791196792), ('breaks', 0.009657958930965016), ('all', 0.009394280798748047), ('uk', 0.009195169963217278), ('does', 0.008493742449538596), ('battle', 0.008309002929425623), ('advance', 0.006923168857936736), ('reveal', 0.006694440711178476), ('times', 0.002769115731734422), ('tied', 0.0013684442387203771), ('challenge', 0.0004427663740083407), ('press', -0.004306143713173719), ('whole', -0.004406650426837975), ('electric', -0.004578679024864351), ('apps', -0.0051414993685887115), ('heard', -0.00648423906384585), ('measures', -0.006708380457337269), ('fix', -0.007871615341919163), ('bad', -0.007887532714572393), ('probably', -0.008486702053258627), ('congress', -0.009715652203293365), ('strategy', -0.010856140524426948), ('supreme', -0.011366220850352066), ('the', -0.014014899385430147), ('ap', -0.01402273645878111), ('plus', -0.014238067110954431), ('rivals', -0.014493011740260017), ('via', -0.01471986095837975), ('possible', -0.015353976630820951), ('about', -0.015558755739501991), ('update', -0.016229794289877038), ('keep', -0.016363651805518444), ('post', -0.017387171243447387), ('cold', -0.017832166981874852), ('left', -0.02107361640349483), ('plan', -0.022425720399371123), ('easter', -0.02243330132141314), ('need', -0.023215984691253553), ('near', -0.023654352276954317), ('before', -0.024138017641172085), ('bring', -0.025594812973439837), ('pre', -0.02603155251659834), ('yet', -0.02654405934835795), ('tsx', -0.027116053745677535), ('holds', -0.028132071135987), ('capital', -0.031317775780097375), ('less', -0.03185191503794347), ('source', -0.03343123958995814), ('brown', -0.03345421676963417), ('romance', -0.03356626312704366), ('son', -0.034473879827825946), ('did', -0.034491034557473516), ('mccarthy', -0.034587248749592216), ('massive', -0.03509016483984553), ('assault', -0.03644840660740901), ('bangerz', -0.037105966299405366), ('days', -0.037198307793456245), ('thing', -0.03720856593524589), ('hints', -0.03755884579247984), ('johnson', -0.037958715926621), ('wireless', -0.03847117668180422), ('launches', -0.03890677967096706), ('stance', -0.03925195649315202), ('dating', -0.03940178666951382), ('police', -0.039946427737624815), ('continue', -0.04058857457571065), ('percent', -0.04159657861011653), ('dovish', -0.043055518697047726), ('teva', -0.04349798458905969), ('special', -0.04495677699932574), ('raise', -0.045129723853506894), ('london', -0.04533510881876718), ('gives', -0.045547883668302154), ('ifo', -0.04556972141740225), ('rock', -0.04661568272746895), ('policy', -0.046818110546061685), ('struggles', -0.04688867453435188), ('increases', -0.04836350330650556), ('air', -0.049243699332748074), ('loves', -0.049603439086581866), ('step', -0.05067071237014189), ('too', -0.05077984547679432), ('remains', -0.05113644839800712), ('hamptons', -0.051928677882950774), ('break', -0.05277586036597054), ('must', -0.05308063743140066), ('five', -0.05462252209345295), ('cools', -0.054760242561416365), ('gains', -0.054899249267705785), ('false', -0.05579512262939151), ('four', -0.0566652378139226), ('hill', -0.05745858993119206), ('close', -0.057716232683446986), ('stays', -0.05809476904898568), ('ireland', -0.05832265887691925), ('getting', -0.05854324243559725), ('pay', -0.05875259584868696), ('recovers', -0.05890516018327901), ('revises', -0.058922018178984216), ('charges', -0.058970673674729114), ('pct', -0.05939166546098834), ('upbeat', -0.059609146926558575), ('testimony', -0.06015392223286671), ('europe', -0.06074351409748441), ('sinks', -0.06088792506747405), ('cites', -0.06129298873349738), ('job', -0.061466582059088906), ('alamuddin', -0.06160559788601345), ('amal', -0.06160559788601345), ('wanted', -0.06198701843020058), ('accelerates', -0.06203624643871124), ('producer', -0.06244990266931764), ('khloé', -0.06258305535464873), ('soy', -0.06315358587649898), ('resolve', -0.06358948117684599), ('plunging', -0.06376336961934699), ('aussie', -0.06383136020682266), ('subdued', -0.06398005592901618), ('cancel', -0.06469134127497969), ('giant', -0.06479285936132025), ('confirms', -0.06480129362960081), ('aa', -0.06563478941630374), ('controversy', -0.06563586479775575), ('since', -0.0662524527351357), ('ll', -0.06647468742999867), ('slides', -0.06798085042672818), ('strengthens', -0.06853653274897002), ('ultra', -0.0685620342814301), ('biotech', -0.0688190839251656), ('income', -0.06924927629996766), ('drops', -0.06958348220405701), ('visits', -0.06974221523737775), ('nine', -0.06987036158910208), ('soft', -0.07008537868567427), ('regulator', -0.07020881627536145), ('court', -0.07093776162081424), ('across', -0.07102462111427157), ('selloff', -0.07232954948783715), ('bullard', -0.0723929603213919), ('kiwi', -0.07274168146839666), ('weakens', -0.07294690803568679), ('fourth', -0.07355205525802239), ('valuation', -0.07369776031014691), ('currencies', -0.07381471377232383), ('monteith', -0.07548844974021894), ('advances', -0.07548847535136351), ('cory', -0.07572312055232616), ('bizarre', -0.07591226874336161), ('slip', -0.07594585730700666), ('usda', -0.07671088127577518), ('quarter', -0.07850505717973986), ('worries', -0.07862429273504154), ('spot', -0.07943396670795905), ('night', -0.08041163368598561), ('greek', -0.08054593218704038), ('0nd', -0.08110769810269756), ('tattoo', -0.08145042726550197), ('model', -0.08211540605437798), ('cannon', -0.08225777341193728), ('confirmed', -0.08229443944385034), ('cube', -0.08261749385609811), ('shines', -0.08285927240920063), ('wti', -0.08309194085082806), ('french', -0.08330850830816863), ('dips', -0.0835783916479257), ('weigh', -0.0836202385828851), ('snaps', -0.08396828835592933), ('equal', -0.08411918085083576), ('kerr', -0.08417831786854937), ('snl', -0.08420149849832834), ('tumble', -0.08540414316294957), ('rebound', -0.08549014620258098), ('coldplay', -0.08577556189365887), ('kris', -0.08661611117032232), ('korean', -0.08665051060389986), ('equities', -0.08709861991168079), ('coach', -0.08716941836354132), ('holcim', -0.08738482249757612), ('lafarge', -0.08738482249757612), ('call', -0.08741001454488993), ('tumbles', -0.0874255993343305), ('bbb', -0.08778608229131536), ('billboard', -0.08790812612068076), ('versus', -0.08802351308380146), ('amazing', -0.08819062569585762), ('donnell', -0.08829007279979739), ('rosie', -0.08829007279979739), ('knowles', -0.08852847351636411), ('rallies', -0.08920164827918531), ('dressed', -0.08927590095591349), ('slows', -0.09003729821611858), ('tensions', -0.09013454642322988), ('watch', -0.09015447406875234), ('casts', -0.09104047311569818), ('aaliyah', -0.0912873420716827), ('kutcher', -0.09145333758710388), ('mixed', -0.09155686249463188), ('consumer', -0.09180220202778795), ('liam', -0.09225020419445762), ('isn', -0.09233090835337435), ('impact', -0.09240582364737628), ('wasn', -0.09256829975483855), ('joint', -0.09279667787127201), ('gazprom', -0.09313276696139816), ('citi', -0.09315866041811123), ('sterling', -0.09327671950206752), ('violence', -0.09366197552972377), ('looms', -0.09368303944165979), ('niro', -0.09374706844206383), ('awaited', -0.09382828274401471), ('crop', -0.09422225863695953), ('wake', -0.09423594535582781), ('guidance', -0.09431010788330678), ('climb', -0.09433599651925774), ('charney', -0.09546700131574325), ('rachel', -0.09552717946211997), ('slumps', -0.09579203863600233), ('second', -0.09594945572190351), ('pink', -0.09613915788920271), ('highs', -0.09627740040781872), ('inspired', -0.09656499612148292), ('libyan', -0.09673373920579102), ('drag', -0.0973597733673056), ('pattinson', -0.0974886003274293), ('peter', -0.09767166315513856), ('weaker', -0.09810122235531224), ('including', -0.09811698743261747), ('azalea', -0.09825107062094138), ('kourtney', -0.09867999657704901), ('tanker', -0.09907612849469212), ('pippa', -0.099331331070876), ('eases', -0.09937672031729895), ('fallon', -0.09957832888112024), ('dance', -0.09963471996317406), ('pop', -0.09981828313852527), ('rebounds', -0.10007127358311413), ('pool', -0.10019227480552792), ('miami', -0.1002107954504136), ('retreat', -0.10050123370993722), ('was', -0.1007692784199392), ('edge', -0.10091487467973347), ('lopez', -0.10110294030463604), ('games', -0.10116204749616341), ('fannie', -0.10124676757712656), ('michael', -0.10148222815661367), ('used', -0.10156934528872404), ('church', -0.10169341388567667), ('tribeca', -0.10182765869554071), ('affleck', -0.10187999031057206), ('edges', -0.10216822571568372), ('brooks', -0.10227851871794766), ('turnaround', -0.10278860544757991), ('hamm', -0.10290397804267139), ('pleads', -0.1029598626428935), ('run', -0.1030717048863392), ('spain', -0.10309466457892288), ('hillshire', -0.10311886081720292), ('working', -0.10326235898295148), ('kimye', -0.10370072363760915), ('sutherland', -0.1037273192283913), ('stronger', -0.10379384406911386), ('katy', -0.10432756926354012), ('expectations', -0.10443779785863677), ('iggy', -0.10455441312649771), ('elle', -0.10472677820380351), ('vogue', -0.10518669715817515), ('mickey', -0.10525618752741815), ('easing', -0.10533001737624748), ('perform', -0.10543726015097955), ('patent', -0.10546639312756294), ('happy', -0.10551112258441456), ('radcliffe', -0.10572269107658809), ('expand', -0.10576524326946014), ('gq', -0.10599649136458629), ('zendaya', -0.10625096856935057), ('johansson', -0.10654458825573006), ('evans', -0.10740378931973414), ('shepherd', -0.10761958467018433), ('sherri', -0.10761958467018433), ('says', -0.10767669837387468), ('port', -0.10790690884818448), ('wears', -0.1079116467214051), ('shoot', -0.10803026517441282), ('water', -0.10814695315764054), ('tax', -0.10832801088564087), ('fanning', -0.10866471996804826), ('rowling', -0.10868925396670959), ('seeks', -0.10874781198834446), ('paula', -0.1088519720363064), ('marry', -0.10895224585991871), ('sale', -0.10909595229039032), ('brother', -0.10913901262779627), ('haven', -0.10917616810448343), ('sxsw', -0.1094238526968115), ('payment', -0.10948014123561485), ('private', -0.10992333251681942), ('superman', -0.11000450746578859), ('letterman', -0.11038159041084765), ('sentiment', -0.11057543635517753), ('qe', -0.11062462517914617), ('hint', -0.11063851753839889), ('jobless', -0.11066971964195199), ('eric', -0.11079458911357074), ('contestant', -0.11097886730466158), ('kiefer', -0.11104309030476492), ('cover', -0.11117624543540165), ('controversial', -0.11118459612385025), ('matt', -0.11187161256795133), ('bill', -0.11217561752553673), ('platinum', -0.11220626141185794), ('ashton', -0.11221069712937602), ('pictures', -0.11224084018548057), ('perfect', -0.1124775578688713), ('scarlett', -0.11254596104728479), ('one', -0.11268114864432704), ('follow', -0.1129554819945616), ('meeting', -0.11300574937069019), ('rejects', -0.11348325066471478), ('kendall', -0.1135166907473543), ('joining', -0.1136316244656851), ('expects', -0.11378781592828704), ('unveil', -0.11394838165988079), ('jd', -0.11429142078185749), ('value', -0.11439545805579723), ('extends', -0.11448502237921475), ('eyed', -0.114919991138774), ('hemsworth', -0.11499285807357403), ('april', -0.11505765726511492), ('direction', -0.11512059459860241), ('matthew', -0.11533928236623481), ('handler', -0.11537488338685359), ('never', -0.11537717069884976), ('prepares', -0.1155246752982434), ('japan', -0.1158331952576659), ('supplies', -0.11591398896201537), ('trigger', -0.11599029905899434), ('sir', -0.11607684601982819), ('potter', -0.11613907317505315), ('batman', -0.11625539102647119), ('nearly', -0.1163735424582872), ('hedge', -0.11685899893099927), ('sexy', -0.11701079822952759), ('yr', -0.11714675877112198), ('interview', -0.11733798769541053), ('fake', -0.1182410709540823), ('ruby', -0.1186854166928118), ('middleton', -0.11873346039020818), ('leonardo', -0.11884847023477038), ('account', -0.11923281930620028), ('delayed', -0.11937872086623562), ('brings', -0.11940526995640331), ('miners', -0.11950043270818048), ('boss', -0.11978268687749705), ('funeral', -0.12024227332892325), ('sends', -0.12034691976693086), ('york', -0.12044085395167832), ('racist', -0.12059710054549422), ('signals', -0.1206745969773425), ('engaged', -0.12070239874389589), ('allegedly', -0.1207283325268687), ('allen', -0.12079403086410051), ('mariah', -0.1208418419319651), ('stunning', -0.12113975803383797), ('mail', -0.12145867462958251), ('tight', -0.12147921330128213), ('protest', -0.12159077554876352), ('plunge', -0.12171784984581456), ('barra', -0.12198555071788963), ('figure', -0.1220105271626231), ('february', -0.12203045078858382), ('orlando', -0.12203423932643334), ('stimulus', -0.12213174102826496), ('advice', -0.12224775485164902), ('herself', -0.12224834662824878), ('ask', -0.12262998958073103), ('high', -0.12266456656509485), ('nikkei', -0.1227293582175434), ('lily', -0.12294745140048552), ('heads', -0.12297669674901841), ('message', -0.1230103887535479), ('pipeline', -0.12301553902462319), ('misses', -0.12318390440065996), ('canadian', -0.12319357978978722), ('dip', -0.12335486335388086), ('asset', -0.12340875261447644), ('expected', -0.1236660270226573), ('brothers', -0.1238092310032312), ('gig', -0.12384608919501897), ('levine', -0.12406160056600195), ('rises', -0.12409232440574909), ('slide', -0.12412487227460217), ('property', -0.12414449658752545), ('raising', -0.12419376961373159), ('boyfriend', -0.12420000410694698), ('access', -0.12447635024958693), ('daniel', -0.12472467246421946), ('madonna', -0.1247815254022817), ('pmi', -0.12549979633391578), ('thinks', -0.12552547238031772), ('studios', -0.12556050850460293), ('kylie', -0.12559525636682703), ('further', -0.1256319799406019), ('soldier', -0.12564508327481672), ('policies', -0.12584854376790935), ('blogs', -0.12620355292053773), ('mart', -0.12621679534334926), ('wal', -0.12621679534334926), ('italian', -0.126504819446031), ('dee', -0.12674557154670268), ('bikini', -0.12682880998059629), ('oscars', -0.1270755519012857), ('navy', -0.12772685748829793), ('class', -0.12783618788387016), ('walks', -0.12783645821193101), ('downey', -0.12825648380701288), ('monday', -0.12831965247516508), ('streak', -0.12868758331996277), ('hunting', -0.12878440696107712), ('trade', -0.1288985025995361), ('uncoupling', -0.12927339234556506), ('juan', -0.12979275468663634), ('key', -0.13024867641633217), ('straight', -0.1303225966419963), ('retail', -0.13047099186609054), ('homeless', -0.13053819726274996), ('stefani', -0.13074809081026703), ('sawyer', -0.1311636070834097), ('nymex', -0.13125802354312013), ('output', -0.13129435933053923), ('celebrates', -0.13167515102661065), ('woes', -0.13174244671225718), ('millions', -0.1321241926593247), ('flash', -0.13242258306400242), ('default', -0.13254333249705802), ('celebrity', -0.13267088193725618), ('challenges', -0.1327448797853047), ('sac', -0.1328926061006965), ('rolls', -0.13292613520357588), ('options', -0.13320050203525366), ('aims', -0.13365808406236399), ('even', -0.13366448023279873), ('puerto', -0.13417626984429795), ('rico', -0.13417626984429795), ('plea', -0.13432329908131554), ('rpt', -0.13439164623471614), ('quarterly', -0.13441847458398373), ('deutsche', -0.13450632819705624), ('slams', -0.13488654772913808), ('saturday', -0.13539386246792195), ('date', -0.1355426810072447), ('crush', -0.1356500490256545), ('lambert', -0.13584241041390194), ('mrs', -0.1360917266023452), ('rumours', -0.13609377745821075), ('columbus', -0.13610191466954538), ('crowe', -0.13629165527268267), ('weds', -0.13635051217080082), ('improved', -0.13645728632679122), ('funds', -0.1364759279040395), ('teams', -0.1364906999880774), ('expands', -0.13662488693145827), ('anna', -0.13704277523803052), ('wild', -0.13729913141749045), ('rating', -0.1373666944693399), ('career', -0.13754550704210217), ('caps', -0.13758509599266724), ('minaj', -0.1379177595458309), ('nicki', -0.1379177595458309), ('project', -0.1380881485261035), ('veronica', -0.138282043942254), ('comic', -0.13832039652596606), ('ousted', -0.138487396832777), ('scene', -0.13869711254245123), ('monster', -0.13883978335695976), ('josh', -0.13918508001846755), ('named', -0.13939831235700953), ('slump', -0.13953755519904273), ('celebrate', -0.1395701087769708), ('glee', -0.13971561560587006), ('models', -0.1398838962358976), ('our', -0.1401147486393133), ('engagement', -0.14014555415463317), ('chief', -0.14029230963247366), ('rogen', -0.14030443866341116), ('privacy', -0.14034230312404516), ('officially', -0.1404359950467409), ('sec', -0.14056003345270882), ('digital', -0.14061366908842246), ('drama', -0.14065280170551975), ('0m', -0.14068249565083102), ('pablo', -0.14097002068605247), ('unemployment', -0.14116588917053338), ('gwen', -0.14149696818311566), ('lifts', -0.14204941165165771), ('photos', -0.14226498050021605), ('0st', -0.14234477242433577), ('services', -0.14245469482393708), ('gopro', -0.14246968420858497), ('traders', -0.1425114231802715), ('tatum', -0.14253027835191012), ('gala', -0.14255930966915994), ('britney', -0.14272721838662072), ('below', -0.1428036681113725), ('italy', -0.1428339567257341), ('faster', -0.1430669392075502), ('fisher', -0.14307891795992828), ('spacex', -0.14311548559548143), ('blames', -0.1435810106183731), ('ftse', -0.1436858942031785), ('chicago', -0.14371997574177345), ('aronofsky', -0.14378644034078517), ('makers', -0.14414701400366348), ('sparks', -0.14415476773093847), ('spears', -0.14430095038163124), ('leaked', -0.14477286418507682), ('rob', -0.14511121297878818), ('aguilera', -0.1452109415052943), ('kerry', -0.14524745698937347), ('soybeans', -0.14526898064447133), ('dicaprio', -0.14548870194149177), ('0th', -0.1459980441238775), ('elizabeth', -0.14611972599175127), ('spelling', -0.14614254416459355), ('diaz', -0.14633891406915298), ('session', -0.14638080060976996), ('jupiter', -0.14638693390740035), ('hike', -0.14706176399681553), ('rocket', -0.147256070543828), ('daddy', -0.1475696473442403), ('sector', -0.1476169864808394), ('carey', -0.14766401960734646), ('concert', -0.14778886338270544), ('nears', -0.14785332845206334), ('mtv', -0.14800638045777076), ('ariana', -0.14812173003445553), ('grande', -0.14812173003445553), ('original', -0.148348374384863), ('investment', -0.14871727323235007), ('watson', -0.14873437845180826), ('beyoncé', -0.1488288307094487), ('treasuries', -0.1490922286597351), ('cobain', -0.14917023138454075), ('icahn', -0.14950849372120542), ('welcome', -0.1495258285348077), ('rooney', -0.14971728406619306), ('floyd', -0.14972989454556263), ('vii', -0.14978258997620522), ('yield', -0.14983713504203847), ('mission', -0.15020347720829014), ('blow', -0.15024452508441288), ('draper', -0.1504094347812124), ('remain', -0.15045879538005288), ('idol', -0.15049839653825997), ('comeback', -0.15052295805400423), ('scenes', -0.1506877742899377), ('tweets', -0.1508521632018612), ('amy', -0.15099907142606406), ('insider', -0.151008613110238), ('vmas', -0.15135186044325785), ('ceremony', -0.15153078918247717), ('satellite', -0.15164734756092701), ('roberts', -0.1517666694404749), ('doesn', -0.15188511175085595), ('budget', -0.15197936756007757), ('condition', -0.15202679080987952), ('stewart', -0.1520288535948354), ('targets', -0.15212467640516325), ('candy', -0.15241160002636986), ('texas', -0.15246887164075065), ('fell', -0.15250905552864483), ('filming', -0.15251778648179257), ('lawrence', -0.1527281829006856), ('tammy', -0.15281393108414587), ('actually', -0.15284079401319317), ('following', -0.15287634718123824), ('queen', -0.15291694839709194), ('lows', -0.15319972567102028), ('lift', -0.15322862166945908), ('investigating', -0.15336076273357147), ('warrant', -0.15341051000017691), ('rehab', -0.15342537539738985), ('pope', -0.15410677851618163), ('retailer', -0.15418937954914927), ('fraud', -0.15470754621283708), ('invest', -0.15479139986158208), ('losing', -0.1550834615746616), ('weeks', -0.15538395383985845), ('xbox', -0.15607483772401673), ('accuses', -0.15625549618126636), ('threatens', -0.15684851306887138), ('poses', -0.15703106646785006), ('gown', -0.15764376372564803), ('until', -0.1577688856253921), ('home', -0.1578111222915966), ('musical', -0.15789199513025814), ('expansion', -0.15814545832704127), ('fired', -0.15826132332355597), ('complete', -0.1584178603446285), ('million', -0.15859196220654972), ('console', -0.15860173160644336), ('banking', -0.15863806016893917), ('reunite', -0.1587514950211729), ('slips', -0.15908341531756728), ('gox', -0.1591777486615773), ('mt', -0.1591777486615773), ('cancelled', -0.15918521516194536), ('winslet', -0.15938015681777337), ('blasts', -0.15969924429459084), ('montana', -0.16007203327267944), ('deflation', -0.1609354925536888), ('bids', -0.16115512604909987), ('fashion', -0.1615188413425631), ('julia', -0.16167771285776644), ('garth', -0.16231517279520027), ('calls', -0.16237728992280112), ('tori', -0.16255330692470002), ('debate', -0.1625560471955514), ('assets', -0.16258209632542756), ('marc', -0.16259914385263127), ('snapshot', -0.16259922148426612), ('bucket', -0.16268575826701812), ('accident', -0.16291613577482333), ('settle', -0.16318644795002113), ('finale', -0.1634651245591273), ('appear', -0.1638445052917541), ('reportedly', -0.16410285765439328), ('speech', -0.164103795320222), ('shailene', -0.16438067841530735), ('woodley', -0.16438067841530735), ('miss', -0.16458263734283252), ('travel', -0.16467995684550493), ('bob', -0.16481717177097574), ('cbo', -0.164986236568226), ('gaga', -0.16505459434663372), ('bang', -0.16523392699923078), ('nissan', -0.1657985641625115), ('room', -0.1665417642839151), ('rick', -0.16671681712118602), ('mergers', -0.16692505901307708), ('corporate', -0.16703239217225474), ('yuan', -0.16703556445438011), ('guardians', -0.16733371434168592), ('proves', -0.1676597574290839), ('picks', -0.16816615196084445), ('wish', -0.16818027047497855), ('climbs', -0.16834435072032014), ('barrymore', -0.1685703661496814), ('confidence', -0.16880025788242634), ('geldof', -0.16890175881505715), ('charlie', -0.1689658319299145), ('mcdonald', -0.1692109407664035), ('australia', -0.16932609742038468), ('godzilla', -0.1702285217423245), ('simpson', -0.17027677506871514), ('deadline', -0.17060692509639336), ('losses', -0.17068165860270645), ('rights', -0.1711319736531759), ('everyone', -0.1720065693004174), ('intel', -0.1723143456514171), ('neighbors', -0.17233760441244203), ('oldman', -0.17242218000648926), ('sister', -0.1724366879509821), ('digest', -0.17253426636472743), ('maleficent', -0.17254280546269643), ('soars', -0.17265822522364738), ('collapse', -0.17274717588277608), ('crashes', -0.17277482191996418), ('season', -0.17308161464392802), ('cfo', -0.1732422008316777), ('exclusive', -0.17370312563115492), ('andi', -0.17402994855788337), ('nbc', -0.17403044579757013), ('angelina', -0.17415887554985593), ('abc', -0.1745568535622146), ('wars', -0.17459207456966822), ('marriage', -0.17479586113823323), ('drew', -0.17486494440704117), ('die', -0.17499132111735777), ('shower', -0.17513794985706838), ('releases', -0.1755663437847603), ('dream', -0.17564608028022732), ('bloomberg', -0.17610349762876), ('jolie', -0.176161320438868), ('due', -0.17648646193163028), ('bulgaria', -0.1765768818061425), ('activists', -0.17662282994672102), ('films', -0.176813422126087), ('hosting', -0.17695906607018952), ('check', -0.1770571658634535), ('jones', -0.1771652769033047), ('defect', -0.17777792162248596), ('bonds', -0.17788763169737515), ('abbvie', -0.1780807654540697), ('turkey', -0.17824690695896103), ('kiss', -0.178251784911014), ('comedy', -0.17831268254250882), ('germany', -0.17837321325201416), ('cbs', -0.17838605422623705), ('hosts', -0.1785863030936425), ('fx', -0.1786336817009222), ('nfl', -0.17890672605679434), ('usa', -0.17894807092434475), ('lana', -0.17914124722057118), ('porn', -0.17917007466320806), ('dow', -0.1793117577791776), ('peaches', -0.1793790083125915), ('tracy', -0.17955194216606166), ('chelsea', -0.17991695703556973), ('jagger', -0.18002720224471405), ('act', -0.18006544245448952), ('del', -0.18009367088620534), ('rey', -0.18009367088620534), ('firms', -0.18035174591527564), ('murdoch', -0.18040149765733313), ('point', -0.18052729063172915), ('profits', -0.18057006658461014), ('wells', -0.18081693869034993), ('loses', -0.18092209995808498), ('credit', -0.1809900441261426), ('shot', -0.18109373609926854), ('treasury', -0.18109488557940825), ('jury', -0.18132273747243188), ('alleged', -0.1813990962237962), ('la', -0.1822509705360479), ('glass', -0.18314221543386072), ('himself', -0.18325996192572142), ('perry', -0.1833639638708533), ('re', -0.18338329393756148), ('spin', -0.18343946436565753), ('emerging', -0.18365520318150763), ('recap', -0.18367441833524797), ('gdp', -0.18375308172358382), ('announce', -0.18404031036163734), ('choice', -0.18406989047689593), ('nude', -0.1840945264589541), ('signs', -0.18416979111784143), ('rape', -0.18430314600033912), ('ben', -0.184314054188655), ('consumers', -0.184573266587501), ('gosling', -0.18490716852489314), ('citigroup', -0.1849269299144434), ('begins', -0.18493065035490105), ('winner', -0.18507045114982465), ('survey', -0.18511421276964043), ('day', -0.18512014026394172), ('months', -0.185149502818849), ('frankie', -0.18526305376102647), ('reunion', -0.18530967986852342), ('khloe', -0.18554817304262938), ('club', -0.1858268105311515), ('making', -0.18591077878980375), ('nasdaq', -0.18594242968661984), ('megan', -0.1860221621006197), ('gap', -0.18608700200706357), ('sorry', -0.18633218898824053), ('costs', -0.1863619343859219), ('exports', -0.18637641981960965), ('pushes', -0.18642635907738972), ('against', -0.18648346990569084), ('full', -0.18725446167906587), ('colbert', -0.18727042198283533), ('decline', -0.1872706226606503), ('elsa', -0.1873280377748677), ('paribas', -0.18735110961207643), ('arrest', -0.18796555195439119), ('row', -0.18842571003721612), ('talk', -0.18869443800632757), ('freddie', -0.18872438974944516), ('fiat', -0.18901998851253482), ('angeles', -0.189282467609129), ('los', -0.189282467609129), ('duke', -0.189954635051512), ('white', -0.19002663237058917), ('foreign', -0.1903908601333938), ('jon', -0.19070065109909315), ('jack', -0.1909721703588821), ('sofia', -0.19103548032886294), ('snapchat', -0.19110471961228467), ('prime', -0.19121892687101807), ('founder', -0.19131772256171167), ('factory', -0.19180378456004396), ('song', -0.19183066374506386), ('office', -0.19204507491843142), ('round', -0.19259279896895862), ('what', -0.19263575641364578), ('hard', -0.19270455090533956), ('corn', -0.19286702124996435), ('michele', -0.19321307545509828), ('defense', -0.1933563451488969), ('garfield', -0.1933681678469708), ('beautiful', -0.19360134031276185), ('wrong', -0.19361721543920385), ('needed', -0.19373028506197518), ('wren', -0.19393184808121391), ('governor', -0.1942534271954388), ('store', -0.194319583562571), ('taxes', -0.19431970744874721), ('sons', -0.19450537232039247), ('acquire', -0.19450828809664275), ('currency', -0.19484356468171482), ('subscribers', -0.1948683302501726), ('miranda', -0.19527180046836387), ('contract', -0.19550193070740834), ('team', -0.19560609129176754), ('drone', -0.19578414795165908), ('creator', -0.19581286592425345), ('issues', -0.19608048716711704), ('experiment', -0.1963554186659719), ('demi', -0.19637469837573693), ('lovato', -0.19637469837573693), ('vs', -0.19659735340214798), ('vietnam', -0.19688451599468443), ('system', -0.1968874489359963), ('criminal', -0.19783841610708652), ('beats', -0.19842283042948178), ('flies', -0.19873747839699313), ('explains', -0.19884610104597447), ('search', -0.19975685434636004), ('andrew', -0.1997814667160611), ('true', -0.19986813679327098), ('spends', -0.20036530904235944), ('pitt', -0.20093849071321848), ('fast', -0.20114682265582973), ('meets', -0.2011688329200107), ('joke', -0.20130559456612626), ('today', -0.20140053667008953), ('bachelor', -0.2018641764510456), ('nuclear', -0.201883051994892), ('held', -0.20226666442799981), ('suisse', -0.20259551186172606), ('surprise', -0.20262471859776127), ('bryan', -0.20289257383642442), ('supply', -0.20299365449082274), ('carbon', -0.2030845621870952), ('seat', -0.2031471798626853), ('news', -0.2031580508789946), ('broken', -0.20322855930851402), ('grow', -0.20336602431736792), ('fargo', -0.20346463908338838), ('proposes', -0.20348109387469981), ('korea', -0.20363585515754024), ('bmw', -0.2037613754458105), ('pharrell', -0.20442363082333492), ('bug', -0.20467395868034213), ('together', -0.2047983018200815), ('grains', -0.20504668123433836), ('solange', -0.2056212079387485), ('export', -0.20590579059553113), ('dancing', -0.2061062695595206), ('drive', -0.20623416263504266), ('nyong', -0.2063280430749795), ('episode', -0.20635507683293852), ('lowest', -0.20656201491907697), ('lea', -0.20684671866162682), ('actress', -0.20708225691738064), ('stones', -0.20717180217584974), ('loan', -0.20719114377857412), ('come', -0.20724695268084078), ('movies', -0.2074958577462754), ('walker', -0.20766169104038112), ('place', -0.20783667205264483), ('financial', -0.2078653646799021), ('putin', -0.20797582232756037), ('lupita', -0.20798235250378186), ('gary', -0.2079848355966572), ('questions', -0.2081121077190618), ('hopes', -0.20830645038748205), ('ellen', -0.20838664964211412), ('cloud', -0.20936588442235712), ('terry', -0.20970295016943993), ('paris', -0.20976053274294862), ('depp', -0.20981338716242734), ('reach', -0.21018996298430137), ('tracking', -0.21058718086549646), ('bets', -0.21064887876530067), ('optimism', -0.2107033805339803), ('carpet', -0.21079900901331222), ('falls', -0.21080630256200567), ('hacked', -0.21094881432566606), ('dunham', -0.2110000320265958), ('lena', -0.2110000320265958), ('female', -0.21138871355361855), ('hearing', -0.21185019744176664), ('dawn', -0.2120791832620162), ('ackman', -0.21235692178470014), ('go', -0.21248864724686647), ('cash', -0.21267252264767), ('house', -0.21287997718557175), ('led', -0.21339036931215805), ('build', -0.2136368119046634), ('yields', -0.213766779294839), ('stage', -0.21412434298883903), ('card', -0.2144924818296612), ('battery', -0.214510415909751), ('eyes', -0.2145748780705439), ('paltrow', -0.21507658535407223), ('swift', -0.21551252876229235), ('divergent', -0.2155806227436406), ('diane', -0.21562866295658936), ('enough', -0.21574320789503246), ('sued', -0.21593101890544633), ('yen', -0.21602409567204378), ('carney', -0.21625296450690631), ('hbo', -0.21659813772636816), ('bachelorette', -0.2166873678811173), ('order', -0.21693917298040777), ('retirement', -0.21698010468112047), ('despite', -0.21722299687911198), ('weekend', -0.21730885990330995), ('performance', -0.21768055725926824), ('rolling', -0.21796711569283006), ('made', -0.21814325982127528), ('france', -0.21816426315810764), ('shooting', -0.21852289955789345), ('recall', -0.22036888078848993), ('road', -0.2205545599854542), ('asks', -0.22055538646520303), ('tonight', -0.2206689345011581), ('very', -0.2208240270981955), ('marries', -0.22099852228216565), ('katie', -0.22124083476603232), ('affirms', -0.2213372920917423), ('ge', -0.22145180032247608), ('index', -0.22198632646583027), ('software', -0.22259999178437212), ('nick', -0.2227205239958247), ('prince', -0.2233314591552229), ('olivia', -0.22373994400292932), ('competition', -0.22380352018710822), ('adam', -0.2240635699053663), ('imf', -0.22454472864146163), ('behind', -0.22516088946429355), ('tom', -0.22527197215613065), ('oprah', -0.22528185977440646), ('hp', -0.2255613029403164), ('franco', -0.22566769183698068), ('camera', -0.22580637629529415), ('drop', -0.22624197603652876), ('siemens', -0.22655589188176936), ('valeant', -0.227001684008754), ('island', -0.22714328089977626), ('pfizer', -0.22716077434285317), ('coachella', -0.22767246124381102), ('award', -0.227727999769244), ('series', -0.22795581080729005), ('kunis', -0.22867084442794172), ('mila', -0.22867084442794172), ('dc', -0.22921062325683833), ('herbalife', -0.22938558792411712), ('rihanna', -0.22963226373090606), ('boys', -0.22970489008873268), ('clooney', -0.2297525774658887), ('stephen', -0.22982844137626365), ('brent', -0.2298748847398328), ('gwyneth', -0.2301045530363296), ('kristen', -0.23013806098006895), ('steve', -0.2301588954468641), ('weak', -0.23083310059152576), ('colin', -0.23099469316729998), ('takes', -0.23134499904192557), ('band', -0.23187800673398468), ('billionaire', -0.231949774252394), ('chinese', -0.23216114538139682), ('wrapup', -0.23254020285006724), ('christina', -0.23286325815389733), ('precious', -0.23309141307675546), ('japanese', -0.23359274274721312), ('recovery', -0.233684707841843), ('exit', -0.23381767181783172), ('backs', -0.23397822872900823), ('aren', -0.23404467956781536), ('ac', -0.23422688978813044), ('hollywood', -0.23425482763939012), ('seth', -0.23478678128094133), ('speed', -0.23479582436815963), ('lady', -0.23499344248650808), ('thursday', -0.23509358843867648), ('smartphone', -0.23522407055263375), ('blue', -0.23522700623546933), ('above', -0.23538396479920862), ('jr', -0.23557164446732856), ('birthday', -0.23563767699763719), ('libya', -0.2357005682133678), ('trip', -0.2357134609456622), ('shire', -0.2357757049423821), ('helped', -0.23601172246421057), ('win', -0.23632016064730904), ('station', -0.2367133017655875), ('shares', -0.23673660008023673), ('apology', -0.23682979252213207), ('reviews', -0.23683263197885163), ('anniversary', -0.23733186704108655), ('global', -0.23752073985464425), ('sexual', -0.2375535880554348), ('jail', -0.23783781854170838), ('ibm', -0.23808514849025483), ('dean', -0.2381959233014592), ('transcendence', -0.23845573063870806), ('barclays', -0.2385801213152714), ('noah', -0.2389222750666864), ('green', -0.23912055453942688), ('joan', -0.23953880446448997), ('real', -0.23971821188574347), ('wheat', -0.23978045637409637), ('mick', -0.24031079352233717), ('hot', -0.24071687710097042), ('expecting', -0.2407982531867497), ('indian', -0.24097064711754407), ('host', -0.2410379213804565), ('single', -0.24106438119810855), ('forecasts', -0.24115144994650603), ('richard', -0.24127865774436683), ('brad', -0.24143982501978037), ('rose', -0.24158374912527608), ('russell', -0.24276982943648798), ('friday', -0.2429565914587804), ('musk', -0.24340920506088723), ('harry', -0.24349946047611115), ('six', -0.24374713359059633), ('grey', -0.24466514278689241), ('pot', -0.24478335664423612), ('executive', -0.24496719042076032), ('arrives', -0.24501987639696385), ('why', -0.24516929086794054), ('husband', -0.24542880778771264), ('unit', -0.24581620286176564), ('trying', -0.24597441233530454), ('softbank', -0.24602047893413723), ('loans', -0.24654518051288177), ('argentine', -0.24669684412998827), ('johnny', -0.24682302784101773), ('strong', -0.24758908219634482), ('television', -0.24772415168104883), ('taylor', -0.24780128598882264), ('piketty', -0.2479956025657782), ('awards', -0.24821754486669817), ('iphone', -0.24850186457365175), ('captain', -0.24851920053439822), ('scandal', -0.24894610619241136), ('asia', -0.24899794947448603), ('sony', -0.2490868742477162), ('bofa', -0.24922104117966207), ('interest', -0.2494262895820821), ('pays', -0.24972392103641328), ('sanctions', -0.2497844549199474), ('pretty', -0.24981736522899683), ('jenner', -0.2504000618854728), ('biopic', -0.2512093603621785), ('shia', -0.25212028177142204), ('sprint', -0.25217826316342173), ('married', -0.2525037450966191), ('lets', -0.2528500183965102), ('first', -0.2530157451713591), ('switch', -0.25313548742103004), ('trapped', -0.2536188996436951), ('leave', -0.2542915012594805), ('stake', -0.25522039691276693), ('melissa', -0.25538213079300426), ('move', -0.2557966589557229), ('morrissey', -0.2561442028781158), ('stock', -0.2563799414059075), ('magazine', -0.25663247185872795), ('st', -0.25677251665473466), ('keith', -0.25708801501383566), ('social', -0.2573092037106521), ('probe', -0.2576448832157095), ('manufacturing', -0.2578009096260893), ('obamacare', -0.257996998519129), ('tries', -0.25826329210335175), ('ends', -0.2592572664851479), ('by', -0.2594811253685406), ('bear', -0.259571538003212), ('chrysler', -0.25983084462833245), ('fair', -0.2598664096821493), ('hong', -0.2602608304072886), ('kong', -0.2602608304072886), ('playstation', -0.26027054761699175), ('comments', -0.2606163966278482), ('airline', -0.2609749057738877), ('jimmy', -0.2610736671978433), ('books', -0.26113531753074565), ('name', -0.26149885100266546), ('allergan', -0.26185113908698215), ('tony', -0.26197303418600854), ('network', -0.2629759066341755), ('hugh', -0.26326306158396023), ('mccartney', -0.2635707573498637), ('join', -0.2636929275663435), ('web', -0.26371308549103123), ('labeouf', -0.2643504164512875), ('opening', -0.2646193656508268), ('sues', -0.2647006031494842), ('iconic', -0.26483367666901686), ('record', -0.2653021162933215), ('issue', -0.2660237030708102), ('words', -0.2660759843646855), ('most', -0.2661394392008501), ('central', -0.26640992453286627), ('union', -0.26736711042342126), ('tyson', -0.26737850710372807), ('files', -0.2683775782796866), ('story', -0.26909692937928315), ('pulled', -0.2694105809488565), ('jackman', -0.26973106628128785), ('parts', -0.27084027505284686), ('robert', -0.2710707898958973), ('top', -0.2713414468209913), ('denies', -0.2715220324283154), ('late', -0.27201495331470465), ('starbucks', -0.27209995476510657), ('stanley', -0.27218337564029044), ('steps', -0.2727560384772533), ('strike', -0.2729666741188872), ('futures', -0.2730770102562407), ('cast', -0.2730784578529997), ('daughter', -0.27321837296057677), ('smith', -0.2732474967700299), ('wsj', -0.27352821631946944), ('festival', -0.27554953996425496), ('louis', -0.2762206941109166), ('spider', -0.2764044748623213), ('epa', -0.2766815460433984), ('harrison', -0.2767152264758713), ('towards', -0.27673819132764244), ('streaming', -0.276755011540742), ('attorney', -0.27731394652195507), ('naked', -0.27764078975943635), ('worth', -0.27776862634742117), ('wage', -0.2780488905308454), ('boe', -0.27808847252406316), ('apparel', -0.2782703667506816), ('super', -0.27831384755068145), ('housing', -0.27872502611518574), ('site', -0.2795446483026217), ('sets', -0.27964672196746243), ('sunday', -0.27971829056828595), ('reaches', -0.2805803313184404), ('asian', -0.2805890761239434), ('final', -0.2806400993070082), ('low', -0.2809576528728031), ('com', -0.282618645697198), ('only', -0.28266667257184586), ('has', -0.28288047189414706), ('orange', -0.28312743422591863), ('tells', -0.2833308565559679), ('boj', -0.2836623826333347), ('bet', -0.28377506969735655), ('now', -0.2838578148276442), ('kill', -0.2845921435046256), ('up', -0.28461897689035914), ('members', -0.2849033785204568), ('hits', -0.2850186269549935), ('opens', -0.2860904772891606), ('abramson', -0.28658884574449867), ('premiere', -0.28665862126247105), ('mars', -0.2868119110319373), ('begin', -0.28710311594940474), ('didn', -0.28743886085129927), ('galaxy', -0.2874999018785682), ('ftc', -0.2880566154594666), ('term', -0.28844435753971703), ('gomez', -0.28882679200011474), ('earnings', -0.2890276699426111), ('gain', -0.28903581997857675), ('bp', -0.28911369190533), ('week', -0.28929925660695255), ('martin', -0.28959049683464844), ('q0', -0.28968152402839625), ('unveils', -0.2899995366956929), ('price', -0.29022917983920293), ('crude', -0.29024098425952294), ('july', -0.29054648865690474), ('jobs', -0.29106078754005804), ('directv', -0.291138837025177), ('auto', -0.2911984671793246), ('risks', -0.2914127411897153), ('meet', -0.29181168979236943), ('williams', -0.29236045404690747), ('selena', -0.29237991230956), ('divorce', -0.29267909782703416), ('customers', -0.29415507342931196), ('funding', -0.2942964981217357), ('mark', -0.2943020736609634), ('broadway', -0.29519136752801245), ('mortgage', -0.2955899288431164), ('england', -0.29601576820162717), ('ratings', -0.29604688056848905), ('marvel', -0.2960550003687474), ('extinction', -0.29624942737687754), ('boeing', -0.29649789789095415), ('claim', -0.2966261294674427), ('de', -0.29675701606405064), ('taco', -0.2970456034011804), ('nothing', -0.2976339308055818), ('direct', -0.2979065186132516), ('had', -0.2984832252066053), ('wife', -0.3005816925165548), ('animal', -0.30116466957976595), ('goes', -0.30437513548667705), ('dress', -0.30456723723231977), ('website', -0.30458190136243), ('sign', -0.30479105033691467), ('president', -0.3050375473026855), ('stable', -0.3053884888163632), ('frozen', -0.305500532846417), ('split', -0.305601682871479), ('author', -0.30618356785519285), ('album', -0.3062514977281689), ('war', -0.30687690433748194), ('bond', -0.3071134790269781), ('building', -0.30819170432273585), ('voice', -0.3090698297013016), ('takeover', -0.30914174465246735), ('settlement', -0.30917471388065043), ('instagram', -0.30926888632445787), ('alert', -0.31075163168639935), ('posts', -0.311222854826658), ('general', -0.31173332722199704), ('summer', -0.31177713806229534), ('take', -0.31230529022654857), ('fcc', -0.3123763747731436), ('eight', -0.31422688680347494), ('canada', -0.31432952264862696), ('we', -0.31437098455231105), ('german', -0.31609583953718495), ('hotel', -0.31611204871942683), ('reasons', -0.31644185914413714), ('finally', -0.31647806672494333), ('buys', -0.3171586204030968), ('economic', -0.31776141127847424), ('mexico', -0.3182198953714678), ('dispute', -0.31858234697176285), ('forced', -0.31902857453145733), ('cannes', -0.31921148824960266), ('singer', -0.3193550237236825), ('set', -0.3195767439471028), ('release', -0.3199578793174304), ('announces', -0.3211834678181618), ('photo', -0.32140792681146213), ('copyright', -0.3215723431478177), ('off', -0.3221354285385924), ('neutrality', -0.3222482282891264), ('line', -0.3229536244356031), ('disney', -0.32312333833814666), ('blackberry', -0.32321512605997976), ('sequel', -0.32363469093570785), ('emma', -0.32486164641070403), ('ebay', -0.32506094688740084), ('sources', -0.3255890090996161), ('forex', -0.3262755991118589), ('largest', -0.3269063486602485), ('rolf', -0.3271092238445939), ('train', -0.3278129773729907), ('huge', -0.32803573845239276), ('tweet', -0.3281143031069452), ('cancels', -0.3281644915290497), ('results', -0.32862320379794524), ('fire', -0.32863487056254204), ('markets', -0.3293035101437017), ('international', -0.32931328900962675), ('adds', -0.3296252576969683), ('south', -0.33037772705089813), ('thicke', -0.33075532919059797), ('leads', -0.33100319445568777), ('rapper', -0.33125816160764576), ('ny', -0.33162265969084653), ('efron', -0.33217457783000415), ('street', -0.33227159152118585), ('agrees', -0.3326164431809957), ('zac', -0.3331465109648363), ('auction', -0.33339218540648535), ('director', -0.33351696756461857), ('outlook', -0.3359673422296031), ('net', -0.3363956920251228), ('action', -0.33664302496157983), ('level', -0.33664466646938995), ('open', -0.3370444432522874), ('bigger', -0.33776831886004194), ('museum', -0.3401181465466227), ('jason', -0.34015189885470193), ('kate', -0.34062969535229437), ('moon', -0.3412744032216124), ('security', -0.3413946737137267), ('users', -0.34196185379511124), ('critics', -0.3422792063584586), ('buffett', -0.34249122646771735), ('lost', -0.3425557450849499), ('transformers', -0.3436261536499573), ('market', -0.3451570289830494), ('alstom', -0.3457312149765919), ('at', -0.3462184690339822), ('show', -0.34657820897510966), ('draghi', -0.34722842138579785), ('scott', -0.3496739556382966), ('fires', -0.3503270979172792), ('washington', -0.35133280652955556), ('investigation', -0.35150993880451836), ('tech', -0.35281945108579027), ('guilty', -0.35334936154737834), ('ring', -0.35347275649268795), ('king', -0.3544633258281627), ('morning', -0.3550941045397206), ('lohan', -0.355165667352479), ('hit', -0.35558608493097044), ('seen', -0.3561098828168401), ('online', -0.3561500368833129), ('stars', -0.3563770812851745), ('trading', -0.358169357005492), ('alien', -0.35896849991998764), ('push', -0.35963121371595347), ('mad', -0.35963136565822695), ('latest', -0.3597105992487792), ('nasa', -0.36083754139154706), ('revenue', -0.3609170616963394), ('list', -0.3618678847921161), ('lindsay', -0.3620474528709389), ('jessica', -0.3623260810673875), ('fitch', -0.3623955505019588), ('breach', -0.3629582159773288), ('spending', -0.36312105456298643), ('companies', -0.3634409208189133), ('vehicles', -0.3643277654609021), ('debut', -0.364804554174537), ('katherine', -0.3655443913661723), ('david', -0.3657512362341753), ('like', -0.36636018792356506), ('fees', -0.36697310072139755), ('bitcoin', -0.36762544878352044), ('black', -0.36772331786575824), ('ever', -0.36912263851607313), ('said', -0.3699799553737647), ('support', -0.37120029562754664), ('bankruptcy', -0.37273490982621127), ('everything', -0.37300530944936283), ('uber', -0.3732711755068493), ('returns', -0.37367090818172993), ('crisis', -0.37658210738871856), ('back', -0.3766052419025288), ('north', -0.37670216749873864), ('bieber', -0.3779613279281154), ('next', -0.3781521810007614), ('march', -0.3788942481814766), ('force', -0.37948571646160695), ('toyota', -0.38263075804629887), ('here', -0.3834856310991179), ('family', -0.383487339296128), ('fund', -0.38403127996028347), ('star', -0.38430175036849074), ('justin', -0.38621925089945475), ('put', -0.386362383043566), ('argentina', -0.38641436199549317), ('oil', -0.38743063335042), ('party', -0.3875078627167356), ('going', -0.3879270397320166), ('warner', -0.3900417728773567), ('text', -0.3910012945192846), ('light', -0.3917703907977679), ('know', -0.39209774605788067), ('iraq', -0.39245374243824044), ('missing', -0.3929870835679335), ('jackson', -0.39445260831381934), ('solar', -0.3958046226427903), ('firm', -0.39582380712180804), ('charge', -0.39710257855494924), ('co', -0.3976288164525459), ('investors', -0.3979561805257793), ('beyonce', -0.3998665240995149), ('aereo', -0.40200704268348797), ('business', -0.4024512317477937), ('russian', -0.403184296256391), ('bnp', -0.4032814248070564), ('cable', -0.40488018649919144), ('ignition', -0.4066973998548801), ('tour', -0.4086348520786091), ('share', -0.40895268365723925), ('airlines', -0.40907044599507675), ('trailer', -0.4091910959780628), ('production', -0.4112375810834207), ('warming', -0.4198835241344669), ('end', -0.41995570491757056), ('role', -0.4202463013351076), ('launch', -0.42125690611758443), ('hackers', -0.4218796032006323), ('jay', -0.4218980019854706), ('sells', -0.42232479532528644), ('fox', -0.4226926379356472), ('far', -0.4241815489268793), ('kanye', -0.4255122381969768), ('orders', -0.42586121740666394), ('out', -0.42592656437457527), ('car', -0.4276178271744034), ('wedding', -0.42799465464806136), ('want', -0.4283941577203264), ('jennifer', -0.43058577218807986), ('gets', -0.431689592636432), ('plant', -0.43462388764027254), ('mystery', -0.43731367132442983), ('heartbleed', -0.43803699378669736), ('music', -0.43925424606694696), ('neil', -0.4401226058961295), ('revealed', -0.4411921148419838), ('american', -0.4414937054250811), ('ice', -0.44168494691878724), ('media', -0.44217698663082416), ('wall', -0.4430713985684202), ('merger', -0.44470552168661226), ('gas', -0.44480604889320796), ('return', -0.44543643253355003), ('things', -0.44626495122333165), ('gold', -0.44631994491212595), ('george', -0.4464178986745759), ('demand', -0.44828112253628366), ('russia', -0.4494600510134908), ('harris', -0.44988388887070835), ('june', -0.45028296764174397), ('fall', -0.4514145293084195), ('yahoo', -0.4526140588160038), ('maker', -0.4534235747637809), ('looks', -0.45574720929073187), ('money', -0.4581845007384803), ('mobile', -0.45867099939350525), ('month', -0.4601886493885579), ('met', -0.46277081700351014), ('little', -0.4632357364644704), ('comcast', -0.46621702293728506), ('biggest', -0.46747450897202986), ('service', -0.4680766178385899), ('android', -0.47039177649810243), ('future', -0.473501136786446), ('morgan', -0.47436893912039807), ('european', -0.47519981701560354), ('actor', -0.4756519520736889), ('deals', -0.47661185957573265), ('john', -0.4779117198988084), ('view', -0.47904796815601497), ('thrones', -0.4810725366644496), ('debt', -0.4812644503274073), ('plans', -0.4818127626309013), ('bell', -0.48237988578058816), ('sea', -0.4834627463420787), ('fans', -0.4884420934728356), ('kim', -0.48969505120535606), ('buy', -0.4904874854679202), ('short', -0.49183770706976576), ('prices', -0.49267732132420783), ('estimates', -0.4932012084179901), ('lawsuit', -0.49375077469777634), ('arrested', -0.4978866475242037), ('just', -0.49799606915543115), ('banks', -0.5016465987031848), ('cars', -0.5031729664268245), ('fracking', -0.5080036566403382), ('look', -0.5080717915764768), ('wants', -0.5117000072880945), ('threat', -0.5149119359928517), ('dollar', -0.5162107743904871), ('love', -0.5178892000447596), ('inflation', -0.5226714632061413), ('flight', -0.523511119305054), ('growth', -0.5292380638896412), ('down', -0.5314323110142625), ('best', -0.5348408866016293), ('ahead', -0.5372679426240281), ('planet', -0.5383908674660586), ('ipo', -0.5419310505935827), ('earth', -0.5432683102736007), ('book', -0.5474131723558527), ('sees', -0.547600854715453), ('yellen', -0.5513091519608162), ('ukraine', -0.5531718745271363), ('bln', -0.5575658278134349), ('box', -0.5590134014702025), ('paul', -0.5680754692566287), ('ford', -0.5703873348602272), ('phone', -0.5716708242938067), ('movie', -0.5724979320799581), ('space', -0.5741202092384614), ('tesla', -0.5744591559892006), ('euro', -0.5789693267596617), ('bid', -0.5844685260332796), ('forecast', -0.585437232079314), ('shows', -0.5971166269307512), ('way', -0.597395949014493), ('internet', -0.6031112838048295), ('alibaba', -0.6035916599348172), ('economy', -0.6059699442713863), ('netflix', -0.6101967498660399), ('stocks', -0.6135937407655411), ('billion', -0.6155693082840197), ('film', -0.6192837691563801), ('microsoft', -0.6260993555322512), ('change', -0.6314182652604), ('ecb', -0.6315916228230037), ('talks', -0.6329985378842788), ('tv', -0.634641725979153), ('cyrus', -0.6346702762294197), ('kardashian', -0.6408778179850331), ('james', -0.6416504117467385), ('miley', -0.6500389567949358), ('chris', -0.6518765949178915), ('fed', -0.6618192255096208), ('play', -0.6754156840070581), ('corrected', -0.6807424050054091), ('sell', -0.6821970683536019), ('big', -0.687626106546795), ('amazon', -0.7095614628472918), ('profit', -0.7494457447745738), ('china', -0.7607144644080733), ('he', -0.7824496862340826), ('jpmorgan', -0.7930439112689954), ('twitter', -0.845864308445549), ('climate', -0.8572391746706999), ('game', -0.8798419322582923), ('sales', -0.884114102266403), ('google', -0.8889585914458817), ('deal', -0.9146652044160689), ('bank', -0.9810592037871239), ('apple', -1.0066639997266233), ('ceo', -1.1378940249260474), ('gm', -1.2043303118660296), ('facebook', -1.2635232532849738)]\n",
            "\n",
            "class : t \n",
            " top : [('google', 5.130539827982061), ('facebook', 4.716342699448275), ('apple', 4.478958585788113), ('microsoft', 3.780591502410368), ('climate', 3.5932689271969043), ('gm', 2.8864250178882416), ('nasa', 2.8597989926757714), ('tesla', 2.808894891857071), ('comcast', 2.6534778516503663), ('heartbleed', 2.4942431360352626)]\n",
            " bottom : [('earth', 2.462570362468819), ('fcc', 2.4434621901533817), ('mobile', 2.387256566251958), ('samsung', 2.3427102545516676), ('neutrality', 2.254098717512397), ('internet', 2.211087895327349), ('moon', 2.118691879868959), ('hackers', 2.0161846283185874), ('station', 1.9635592901059733), ('users', 1.9211012425431655), ('net', 1.9052841861052832), ('space', 1.8930309123653253), ('sony', 1.808364734717993), ('iphone', 1.755098138842468), ('mars', 1.7317168783619834), ('planet', 1.7138835632713258), ('phone', 1.7114322621044005), ('smartphone', 1.6670055683487293), ('softbank', 1.6647259414032438), ('shower', 1.6602490777603844), ('scientists', 1.6382481841353371), ('blackberry', 1.6136481107200993), ('warming', 1.5948956167313921), ('security', 1.587972959990134), ('cars', 1.5846365902584603), ('software', 1.5598758013342968), ('glass', 1.5444422887831692), ('android', 1.5337563547188344), ('playstation', 1.5152826276650755), ('recalls', 1.5139604419320944), ('sprint', 1.4646685655863887), ('musk', 1.4613260694092371), ('rocket', 1.4427007623715773), ('un', 1.442411159336234), ('bug', 1.4052484971901116), ('network', 1.3949974638702825), ('ebay', 1.3870155754653062), ('launches', 1.3683002967564681), ('sea', 1.3509063656709919), ('photos', 1.3316811618725923), ('subscribers', 1.3236179337152734), ('force', 1.318586531653684), ('source', 1.316796511399142), ('console', 1.2575285925911748), ('ford', 1.2566021129751475), ('spacex', 1.2555594228945728), ('unveils', 1.2508686750988973), ('defect', 1.2325918680478025), ('tyson', 1.222338615178702), ('ftc', 1.2222428057500176), ('wireless', 1.2169034441376934), ('xbox', 1.2157842793994993), ('dr', 1.207974331398573), ('using', 1.202429233468801), ('video', 1.1957426644237128), ('carbon', 1.1928809497612547), ('web', 1.184756213134624), ('discovered', 1.1835876522453312), ('perfect', 1.182034216295251), ('reveal', 1.1740411145795209), ('car', 1.1710614434462894), ('wsj', 1.1695943908283277), ('its', 1.1619040734188681), ('light', 1.1584884705102458), ('have', 1.1536607027349275), ('ceo', 1.14657408841251), ('netflix', 1.1428026384161702), ('models', 1.12611408033868), ('stop', 1.1089054545510653), ('amazon', 1.0818284956418207), ('electric', 1.0683275024757375), ('world', 1.0504283256214637), ('them', 1.0465745131406956), ('change', 1.0162159617196136), ('recall', 1.0146941753661984), ('never', 1.0097507560413324), ('aereo', 0.9873630455960649), ('survey', 0.9832123381143631), ('alibaba', 0.9829069216452649), ('toyota', 0.9768241270549916), ('ibm', 0.969902238463938), ('smart', 0.9683453786535314), ('years', 0.9634111913548693), ('fuel', 0.9629241514089425), ('vehicles', 0.9624475681136416), ('switch', 0.9552889836125971), ('patent', 0.9488481469249227), ('alien', 0.9426430833476195), ('the', 0.9417693961654894), ('held', 0.9346902960953415), ('beats', 0.9319706209977009), ('corrected', 0.9219950068041138), ('mexico', 0.9213109631364458), ('cold', 0.9140242898216393), ('bmw', 0.9134961639123198), ('sales', 0.9063593208276899), ('made', 0.9053479971007456), ('russian', 0.9032236394386378), ('bigger', 0.898599954819179), ('may', 0.8981502217014246), ('across', 0.8958648644837004), ('can', 0.8949527598214259), ('barra', 0.8864489362434871), ('update', 0.8832601455482918), ('international', 0.8829409710737923), ('launch', 0.881608252431676), ('this', 0.8808508825596482), ('share', 0.8787684210138622), ('watch', 0.8781856298259733), ('first', 0.8744890772924068), ('prices', 0.8728525500033769), ('streaming', 0.8727206555574665), ('millions', 0.8671959963447213), ('says', 0.8662171716131726), ('privacy', 0.8637333064229553), ('alert', 0.8577980277948261), ('new', 0.8562152696222954), ('free', 0.8555442428597683), ('build', 0.84454274068245), ('global', 0.8364542924205709), ('threat', 0.8328560013303742), ('experiment', 0.8314117210656813), ('investigation', 0.8278797734525443), ('nissan', 0.8217019033444942), ('over', 0.8171450212461495), ('us', 0.8046615579634204), ('air', 0.8037668454962911), ('found', 0.8003596819411325), ('don', 0.7990974295457446), ('shows', 0.7934679884647738), ('sets', 0.7836949118349059), ('game', 0.7832855531898639), ('probe', 0.7809381211740415), ('hits', 0.7773753052511457), ('sued', 0.7762029794064317), ('emerging', 0.7750681551916329), ('report', 0.7731399624651482), ('next', 0.7711345183892531), ('ring', 0.7707655999102629), ('battery', 0.7663472383950337), ('neil', 0.7660126862888172), ('returns', 0.7643521028554713), ('we', 0.7623032549128426), ('huge', 0.7614017042378362), ('early', 0.760076054555539), ('researchers', 0.7575815545472914), ('app', 0.7570405569748381), ('start', 0.7567788409426318), ('everything', 0.7549138262767708), ('need', 0.7548222599229676), ('used', 0.7547759993743819), ('giant', 0.7496828762278672), ('goes', 0.7432231949977489), ('panel', 0.7371643832146547), ('ruling', 0.7371218836169109), ('ignition', 0.7328344950042855), ('cable', 0.7325468527263802), ('mission', 0.7320689862505002), ('ever', 0.7316665509102211), ('gas', 0.7256301706544258), ('data', 0.7236587127060354), ('hacked', 0.7189026021527958), ('colin', 0.7126399788047787), ('fires', 0.7091566863991771), ('there', 0.7050216991442595), ('twitter', 0.7006977028508541), ('price', 0.6970489620265881), ('key', 0.694506247218536), ('games', 0.6930423961444838), ('your', 0.6892282219411922), ('living', 0.687909378019528), ('general', 0.6854720989169522), ('red', 0.6811561060826437), ('deal', 0.6770651816346523), ('risks', 0.6716550930274339), ('see', 0.6666872423906806), ('because', 0.6645186839095192), ('blue', 0.6628326513891982), ('billionaire', 0.6612816736499643), ('buys', 0.6608109059662409), ('half', 0.6598217162549196), ('service', 0.6512542227485405), ('morning', 0.6508106311445552), ('looks', 0.6503039978667431), ('system', 0.6502796690001794), ('said', 0.6469023942388739), ('you', 0.6451574402277466), ('recalled', 0.6449879445768004), ('protect', 0.6388704113855116), ('save', 0.6378312024518712), ('victims', 0.6376450248155311), ('takes', 0.6371064400263463), ('has', 0.6356215064894511), ('intel', 0.6311606324155659), ('japan', 0.6292195920176225), ('arrives', 0.6291795709935615), ('fix', 0.6269263107248003), ('possible', 0.6193890858029475), ('more', 0.6191009592603847), ('site', 0.6185470413036057), ('lets', 0.6141407072524854), ('bloomberg', 0.6129603910902196), ('leaked', 0.6128360335476547), ('chinese', 0.612527608057842), ('text', 0.6107795424687341), ('non', 0.60464333207831), ('tech', 0.6029905097050786), ('told', 0.6006291721305097), ('online', 0.5973566623601207), ('foreign', 0.596787045859014), ('nearly', 0.595235790795249), ('aren', 0.5897788340359466), ('adds', 0.5896908307883925), ('between', 0.5878066071637036), ('plan', 0.5862903779864779), ('names', 0.5839222431163711), ('that', 0.5816427249992786), ('expects', 0.5807825759264401), ('attack', 0.5805348082312042), ('land', 0.5769935705965601), ('settlement', 0.5761496855754156), ('cloud', 0.5734870398971067), ('largest', 0.5718430814800743), ('spends', 0.5694818686661353), ('building', 0.5683113844396425), ('kill', 0.5666991297761867), ('down', 0.5658556426029571), ('cfo', 0.564817399374121), ('teen', 0.5630994017665044), ('june', 0.5627181614234784), ('party', 0.5613635564625918), ('revealed', 0.557839225653353), ('unveil', 0.5563861913133297), ('sunday', 0.5519580149888728), ('safety', 0.5494142660322039), ('even', 0.5484440434580041), ('fees', 0.5459973095272547), ('auction', 0.5424019465576531), ('issue', 0.5375188005832331), ('had', 0.5352390605936578), ('levels', 0.5332583467125815), ('chrysler', 0.5249030875385519), ('bear', 0.5235007864994675), ('sues', 0.5226913244611711), ('off', 0.5224077514525132), ('design', 0.5204526649904626), ('probably', 0.5199524736490612), ('instagram', 0.5169597200255499), ('could', 0.5167600795246713), ('mystery', 0.5163750906855135), ('level', 0.5115446557718921), ('demand', 0.5087345020580643), ('customers', 0.5081428922845628), ('island', 0.5072283780969861), ('again', 0.5057995672522125), ('copyright', 0.5042521283343143), ('lawsuit', 0.4991446444165245), ('spot', 0.4984551047854414), ('ll', 0.49742214031611837), ('regulator', 0.4937150215931106), ('super', 0.49191028161838246), ('ipad', 0.4906588722896238), ('obama', 0.48872744556376757), ('nothing', 0.48764296024281295), ('things', 0.48654665284665716), ('than', 0.4829315240598256), ('virus', 0.48284214301770007), ('photo', 0.4821762024298928), ('act', 0.48025151910079267), ('take', 0.4746242906697979), ('replace', 0.47348365268257187), ('stunning', 0.47306575882995794), ('be', 0.4727438726482692), ('no', 0.4701753418093477), ('working', 0.46982457924717586), ('breach', 0.4687329965709985), ('anti', 0.4644178187316388), ('coming', 0.4635456698293755), ('galaxy', 0.46068046008812646), ('congress', 0.4580693232722272), ('boost', 0.4561988630338273), ('confirmed', 0.4551556387195096), ('were', 0.4542745758028455), ('billion', 0.45227117047431575), ('europe', 0.4484613298516882), ('saturday', 0.44696702189776394), ('critical', 0.4452452434475116), ('enough', 0.4445591075388626), ('shooting', 0.4429644286256829), ('why', 0.43885901876970185), ('reality', 0.43840559834331105), ('strong', 0.43665261801192856), ('to', 0.43643961227319955), ('right', 0.4358397417506367), ('texas', 0.4338647523528298), ('flies', 0.4308518837790984), ('poses', 0.42946674621533626), ('britain', 0.42928536896403824), ('doesn', 0.4265479703895167), ('great', 0.4265187432904923), ('starbucks', 0.4227721098585878), ('called', 0.4219684425700693), ('orders', 0.4204245558253448), ('know', 0.41804973621718), ('ad', 0.4165525953191126), ('expand', 0.4159143431780389), ('big', 0.41423448483791053), ('full', 0.40996826346861553), ('while', 0.4089154194629922), ('false', 0.4074907937401111), ('these', 0.4029670214094322), ('usa', 0.4017183161327193), ('admits', 0.4004000258441778), ('too', 0.39695111491417134), ('drone', 0.39525583707966616), ('celebrities', 0.39358411734548726), ('debate', 0.39170892505334004), ('yet', 0.389385311345473), ('point', 0.3880995933659101), ('confirms', 0.3875825734422053), ('firm', 0.3871198069778678), ('finds', 0.3864006266792265), ('with', 0.3847931582232149), ('yahoo', 0.3845232354132317), ('rivals', 0.38419662077538214), ('here', 0.3832476503118748), ('tonight', 0.3809803758762317), ('hunting', 0.38003529152195276), ('fine', 0.378379893812444), ('q0', 0.37703274638085643), ('now', 0.37240688725566473), ('put', 0.3718843944532339), ('making', 0.36916308562270955), ('gay', 0.36822202024020884), ('consumers', 0.36763904008957227), ('website', 0.3673693465280082), ('behind', 0.36537001792706786), ('develop', 0.3648609080631591), ('which', 0.3640934614491448), ('soon', 0.36228659839758554), ('life', 0.3619403775212725), ('plans', 0.3596387499507538), ('year', 0.35790077512028706), ('jd', 0.35682439466191723), ('meet', 0.3538942640078956), ('agency', 0.35322064664830827), ('line', 0.3494649484433197), ('senate', 0.34922169406047726), ('budget', 0.347843528595172), ('harry', 0.3443616107882082), ('problem', 0.3440529405692155), ('or', 0.34240012166885986), ('faster', 0.34024952402389597), ('indian', 0.33904136676896046), ('review', 0.33828110895331703), ('rare', 0.3382668623840041), ('accelerates', 0.3375502138535713), ('competition', 0.33588482434729905), ('by', 0.3327178020480095), ('together', 0.3326233351860306), ('exclusive', 0.3324944284471979), ('moves', 0.33240159444849326), ('killed', 0.3315909967713281), ('their', 0.33058773126746177), ('crisis', 0.33015547078210183), ('small', 0.32853327445891306), ('ways', 0.3269582420288186), ('hands', 0.32661230958793014), ('invest', 0.32588853511537), ('device', 0.3255011222044355), ('pushes', 0.3250517045429668), ('european', 0.323963180746294), ('solar', 0.3235078047430246), ('ice', 0.3227954197222944), ('blasts', 0.32207415648961796), ('lost', 0.3216022549360675), ('head', 0.32148048415155533), ('plant', 0.3182622901950238), ('jimmy', 0.31785000215577186), ('via', 0.31564168212471116), ('friends', 0.3155122034841594), ('forced', 0.3137651288328181), ('weeks', 0.3131354053292015), ('avoid', 0.3089029997931023), ('towards', 0.308610831006954), ('further', 0.3083842822918032), ('cube', 0.3024664185240559), ('companies', 0.30188951912427703), ('road', 0.3017132911338411), ('offer', 0.30002398337938235), ('revenue', 0.298548279983633), ('property', 0.2983297879047592), ('demands', 0.29742695358320864), ('firms', 0.29586844596663053), ('sexy', 0.29466081569886793), ('search', 0.2936397294808439), ('step', 0.29302466582016734), ('fast', 0.2912132330923835), ('agrees', 0.29054487581351796), ('test', 0.290425280477211), ('end', 0.28998368521172896), ('tells', 0.2883239160612141), ('bln', 0.2880174350455633), ('follow', 0.2876925242812789), ('warns', 0.28617418966414965), ('thousands', 0.2861027953152727), ('been', 0.28596761201096815), ('sells', 0.28330288999261427), ('federal', 0.2830823317865859), ('sources', 0.28259059690148486), ('release', 0.2812891298826647), ('camera', 0.28086900261983705), ('hard', 0.279347814826785), ('hit', 0.27876804858173276), ('like', 0.2775653416135558), ('get', 0.27237639569813266), ('challenges', 0.2718046834632227), ('future', 0.2705200321572146), ('thursday', 0.27007150130232327), ('snapchat', 0.2681878006535964), ('massive', 0.2666394840249919), ('refile', 0.26578230738443276), ('under', 0.2653972003491954), ('ready', 0.26413060548512624), ('tv', 0.2633910442187861), ('until', 0.2615784927267497), ('trying', 0.2594356836386448), ('thing', 0.25848870063097573), ('words', 0.25749563460987296), ('charge', 0.257169483291181), ('rose', 0.25445711346140254), ('suggests', 0.25008736637577145), ('proves', 0.24846258728457318), ('bring', 0.24845136442437898), ('satellite', 0.2484060358066702), ('anniversary', 0.24539479067148184), ('costs', 0.24532588115548093), ('list', 0.24394797001219073), ('among', 0.243089957477014), ('teams', 0.2429734189849439), ('extend', 0.24227748084323114), ('policies', 0.24172848705583044), ('direct', 0.24108510414894305), ('auto', 0.2406392911887867), ('australian', 0.24014917451796566), ('0st', 0.23967156456276156), ('warning', 0.23954679789057887), ('court', 0.23951657886995384), ('biggest', 0.23945517116934922), ('and', 0.23529263215733806), ('about', 0.23488548437373943), ('birth', 0.23318439440818484), ('news', 0.2329173835314157), ('summer', 0.2322402193914521), ('president', 0.23022079599555836), ('speed', 0.22813099859584077), ('eyes', 0.22532146762798), ('access', 0.22518057531500804), ('charges', 0.22470255529388578), ('pre', 0.22342296307221102), ('animal', 0.22122260829234527), ('from', 0.21935310320311596), ('consumer', 0.2179559022510301), ('sell', 0.21540994501648159), ('turns', 0.2145804433799081), ('keep', 0.21325872147257022), ('creator', 0.211745657924281), ('delayed', 0.21171406434046805), ('begins', 0.20984789258337713), ('haven', 0.20479294403420822), ('hosts', 0.20445621992434415), ('prompt', 0.2042019071416053), ('former', 0.20112145217643387), ('size', 0.20106152116732037), ('own', 0.19916899079832295), ('fire', 0.19836644405404544), ('hearing', 0.19750819507803127), ('reviews', 0.19678551094180166), ('magic', 0.1954035603461358), ('releases', 0.19351761377552476), ('supreme', 0.19091045538442283), ('social', 0.18978570774753756), ('guidance', 0.18955229492474882), ('make', 0.18813580898488838), ('soft', 0.18812381719202723), ('works', 0.18566665047737993), ('trade', 0.1825340378120329), ('calls', 0.18213770867298543), ('hopes', 0.1812316444620997), ('drive', 0.18033811183192414), ('snaps', 0.18015389433257692), ('return', 0.17946635163112334), ('some', 0.1789309690983398), ('job', 0.17720305234359904), ('everyone', 0.17663143315683588), ('italy', 0.17536353416207273), ('fair', 0.17366870551627336), ('joint', 0.1714042828226353), ('canada', 0.17096050456529915), ('ahead', 0.17065132586770868), ('my', 0.16949325934539786), ('little', 0.16861687832937297), ('safe', 0.16660140795125225), ('self', 0.16636084038473334), ('jury', 0.1643232864851707), ('group', 0.16382610396133904), ('wish', 0.16106210805816903), ('industry', 0.1605275839773728), ('older', 0.15935487008546007), ('raises', 0.15742499944482438), ('sorry', 0.15711106030005034), ('latest', 0.15630517268379956), ('long', 0.15507155047691779), ('tell', 0.1542056718603547), ('go', 0.15382017545493434), ('old', 0.1536342860309512), ('secret', 0.15150352170657277), ('loss', 0.1513720002054213), ('forecast', 0.15084872676487968), ('just', 0.1486370876927899), ('project', 0.1483966960289275), ('jason', 0.14776069810734696), ('bad', 0.14775728391769605), ('threatens', 0.1449911998821413), ('spending', 0.14459229542200075), ('female', 0.14455702796798592), ('awaited', 0.1439950058933084), ('fall', 0.1434795493544544), ('losing', 0.14288821926990794), ('book', 0.14220951531876527), ('claim', 0.1415946088990162), ('digital', 0.14087711357115407), ('open', 0.14073824604200746), ('driver', 0.13989613203225126), ('view', 0.13918330707291535), ('support', 0.13614023186872334), ('goldman', 0.13598314504044853), ('eye', 0.13251649065949364), ('states', 0.1322137541267647), ('watson', 0.12997100206246223), ('real', 0.12995525479076708), ('reduce', 0.12787139206415252), ('daddy', 0.1276707704915767), ('rape', 0.12757077549162324), ('proposed', 0.1271134170353906), ('seek', 0.12644386052495543), ('worth', 0.12569218167066445), ('tests', 0.1254193092754177), ('jupiter', 0.12409327355493034), ('hint', 0.12361711190007435), ('makes', 0.1235705962433036), ('diane', 0.1235298998416308), ('forgotten', 0.12318229439676626), ('edges', 0.12306202402766842), ('model', 0.12105933836166069), ('winning', 0.12066643686253035), ('france', 0.12006444642819995), ('broken', 0.11989312189482718), ('others', 0.11879231624106455), ('confidence', 0.11626400650674425), ('extinction', 0.11617015396888414), ('black', 0.1152946053229633), ('hair', 0.11411799593369532), ('despite', 0.11304072777376531), ('production', 0.11016457010448896), ('aims', 0.10921770411582683), ('rules', 0.10894260225419279), ('reaches', 0.1089014173345513), ('backs', 0.10829623964180013), ('explains', 0.10728161049815105), ('americans', 0.10706923291669615), ('expands', 0.10687968612308232), ('books', 0.10630942615027433), ('theft', 0.10474063979507), ('deutsche', 0.10452127322393456), ('teenage', 0.10380488849883791), ('march', 0.10362124536111085), ('stronger', 0.10274091555540074), ('special', 0.10185583357385569), ('left', 0.10171006539757357), ('care', 0.10138124253521158), ('getting', 0.10003767483590383), ('asset', 0.0998799825715728), ('montana', 0.09981481487209298), ('factory', 0.09897478742223617), ('middle', 0.09661288593095195), ('say', 0.09576305679048464), ('seen', 0.0954936314833692), ('stones', 0.09364621891660396), ('double', 0.09112743084175585), ('impact', 0.09097464014100175), ('ends', 0.08905132880734859), ('blames', 0.08809348686535788), ('short', 0.08768318860494646), ('charged', 0.08684595476737444), ('nfl', 0.08589325302485412), ('museum', 0.08584156947369605), ('give', 0.0857060271897103), ('major', 0.0856655430534985), ('look', 0.08481773853216311), ('lifts', 0.08465877411239785), ('italian', 0.08393809330498206), ('controversy', 0.08327804958779107), ('mail', 0.08295867155570928), ('exit', 0.08187815448040109), ('hot', 0.08055356236225605), ('welcome', 0.07925246583911859), ('isn', 0.07780680491776687), ('attacks', 0.0755612774214378), ('power', 0.07380274904212748), ('against', 0.07172314347193458), ('profits', 0.07076180159685583), ('dream', 0.07070235418560003), ('warner', 0.0703943287345133), ('crashes', 0.06995013412692311), ('time', 0.06779210360856266), ('brother', 0.06705355671954182), ('estimate', 0.06702334738242437), ('they', 0.06640571163604296), ('only', 0.06581268884460148), ('shire', 0.06558916107238581), ('expansion', 0.06530390306965662), ('performance', 0.06505959287980156), ('lands', 0.06476927163088142), ('boy', 0.06374013827154548), ('rating', 0.06346949194630054), ('six', 0.06321293816264474), ('one', 0.06280685106024764), ('different', 0.062006307284510294), ('executive', 0.061997224606456784), ('british', 0.060857138440864635), ('eu', 0.06025155453376621), ('class', 0.05978445712214238), ('use', 0.059420603250776145), ('results', 0.058584631345012864), ('trial', 0.05819527178722567), ('out', 0.056920565845360295), ('tracking', 0.05647518170307877), ('buy', 0.056024228466511804), ('meets', 0.05580539371828744), ('rallies', 0.05457691214612398), ('reports', 0.053495610326186376), ('once', 0.053140212604488216), ('allegedly', 0.05182979509900248), ('criminal', 0.05177799109356528), ('at', 0.05116426334609353), ('cash', 0.05100891175432187), ('winner', 0.04929892912776521), ('into', 0.04905585652636885), ('die', 0.04886170928519167), ('steve', 0.04836201843197242), ('germany', 0.04834032493469166), ('ban', 0.04762296035399301), ('gap', 0.04714976552540198), ('porn', 0.04497264235490014), ('of', 0.04404679218781279), ('blood', 0.04388700282956705), ('accident', 0.04306284407788851), ('monday', 0.0421664980307644), ('picks', 0.041194810046738015), ('technology', 0.04040059711986251), ('investors', 0.04038352059053083), ('slow', 0.039553701838688546), ('novartis', 0.03937876141323061), ('ask', 0.03805967165621735), ('sign', 0.03707123274037081), ('strike', 0.036988299428059444), ('lift', 0.0367185726045992), ('union', 0.03482615613264178), ('tweet', 0.034309599337114804), ('gox', 0.03360629793818388), ('mt', 0.03360629793818388), ('think', 0.03354736060602789), ('name', 0.03338641528535188), ('0nd', 0.032773151690765064), ('breaks', 0.03170008530754277), ('sun', 0.03148851395541933), ('when', 0.031292894801202426), ('fails', 0.03099101362329666), ('merger', 0.030748095090710546), ('losses', 0.03070460471806478), ('beyond', 0.028871895523382023), ('find', 0.028553840515306097), ('choice', 0.02821956800681914), ('doubles', 0.027112373903458286), ('announces', 0.026959284106642584), ('government', 0.026847207724517666), ('economy', 0.02380092058481019), ('nears', 0.023476687307718586), ('prepares', 0.02202593674266492), ('through', 0.02154903008828263), ('apology', 0.020501456076088484), ('if', 0.02047143965767387), ('up', 0.01961209032619935), ('order', 0.019323602429998744), ('weighs', 0.01927042931850888), ('let', 0.017064358229769615), ('slams', 0.017045872605327635), ('must', 0.015039266056916462), ('term', 0.014657937846645664), ('very', 0.014273023105820128), ('finally', 0.013170369434526267), ('supplies', 0.012667855160428742), ('keeps', 0.011788641587412019), ('recovery', 0.011128986883886322), ('call', 0.01088434857906931), ('partners', 0.010618299992091556), ('issues', 0.00972992037475964), ('sees', 0.007327464973006099), ('well', 0.0068632276105084445), ('needed', 0.006570373774948655), ('roll', 0.0065559025366378415), ('allow', 0.006435528783974883), ('bid', 0.005996629915910818), ('beat', 0.00460636471381777), ('row', 0.004324300533499615), ('stephen', 0.003991941942567548), ('style', 0.0033515967216913548), ('due', 0.002966740792012858), ('research', 0.0022065931669358768), ('washington', 0.0011552782232756504), ('caught', 0.0007078990656114706), ('worst', -0.00013992030810435616), ('husband', -0.00029646966006932645), ('policy', -0.0012333300855957776), ('himself', -0.0012431300479462594), ('box', -0.0016115473215533756), ('actually', -0.0020425179978343674), ('single', -0.0024271476057314708), ('misses', -0.003596040722195553), ('white', -0.004568281950767961), ('following', -0.0051359057454083016), ('bids', -0.005361901185216802), ('maker', -0.005798902711466316), ('tries', -0.006852254367370857), ('trip', -0.007972656076007336), ('beautiful', -0.008482495117931402), ('rick', -0.008510501651730616), ('accuses', -0.010290134037794246), ('rpt', -0.010454250529638236), ('chief', -0.012497832192030094), ('wife', -0.013388132884357735), ('it', -0.015562666744123354), ('asks', -0.018254030008986486), ('yen', -0.018499806773356497), ('estimates', -0.01850935497194914), ('fake', -0.019583791457401238), ('0m', -0.02091822877251071), ('times', -0.023340720839096114), ('soars', -0.023587386431411398), ('trigger', -0.023720002804375584), ('suit', -0.026364252304854542), ('decline', -0.02663282025148096), ('bets', -0.02687911814584857), ('doing', -0.026937770403274403), ('curb', -0.027193580501384703), ('east', -0.027335413875313998), ('team', -0.02778963837071319), ('defends', -0.029450174782634737), ('acquire', -0.029888680010803432), ('authorities', -0.030072484543562598), ('so', -0.030401918673610927), ('attorney', -0.03136725798158358), ('rejects', -0.03319972610721805), ('aged', -0.033688080269619045), ('gives', -0.03465238183708217), ('our', -0.03492048742987114), ('where', -0.03529440639714816), ('putin', -0.035543298750833625), ('tsx', -0.035976312604693396), ('below', -0.037242688758863475), ('china', -0.03746783117448371), ('raised', -0.03752835482414897), ('less', -0.0382366638334004), ('thinks', -0.03845242081660661), ('likely', -0.03871774963520086), ('days', -0.03885224313293922), ('ap', -0.03891880263274789), ('fail', -0.03918668954089565), ('hp', -0.03945295340906879), ('cuts', -0.039722423217010375), ('fund', -0.039793007862473403), ('drink', -0.03980321129560963), ('judge', -0.03998057776756881), ('today', -0.04265074814244216), ('set', -0.043334776825032555), ('talk', -0.043439774957187045), ('slump', -0.04436610941534313), ('hosting', -0.04449053177692091), ('pulled', -0.044630627801119586), ('bangerz', -0.04771786194737058), ('history', -0.04812801733087319), ('monster', -0.04822507167097385), ('officials', -0.048552570258114554), ('want', -0.04925426655238253), ('pot', -0.05046033275622565), ('romance', -0.05128789413191999), ('zone', -0.05158745568926408), ('dog', -0.05211997688399801), ('bitcoin', -0.05319040234296823), ('denies', -0.05344776832042465), ('cost', -0.05465349462677218), ('films', -0.054682269364859135), ('era', -0.055026458999599945), ('affirms', -0.0557484856226612), ('tweets', -0.0557809514569573), ('message', -0.056152238664656906), ('wasn', -0.05628057693193901), ('same', -0.05670024252753431), ('son', -0.057112256075430565), ('plunge', -0.057862889391267464), ('four', -0.057879021748558634), ('stance', -0.057971808245147444), ('friday', -0.05829297233444621), ('awesome', -0.058403892175761966), ('central', -0.059295573991995976), ('loves', -0.06034131370832803), ('part', -0.06107203104615364), ('girl', -0.06137447622540319), ('weight', -0.06233851803255992), ('mark', -0.06302097815255689), ('easter', -0.06356145938668042), ('house', -0.06613479057309572), ('rolls', -0.06881653875046385), ('frozen', -0.06891902671508557), ('struggles', -0.06929554652862525), ('ireland', -0.06931955487025032), ('action', -0.06961650643130976), ('opening', -0.07029683137774223), ('response', -0.07092803366841328), ('guide', -0.0717662072608234), ('effects', -0.07206424294797059), ('growing', -0.07211078824652026), ('gopro', -0.07247869403199014), ('speech', -0.07304456671395794), ('outside', -0.07315021961858985), ('services', -0.0733304612805676), ('original', -0.0744828594965039), ('war', -0.07449584197133648), ('area', -0.07452734403302383), ('ex', -0.07472536162158522), ('joins', -0.07476808393324182), ('bang', -0.07486328265487667), ('play', -0.07508040884294812), ('selling', -0.07509310369762896), ('lot', -0.07602805984737146), ('linked', -0.07723059527698249), ('back', -0.07760824342452632), ('markets', -0.07848931016336406), ('almost', -0.07895605993284832), ('cancel', -0.07939420722116111), ('heads', -0.07951098428111643), ('fights', -0.08036250809813143), ('hamptons', -0.08051402128842462), ('turn', -0.08061229017870557), ('sparks', -0.0809570900679459), ('joining', -0.08111855982134965), ('episode', -0.0815809417277896), ('control', -0.08211371580857396), ('dovish', -0.08362955205193477), ('did', -0.08510440563230248), ('woes', -0.08616146535735675), ('leaves', -0.08657294150284302), ('decision', -0.08725008134166708), ('become', -0.08733792513500152), ('might', -0.08751402413237128), ('recovers', -0.0875747127830077), ('default', -0.08769736947659233), ('on', -0.0881246597583213), ('visits', -0.08824365440805834), ('ifo', -0.08825992783068082), ('fourth', -0.08849842979376012), ('got', -0.08876167312649402), ('ipo', -0.0888947996224837), ('sector', -0.08915899974931832), ('plunging', -0.0895255263263341), ('slide', -0.08976359662578996), ('dead', -0.09014453523303786), ('stays', -0.09057575394073943), ('soy', -0.09080179938937358), ('an', -0.09104902789557268), ('work', -0.09149019778312362), ('versus', -0.09218670569715869), ('wti', -0.09265136473109263), ('in', -0.09307689349025103), ('refuses', -0.09384725341231907), ('monteith', -0.09467977656922014), ('boosts', -0.09492784186437933), ('north', -0.09506280081893102), ('reasons', -0.09610163412316977), ('bill', -0.09642757274646384), ('opens', -0.09667009957181355), ('offers', -0.09671786621785468), ('flight', -0.09680747517492402), ('come', -0.09681292719226813), ('selloff', -0.09727882592509074), ('kiwi', -0.09735818745903192), ('income', -0.09745110193032858), ('vows', -0.09754629028795894), ('strengthens', -0.09783157486259701), ('plus', -0.09815980310811251), ('another', -0.09881249119363592), ('cools', -0.0989906693374989), ('bankruptcy', -0.099512849162578), ('april', -0.10052736441953274), ('won', -0.10055300753990559), ('relationship', -0.10065832197517192), ('faces', -0.10112619025487647), ('currencies', -0.10222417491945424), ('seven', -0.10225891738099818), ('appear', -0.10248432947860003), ('means', -0.10282727683405712), ('subdued', -0.10308716715022438), ('every', -0.10321984025945634), ('greek', -0.10354992849122455), ('aussie', -0.10355141359721276), ('testimony', -0.10426238400531226), ('student', -0.10429999318947743), ('split', -0.10464368836719554), ('ads', -0.1052805131710073), ('treasury', -0.10540783992136918), ('upbeat', -0.10565724386146381), ('who', -0.1059448662286696), ('bullard', -0.10604145354889835), ('tattoo', -0.10668121673268297), ('wrong', -0.1067893227407074), ('evans', -0.10681742042094998), ('khloé', -0.10717438994230709), ('kutcher', -0.10753181687368915), ('aa', -0.10824104820066915), ('alamuddin', -0.10885187730496161), ('amal', -0.10885187730496161), ('kourtney', -0.10919660929246412), ('starts', -0.11068157306126615), ('fisher', -0.11117048185061766), ('coldplay', -0.11137352217632553), ('knowles', -0.11150796606615562), ('snl', -0.11182650458989438), ('city', -0.11221363217578115), ('advances', -0.11246734044256779), ('violence', -0.11266843562300619), ('precious', -0.11277388774699958), ('multi', -0.113330864190892), ('friend', -0.11349322721598962), ('eyed', -0.11408741638025684), ('round', -0.11524021625106451), ('tied', -0.11545566592315402), ('wears', -0.11569085653480037), ('florida', -0.11617038008586718), ('korea', -0.11757299662225949), ('pleads', -0.1175949711426542), ('minutes', -0.11793393145338779), ('arrested', -0.11810823231693185), ('marry', -0.11812470186836735), ('stock', -0.11831603994322774), ('cory', -0.11835437296610272), ('green', -0.11889403959097185), ('alleged', -0.11893447068741074), ('vs', -0.11897899637321531), ('perform', -0.1192709508682249), ('dips', -0.11963020068183186), ('crop', -0.11976657394768304), ('nine', -0.12023906255235996), ('tight', -0.1202510178612017), ('mln', -0.12073552237935176), ('kerr', -0.12097329808530266), ('shepherd', -0.12125158753791586), ('sherri', -0.12125158753791586), ('com', -0.12247418687845511), ('downey', -0.12253004915747209), ('dow', -0.12274138766720936), ('gets', -0.12293919897543469), ('cbo', -0.12322253446597584), ('past', -0.12405431401126928), ('tumbles', -0.1240960310567416), ('azalea', -0.12419748512111421), ('cites', -0.12451965588994005), ('walks', -0.12470291566052047), ('really', -0.12487153477443992), ('slides', -0.1252510187025009), ('cannon', -0.12552011483589492), ('dressed', -0.12568717476319685), ('usda', -0.1257435233093666), ('weigh', -0.12575525175316127), ('bikini', -0.12589883490434323), ('rise', -0.12646860883896152), ('child', -0.12663015342511974), ('driving', -0.1269632111489734), ('contestant', -0.12777465422801584), ('iggy', -0.12822514010906608), ('looms', -0.12871927236374237), ('july', -0.12886254641818243), ('reach', -0.12900558221267788), ('sterling', -0.12901920245017962), ('liam', -0.1291272058821618), ('aaliyah', -0.12941620796606046), ('bet', -0.12945292494185978), ('billboard', -0.12970632737430796), ('growth', -0.12988374333674532), ('weakens', -0.13030049479952663), ('night', -0.1308544954081007), ('revises', -0.13095550971709075), ('resolve', -0.13152881271137729), ('pace', -0.13265342438136868), ('kris', -0.13294240293747192), ('way', -0.13324457925704922), ('canadian', -0.1332936689835712), ('slumps', -0.13366164044924297), ('caps', -0.13371807325090074), ('lopez', -0.13380315223079492), ('leads', -0.13387835320499553), ('track', -0.13448649042544594), ('deadline', -0.13476769609602038), ('puts', -0.13481004003688468), ('side', -0.1348765930841963), ('three', -0.13532274048551052), ('named', -0.1359320546391168), ('expected', -0.13625499334314412), ('worries', -0.1366725732337141), ('affleck', -0.13684755477215435), ('biotech', -0.13786722907143303), ('jobless', -0.13829275774226446), ('rehab', -0.13868159161515303), ('russia', -0.13874897399805966), ('ultra', -0.13905754745586427), ('profit', -0.1392099651781248), ('extends', -0.139332594984226), ('brain', -0.13946457864072961), ('fallon', -0.13956898169461035), ('dc', -0.13971811166822187), ('topless', -0.14032698908539537), ('0th', -0.14054288495536482), ('focus', -0.14085826120891454), ('shines', -0.14124012502327804), ('platinum', -0.14142502710676588), ('yields', -0.14214293362379055), ('pattinson', -0.1431184196656384), ('charney', -0.1432248743738922), ('remain', -0.14339245407231727), ('cancelled', -0.14363607560118347), ('pipeline', -0.14371032229238928), ('bbb', -0.14377709101980363), ('sinks', -0.14389174514227984), ('strategy', -0.14500398349281768), ('cell', -0.145551680638704), ('inside', -0.14560374482199853), ('elle', -0.14563980964750664), ('herself', -0.1460644976582615), ('moment', -0.1462189876502599), ('citi', -0.14626454728906083), ('positive', -0.14629992452610138), ('zendaya', -0.14654085826418928), ('mixed', -0.14663177178759837), ('takeover', -0.14676080770051864), ('loses', -0.14678097501205928), ('celebrates', -0.14702863113586745), ('paula', -0.14727594236719335), ('tumble', -0.14734435878409652), ('rachel', -0.14744544296601028), ('wheat', -0.14765162461104223), ('casts', -0.14768667922103518), ('retreat', -0.1480053052105396), ('gq', -0.1480963999033042), ('win', -0.14841565557967096), ('room', -0.14868235308938227), ('ac', -0.14871017693616395), ('ashton', -0.14960048264658884), ('led', -0.1501008526926767), ('drama', -0.15014947853113966), ('signals', -0.15020987752484966), ('producer', -0.1503468552359659), ('tribeca', -0.15056254018404683), ('claims', -0.1506620581893492), ('levine', -0.15071477123647933), ('inflation', -0.15076751196411223), ('orlando', -0.15107265738332468), ('racist', -0.1522114822318431), ('letterman', -0.15289738193134267), ('whole', -0.15308817331664862), ('skin', -0.15310582985096796), ('hemsworth', -0.15326084541201265), ('rumours', -0.15344649363664697), ('mickey', -0.15365106645334767), ('hints', -0.15388917353728337), ('tensions', -0.1541584304083381), ('kylie', -0.15417307245342826), ('measures', -0.15435243435850754), ('condition', -0.15481036842174292), ('maleficent', -0.15487395771894727), ('defense', -0.1549107355823073), ('equities', -0.15502370143339994), ('hamm', -0.15534874929779677), ('agree', -0.15539228038580213), ('will', -0.15560321859670173), ('diaz', -0.15580736741375717), ('soybeans', -0.1563329191926755), ('spreads', -0.1563959795198517), ('eric', -0.156672628833269), ('libyan', -0.157635579390553), ('mariah', -0.15867867380764872), ('rebounds', -0.15942845843577746), ('shoot', -0.15952807630005186), ('co', -0.15959727444589264), ('sutherland', -0.15987038382095495), ('pop', -0.15992577527962507), ('pippa', -0.16040958101362943), ('dating', -0.16050190625275687), ('advice', -0.1605457068321035), ('navy', -0.1608369913390158), ('nyc', -0.1612877221566125), ('fanning', -0.16175985576958207), ('corporate', -0.16181972079621543), ('ftse', -0.1618346518599722), ('port', -0.16256433863308042), ('anna', -0.16281681724193672), ('slip', -0.16346399252615876), ('climb', -0.16399078720706065), ('peter', -0.1643836352736019), ('brooks', -0.16489034905917221), ('warrant', -0.16492672601521977), ('continue', -0.16500658976559215), ('juan', -0.1655200869876367), ('blogs', -0.16569349739511516), ('gary', -0.16576321153738888), ('song', -0.16578804073821604), ('kiefer', -0.16659256495443076), ('any', -0.1673077910215642), ('didn', -0.1674322418482076), ('engaged', -0.16779992164150617), ('speaks', -0.1687247061533611), ('ruby', -0.1691491891933435), ('radcliffe', -0.16922367245845008), ('re', -0.17062094101782993), ('soldier', -0.17085786076898593), ('begin', -0.1711385814955654), ('nymex', -0.17223287801852108), ('above', -0.1722699828313366), ('highs', -0.1723470323467371), ('matt', -0.17250734107350343), ('aguilera', -0.17277170101512618), ('winslet', -0.17277518800120184), ('edge', -0.1731504232179199), ('slows', -0.17318424618171344), ('minaj', -0.17390140298025505), ('nicki', -0.17390140298025505), ('sir', -0.17405077470194852), ('kimye', -0.17440453431121808), ('sarah', -0.17452449457256597), ('streak', -0.1749424114788807), ('drag', -0.17525108871182787), ('katy', -0.1752629127081361), ('vogue', -0.17530699410993134), ('sends', -0.17538430109315292), ('eases', -0.17578980552662618), ('inspired', -0.17592838287011697), ('unemployment', -0.17603767589680172), ('stefani', -0.17631838745395895), ('celebrity', -0.17666173855421882), ('coach', -0.17668338914029216), ('dee', -0.17742470390743703), ('tracy', -0.1775253585492586), ('fannie', -0.17759952029166054), ('during', -0.17876352020547503), ('boyfriend', -0.1788604330706284), ('lawrence', -0.18019018606733025), ('easing', -0.18036163945768294), ('cheating', -0.1806212508498379), ('0million', -0.18073815507732474), ('continues', -0.18096206420524324), ('prime', -0.18145545597595442), ('miners', -0.1814840071230662), ('daniel', -0.18179789786374542), ('accused', -0.1823366658329962), ('iconic', -0.18241058804123883), ('church', -0.18241154104199486), ('dip', -0.18310202878387372), ('run', -0.18332039765293776), ('gwen', -0.18384088671097898), ('fame', -0.18458349018458756), ('brothers', -0.18494208586904343), ('sentiment', -0.18495258463978861), ('gig', -0.18541691252926323), ('post', -0.185550836257431), ('ceremony', -0.18611442988529633), ('concert', -0.1861376704124077), ('niro', -0.18624105395265134), ('matthew', -0.18651670608308596), ('retailer', -0.18654137244040456), ('hollywood', -0.18681540944682332), ('weds', -0.18721230917331202), ('hurt', -0.18758495822799431), ('reportedly', -0.18805500627533153), ('conference', -0.1881659194679649), ('concern', -0.18819102309350574), ('weekly', -0.18826641720779896), ('madonna', -0.18892304749643876), ('donnell', -0.18903323730159557), ('rosie', -0.18903323730159557), ('wins', -0.189226641419682), ('funeral', -0.1899165240015149), ('announce', -0.19045836255075985), ('heard', -0.1905076578946688), ('scenes', -0.19050934255746899), ('heading', -0.19076589369376368), ('toll', -0.19097858809573337), ('oscars', -0.1913557919613984), ('johansson', -0.19142707799507103), ('dance', -0.19166495046106155), ('live', -0.19177164864325297), ('pill', -0.19229092047941845), ('pool', -0.1924719466814552), ('qe', -0.19250900553903308), ('february', -0.19252359922346682), ('lambert', -0.1931610979450794), ('carey', -0.1935850873693149), ('aid', -0.19365486068218069), ('miami', -0.19456345024889485), ('oldman', -0.19612712035488086), ('settle', -0.19621093086504696), ('england', -0.19671358153457824), ('london', -0.19672474557574005), ('sick', -0.19686221191030262), ('ve', -0.19715085230081356), ('hedge', -0.1974431057450122), ('idol', -0.19747697576691667), ('pressure', -0.19757873723961258), ('john', -0.1979623503091712), ('hugh', -0.19807286969396634), ('session', -0.19851192227480627), ('changed', -0.19866975774244267), ('amy', -0.1991316744035514), ('pink', -0.19940305077815554), ('optimism', -0.19945717880868136), ('tanker', -0.19947223469248848), ('scarlett', -0.19982045334866713), ('queen', -0.19983934763694503), ('tammy', -0.19985859374610412), ('rooney', -0.20091111687058014), ('chicago', -0.2009509731399397), ('rowling', -0.201069348716286), ('killer', -0.2013116149767421), ('ge', -0.20158101722201166), ('thanks', -0.20172647095777005), ('collapse', -0.20174980444812596), ('rogen', -0.20178554241142588), ('closes', -0.20198751407860802), ('nyong', -0.20210839392909533), ('speculation', -0.20212539555411296), ('shailene', -0.2023136127305699), ('woodley', -0.2023136127305699), ('including', -0.20244483884945585), ('lead', -0.20260541088526784), ('kendall', -0.20364581188025901), ('lupita', -0.20372887080046212), ('puerto', -0.2038933053483619), ('rico', -0.2038933053483619), ('figure', -0.20414663919954013), ('tatum', -0.20424245885733483), ('what', -0.20441623527743763), ('la', -0.2045464116243495), ('pablo', -0.2049732278483554), ('marc', -0.20538347024012257), ('iraq', -0.2057751117289625), ('ease', -0.2058941870309705), ('notes', -0.2063875175620309), ('fashion', -0.2063902297304485), ('lifetime', -0.2066488196236774), ('pictures', -0.20665884423403083), ('water', -0.20668399243016133), ('reveals', -0.20685726853333025), ('uber', -0.20693314142528232), ('crowe', -0.2069480657592845), ('roberts', -0.20703929079373665), ('all', -0.20705481308837537), ('infection', -0.20739285792615955), ('fiat', -0.2078179567521218), ('incident', -0.20794233786091587), ('middleton', -0.20804853751028385), ('valuation', -0.20840382855125708), ('apps', -0.20856113732019238), ('jackman', -0.2089015247043507), ('frankie', -0.20951576704649896), ('number', -0.2101619668995461), ('insider', -0.21027220478920366), ('married', -0.21056133267501215), ('columbus', -0.21062866108788075), ('direction', -0.21158033397618306), ('currency', -0.21201928362583417), ('weaker', -0.21225899831937306), ('spelling', -0.2124094119272094), ('snapshot', -0.21249592896612332), ('mrs', -0.21255083745971234), ('mccartney', -0.21262947672172677), ('career', -0.21290645978695147), ('gown', -0.2129911917155618), ('garth', -0.21316635251219057), ('rob', -0.21343821183695572), ('protest', -0.21382479060872467), ('pretty', -0.21395310125177), ('korean', -0.21413628688748035), ('spain', -0.21427757311876142), ('ousted', -0.21430182085025573), ('wanted', -0.21455827564607316), ('energy', -0.21473766038878814), ('wake', -0.21479366122961385), ('gaga', -0.2153635577248962), ('pharma', -0.215542342983687), ('draper', -0.21573049885987608), ('mostly', -0.2159575998767543), ('struggle', -0.2160028178959131), ('hike', -0.21605399614955928), ('scene', -0.21609513597056842), ('girlfriend', -0.216126322827577), ('improved', -0.21642216155455365), ('holcim', -0.21645938686364075), ('lafarge', -0.21645938686364075), ('funds', -0.2168454721105343), ('acting', -0.21775711172616596), ('geldof', -0.21850529522530981), ('spring', -0.21886461315827282), ('miss', -0.21898523341158627), ('stress', -0.21911843307850862), ('julia', -0.2196442440648874), ('chain', -0.21985965227298496), ('most', -0.2200301911557461), ('ryan', -0.22007390716045225), ('million', -0.22120209465872528), ('happy', -0.22145909511631315), ('economist', -0.22156294639376697), ('reunite', -0.22188648142132003), ('drew', -0.2219625963512411), ('floyd', -0.2224159976091708), ('epa', -0.22275562911849642), ('many', -0.223292650160813), ('how', -0.22507336461910796), ('output', -0.2252652691149485), ('handler', -0.226220917359577), ('saudi', -0.22629058812857877), ('sac', -0.2269026569182827), ('simpson', -0.22719454115039192), ('helps', -0.22746903922421502), ('charity', -0.2275776311350698), ('peaches', -0.22786329175921857), ('blow', -0.2280530433263262), ('megan', -0.22833993366742802), ('gazprom', -0.22935065903316165), ('interview', -0.22951269778280356), ('five', -0.2295761469679618), ('hillshire', -0.22958550096864624), ('date', -0.22964948562073656), ('fired', -0.2298241480198772), ('homeless', -0.22987933649375877), ('cobain', -0.23068762161779152), ('equal', -0.23079686853270942), ('slightly', -0.23137254074034705), ('mother', -0.23190580687251452), ('value', -0.23222495752861297), ('actress', -0.23313997519593302), ('check', -0.23348420864794048), ('payment', -0.23352997535780295), ('treasuries', -0.2341520119235838), ('batman', -0.2341761515150621), ('kiss', -0.23427017022041546), ('yield', -0.2347250336331169), ('fell', -0.23519911849572353), ('leave', -0.2355812438379714), ('fraud', -0.2356763365360582), ('plea', -0.23591588501198346), ('tori', -0.2361071452531389), ('potter', -0.23642689288190954), ('yuan', -0.23705502791234445), ('negative', -0.23728310313039533), ('morrissey', -0.23751445808757082), ('place', -0.23769077558086868), ('changes', -0.23774199727562267), ('bryan', -0.2380136555821048), ('climbs', -0.23816414630261618), ('activists', -0.23838320254135467), ('lows', -0.2384880846638387), ('vii', -0.23851258413983545), ('outlook', -0.2386223852597634), ('kunis', -0.23892225548166612), ('mila', -0.23892225548166612), ('elizabeth', -0.2389408361696836), ('officially', -0.2393211478446262), ('reason', -0.2397146874096472), ('directv', -0.2397500331285178), ('barrymore', -0.240069995937261), ('keith', -0.2401404537706224), ('slips', -0.24025532697518928), ('private', -0.24069584584474257), ('naked', -0.24167225409179358), ('paris', -0.24168503567461314), ('chairman', -0.24173431055071107), ('mergers', -0.2418267360966965), ('lana', -0.242057257918204), ('vmas', -0.24221534771849407), ('comeback', -0.24237787610907838), ('scott', -0.2427816756448071), ('comedy', -0.24331554022756954), ('del', -0.24334418130663102), ('rey', -0.24334418130663102), ('sofia', -0.24374143561804637), ('me', -0.24426884965755674), ('arrest', -0.24427290346982647), ('lose', -0.24439094987486282), ('lily', -0.2451006632229493), ('terry', -0.24559172659316256), ('stimulus', -0.24588404194678762), ('eva', -0.2460197911729356), ('wild', -0.24620635052856543), ('asian', -0.2467538974767203), ('actor', -0.24732078288432024), ('hall', -0.24764608726061746), ('sister', -0.24812138111520263), ('rock', -0.2483607334566737), ('king', -0.24871632146343386), ('sxsw', -0.24893526202715432), ('steps', -0.2491164548545733), ('total', -0.24959717986315563), ('ohio', -0.24963646599532566), ('questions', -0.24996362360380597), ('beyoncé', -0.2501211689875297), ('earnings', -0.25038611897866825), ('founder', -0.2504137254936482), ('seat', -0.25044164571352545), ('ariana', -0.25088752441692047), ('grande', -0.25088752441692047), ('week', -0.25089975178358376), ('khloe', -0.2509024822348378), ('family', -0.25153638038581966), ('gosling', -0.2516205480702758), ('josh', -0.25174992786670813), ('dunham', -0.251881765455542), ('lena', -0.251881765455542), ('crush', -0.2521074053466339), ('seeks', -0.252187407169109), ('japanese', -0.25230544142557365), ('demi', -0.25233399344802016), ('lovato', -0.25233399344802016), ('musical', -0.2527768584812234), ('rebound', -0.2527955875661737), ('missing', -0.2535240443749992), ('nude', -0.2540997331946633), ('far', -0.25423411147624814), ('allen', -0.254390056115789), ('cover', -0.255254226859392), ('angeles', -0.2553583785469263), ('los', -0.2553583785469263), ('show', -0.25535934559280987), ('cruise', -0.2557379531120881), ('hours', -0.2562399940025983), ('franco', -0.25659140728983343), ('uncoupling', -0.25660095045895803), ('third', -0.25670176266119143), ('superman', -0.2568060795961379), ('deflation', -0.2569263604200823), ('deals', -0.25772110823862304), ('elsa', -0.25801319425673697), ('needs', -0.2581150126648761), ('melissa', -0.25812697719008926), ('straight', -0.2586971145445616), ('month', -0.25888817490162946), ('glee', -0.25908568703557544), ('filming', -0.2591993016058363), ('reaction', -0.26006274577240956), ('fresh', -0.2601673367096252), ('jet', -0.260244007349242), ('digest', -0.2610503480684455), ('marriage', -0.2612730479154783), ('account', -0.26165956097976983), ('nbc', -0.261910138304233), ('national', -0.26239216005883104), ('daily', -0.2624988599416119), ('mtv', -0.26260570436347835), ('much', -0.26302481491464336), ('murdoch', -0.263177203772393), ('shot', -0.2637701317156103), ('since', -0.26400550652270716), ('targets', -0.264343054778515), ('pope', -0.26492017604511026), ('baby', -0.2651606281487388), ('trapped', -0.2659461885660066), ('investigating', -0.26643918262747385), ('studios', -0.26648517728147214), ('ben', -0.26705875823172326), ('grey', -0.26710960093873276), ('sons', -0.2672783516260399), ('mice', -0.2676539107805349), ('increases', -0.2676928346060832), ('quarterly', -0.26945312343179423), ('leonardo', -0.26972716357446275), ('complete', -0.26980419443429876), ('bulgaria', -0.2698490774014861), ('deaths', -0.2698712774654493), ('jon', -0.270077399396968), ('selfie', -0.2701478388719895), ('garfield', -0.2704745975239793), ('jagger', -0.2711259517238029), ('loan', -0.27175916769673486), ('expecting', -0.27259834446457804), ('charlie', -0.2726545811505698), ('pmi', -0.27270901750089205), ('suisse', -0.27290872974920477), ('dean', -0.2738768546970641), ('flat', -0.27436477938356674), ('katherine', -0.27446474817302347), ('swiss', -0.27511883665996134), ('joke', -0.2754770835393087), ('bizarre', -0.2757521086743659), ('kerry', -0.2760603059028613), ('duke', -0.27650721246028515), ('released', -0.27654757493498133), ('approves', -0.27662646073087555), ('advance', -0.27710058815875316), ('finale', -0.27733160928675216), ('contract', -0.27746320821920684), ('yr', -0.27809497091508706), ('loans', -0.27817453048666296), ('corn', -0.2784160222779533), ('makers', -0.2786105936045564), ('retirement', -0.27864099776242784), ('miranda', -0.27873603793893215), ('urban', -0.2787753156923434), ('brands', -0.27953807624118593), ('shia', -0.27966031002261693), ('katie', -0.2797335496587231), ('club', -0.27976817165215706), ('patrick', -0.28017651643853353), ('sale', -0.2811353409714344), ('christina', -0.2812034638216866), ('files', -0.2813849496947729), ('traders', -0.2815812073328579), ('gala', -0.2818834844300485), ('travel', -0.28197951722703696), ('movies', -0.2825573756971146), ('andrew', -0.2834177954238721), ('study', -0.28390513057018224), ('economic', -0.2841742527799168), ('met', -0.28460678516348653), ('australia', -0.28559577434115474), ('mick', -0.2857713829478862), ('jackson', -0.2863301149910735), ('boys', -0.28711631783867847), ('taco', -0.28718271594921263), ('cause', -0.2885578932436172), ('adam', -0.28871715725651687), ('paltrow', -0.289151517468995), ('spears', -0.28929891294553195), ('libya', -0.2897199847298556), ('africa', -0.2900286375880528), ('taking', -0.2903835710632572), ('stewart', -0.29059268860146137), ('labeouf', -0.2908214324467927), ('divergent', -0.29131533750308786), ('facing', -0.2914435093554687), ('governor', -0.29175908436983106), ('joan', -0.2919397170657149), ('tribute', -0.29298651831616424), ('gwyneth', -0.2936580234168938), ('woman', -0.29394413305016565), ('bob', -0.2942717605354592), ('walk', -0.2942962563304204), ('flash', -0.2946756796102414), ('store', -0.2950592385902259), ('comic', -0.29563252872505186), ('band', -0.2958699961226616), ('are', -0.2958772175524656), ('bp', -0.29589769742302535), ('obesity', -0.29616473490090633), ('solange', -0.29624092239694166), ('lee', -0.2968042472606001), ('grains', -0.29681649427162743), ('supply', -0.2968565509055272), ('parts', -0.29689283877550865), ('star', -0.29691860551510996), ('aronofsky', -0.2970971869819079), ('efron', -0.29736082913557527), ('reunion', -0.2985210414210441), ('risk', -0.2988402552904842), ('high', -0.29885539920350873), ('zac', -0.2992787753354884), ('gun', -0.29932002638612765), ('man', -0.2995416665624474), ('wrapup', -0.2996766520630337), ('oprah', -0.2997614010427747), ('biopic', -0.2998329128056259), ('drops', -0.30000969768357666), ('bachelorette', -0.30017452840970343), ('holds', -0.3011897270856607), ('freddie', -0.3023942655090336), ('interest', -0.3024911999959493), ('carney', -0.303244572501439), ('marvel', -0.30335942093619245), ('posts', -0.30337757575292734), ('richard', -0.3036002235170366), ('lady', -0.3040175263808527), ('jr', -0.30441912264203125), ('block', -0.3044804547957457), ('gdp', -0.30452494695233323), ('letter', -0.30476101484056484), ('signs', -0.3050811493064384), ('stone', -0.30585501104343854), ('quit', -0.30625481536794347), ('wells', -0.30633005551865483), ('neighbors', -0.3064053488556848), ('perry', -0.3064832693256092), ('nuclear', -0.30671494093024876), ('walker', -0.30677414080754056), ('birthday', -0.3069794870451256), ('dicaprio', -0.30736592817369707), ('candy', -0.3079478245884414), ('rapper', -0.30796372251603504), ('depp', -0.3079864515165516), ('doctor', -0.30849891463241097), ('pharrell', -0.30896449887210437), ('shareholders', -0.30916741796174696), ('index', -0.3092484040955871), ('turnaround', -0.310179357946084), ('media', -0.3109734445939932), ('california', -0.31131807326951944), ('andi', -0.3114918978633699), ('not', -0.3121357039929564), ('tax', -0.3126590723661158), ('brent', -0.3128872543764506), ('late', -0.3135656704483199), ('wren', -0.3138961839622222), ('jones', -0.31484269238985324), ('scrutiny', -0.31502364503034386), ('breast', -0.3154315079959426), ('abbvie', -0.31571750125195985), ('giving', -0.3160333183463303), ('rolf', -0.31605175082075443), ('transcendence', -0.31633944949598347), ('louis', -0.3170488335527429), ('taylor', -0.31758492917923203), ('fx', -0.317849576913574), ('airline', -0.317971826322498), ('per', -0.31850706518084904), ('nick', -0.31857031018472975), ('declines', -0.31878915668165114), ('recap', -0.3189881297335046), ('market', -0.3190024012773412), ('cbs', -0.3203748512360252), ('futures', -0.32049811259918176), ('britney', -0.3210043235635921), ('sequel', -0.32101420335289377), ('buying', -0.3210698572586441), ('challenge', -0.32134293799183883), ('colbert', -0.32214459025091685), ('music', -0.32220240857895904), ('taxes', -0.3230452306581784), ('dispute', -0.32351236354701896), ('weekend', -0.3241568496290878), ('remains', -0.3241901153665619), ('father', -0.32419105361477163), ('chelsea', -0.3243684885012077), ('host', -0.3249089242671567), ('author', -0.3249675780965714), ('assets', -0.32499603580145847), ('captain', -0.32513230069349464), ('malaysian', -0.3251881609989662), ('entire', -0.32519357474459193), ('murder', -0.325400636543046), ('jenner', -0.32548612621069806), ('fitch', -0.32645561129873424), ('swift', -0.3270631666031147), ('celebrate', -0.3270893005664656), ('marries', -0.328207994278107), ('pulls', -0.3288214098320988), ('bachelor', -0.33032718987337356), ('pitt', -0.33037943121978613), ('after', -0.3306632486008328), ('banking', -0.33072231137380315), ('bell', -0.3319272734887596), ('gilead', -0.33211986931194426), ('illinois', -0.33324159914685414), ('press', -0.33343293046297995), ('spread', -0.33375373109827117), ('olivia', -0.3341325754985829), ('engagement', -0.3343302431470416), ('wars', -0.33555584505607255), ('surprise', -0.3357767051164266), ('ellen', -0.3359671737272952), ('meeting', -0.3362042138033278), ('godzilla', -0.33633430594618646), ('patients', -0.33636565590575623), ('paribas', -0.33667032673910574), ('raising', -0.33677614117195515), ('pictured', -0.33721916236852273), ('retail', -0.3389649470344526), ('guardians', -0.3391903274721101), ('sexual', -0.33977150371459836), ('members', -0.339822971027189), ('jenny', -0.3402639305900936), ('true', -0.3404685531471159), ('steady', -0.3412379065226597), ('voice', -0.3414698392044688), ('tom', -0.3416370321377846), ('age', -0.3416648182503308), ('argentine', -0.3418250994036821), ('wall', -0.34191995141154247), ('thicke', -0.34279695666713195), ('daughter', -0.34378847260444745), ('tobacco', -0.34387637912061925), ('stanley', -0.34398633336482315), ('export', -0.3441324471372899), ('coachella', -0.3444834033052605), ('nasdaq', -0.34480961480721184), ('hill', -0.34482844773253324), ('thomas', -0.34514555559858906), ('breaking', -0.34537243179669136), ('rolling', -0.34564135172671423), ('mad', -0.34661368236322226), ('highest', -0.346929141577812), ('surgery', -0.3470254233869961), ('boe', -0.34702862133112455), ('parents', -0.34738498407034046), ('sawyer', -0.3474197231414974), ('pays', -0.3479578719036429), ('healthcare', -0.3485565566704299), ('deadly', -0.34868869650101314), ('brown', -0.3494156771956067), ('valeant', -0.35023620426224367), ('highlights', -0.35112009863347804), ('abuse', -0.3513083572445267), ('siemens', -0.35145810404335714), ('bucket', -0.3521071245703006), ('least', -0.3526283974379784), ('rises', -0.35263356937082585), ('good', -0.3529435921922769), ('dancing', -0.35317283710517333), ('helped', -0.3531778613662437), ('fan', -0.35347525816322695), ('michele', -0.3535064219803135), ('orange', -0.3539601294572534), ('african', -0.354277122927693), ('mart', -0.35509621301292377), ('wal', -0.35509621301292377), ('assault', -0.3559992512237204), ('problems', -0.35618568049374216), ('coal', -0.3568036855823147), ('amazing', -0.3589111111822279), ('stable', -0.35913445398246646), ('cameron', -0.3596506536194991), ('boss', -0.3596808186940059), ('television', -0.36081561956708386), ('storage', -0.3610507582235004), ('public', -0.36109122770741625), ('card', -0.36113251623188275), ('drop', -0.36167909594770115), ('suicide', -0.3624029130498313), ('minister', -0.3628486542738537), ('teva', -0.36388143781533155), ('debut', -0.3645961387461357), ('jpmorgan', -0.36566746331728284), ('brad', -0.36589337230986185), ('fracking', -0.3668456266470263), ('vietnam', -0.36701903373144207), ('lea', -0.36713512133228904), ('johnny', -0.36777831423056956), ('weak', -0.3680050384591189), ('manager', -0.3683638611487005), ('joe', -0.36866992814717997), ('worker', -0.36938106261209214), ('bofa', -0.3693924208524777), ('leaving', -0.36997895799793795), ('mccarthy', -0.37034164753769216), ('winter', -0.37076169908283857), ('lunch', -0.3710182310199178), ('falls', -0.37147221789443685), ('spanish', -0.37198252693415496), ('surge', -0.37257701983701136), ('ann', -0.3726107151139725), ('emma', -0.37288321683336983), ('given', -0.37318943126411885), ('magazine', -0.37323921294358586), ('piketty', -0.37357388275986114), ('icahn', -0.37359834687937143), ('boeing', -0.3738433947693776), ('broadway', -0.37419540866509526), ('stage', -0.37506834948229867), ('sec', -0.3762537907913529), ('funding', -0.3763286223906819), ('scandal', -0.37652524507909685), ('picture', -0.37711798003251523), ('robert', -0.37792458815695396), ('labor', -0.37800383301811935), ('pound', -0.3784010020228024), ('record', -0.3798132532597837), ('would', -0.3801065705911462), ('fears', -0.38105586473624603), ('guinea', -0.3811604457875609), ('lawmakers', -0.3826672824632369), ('prince', -0.3828280603122691), ('citigroup', -0.3843250954720235), ('gibson', -0.3848341639153559), ('smith', -0.3850107228778153), ('campaign', -0.3851348465436079), ('fargo', -0.3859971003879897), ('lowest', -0.3869548057717504), ('financial', -0.3875558992495623), ('stores', -0.3880232121816085), ('urges', -0.3900028449586801), ('away', -0.3909927039572404), ('jack', -0.39133996496264173), ('rihanna', -0.3915576040178687), ('top', -0.39179476004308994), ('kristen', -0.3919341345416341), ('legal', -0.3922305844103763), ('clooney', -0.3934619168114445), ('spider', -0.3935566184149965), ('cast', -0.3945876156702544), ('de', -0.3949035519735673), ('nikkei', -0.39591257313996664), ('apparel', -0.3959369674485518), ('official', -0.39633127271714297), ('ackman', -0.3980825209509772), ('rights', -0.3998520648757068), ('eight', -0.4007848539354331), ('barclays', -0.40086726131915396), ('singer', -0.40103804208426497), ('st', -0.4015940916440031), ('love', -0.4017018816750156), ('jail', -0.402035507784106), ('allergic', -0.40467563582922356), ('abc', -0.40486864244174703), ('proposes', -0.4048732091823478), ('fat', -0.40804630370004685), ('housing', -0.40833181302603705), ('malaysia', -0.40972271742712946), ('russell', -0.4102518850401647), ('near', -0.41086384307488494), ('angelina', -0.4109318076879701), ('series', -0.41128112422060376), ('rally', -0.41203893038739536), ('imf', -0.4124548033217296), ('jolie', -0.41278393188938756), ('premiere', -0.41298511716955466), ('hong', -0.4132811203735312), ('kong', -0.4132811203735312), ('exports', -0.4145933887251442), ('records', -0.41475557768971844), ('longer', -0.41483189029691175), ('jobs', -0.4156588313839294), ('buffett', -0.41617682668223893), ('push', -0.4162905452847655), ('law', -0.41659324527685404), ('carpet', -0.4166236919813401), ('noah', -0.41718030589288335), ('divorce', -0.41721762392907), ('crude', -0.4173181029917768), ('lewis', -0.41757543703536376), ('wage', -0.4183139719996004), ('pregnancy', -0.41884370941092425), ('guilty', -0.41954393436611487), ('dress', -0.4212125325182074), ('hold', -0.4213878616700933), ('train', -0.4215241337097581), ('passengers', -0.42165373884250956), ('stake', -0.42180828068860676), ('does', -0.42195075268111226), ('mom', -0.4232626818187882), ('awards', -0.42328665115172426), ('ratings', -0.42475879346127055), ('award', -0.4250301074890898), ('boj', -0.4253637222077788), ('spin', -0.4259425445251746), ('forecasts', -0.4260216693467564), ('turkey', -0.4265434074704553), ('approval', -0.42659790388345653), ('allergan', -0.42768638427041494), ('help', -0.4278174052250178), ('restaurant', -0.42782193219362163), ('seth', -0.4298783189167881), ('fans', -0.4301427226805559), ('close', -0.4308572276373633), ('for', -0.4329682846242343), ('cannes', -0.43340321612514043), ('sanctions', -0.43357432543782254), ('investment', -0.4338727268515279), ('brings', -0.43418352967841456), ('cent', -0.4344020311493382), ('disease', -0.4373328632127889), ('factors', -0.43736821300420264), ('alzheimer', -0.4381642846939958), ('kanye', -0.43817214288238826), ('expectations', -0.4384272691875397), ('break', -0.43878187323970613), ('comments', -0.43881943126482403), ('options', -0.43912194840508145), ('kate', -0.4394232697183283), ('tony', -0.4394648866859621), ('surges', -0.44048724609647855), ('school', -0.4407875277308581), ('money', -0.44130363621725227), ('products', -0.4413349253017897), ('stay', -0.4417345166512622), ('gomez', -0.4420191768950094), ('forex', -0.44414759651357927), ('without', -0.44477831347254815), ('chart', -0.4464881246134222), ('manufacturing', -0.4465539571694191), ('selena', -0.4474506431072977), ('abramson', -0.44755633496045943), ('warn', -0.4483647030190282), ('michelle', -0.44854263880982914), ('dangerous', -0.44940291919042086), ('williams', -0.4497308762733241), ('story', -0.4501646617574018), ('case', -0.45052549715724893), ('festival', -0.4514118328319461), ('martin', -0.4527805714934784), ('johnson', -0.45565473378707244), ('lohan', -0.4563576110899964), ('banks', -0.45691937105698777), ('was', -0.4600829309194171), ('girls', -0.460684200651309), ('credit', -0.46160829913850593), ('critics', -0.46246270543076184), ('becomes', -0.46373396789209964), ('album', -0.46412098620939857), ('hotel', -0.46451378423004736), ('going', -0.464604890028228), ('lindsay', -0.46581989070654417), ('around', -0.46619161239711693), ('jessica', -0.4674755464874744), ('bonds', -0.4686883809361111), ('months', -0.4695567906121205), ('raise', -0.4698060456334643), ('doctors', -0.47068317793349074), ('stem', -0.4710277247029083), ('veronica', -0.4738138001348306), ('tour', -0.47419679089686145), ('company', -0.4753481544663525), ('fight', -0.4763118237726654), ('link', -0.47733559507667994), ('foods', -0.47848862670001446), ('is', -0.4787106393745599), ('board', -0.47947176605934844), ('move', -0.4797076095276537), ('diabetes', -0.4808910364560885), ('death', -0.48143773869046713), ('best', -0.481948413860848), ('jump', -0.4833706537573415), ('uk', -0.4834260372621491), ('crash', -0.4850772775716561), ('mortgage', -0.48849483925276316), ('office', -0.4889725529903608), ('police', -0.48996487214858636), ('draghi', -0.49034730365367696), ('cigarettes', -0.49130555161056594), ('low', -0.4917820011057313), ('medtronic', -0.4930709244077433), ('prevent', -0.49527863492174595), ('capital', -0.49795225307020247), ('ny', -0.4981322358231186), ('battle', -0.498845187535586), ('justin', -0.501050232861662), ('increase', -0.5010809904359469), ('medical', -0.5011882332714803), ('david', -0.5022892266725217), ('mh0', -0.5051946883926257), ('astrazeneca', -0.5070289589502864), ('controversial', -0.5077048973051067), ('outbreak', -0.508664909009545), ('alcohol', -0.5103882780962422), ('bieber', -0.5112942675781699), ('last', -0.5140227924387754), ('lives', -0.5147659982641974), ('but', -0.5151251781363045), ('oil', -0.5168688945696609), ('cancels', -0.5187233175094692), ('south', -0.5190361218213718), ('asia', -0.5196586571725984), ('herbalife', -0.5205251507095163), ('cases', -0.521102230074305), ('bond', -0.5215895344004513), ('quarter', -0.5219865340274545), ('hepatitis', -0.5241169525606236), ('talks', -0.5256013185644971), ('oscar', -0.5270782718713629), ('people', -0.5282033528345663), ('him', -0.5293183838341402), ('harris', -0.5337222316783438), ('medicare', -0.5340281537777297), ('final', -0.5346765887038197), ('pregnant', -0.5349932960485402), ('concerns', -0.5369511423763665), ('transformers', -0.5375177397530839), ('german', -0.5393761112740039), ('comes', -0.5430793572776672), ('alstom', -0.5455532218212736), ('gain', -0.5485467566497552), ('sex', -0.5491496435129255), ('healthy', -0.5500397655483642), ('grow', -0.5503094916635723), ('join', -0.5504532274934781), ('beef', -0.5513112463970244), ('business', -0.5528159199096738), ('morgan', -0.5529807264009431), ('pay', -0.5584926719827822), ('amid', -0.5627265655693062), ('rising', -0.5632573374674932), ('children', -0.5638254819470702), ('as', -0.5663019500442624), ('face', -0.5663648211059087), ('mcdonald', -0.5668723176574796), ('marijuana', -0.5676651254188776), ('workers', -0.569853452548849), ('tops', -0.5707916526647551), ('jennifer', -0.574934747867186), ('unit', -0.5777305775595285), ('better', -0.5779557568152488), ('body', -0.5791096661744385), ('robin', -0.5814360410380686), ('food', -0.5814745379959729), ('james', -0.5871928803928519), ('cyrus', -0.5889453218004932), ('cdc', -0.5890120211579866), ('harrison', -0.5895142854202485), ('trading', -0.5899753791116605), ('higher', -0.5904001813280658), ('she', -0.5940970154537413), ('role', -0.5950744601356619), ('two', -0.5971397271035799), ('beyonce', -0.5973963547957776), ('america', -0.599476476489184), ('do', -0.6023462211901318), ('weather', -0.6035118468305714), ('lower', -0.6047840097722305), ('french', -0.6064776994323304), ('stars', -0.6066772734573539), ('argentina', -0.6073960951254341), ('gains', -0.6082100953030316), ('director', -0.6083996215136358), ('paul', -0.608894676247082), ('state', -0.6090950990181512), ('dark', -0.6127484940836936), ('hbo', -0.6180921896908034), ('drugs', -0.6195167645884404), ('jumps', -0.6208061838530713), ('treatment', -0.6247198743070311), ('miley', -0.6280150865902979), ('hospital', -0.6284065600404671), ('debt', -0.6294461090164535), ('other', -0.6351281282133144), ('heart', -0.6372399563725596), ('dawn', -0.6378608207335792), ('disney', -0.6401743081582797), ('0s', -0.6429036809337711), ('jay', -0.6458752898536789), ('being', -0.6515132594110477), ('gold', -0.6524818785172082), ('airlines', -0.6589181223936376), ('rates', -0.6599628044365141), ('mers', -0.6678196107437275), ('wedding', -0.6735753036041235), ('street', -0.6762548188248005), ('west', -0.677829946738915), ('pct', -0.6780891013750936), ('plane', -0.678937109796303), ('kim', -0.6834302535778424), ('bnp', -0.6839370303927919), ('george', -0.6850670024876951), ('bank', -0.6922138145455922), ('he', -0.6967177617689263), ('rate', -0.704452755693518), ('detroit', -0.705520385154963), ('second', -0.7059644517538008), ('pfizer', -0.7096910083201755), ('michael', -0.7127362925382177), ('cigarette', -0.7154627144832034), ('dies', -0.7202737039145715), ('yellen', -0.7273314723871926), ('health', -0.7295094595012146), ('chris', -0.7370771406911837), ('trailer', -0.7370975497229926), ('should', -0.7377066157405775), ('young', -0.7424679461024116), ('season', -0.7536436445461626), ('wants', -0.7660978098346336), ('obamacare', -0.768620839420196), ('kids', -0.7776095723321278), ('fox', -0.7863099523159388), ('york', -0.7968729056605), ('fda', -0.7971593837603898), ('dollar', -0.806248004433042), ('women', -0.8109873979837007), ('home', -0.8111172920603016), ('movie', -0.8211617558715869), ('film', -0.8238036851670499), ('kardashian', -0.8297122421820202), ('ebola', -0.8355423637884712), ('euro', -0.8418655400095797), ('india', -0.8522109898731279), ('target', -0.8544555105933743), ('cut', -0.8717005836348269), ('his', -0.9245901153522135), ('ecb', -0.9400490942422454), ('before', -0.9433147753247454), ('grows', -0.9437642545346256), ('still', -0.9549380653521449), ('day', -0.9582724456072508), ('men', -0.9632122857650797), ('shares', -0.968583015416626), ('thrones', -0.9904311785330411), ('cancer', -1.0085201994328457), ('ukraine', -1.0462074251941411), ('american', -1.0925456985904785), ('drug', -1.109785621620688), ('percent', -1.1765929599819427), ('fed', -1.2008036015113712), ('her', -1.208917103701469), ('stocks', -1.5009924787313282)]\n",
            "\n"
          ],
          "name": "stdout"
        }
      ]
    },
    {
      "cell_type": "markdown",
      "metadata": {
        "id": "TDGkKQupt5TM"
      },
      "source": [
        "##58. 正則化パラメータの変更\n",
        "\n",
        "ロジスティック回帰モデルを学習するとき，正則化パラメータを調整することで，学習時の過学習（overfitting）の度合いを制御できる．異なる正則化パラメータでロジスティック回帰モデルを学習し，学習データ，検証データ，および評価データ上の正解率を求めよ．実験の結果は，正則化パラメータを横軸，正解率を縦軸としたグラフにまとめよ．"
      ]
    },
    {
      "cell_type": "markdown",
      "metadata": {
        "id": "CoIlFOQTw3WE"
      },
      "source": [
        "[tips]  \n",
        "tqdmを使うとプログレスバーが進捗が表示されて便利。tqdmにはイテラブルオブジェクトなら何でも渡せる。"
      ]
    },
    {
      "cell_type": "code",
      "metadata": {
        "colab": {
          "base_uri": "https://localhost:8080/"
        },
        "id": "TEwfjlDTvKQv",
        "outputId": "34cd6de5-4582-4782-a4e0-eb33bc911d9c"
      },
      "source": [
        "from tqdm import tqdm \n",
        "import time\n",
        "for _ in tqdm(range(50)):\n",
        "  time.sleep(0.1)"
      ],
      "execution_count": null,
      "outputs": [
        {
          "output_type": "stream",
          "text": [
            "100%|██████████| 50/50 [00:05<00:00,  9.86it/s]\n"
          ],
          "name": "stderr"
        }
      ]
    },
    {
      "cell_type": "markdown",
      "metadata": {
        "id": "y39YSRxe2FYx"
      },
      "source": [
        "正則化とは？\n",
        ">統計および機械学習において、正則化はモデルのパラメータの学習に使われ、特に過学習を防ぎ、汎化能力を高めるために使われる。\n",
        "\n",
        "今回はsklearn.LogisticRegressionのパラメータCを調節して、正則化の強さをいじる。  \n",
        "正則化の強さを変化させるとどう影響する？  \n",
        "この問いについて以下サイトから引用[(パラメーター C　ロジスティック回帰のハイパーパラメーター)](http://harmonizedai.com/article/パラメーター-c%E3%80%80ロジスティック回帰のハイパーパ/)\n",
        "\n",
        "\n",
        "> ロジスティック回帰にはCというパラメーターが存在します。  \n",
        "このCはモデルが学習する識別境界線が教師データの分類間違いに対してどのくらい厳しくするのかという指標になります。   \n",
        "\n",
        "> Cの値が大きいほどモデルは教師データを完全に分類できるような識別線を学習するようになります。\n",
        "しかし教師データに対して過剰なほどの学習を行うために過学習に陥り、訓練データ以外のデータに予測を行うと正解率が下がる場合が多くなります。  \n",
        "\n",
        ">Cの値を小さくすると教師データの分類の誤りに寛容になります。  \n",
        "分類間違いを許容することで外れ値データに境界線が左右されにくくなりより一般化された境界線を得やすくなります。  \n",
        "\n",
        ">ただし、外れ値の少ないデータでは境界線がうまく識別できていないものになってしまう場合もあります。  \n",
        "また、極端に小さくてもうまく境界線が識別できません。  \n",
        "scikit-learnのロジスティック回帰モデルのCの初期値は1.0です。\n",
        "\n",
        "\n",
        "つまり、正則化の強さを変化させて、ある程度正答率を保ったまま、過学習を防ぐことが重要である。   \n",
        "ここで、「正則化が弱い」＝「Cが大きい」＝「誤りに厳しい」であり、   \n",
        "「正則化が強い」＝「Cが小さい」＝「誤りに寛容」である。勘違い注意。\n"
      ]
    },
    {
      "cell_type": "code",
      "metadata": {
        "colab": {
          "base_uri": "https://localhost:8080/"
        },
        "id": "uTCXbn2ZwtS6",
        "outputId": "9ab1ff94-cfda-49a6-911b-942903c66a8c"
      },
      "source": [
        "result_58 = []\n",
        "for C in tqdm(np.logspace(-6, 4 ,11, base=10)):\n",
        "  lr = LogisticRegression(random_state=123, max_iter=1000 , C=C)\n",
        "  lr.fit(X_train, train['CATEGORY'])\n",
        "\n",
        "  train_pred = lr.predict(X_train)\n",
        "  valid_pred = lr.predict(X_valid)\n",
        "  test_pred = lr.predict(X_test)\n",
        "\n",
        "  train_accuracy = accuracy_score(train['CATEGORY'], train_pred)\n",
        "  valid_accuracy = accuracy_score(valid['CATEGORY'], valid_pred)\n",
        "  test_accuracy = accuracy_score(test['CATEGORY'], test_pred)\n",
        "\n",
        "  result_58.append([C, train_accuracy, valid_accuracy, test_accuracy])"
      ],
      "execution_count": null,
      "outputs": [
        {
          "output_type": "stream",
          "text": [
            " 91%|█████████ | 10/11 [04:27<01:01, 61.20s/it]/usr/local/lib/python3.6/dist-packages/sklearn/linear_model/_logistic.py:940: ConvergenceWarning: lbfgs failed to converge (status=1):\n",
            "STOP: TOTAL NO. of ITERATIONS REACHED LIMIT.\n",
            "\n",
            "Increase the number of iterations (max_iter) or scale the data as shown in:\n",
            "    https://scikit-learn.org/stable/modules/preprocessing.html\n",
            "Please also refer to the documentation for alternative solver options:\n",
            "    https://scikit-learn.org/stable/modules/linear_model.html#logistic-regression\n",
            "  extra_warning_msg=_LOGISTIC_SOLVER_CONVERGENCE_MSG)\n",
            "100%|██████████| 11/11 [06:47<00:00, 37.00s/it]\n"
          ],
          "name": "stderr"
        }
      ]
    },
    {
      "cell_type": "code",
      "metadata": {
        "id": "7W6EFTT7Js9x"
      },
      "source": [
        "df_58 = pd.DataFrame(result_58, columns=['C', 'train_accuracy', 'valid_accuracy', 'test_accuracy'])"
      ],
      "execution_count": null,
      "outputs": []
    },
    {
      "cell_type": "code",
      "metadata": {
        "colab": {
          "base_uri": "https://localhost:8080/",
          "height": 283
        },
        "id": "I0lF7V1088T3",
        "outputId": "24d2a995-bf06-452b-ca66-f7aaadacc609"
      },
      "source": [
        "plt.plot(df_58['C'], df_58['train_accuracy'], label='train')\n",
        "plt.plot(df_58['C'], df_58['valid_accuracy'], label='valid')\n",
        "plt.plot(df_58['C'], df_58['test_accuracy'], label='test')\n",
        "plt.xscale('log')\n",
        "plt.ylim(0,1.1)\n",
        "plt.xlabel('C')\n",
        "plt.ylabel('Accuracy')\n",
        "plt.legend()\n",
        "plt.show()"
      ],
      "execution_count": null,
      "outputs": [
        {
          "output_type": "display_data",
          "data": {
            "image/png": "[encoded data removed]",
            "text/plain": [
              "<Figure size 432x288 with 1 Axes>"
            ]
          },
          "metadata": {
            "tags": [],
            "needs_background": "light"
          }
        }
      ]
    },
    {
      "cell_type": "markdown",
      "metadata": {
        "id": "7kOaEobFL9D-"
      },
      "source": [
        "Cが大きくなると、過学習が防げずにvalid,testの正答率が減少しているのが確認できる。"
      ]
    },
    {
      "cell_type": "code",
      "metadata": {
        "colab": {
          "base_uri": "https://localhost:8080/",
          "height": 390
        },
        "id": "vOCHodg2MXia",
        "outputId": "f2bef004-b902-48b7-a201-7dbd55b6f5ca"
      },
      "source": [
        "df_58"
      ],
      "execution_count": null,
      "outputs": [
        {
          "output_type": "execute_result",
          "data": {
            "text/html": [
              "<div>\n",
              "<style scoped>\n",
              "    .dataframe tbody tr th:only-of-type {\n",
              "        vertical-align: middle;\n",
              "    }\n",
              "\n",
              "    .dataframe tbody tr th {\n",
              "        vertical-align: top;\n",
              "    }\n",
              "\n",
              "    .dataframe thead th {\n",
              "        text-align: right;\n",
              "    }\n",
              "</style>\n",
              "<table border=\"1\" class=\"dataframe\">\n",
              "  <thead>\n",
              "    <tr style=\"text-align: right;\">\n",
              "      <th></th>\n",
              "      <th>C</th>\n",
              "      <th>train_accuracy</th>\n",
              "      <th>valid_accuracy</th>\n",
              "      <th>test_accuracy</th>\n",
              "    </tr>\n",
              "  </thead>\n",
              "  <tbody>\n",
              "    <tr>\n",
              "      <th>0</th>\n",
              "      <td>0.000001</td>\n",
              "      <td>0.421284</td>\n",
              "      <td>0.421407</td>\n",
              "      <td>0.421407</td>\n",
              "    </tr>\n",
              "    <tr>\n",
              "      <th>1</th>\n",
              "      <td>0.000010</td>\n",
              "      <td>0.421284</td>\n",
              "      <td>0.421407</td>\n",
              "      <td>0.421407</td>\n",
              "    </tr>\n",
              "    <tr>\n",
              "      <th>2</th>\n",
              "      <td>0.000100</td>\n",
              "      <td>0.421284</td>\n",
              "      <td>0.421407</td>\n",
              "      <td>0.421407</td>\n",
              "    </tr>\n",
              "    <tr>\n",
              "      <th>3</th>\n",
              "      <td>0.001000</td>\n",
              "      <td>0.492044</td>\n",
              "      <td>0.483533</td>\n",
              "      <td>0.496257</td>\n",
              "    </tr>\n",
              "    <tr>\n",
              "      <th>4</th>\n",
              "      <td>0.010000</td>\n",
              "      <td>0.760857</td>\n",
              "      <td>0.756737</td>\n",
              "      <td>0.756737</td>\n",
              "    </tr>\n",
              "    <tr>\n",
              "      <th>5</th>\n",
              "      <td>0.100000</td>\n",
              "      <td>0.805972</td>\n",
              "      <td>0.797156</td>\n",
              "      <td>0.798653</td>\n",
              "    </tr>\n",
              "    <tr>\n",
              "      <th>6</th>\n",
              "      <td>1.000000</td>\n",
              "      <td>0.923905</td>\n",
              "      <td>0.883234</td>\n",
              "      <td>0.882485</td>\n",
              "    </tr>\n",
              "    <tr>\n",
              "      <th>7</th>\n",
              "      <td>10.000000</td>\n",
              "      <td>0.973325</td>\n",
              "      <td>0.887725</td>\n",
              "      <td>0.885479</td>\n",
              "    </tr>\n",
              "    <tr>\n",
              "      <th>8</th>\n",
              "      <td>100.000000</td>\n",
              "      <td>0.993542</td>\n",
              "      <td>0.857036</td>\n",
              "      <td>0.870509</td>\n",
              "    </tr>\n",
              "    <tr>\n",
              "      <th>9</th>\n",
              "      <td>1000.000000</td>\n",
              "      <td>0.997754</td>\n",
              "      <td>0.840569</td>\n",
              "      <td>0.851048</td>\n",
              "    </tr>\n",
              "    <tr>\n",
              "      <th>10</th>\n",
              "      <td>10000.000000</td>\n",
              "      <td>0.998502</td>\n",
              "      <td>0.830838</td>\n",
              "      <td>0.834581</td>\n",
              "    </tr>\n",
              "  </tbody>\n",
              "</table>\n",
              "</div>"
            ],
            "text/plain": [
              "               C  train_accuracy  valid_accuracy  test_accuracy\n",
              "0       0.000001        0.421284        0.421407       0.421407\n",
              "1       0.000010        0.421284        0.421407       0.421407\n",
              "2       0.000100        0.421284        0.421407       0.421407\n",
              "3       0.001000        0.492044        0.483533       0.496257\n",
              "4       0.010000        0.760857        0.756737       0.756737\n",
              "5       0.100000        0.805972        0.797156       0.798653\n",
              "6       1.000000        0.923905        0.883234       0.882485\n",
              "7      10.000000        0.973325        0.887725       0.885479\n",
              "8     100.000000        0.993542        0.857036       0.870509\n",
              "9    1000.000000        0.997754        0.840569       0.851048\n",
              "10  10000.000000        0.998502        0.830838       0.834581"
            ]
          },
          "metadata": {
            "tags": []
          },
          "execution_count": 36
        }
      ]
    },
    {
      "cell_type": "code",
      "metadata": {
        "colab": {
          "base_uri": "https://localhost:8080/"
        },
        "id": "Asg2FTnuNEAR",
        "outputId": "dc63f1c6-abbd-4a1c-eeae-f831228e7ced"
      },
      "source": [
        "df_58['C'][df_58['test_accuracy'].idxmax()]"
      ],
      "execution_count": null,
      "outputs": [
        {
          "output_type": "execute_result",
          "data": {
            "text/plain": [
              "10.0"
            ]
          },
          "metadata": {
            "tags": []
          },
          "execution_count": 37
        }
      ]
    },
    {
      "cell_type": "markdown",
      "metadata": {
        "id": "z5ae43VXNZM2"
      },
      "source": [
        "C=10のときが最もテストデータでは高い正答率であった。"
      ]
    },
    {
      "cell_type": "markdown",
      "metadata": {
        "id": "g63_5eGbIOFe"
      },
      "source": [
        "##59. ハイパーパラメータの探索\n",
        "\n",
        "学習アルゴリズムや学習パラメータを変えながら，カテゴリ分類モデルを学習せよ．検証データ上の正解率が最も高くなる学習アルゴリズム・パラメータを求めよ．また，その学習アルゴリズム・パラメータを用いたときの評価データ上の正解率を求めよ．"
      ]
    },
    {
      "cell_type": "markdown",
      "metadata": {
        "id": "K4l-PjckTnY6"
      },
      "source": [
        "sklearn.LogisticRegressionのハイパーパラメータを以下にまとめる。  \n",
        "参考：[ロジスティック回帰(分類)とハイパーパラメータのチューニング](https://qiita.com/FujiedaTaro/items/5784eda386146f1fd6e7)  \n",
        "\n",
        "|ハイパーパラメータ|説明|選択肢|default|\n",
        "|:---|:---|:---|:---|\n",
        "|penalty|正規化の仕方を決めるパラメータ。[L1,L2の違いについて](https://panda-clip.com/param-c-logreg/)|l1,l2,elasticnet|l2|\n",
        "|dual|双対問題を解くか主問題を解くかの指定|bool型|False|\n",
        "|tol|計算を停止するための基準．小さいと探索時間がかかる．|float型|0.0001|\n",
        "|C|正規化の強度|float型|1|\n",
        "|fit_intercept|バイアス項を最適化しない場合，False を指定|bool型|True|\n",
        "|intercept_scaling|インプットベクトルの要素に intercept_scaling で指定した値が追加される．<br>このときのバイアス項は intercept_scaling * synthetic_feature_weight で計算される値となる．|float型|1|\n",
        "|class_weight|クラスの重み|辞書型、balanced|1(全クラス)|\n",
        "|random_state|乱数のシード値|int型|None|\n",
        "|solver|最適パラメータ探索アルゴリズム|newton-cg、lbfgs、liblinear、sag、saga|liblinear|\n",
        "|max_iter|最適解探索の際の最大探索回数を指定|int型|100|\n",
        "|multi_class|多クラスを分類する場合において，あるインスタンスを対象のクラスにいれるか,<br>それ以外に入れるか (one-versus-rest, ovr) という二値分類の拡張か，多クラス分類をするかの指定|ovr、multinomial、auto|ovr|\n",
        "|verbose|モデル構築の過程のメッセージを出すかどうか|int型|0|\n",
        "|warm_start|Trueにすると再学習時にモデルを初期化しない|bool型|False|\n",
        "|n_jobs|フィットおよび予測の際に用いるスレッドの数を指定|int型、None|None|\n",
        "|l1_ratio|L1正規化とL2正規化のバランス|float、None|None|"
      ]
    },
    {
      "cell_type": "markdown",
      "metadata": {
        "id": "My54pfKd3GWM"
      },
      "source": [
        "今回は機械学習モデルのハイパーパラメーターの最適化の為に作られたベイズ最適化packageである[Optuna](https://tech.preferred.jp/ja/blog/optuna-release/)を使用する。"
      ]
    },
    {
      "cell_type": "code",
      "metadata": {
        "id": "OI8XZ_8EIA7Y"
      },
      "source": [
        "!pip install optuna"
      ],
      "execution_count": null,
      "outputs": []
    },
    {
      "cell_type": "code",
      "metadata": {
        "id": "U7WM04YATDI2"
      },
      "source": [
        "import optuna"
      ],
      "execution_count": null,
      "outputs": []
    },
    {
      "cell_type": "markdown",
      "metadata": {
        "id": "Fvytt17F5aNm"
      },
      "source": [
        "問58では、10の累乗刻みの場合C=10のときが最も正答率が高かった。  \n",
        "問59では、累乗刻みでなく実際の値を求める。"
      ]
    },
    {
      "cell_type": "code",
      "metadata": {
        "id": "CeNahv4D1Lbo"
      },
      "source": [
        "def objective_lr(trial):\n",
        "  C = trial.suggest_uniform('C', 1e-4, 1e4)\n",
        "  lr = LogisticRegression(random_state=123, max_iter=1000 , C=C)\n",
        "  lr.fit(X_train, train['CATEGORY'])\n",
        "  valid_pred = lr.predict(X_valid)\n",
        "  valid_accuracy = accuracy_score(valid['CATEGORY'], valid_pred)\n",
        "  return valid_accuracy"
      ],
      "execution_count": null,
      "outputs": []
    },
    {
      "cell_type": "code",
      "metadata": {
        "colab": {
          "base_uri": "https://localhost:8080/"
        },
        "id": "7IcMWLMcAdOP",
        "outputId": "b78b0c92-d86f-44f2-f215-7b2c45f14751"
      },
      "source": [
        "study = optuna.create_study(direction='maximize')\n",
        "study.optimize(objective_lr, timeout=3600)"
      ],
      "execution_count": null,
      "outputs": [
        {
          "output_type": "stream",
          "text": [
            "\u001b[32m[I 2021-01-26 07:48:40,385]\u001b[0m A new study created in memory with name: no-name-28427007-60b0-4256-ab0a-b0c472cf983f\u001b[0m\n",
            "\u001b[32m[I 2021-01-26 07:50:25,976]\u001b[0m Trial 0 finished with value: 0.844311377245509 and parameters: {'C': 390.8936572657477}. Best is trial 0 with value: 0.844311377245509.\u001b[0m\n",
            "/usr/local/lib/python3.6/dist-packages/sklearn/linear_model/_logistic.py:940: ConvergenceWarning:\n",
            "\n",
            "lbfgs failed to converge (status=1):\n",
            "STOP: TOTAL NO. of ITERATIONS REACHED LIMIT.\n",
            "\n",
            "Increase the number of iterations (max_iter) or scale the data as shown in:\n",
            "    https://scikit-learn.org/stable/modules/preprocessing.html\n",
            "Please also refer to the documentation for alternative solver options:\n",
            "    https://scikit-learn.org/stable/modules/linear_model.html#logistic-regression\n",
            "\n",
            "\u001b[32m[I 2021-01-26 07:52:46,251]\u001b[0m Trial 1 finished with value: 0.8360778443113772 and parameters: {'C': 3720.4553298271935}. Best is trial 0 with value: 0.844311377245509.\u001b[0m\n",
            "/usr/local/lib/python3.6/dist-packages/sklearn/linear_model/_logistic.py:940: ConvergenceWarning:\n",
            "\n",
            "lbfgs failed to converge (status=1):\n",
            "STOP: TOTAL NO. of ITERATIONS REACHED LIMIT.\n",
            "\n",
            "Increase the number of iterations (max_iter) or scale the data as shown in:\n",
            "    https://scikit-learn.org/stable/modules/preprocessing.html\n",
            "Please also refer to the documentation for alternative solver options:\n",
            "    https://scikit-learn.org/stable/modules/linear_model.html#logistic-regression\n",
            "\n",
            "\u001b[32m[I 2021-01-26 07:55:07,183]\u001b[0m Trial 2 finished with value: 0.8308383233532934 and parameters: {'C': 8326.917110787212}. Best is trial 0 with value: 0.844311377245509.\u001b[0m\n",
            "/usr/local/lib/python3.6/dist-packages/sklearn/linear_model/_logistic.py:940: ConvergenceWarning:\n",
            "\n",
            "lbfgs failed to converge (status=1):\n",
            "STOP: TOTAL NO. of ITERATIONS REACHED LIMIT.\n",
            "\n",
            "Increase the number of iterations (max_iter) or scale the data as shown in:\n",
            "    https://scikit-learn.org/stable/modules/preprocessing.html\n",
            "Please also refer to the documentation for alternative solver options:\n",
            "    https://scikit-learn.org/stable/modules/linear_model.html#logistic-regression\n",
            "\n",
            "\u001b[32m[I 2021-01-26 07:57:28,605]\u001b[0m Trial 3 finished with value: 0.8308383233532934 and parameters: {'C': 7694.285821609839}. Best is trial 0 with value: 0.844311377245509.\u001b[0m\n",
            "/usr/local/lib/python3.6/dist-packages/sklearn/linear_model/_logistic.py:940: ConvergenceWarning:\n",
            "\n",
            "lbfgs failed to converge (status=1):\n",
            "STOP: TOTAL NO. of ITERATIONS REACHED LIMIT.\n",
            "\n",
            "Increase the number of iterations (max_iter) or scale the data as shown in:\n",
            "    https://scikit-learn.org/stable/modules/preprocessing.html\n",
            "Please also refer to the documentation for alternative solver options:\n",
            "    https://scikit-learn.org/stable/modules/linear_model.html#logistic-regression\n",
            "\n",
            "\u001b[32m[I 2021-01-26 07:59:48,468]\u001b[0m Trial 4 finished with value: 0.8353293413173652 and parameters: {'C': 2170.672191983994}. Best is trial 0 with value: 0.844311377245509.\u001b[0m\n",
            "/usr/local/lib/python3.6/dist-packages/sklearn/linear_model/_logistic.py:940: ConvergenceWarning:\n",
            "\n",
            "lbfgs failed to converge (status=1):\n",
            "STOP: TOTAL NO. of ITERATIONS REACHED LIMIT.\n",
            "\n",
            "Increase the number of iterations (max_iter) or scale the data as shown in:\n",
            "    https://scikit-learn.org/stable/modules/preprocessing.html\n",
            "Please also refer to the documentation for alternative solver options:\n",
            "    https://scikit-learn.org/stable/modules/linear_model.html#logistic-regression\n",
            "\n",
            "\u001b[32m[I 2021-01-26 08:02:06,505]\u001b[0m Trial 5 finished with value: 0.8308383233532934 and parameters: {'C': 6514.945714642219}. Best is trial 0 with value: 0.844311377245509.\u001b[0m\n",
            "/usr/local/lib/python3.6/dist-packages/sklearn/linear_model/_logistic.py:940: ConvergenceWarning:\n",
            "\n",
            "lbfgs failed to converge (status=1):\n",
            "STOP: TOTAL NO. of ITERATIONS REACHED LIMIT.\n",
            "\n",
            "Increase the number of iterations (max_iter) or scale the data as shown in:\n",
            "    https://scikit-learn.org/stable/modules/preprocessing.html\n",
            "Please also refer to the documentation for alternative solver options:\n",
            "    https://scikit-learn.org/stable/modules/linear_model.html#logistic-regression\n",
            "\n",
            "\u001b[32m[I 2021-01-26 08:04:26,922]\u001b[0m Trial 6 finished with value: 0.8345808383233533 and parameters: {'C': 4369.3933989576135}. Best is trial 0 with value: 0.844311377245509.\u001b[0m\n",
            "/usr/local/lib/python3.6/dist-packages/sklearn/linear_model/_logistic.py:940: ConvergenceWarning:\n",
            "\n",
            "lbfgs failed to converge (status=1):\n",
            "STOP: TOTAL NO. of ITERATIONS REACHED LIMIT.\n",
            "\n",
            "Increase the number of iterations (max_iter) or scale the data as shown in:\n",
            "    https://scikit-learn.org/stable/modules/preprocessing.html\n",
            "Please also refer to the documentation for alternative solver options:\n",
            "    https://scikit-learn.org/stable/modules/linear_model.html#logistic-regression\n",
            "\n",
            "\u001b[32m[I 2021-01-26 08:06:45,958]\u001b[0m Trial 7 finished with value: 0.8308383233532934 and parameters: {'C': 6804.137943237066}. Best is trial 0 with value: 0.844311377245509.\u001b[0m\n",
            "/usr/local/lib/python3.6/dist-packages/sklearn/linear_model/_logistic.py:940: ConvergenceWarning:\n",
            "\n",
            "lbfgs failed to converge (status=1):\n",
            "STOP: TOTAL NO. of ITERATIONS REACHED LIMIT.\n",
            "\n",
            "Increase the number of iterations (max_iter) or scale the data as shown in:\n",
            "    https://scikit-learn.org/stable/modules/preprocessing.html\n",
            "Please also refer to the documentation for alternative solver options:\n",
            "    https://scikit-learn.org/stable/modules/linear_model.html#logistic-regression\n",
            "\n",
            "\u001b[32m[I 2021-01-26 08:09:03,882]\u001b[0m Trial 8 finished with value: 0.8360778443113772 and parameters: {'C': 1690.1878442732361}. Best is trial 0 with value: 0.844311377245509.\u001b[0m\n",
            "/usr/local/lib/python3.6/dist-packages/sklearn/linear_model/_logistic.py:940: ConvergenceWarning:\n",
            "\n",
            "lbfgs failed to converge (status=1):\n",
            "STOP: TOTAL NO. of ITERATIONS REACHED LIMIT.\n",
            "\n",
            "Increase the number of iterations (max_iter) or scale the data as shown in:\n",
            "    https://scikit-learn.org/stable/modules/preprocessing.html\n",
            "Please also refer to the documentation for alternative solver options:\n",
            "    https://scikit-learn.org/stable/modules/linear_model.html#logistic-regression\n",
            "\n",
            "\u001b[32m[I 2021-01-26 08:11:23,911]\u001b[0m Trial 9 finished with value: 0.8308383233532934 and parameters: {'C': 7445.593849402578}. Best is trial 0 with value: 0.844311377245509.\u001b[0m\n",
            "\u001b[32m[I 2021-01-26 08:12:51,198]\u001b[0m Trial 10 finished with value: 0.8495508982035929 and parameters: {'C': 222.55438785450283}. Best is trial 10 with value: 0.8495508982035929.\u001b[0m\n",
            "\u001b[32m[I 2021-01-26 08:14:02,032]\u001b[0m Trial 11 finished with value: 0.8562874251497006 and parameters: {'C': 104.73970808833782}. Best is trial 11 with value: 0.8562874251497006.\u001b[0m\n",
            "\u001b[32m[I 2021-01-26 08:15:33,046]\u001b[0m Trial 12 finished with value: 0.8488023952095808 and parameters: {'C': 239.42883926475054}. Best is trial 11 with value: 0.8562874251497006.\u001b[0m\n",
            "\u001b[32m[I 2021-01-26 08:16:14,648]\u001b[0m Trial 13 finished with value: 0.8847305389221557 and parameters: {'C': 19.611762108647298}. Best is trial 13 with value: 0.8847305389221557.\u001b[0m\n",
            "/usr/local/lib/python3.6/dist-packages/sklearn/linear_model/_logistic.py:940: ConvergenceWarning:\n",
            "\n",
            "lbfgs failed to converge (status=1):\n",
            "STOP: TOTAL NO. of ITERATIONS REACHED LIMIT.\n",
            "\n",
            "Increase the number of iterations (max_iter) or scale the data as shown in:\n",
            "    https://scikit-learn.org/stable/modules/preprocessing.html\n",
            "Please also refer to the documentation for alternative solver options:\n",
            "    https://scikit-learn.org/stable/modules/linear_model.html#logistic-regression\n",
            "\n",
            "\u001b[32m[I 2021-01-26 08:18:30,750]\u001b[0m Trial 14 finished with value: 0.8353293413173652 and parameters: {'C': 2372.63666442988}. Best is trial 13 with value: 0.8847305389221557.\u001b[0m\n",
            "\u001b[32m[I 2021-01-26 08:20:44,934]\u001b[0m Trial 15 finished with value: 0.8390718562874252 and parameters: {'C': 1278.9162349386934}. Best is trial 13 with value: 0.8847305389221557.\u001b[0m\n",
            "/usr/local/lib/python3.6/dist-packages/sklearn/linear_model/_logistic.py:940: ConvergenceWarning:\n",
            "\n",
            "lbfgs failed to converge (status=1):\n",
            "STOP: TOTAL NO. of ITERATIONS REACHED LIMIT.\n",
            "\n",
            "Increase the number of iterations (max_iter) or scale the data as shown in:\n",
            "    https://scikit-learn.org/stable/modules/preprocessing.html\n",
            "Please also refer to the documentation for alternative solver options:\n",
            "    https://scikit-learn.org/stable/modules/linear_model.html#logistic-regression\n",
            "\n",
            "\u001b[32m[I 2021-01-26 08:23:01,865]\u001b[0m Trial 16 finished with value: 0.8360778443113772 and parameters: {'C': 3482.1206624672263}. Best is trial 13 with value: 0.8847305389221557.\u001b[0m\n",
            "/usr/local/lib/python3.6/dist-packages/sklearn/linear_model/_logistic.py:940: ConvergenceWarning:\n",
            "\n",
            "lbfgs failed to converge (status=1):\n",
            "STOP: TOTAL NO. of ITERATIONS REACHED LIMIT.\n",
            "\n",
            "Increase the number of iterations (max_iter) or scale the data as shown in:\n",
            "    https://scikit-learn.org/stable/modules/preprocessing.html\n",
            "Please also refer to the documentation for alternative solver options:\n",
            "    https://scikit-learn.org/stable/modules/linear_model.html#logistic-regression\n",
            "\n",
            "\u001b[32m[I 2021-01-26 08:25:18,836]\u001b[0m Trial 17 finished with value: 0.8308383233532934 and parameters: {'C': 9800.097385259784}. Best is trial 13 with value: 0.8847305389221557.\u001b[0m\n",
            "/usr/local/lib/python3.6/dist-packages/sklearn/linear_model/_logistic.py:940: ConvergenceWarning:\n",
            "\n",
            "lbfgs failed to converge (status=1):\n",
            "STOP: TOTAL NO. of ITERATIONS REACHED LIMIT.\n",
            "\n",
            "Increase the number of iterations (max_iter) or scale the data as shown in:\n",
            "    https://scikit-learn.org/stable/modules/preprocessing.html\n",
            "Please also refer to the documentation for alternative solver options:\n",
            "    https://scikit-learn.org/stable/modules/linear_model.html#logistic-regression\n",
            "\n",
            "\u001b[32m[I 2021-01-26 08:27:35,042]\u001b[0m Trial 18 finished with value: 0.8330838323353293 and parameters: {'C': 5403.652819957675}. Best is trial 13 with value: 0.8847305389221557.\u001b[0m\n",
            "\u001b[32m[I 2021-01-26 08:29:36,594]\u001b[0m Trial 19 finished with value: 0.8405688622754491 and parameters: {'C': 999.1392662385692}. Best is trial 13 with value: 0.8847305389221557.\u001b[0m\n",
            "/usr/local/lib/python3.6/dist-packages/sklearn/linear_model/_logistic.py:940: ConvergenceWarning:\n",
            "\n",
            "lbfgs failed to converge (status=1):\n",
            "STOP: TOTAL NO. of ITERATIONS REACHED LIMIT.\n",
            "\n",
            "Increase the number of iterations (max_iter) or scale the data as shown in:\n",
            "    https://scikit-learn.org/stable/modules/preprocessing.html\n",
            "Please also refer to the documentation for alternative solver options:\n",
            "    https://scikit-learn.org/stable/modules/linear_model.html#logistic-regression\n",
            "\n",
            "\u001b[32m[I 2021-01-26 08:31:54,102]\u001b[0m Trial 20 finished with value: 0.8353293413173652 and parameters: {'C': 2488.022963438338}. Best is trial 13 with value: 0.8847305389221557.\u001b[0m\n",
            "\u001b[32m[I 2021-01-26 08:32:48,787]\u001b[0m Trial 21 finished with value: 0.8622754491017964 and parameters: {'C': 59.88443795203442}. Best is trial 13 with value: 0.8847305389221557.\u001b[0m\n",
            "\u001b[32m[I 2021-01-26 08:33:54,517]\u001b[0m Trial 22 finished with value: 0.8577844311377245 and parameters: {'C': 90.95386960444506}. Best is trial 13 with value: 0.8847305389221557.\u001b[0m\n",
            "\u001b[32m[I 2021-01-26 08:35:51,442]\u001b[0m Trial 23 finished with value: 0.8405688622754491 and parameters: {'C': 988.7483801314605}. Best is trial 13 with value: 0.8847305389221557.\u001b[0m\n",
            "/usr/local/lib/python3.6/dist-packages/sklearn/linear_model/_logistic.py:940: ConvergenceWarning:\n",
            "\n",
            "lbfgs failed to converge (status=1):\n",
            "STOP: TOTAL NO. of ITERATIONS REACHED LIMIT.\n",
            "\n",
            "Increase the number of iterations (max_iter) or scale the data as shown in:\n",
            "    https://scikit-learn.org/stable/modules/preprocessing.html\n",
            "Please also refer to the documentation for alternative solver options:\n",
            "    https://scikit-learn.org/stable/modules/linear_model.html#logistic-regression\n",
            "\n",
            "\u001b[32m[I 2021-01-26 08:38:09,501]\u001b[0m Trial 24 finished with value: 0.8360778443113772 and parameters: {'C': 3015.773111696589}. Best is trial 13 with value: 0.8847305389221557.\u001b[0m\n",
            "\u001b[32m[I 2021-01-26 08:38:29,397]\u001b[0m Trial 25 finished with value: 0.8869760479041916 and parameters: {'C': 1.4086147452973634}. Best is trial 25 with value: 0.8869760479041916.\u001b[0m\n",
            "\u001b[32m[I 2021-01-26 08:40:46,517]\u001b[0m Trial 26 finished with value: 0.8360778443113772 and parameters: {'C': 1627.656137286021}. Best is trial 25 with value: 0.8869760479041916.\u001b[0m\n",
            "\u001b[32m[I 2021-01-26 08:42:46,116]\u001b[0m Trial 27 finished with value: 0.8405688622754491 and parameters: {'C': 821.535712304396}. Best is trial 25 with value: 0.8869760479041916.\u001b[0m\n",
            "/usr/local/lib/python3.6/dist-packages/sklearn/linear_model/_logistic.py:940: ConvergenceWarning:\n",
            "\n",
            "lbfgs failed to converge (status=1):\n",
            "STOP: TOTAL NO. of ITERATIONS REACHED LIMIT.\n",
            "\n",
            "Increase the number of iterations (max_iter) or scale the data as shown in:\n",
            "    https://scikit-learn.org/stable/modules/preprocessing.html\n",
            "Please also refer to the documentation for alternative solver options:\n",
            "    https://scikit-learn.org/stable/modules/linear_model.html#logistic-regression\n",
            "\n",
            "\u001b[32m[I 2021-01-26 08:45:03,587]\u001b[0m Trial 28 finished with value: 0.8330838323353293 and parameters: {'C': 5460.378926265612}. Best is trial 25 with value: 0.8869760479041916.\u001b[0m\n",
            "\u001b[32m[I 2021-01-26 08:45:34,517]\u001b[0m Trial 29 finished with value: 0.8884730538922155 and parameters: {'C': 7.930467696151643}. Best is trial 29 with value: 0.8884730538922155.\u001b[0m\n",
            "\u001b[32m[I 2021-01-26 08:47:36,827]\u001b[0m Trial 30 finished with value: 0.8413173652694611 and parameters: {'C': 788.0820363567885}. Best is trial 29 with value: 0.8884730538922155.\u001b[0m\n",
            "\u001b[32m[I 2021-01-26 08:48:46,114]\u001b[0m Trial 31 finished with value: 0.8577844311377245 and parameters: {'C': 89.8346746054124}. Best is trial 29 with value: 0.8884730538922155.\u001b[0m\n"
          ],
          "name": "stderr"
        }
      ]
    },
    {
      "cell_type": "code",
      "metadata": {
        "id": "OfA2u_oaAqEw",
        "colab": {
          "base_uri": "https://localhost:8080/"
        },
        "outputId": "2ca241bb-15fd-4c4e-c114-961bf13c5882"
      },
      "source": [
        "study.best_params ##　best_valueを出したときのパラメータ"
      ],
      "execution_count": null,
      "outputs": [
        {
          "output_type": "execute_result",
          "data": {
            "text/plain": [
              "{'C': 7.930467696151643}"
            ]
          },
          "metadata": {
            "tags": []
          },
          "execution_count": 42
        }
      ]
    },
    {
      "cell_type": "code",
      "metadata": {
        "id": "sfKTh5_TA8tO",
        "colab": {
          "base_uri": "https://localhost:8080/"
        },
        "outputId": "5a238c80-a1bd-4656-c4f5-562dfbb74a94"
      },
      "source": [
        "study.best_value ## 一番良いスコア"
      ],
      "execution_count": null,
      "outputs": [
        {
          "output_type": "execute_result",
          "data": {
            "text/plain": [
              "0.8884730538922155"
            ]
          },
          "metadata": {
            "tags": []
          },
          "execution_count": 43
        }
      ]
    },
    {
      "cell_type": "code",
      "metadata": {
        "id": "u6lufuOeBhZX",
        "colab": {
          "base_uri": "https://localhost:8080/"
        },
        "outputId": "363dc1c4-8a6b-4588-b936-3e1781362b9e"
      },
      "source": [
        "study.best_trial ## best_valueを出したときの施行内容"
      ],
      "execution_count": null,
      "outputs": [
        {
          "output_type": "execute_result",
          "data": {
            "text/plain": [
              "FrozenTrial(number=29, values=[0.8884730538922155], datetime_start=datetime.datetime(2021, 1, 26, 8, 45, 3, 589320), datetime_complete=datetime.datetime(2021, 1, 26, 8, 45, 34, 517353), params={'C': 7.930467696151643}, distributions={'C': UniformDistribution(high=10000.0, low=0.0001)}, user_attrs={}, system_attrs={}, intermediate_values={}, trial_id=29, state=TrialState.COMPLETE, value=None)"
            ]
          },
          "metadata": {
            "tags": []
          },
          "execution_count": 44
        }
      ]
    },
    {
      "cell_type": "markdown",
      "metadata": {
        "id": "xKKqFsw2kYFA"
      },
      "source": [
        "C=7.93のとき、0.888と最も高い正答率であることがわかった。\n"
      ]
    },
    {
      "cell_type": "code",
      "metadata": {
        "colab": {
          "base_uri": "https://localhost:8080/"
        },
        "id": "FP2EWYu5BtGv",
        "outputId": "5630b4c6-9a49-4ffd-a7f7-5545f2722ce0"
      },
      "source": [
        "lr = LogisticRegression(random_state=123, max_iter=1000 , C=7.93)\n",
        "lr.fit(X_train, train['CATEGORY'])\n",
        "train_pred = lr.predict(X_train)\n",
        "valid_pred = lr.predict(X_valid)\n",
        "test_pred = lr.predict(X_test)\n",
        "\n",
        "train_accuracy = accuracy_score(train['CATEGORY'], train_pred)\n",
        "valid_accuracy = accuracy_score(valid['CATEGORY'], valid_pred)\n",
        "test_accuracy = accuracy_score(test['CATEGORY'], test_pred)\n",
        "\n",
        "print(f'正解率（学習データ）：{train_accuracy:.3f}')\n",
        "print(f'正解率（検証データ）：{valid_accuracy:.3f}')\n",
        "print(f'正解率（評価データ）：{test_accuracy:.3f}')\n"
      ],
      "execution_count": 20,
      "outputs": [
        {
          "output_type": "stream",
          "text": [
            "正解率（学習データ）：0.970\n",
            "正解率（検証データ）：0.888\n",
            "正解率（評価データ）：0.885\n"
          ],
          "name": "stdout"
        }
      ]
    },
    {
      "cell_type": "markdown",
      "metadata": {
        "id": "79eJjw2ul5Ij"
      },
      "source": [
        "他の探索アルゴリズムも試してみる。（newton-cg、lbfgs、sag、saga）"
      ]
    },
    {
      "cell_type": "code",
      "metadata": {
        "id": "uq7aQe2ourHo",
        "colab": {
          "base_uri": "https://localhost:8080/"
        },
        "outputId": "dda933bf-7aa9-41fc-ddea-2d7c4c362f25"
      },
      "source": [
        "## solver = newton-cg\n",
        "lr = LogisticRegression(random_state=123, max_iter=1000 , C=7.93, solver='newton-cg')\n",
        "lr.fit(X_train, train['CATEGORY'])\n",
        "train_pred = lr.predict(X_train)\n",
        "valid_pred = lr.predict(X_valid)\n",
        "test_pred = lr.predict(X_test)\n",
        "\n",
        "train_accuracy = accuracy_score(train['CATEGORY'], train_pred)\n",
        "valid_accuracy = accuracy_score(valid['CATEGORY'], valid_pred)\n",
        "test_accuracy = accuracy_score(test['CATEGORY'], test_pred)\n",
        "\n",
        "print(f'正解率（学習データ）：{train_accuracy:.3f}')\n",
        "print(f'正解率（検証データ）：{valid_accuracy:.3f}')\n",
        "print(f'正解率（評価データ）：{test_accuracy:.3f}')"
      ],
      "execution_count": 22,
      "outputs": [
        {
          "output_type": "stream",
          "text": [
            "正解率（学習データ）：0.970\n",
            "正解率（検証データ）：0.888\n",
            "正解率（評価データ）：0.885\n"
          ],
          "name": "stdout"
        }
      ]
    },
    {
      "cell_type": "code",
      "metadata": {
        "colab": {
          "base_uri": "https://localhost:8080/"
        },
        "id": "rR-Zg9QVmWKv",
        "outputId": "ceba1799-c910-40fd-9b44-082d9bfbb02e"
      },
      "source": [
        "## solver = lbfgs\n",
        "lr = LogisticRegression(random_state=123, max_iter=1000 , C=7.93, solver='lbfgs')\n",
        "lr.fit(X_train, train['CATEGORY'])\n",
        "train_pred = lr.predict(X_train)\n",
        "valid_pred = lr.predict(X_valid)\n",
        "test_pred = lr.predict(X_test)\n",
        "\n",
        "train_accuracy = accuracy_score(train['CATEGORY'], train_pred)\n",
        "valid_accuracy = accuracy_score(valid['CATEGORY'], valid_pred)\n",
        "test_accuracy = accuracy_score(test['CATEGORY'], test_pred)\n",
        "\n",
        "print(f'正解率（学習データ）：{train_accuracy:.3f}')\n",
        "print(f'正解率（検証データ）：{valid_accuracy:.3f}')\n",
        "print(f'正解率（評価データ）：{test_accuracy:.3f}')"
      ],
      "execution_count": 24,
      "outputs": [
        {
          "output_type": "stream",
          "text": [
            "正解率（学習データ）：0.970\n",
            "正解率（検証データ）：0.888\n",
            "正解率（評価データ）：0.885\n"
          ],
          "name": "stdout"
        }
      ]
    },
    {
      "cell_type": "code",
      "metadata": {
        "colab": {
          "base_uri": "https://localhost:8080/"
        },
        "id": "Flytlb5tmfqJ",
        "outputId": "c51dbbc4-bcbe-476b-ca5d-ddfe84cfeadd"
      },
      "source": [
        "## solver = sag\n",
        "lr = LogisticRegression(random_state=123, max_iter=1000 , C=7.93, solver='sag')\n",
        "lr.fit(X_train, train['CATEGORY'])\n",
        "train_pred = lr.predict(X_train)\n",
        "valid_pred = lr.predict(X_valid)\n",
        "test_pred = lr.predict(X_test)\n",
        "\n",
        "train_accuracy = accuracy_score(train['CATEGORY'], train_pred)\n",
        "valid_accuracy = accuracy_score(valid['CATEGORY'], valid_pred)\n",
        "test_accuracy = accuracy_score(test['CATEGORY'], test_pred)\n",
        "\n",
        "print(f'正解率（学習データ）：{train_accuracy:.3f}')\n",
        "print(f'正解率（検証データ）：{valid_accuracy:.3f}')\n",
        "print(f'正解率（評価データ）：{test_accuracy:.3f}')"
      ],
      "execution_count": 25,
      "outputs": [
        {
          "output_type": "stream",
          "text": [
            "正解率（学習データ）：0.970\n",
            "正解率（検証データ）：0.888\n",
            "正解率（評価データ）：0.885\n"
          ],
          "name": "stdout"
        }
      ]
    },
    {
      "cell_type": "code",
      "metadata": {
        "colab": {
          "base_uri": "https://localhost:8080/"
        },
        "id": "jNCGv7QImm5C",
        "outputId": "f7d6d06a-511f-4836-b560-e04c8a2baf9e"
      },
      "source": [
        "## solver = saga\n",
        "lr = LogisticRegression(random_state=123, max_iter=1000 , C=7.93, solver='saga')\n",
        "lr.fit(X_train, train['CATEGORY'])\n",
        "train_pred = lr.predict(X_train)\n",
        "valid_pred = lr.predict(X_valid)\n",
        "test_pred = lr.predict(X_test)\n",
        "\n",
        "train_accuracy = accuracy_score(train['CATEGORY'], train_pred)\n",
        "valid_accuracy = accuracy_score(valid['CATEGORY'], valid_pred)\n",
        "test_accuracy = accuracy_score(test['CATEGORY'], test_pred)\n",
        "\n",
        "print(f'正解率（学習データ）：{train_accuracy:.3f}')\n",
        "print(f'正解率（検証データ）：{valid_accuracy:.3f}')\n",
        "print(f'正解率（評価データ）：{test_accuracy:.3f}')"
      ],
      "execution_count": 26,
      "outputs": [
        {
          "output_type": "stream",
          "text": [
            "正解率（学習データ）：0.970\n",
            "正解率（検証データ）：0.888\n",
            "正解率（評価データ）：0.885\n"
          ],
          "name": "stdout"
        }
      ]
    },
    {
      "cell_type": "markdown",
      "metadata": {
        "id": "vXBgt8ISnaMI"
      },
      "source": [
        "探索アルゴリズムを変化させても、正解率の変化は見られなかった。"
      ]
    },
    {
      "cell_type": "code",
      "metadata": {
        "id": "8E2FYhRzmsNo"
      },
      "source": [
        ""
      ],
      "execution_count": null,
      "outputs": []
    }
  ]
}